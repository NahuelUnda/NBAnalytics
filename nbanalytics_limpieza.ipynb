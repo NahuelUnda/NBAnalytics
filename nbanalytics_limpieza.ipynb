{
 "cells": [
  {
   "cell_type": "markdown",
   "id": "a0814c54",
   "metadata": {},
   "source": [
    "# 0. Instalacion de librerias necesarias"
   ]
  },
  {
   "cell_type": "code",
   "execution_count": null,
   "id": "79ca3383",
   "metadata": {},
   "outputs": [],
   "source": [
    "%pip install pandas numpy dotenv sqlalchemy"
   ]
  },
  {
   "cell_type": "markdown",
   "id": "54a1435b",
   "metadata": {},
   "source": [
    "# 1. Importacion y carga de datos"
   ]
  },
  {
   "cell_type": "code",
   "execution_count": 1,
   "id": "adbf79d5",
   "metadata": {},
   "outputs": [],
   "source": [
    "import pandas as pd\n",
    "import numpy as np"
   ]
  },
  {
   "cell_type": "code",
   "execution_count": 2,
   "id": "7bf23655",
   "metadata": {},
   "outputs": [],
   "source": [
    "player = pd.read_csv('player.csv')\n",
    "team = pd.read_csv('team.csv')\n",
    "game = pd.read_csv('game.csv')\n",
    "common_player_info = pd.read_csv('common_player_info.csv')\n",
    "draft_combine_stats = pd.read_csv('draft_combine_stats.csv')\n",
    "draft_history = pd.read_csv('draft_history.csv')\n",
    "team_details = pd.read_csv('team_details.csv')\n",
    "team_history = pd.read_csv('team_history.csv')\n",
    "game_info = pd.read_csv('game_info.csv')\n",
    "game_summary = pd.read_csv('game_summary.csv')\n",
    "other_stats = pd.read_csv('other_stats.csv')\n",
    "officials = pd.read_csv('officials.csv')\n",
    "inactive_players = pd.read_csv('inactive_players.csv')\n",
    "play_by_play = pd.read_csv('play_by_play.csv')\n",
    "line_score = pd.read_csv('line_score.csv')"
   ]
  },
  {
   "cell_type": "markdown",
   "id": "ed551844",
   "metadata": {},
   "source": [
    "# 2. Limpieza de datos"
   ]
  },
  {
   "cell_type": "markdown",
   "id": "38149452",
   "metadata": {},
   "source": [
    "## 2.1. Tabla Player"
   ]
  },
  {
   "cell_type": "markdown",
   "id": "55f72d99",
   "metadata": {},
   "source": [
    "### 2.1.1. Lectura de nulos"
   ]
  },
  {
   "cell_type": "code",
   "execution_count": 3,
   "id": "6d56af9a",
   "metadata": {},
   "outputs": [
    {
     "data": {
      "text/plain": [
       "(id            0\n",
       " full_name     0\n",
       " first_name    6\n",
       " last_name     0\n",
       " is_active     0\n",
       " dtype: int64,\n",
       " (4831, 5))"
      ]
     },
     "execution_count": 3,
     "metadata": {},
     "output_type": "execute_result"
    }
   ],
   "source": [
    "player.isnull().sum(), player.shape"
   ]
  },
  {
   "cell_type": "code",
   "execution_count": 4,
   "id": "7ae7e3bd",
   "metadata": {},
   "outputs": [
    {
     "data": {
      "application/vnd.microsoft.datawrangler.viewer.v0+json": {
       "columns": [
        {
         "name": "index",
         "rawType": "object",
         "type": "string"
        },
        {
         "name": "Valores nulos",
         "rawType": "int64",
         "type": "integer"
        },
        {
         "name": "Total registros",
         "rawType": "int64",
         "type": "integer"
        },
        {
         "name": "Porcentaje",
         "rawType": "float64",
         "type": "float"
        }
       ],
       "conversionMethod": "pd.DataFrame",
       "ref": "85c9327e-9942-4e08-81ca-b7a82e77cc4a",
       "rows": [
        [
         "first_name",
         "6",
         "4831",
         "0.12"
        ]
       ],
       "shape": {
        "columns": 3,
        "rows": 1
       }
      },
      "text/html": [
       "<div>\n",
       "<style scoped>\n",
       "    .dataframe tbody tr th:only-of-type {\n",
       "        vertical-align: middle;\n",
       "    }\n",
       "\n",
       "    .dataframe tbody tr th {\n",
       "        vertical-align: top;\n",
       "    }\n",
       "\n",
       "    .dataframe thead th {\n",
       "        text-align: right;\n",
       "    }\n",
       "</style>\n",
       "<table border=\"1\" class=\"dataframe\">\n",
       "  <thead>\n",
       "    <tr style=\"text-align: right;\">\n",
       "      <th></th>\n",
       "      <th>Valores nulos</th>\n",
       "      <th>Total registros</th>\n",
       "      <th>Porcentaje</th>\n",
       "    </tr>\n",
       "  </thead>\n",
       "  <tbody>\n",
       "    <tr>\n",
       "      <th>first_name</th>\n",
       "      <td>6</td>\n",
       "      <td>4831</td>\n",
       "      <td>0.12</td>\n",
       "    </tr>\n",
       "  </tbody>\n",
       "</table>\n",
       "</div>"
      ],
      "text/plain": [
       "            Valores nulos  Total registros  Porcentaje\n",
       "first_name              6             4831        0.12"
      ]
     },
     "execution_count": 4,
     "metadata": {},
     "output_type": "execute_result"
    }
   ],
   "source": [
    "null_player = player.isnull().sum()\n",
    "total_register = len(player)\n",
    "null_result = null_player[null_player > 0]\n",
    "\n",
    "df_null_player = pd.DataFrame(\n",
    "    {\n",
    "        \"Valores nulos\": null_result,\n",
    "        \"Total registros\": total_register,\n",
    "        \"Porcentaje\": (null_result / total_register * 100).round(2),\n",
    "    }\n",
    ")\n",
    "\n",
    "df_null_player"
   ]
  },
  {
   "cell_type": "markdown",
   "id": "d68a36db",
   "metadata": {},
   "source": [
    "## 2.2. Tabla Team"
   ]
  },
  {
   "cell_type": "markdown",
   "id": "8eaf3b66",
   "metadata": {},
   "source": [
    "### 2.2.1. Lectura de nulos"
   ]
  },
  {
   "cell_type": "code",
   "execution_count": 5,
   "id": "f2c21516",
   "metadata": {},
   "outputs": [
    {
     "data": {
      "text/plain": [
       "(id              0\n",
       " full_name       0\n",
       " abbreviation    0\n",
       " nickname        0\n",
       " city            0\n",
       " state           0\n",
       " year_founded    0\n",
       " dtype: int64,\n",
       " (30, 7))"
      ]
     },
     "execution_count": 5,
     "metadata": {},
     "output_type": "execute_result"
    }
   ],
   "source": [
    "team.isnull().sum(), team.shape"
   ]
  },
  {
   "cell_type": "code",
   "execution_count": 6,
   "id": "5d4e2722",
   "metadata": {},
   "outputs": [
    {
     "data": {
      "application/vnd.microsoft.datawrangler.viewer.v0+json": {
       "columns": [
        {
         "name": "index",
         "rawType": "object",
         "type": "string"
        },
        {
         "name": "Valores nulos",
         "rawType": "int64",
         "type": "integer"
        },
        {
         "name": "Total registros",
         "rawType": "int64",
         "type": "integer"
        },
        {
         "name": "Porcentaje",
         "rawType": "float64",
         "type": "float"
        }
       ],
       "conversionMethod": "pd.DataFrame",
       "ref": "dd0d881f-db7d-4e51-8acb-ccf95167edf9",
       "rows": [],
       "shape": {
        "columns": 3,
        "rows": 0
       }
      },
      "text/html": [
       "<div>\n",
       "<style scoped>\n",
       "    .dataframe tbody tr th:only-of-type {\n",
       "        vertical-align: middle;\n",
       "    }\n",
       "\n",
       "    .dataframe tbody tr th {\n",
       "        vertical-align: top;\n",
       "    }\n",
       "\n",
       "    .dataframe thead th {\n",
       "        text-align: right;\n",
       "    }\n",
       "</style>\n",
       "<table border=\"1\" class=\"dataframe\">\n",
       "  <thead>\n",
       "    <tr style=\"text-align: right;\">\n",
       "      <th></th>\n",
       "      <th>Valores nulos</th>\n",
       "      <th>Total registros</th>\n",
       "      <th>Porcentaje</th>\n",
       "    </tr>\n",
       "  </thead>\n",
       "  <tbody>\n",
       "  </tbody>\n",
       "</table>\n",
       "</div>"
      ],
      "text/plain": [
       "Empty DataFrame\n",
       "Columns: [Valores nulos, Total registros, Porcentaje]\n",
       "Index: []"
      ]
     },
     "execution_count": 6,
     "metadata": {},
     "output_type": "execute_result"
    }
   ],
   "source": [
    "null_team = team.isnull().sum()\n",
    "total_register = len(team)\n",
    "null_result = null_team[null_team > 0]\n",
    "\n",
    "df_null_team = pd.DataFrame(\n",
    "    {\n",
    "        \"Valores nulos\": null_result,\n",
    "        \"Total registros\": total_register,\n",
    "        \"Porcentaje\": (null_result / total_register * 100).round(2),\n",
    "    }\n",
    ")\n",
    "\n",
    "df_null_team"
   ]
  },
  {
   "cell_type": "markdown",
   "id": "3c7da813",
   "metadata": {},
   "source": [
    "## 2.3. Tabla Game"
   ]
  },
  {
   "cell_type": "markdown",
   "id": "cb8c5cad",
   "metadata": {},
   "source": [
    "### 2.3.1. Lectura de nulos"
   ]
  },
  {
   "cell_type": "code",
   "execution_count": 7,
   "id": "c623aecb",
   "metadata": {},
   "outputs": [
    {
     "data": {
      "text/plain": [
       "(season_id                     0\n",
       " team_id_home                  0\n",
       " team_abbreviation_home        0\n",
       " team_name_home                0\n",
       " game_id                       0\n",
       " game_date                     0\n",
       " matchup_home                  0\n",
       " wl_home                       2\n",
       " min                           0\n",
       " fgm_home                     13\n",
       " fga_home                  15447\n",
       " fg_pct_home               15490\n",
       " fg3m_home                 13218\n",
       " fg3a_home                 18683\n",
       " fg3_pct_home              19074\n",
       " ftm_home                     16\n",
       " fta_home                   3004\n",
       " ft_pct_home                3009\n",
       " oreb_home                 18936\n",
       " dreb_home                 18999\n",
       " reb_home                  15729\n",
       " ast_home                  15805\n",
       " stl_home                  18849\n",
       " blk_home                  18626\n",
       " tov_home                  18684\n",
       " pf_home                    2856\n",
       " pts_home                      0\n",
       " plus_minus_home               0\n",
       " video_available_home          0\n",
       " team_id_away                  0\n",
       " team_abbreviation_away        0\n",
       " team_name_away                0\n",
       " matchup_away                  0\n",
       " wl_away                       2\n",
       " fgm_away                     13\n",
       " fga_away                  15447\n",
       " fg_pct_away               15489\n",
       " fg3m_away                 13218\n",
       " fg3a_away                 18683\n",
       " fg3_pct_away              18962\n",
       " ftm_away                     13\n",
       " fta_away                   3004\n",
       " ft_pct_away                3006\n",
       " oreb_away                 18936\n",
       " dreb_away                 18998\n",
       " reb_away                  15725\n",
       " ast_away                  15801\n",
       " stl_away                  18849\n",
       " blk_away                  18625\n",
       " tov_away                  18685\n",
       " pf_away                    2851\n",
       " pts_away                      0\n",
       " plus_minus_away               0\n",
       " video_available_away          0\n",
       " season_type                   0\n",
       " dtype: int64,\n",
       " (65698, 55))"
      ]
     },
     "execution_count": 7,
     "metadata": {},
     "output_type": "execute_result"
    }
   ],
   "source": [
    "game.isnull().sum(), game.shape"
   ]
  },
  {
   "cell_type": "code",
   "execution_count": 8,
   "metadata": {},
   "outputs": [
    {
     "data": {
      "application/vnd.microsoft.datawrangler.viewer.v0+json": {
       "columns": [
        {
         "name": "index",
         "rawType": "object",
         "type": "string"
        },
        {
         "name": "Valores nulos",
         "rawType": "int64",
         "type": "integer"
        },
        {
         "name": "Total registros",
         "rawType": "int64",
         "type": "integer"
        },
        {
         "name": "Porcentaje",
         "rawType": "float64",
         "type": "float"
        }
       ],
       "conversionMethod": "pd.DataFrame",
       "ref": "1df834dd-d42b-478e-a0be-6edf3d6d663d",
       "rows": [
        [
         "wl_home",
         "2",
         "65698",
         "0.0"
        ],
        [
         "fgm_home",
         "13",
         "65698",
         "0.02"
        ],
        [
         "fga_home",
         "15447",
         "65698",
         "23.51"
        ],
        [
         "fg_pct_home",
         "15490",
         "65698",
         "23.58"
        ],
        [
         "fg3m_home",
         "13218",
         "65698",
         "20.12"
        ],
        [
         "fg3a_home",
         "18683",
         "65698",
         "28.44"
        ],
        [
         "fg3_pct_home",
         "19074",
         "65698",
         "29.03"
        ],
        [
         "ftm_home",
         "16",
         "65698",
         "0.02"
        ],
        [
         "fta_home",
         "3004",
         "65698",
         "4.57"
        ],
        [
         "ft_pct_home",
         "3009",
         "65698",
         "4.58"
        ],
        [
         "oreb_home",
         "18936",
         "65698",
         "28.82"
        ],
        [
         "dreb_home",
         "18999",
         "65698",
         "28.92"
        ],
        [
         "reb_home",
         "15729",
         "65698",
         "23.94"
        ],
        [
         "ast_home",
         "15805",
         "65698",
         "24.06"
        ],
        [
         "stl_home",
         "18849",
         "65698",
         "28.69"
        ],
        [
         "blk_home",
         "18626",
         "65698",
         "28.35"
        ],
        [
         "tov_home",
         "18684",
         "65698",
         "28.44"
        ],
        [
         "pf_home",
         "2856",
         "65698",
         "4.35"
        ],
        [
         "wl_away",
         "2",
         "65698",
         "0.0"
        ],
        [
         "fgm_away",
         "13",
         "65698",
         "0.02"
        ],
        [
         "fga_away",
         "15447",
         "65698",
         "23.51"
        ],
        [
         "fg_pct_away",
         "15489",
         "65698",
         "23.58"
        ],
        [
         "fg3m_away",
         "13218",
         "65698",
         "20.12"
        ],
        [
         "fg3a_away",
         "18683",
         "65698",
         "28.44"
        ],
        [
         "fg3_pct_away",
         "18962",
         "65698",
         "28.86"
        ],
        [
         "ftm_away",
         "13",
         "65698",
         "0.02"
        ],
        [
         "fta_away",
         "3004",
         "65698",
         "4.57"
        ],
        [
         "ft_pct_away",
         "3006",
         "65698",
         "4.58"
        ],
        [
         "oreb_away",
         "18936",
         "65698",
         "28.82"
        ],
        [
         "dreb_away",
         "18998",
         "65698",
         "28.92"
        ],
        [
         "reb_away",
         "15725",
         "65698",
         "23.94"
        ],
        [
         "ast_away",
         "15801",
         "65698",
         "24.05"
        ],
        [
         "stl_away",
         "18849",
         "65698",
         "28.69"
        ],
        [
         "blk_away",
         "18625",
         "65698",
         "28.35"
        ],
        [
         "tov_away",
         "18685",
         "65698",
         "28.44"
        ],
        [
         "pf_away",
         "2851",
         "65698",
         "4.34"
        ]
       ],
       "shape": {
        "columns": 3,
        "rows": 36
       }
      },
      "text/html": [
       "<div>\n",
       "<style scoped>\n",
       "    .dataframe tbody tr th:only-of-type {\n",
       "        vertical-align: middle;\n",
       "    }\n",
       "\n",
       "    .dataframe tbody tr th {\n",
       "        vertical-align: top;\n",
       "    }\n",
       "\n",
       "    .dataframe thead th {\n",
       "        text-align: right;\n",
       "    }\n",
       "</style>\n",
       "<table border=\"1\" class=\"dataframe\">\n",
       "  <thead>\n",
       "    <tr style=\"text-align: right;\">\n",
       "      <th></th>\n",
       "      <th>Valores nulos</th>\n",
       "      <th>Total registros</th>\n",
       "      <th>Porcentaje</th>\n",
       "    </tr>\n",
       "  </thead>\n",
       "  <tbody>\n",
       "    <tr>\n",
       "      <th>wl_home</th>\n",
       "      <td>2</td>\n",
       "      <td>65698</td>\n",
       "      <td>0.00</td>\n",
       "    </tr>\n",
       "    <tr>\n",
       "      <th>fgm_home</th>\n",
       "      <td>13</td>\n",
       "      <td>65698</td>\n",
       "      <td>0.02</td>\n",
       "    </tr>\n",
       "    <tr>\n",
       "      <th>fga_home</th>\n",
       "      <td>15447</td>\n",
       "      <td>65698</td>\n",
       "      <td>23.51</td>\n",
       "    </tr>\n",
       "    <tr>\n",
       "      <th>fg_pct_home</th>\n",
       "      <td>15490</td>\n",
       "      <td>65698</td>\n",
       "      <td>23.58</td>\n",
       "    </tr>\n",
       "    <tr>\n",
       "      <th>fg3m_home</th>\n",
       "      <td>13218</td>\n",
       "      <td>65698</td>\n",
       "      <td>20.12</td>\n",
       "    </tr>\n",
       "    <tr>\n",
       "      <th>fg3a_home</th>\n",
       "      <td>18683</td>\n",
       "      <td>65698</td>\n",
       "      <td>28.44</td>\n",
       "    </tr>\n",
       "    <tr>\n",
       "      <th>fg3_pct_home</th>\n",
       "      <td>19074</td>\n",
       "      <td>65698</td>\n",
       "      <td>29.03</td>\n",
       "    </tr>\n",
       "    <tr>\n",
       "      <th>ftm_home</th>\n",
       "      <td>16</td>\n",
       "      <td>65698</td>\n",
       "      <td>0.02</td>\n",
       "    </tr>\n",
       "    <tr>\n",
       "      <th>fta_home</th>\n",
       "      <td>3004</td>\n",
       "      <td>65698</td>\n",
       "      <td>4.57</td>\n",
       "    </tr>\n",
       "    <tr>\n",
       "      <th>ft_pct_home</th>\n",
       "      <td>3009</td>\n",
       "      <td>65698</td>\n",
       "      <td>4.58</td>\n",
       "    </tr>\n",
       "    <tr>\n",
       "      <th>oreb_home</th>\n",
       "      <td>18936</td>\n",
       "      <td>65698</td>\n",
       "      <td>28.82</td>\n",
       "    </tr>\n",
       "    <tr>\n",
       "      <th>dreb_home</th>\n",
       "      <td>18999</td>\n",
       "      <td>65698</td>\n",
       "      <td>28.92</td>\n",
       "    </tr>\n",
       "    <tr>\n",
       "      <th>reb_home</th>\n",
       "      <td>15729</td>\n",
       "      <td>65698</td>\n",
       "      <td>23.94</td>\n",
       "    </tr>\n",
       "    <tr>\n",
       "      <th>ast_home</th>\n",
       "      <td>15805</td>\n",
       "      <td>65698</td>\n",
       "      <td>24.06</td>\n",
       "    </tr>\n",
       "    <tr>\n",
       "      <th>stl_home</th>\n",
       "      <td>18849</td>\n",
       "      <td>65698</td>\n",
       "      <td>28.69</td>\n",
       "    </tr>\n",
       "    <tr>\n",
       "      <th>blk_home</th>\n",
       "      <td>18626</td>\n",
       "      <td>65698</td>\n",
       "      <td>28.35</td>\n",
       "    </tr>\n",
       "    <tr>\n",
       "      <th>tov_home</th>\n",
       "      <td>18684</td>\n",
       "      <td>65698</td>\n",
       "      <td>28.44</td>\n",
       "    </tr>\n",
       "    <tr>\n",
       "      <th>pf_home</th>\n",
       "      <td>2856</td>\n",
       "      <td>65698</td>\n",
       "      <td>4.35</td>\n",
       "    </tr>\n",
       "    <tr>\n",
       "      <th>wl_away</th>\n",
       "      <td>2</td>\n",
       "      <td>65698</td>\n",
       "      <td>0.00</td>\n",
       "    </tr>\n",
       "    <tr>\n",
       "      <th>fgm_away</th>\n",
       "      <td>13</td>\n",
       "      <td>65698</td>\n",
       "      <td>0.02</td>\n",
       "    </tr>\n",
       "    <tr>\n",
       "      <th>fga_away</th>\n",
       "      <td>15447</td>\n",
       "      <td>65698</td>\n",
       "      <td>23.51</td>\n",
       "    </tr>\n",
       "    <tr>\n",
       "      <th>fg_pct_away</th>\n",
       "      <td>15489</td>\n",
       "      <td>65698</td>\n",
       "      <td>23.58</td>\n",
       "    </tr>\n",
       "    <tr>\n",
       "      <th>fg3m_away</th>\n",
       "      <td>13218</td>\n",
       "      <td>65698</td>\n",
       "      <td>20.12</td>\n",
       "    </tr>\n",
       "    <tr>\n",
       "      <th>fg3a_away</th>\n",
       "      <td>18683</td>\n",
       "      <td>65698</td>\n",
       "      <td>28.44</td>\n",
       "    </tr>\n",
       "    <tr>\n",
       "      <th>fg3_pct_away</th>\n",
       "      <td>18962</td>\n",
       "      <td>65698</td>\n",
       "      <td>28.86</td>\n",
       "    </tr>\n",
       "    <tr>\n",
       "      <th>ftm_away</th>\n",
       "      <td>13</td>\n",
       "      <td>65698</td>\n",
       "      <td>0.02</td>\n",
       "    </tr>\n",
       "    <tr>\n",
       "      <th>fta_away</th>\n",
       "      <td>3004</td>\n",
       "      <td>65698</td>\n",
       "      <td>4.57</td>\n",
       "    </tr>\n",
       "    <tr>\n",
       "      <th>ft_pct_away</th>\n",
       "      <td>3006</td>\n",
       "      <td>65698</td>\n",
       "      <td>4.58</td>\n",
       "    </tr>\n",
       "    <tr>\n",
       "      <th>oreb_away</th>\n",
       "      <td>18936</td>\n",
       "      <td>65698</td>\n",
       "      <td>28.82</td>\n",
       "    </tr>\n",
       "    <tr>\n",
       "      <th>dreb_away</th>\n",
       "      <td>18998</td>\n",
       "      <td>65698</td>\n",
       "      <td>28.92</td>\n",
       "    </tr>\n",
       "    <tr>\n",
       "      <th>reb_away</th>\n",
       "      <td>15725</td>\n",
       "      <td>65698</td>\n",
       "      <td>23.94</td>\n",
       "    </tr>\n",
       "    <tr>\n",
       "      <th>ast_away</th>\n",
       "      <td>15801</td>\n",
       "      <td>65698</td>\n",
       "      <td>24.05</td>\n",
       "    </tr>\n",
       "    <tr>\n",
       "      <th>stl_away</th>\n",
       "      <td>18849</td>\n",
       "      <td>65698</td>\n",
       "      <td>28.69</td>\n",
       "    </tr>\n",
       "    <tr>\n",
       "      <th>blk_away</th>\n",
       "      <td>18625</td>\n",
       "      <td>65698</td>\n",
       "      <td>28.35</td>\n",
       "    </tr>\n",
       "    <tr>\n",
       "      <th>tov_away</th>\n",
       "      <td>18685</td>\n",
       "      <td>65698</td>\n",
       "      <td>28.44</td>\n",
       "    </tr>\n",
       "    <tr>\n",
       "      <th>pf_away</th>\n",
       "      <td>2851</td>\n",
       "      <td>65698</td>\n",
       "      <td>4.34</td>\n",
       "    </tr>\n",
       "  </tbody>\n",
       "</table>\n",
       "</div>"
      ],
      "text/plain": [
       "              Valores nulos  Total registros  Porcentaje\n",
       "wl_home                   2            65698        0.00\n",
       "fgm_home                 13            65698        0.02\n",
       "fga_home              15447            65698       23.51\n",
       "fg_pct_home           15490            65698       23.58\n",
       "fg3m_home             13218            65698       20.12\n",
       "fg3a_home             18683            65698       28.44\n",
       "fg3_pct_home          19074            65698       29.03\n",
       "ftm_home                 16            65698        0.02\n",
       "fta_home               3004            65698        4.57\n",
       "ft_pct_home            3009            65698        4.58\n",
       "oreb_home             18936            65698       28.82\n",
       "dreb_home             18999            65698       28.92\n",
       "reb_home              15729            65698       23.94\n",
       "ast_home              15805            65698       24.06\n",
       "stl_home              18849            65698       28.69\n",
       "blk_home              18626            65698       28.35\n",
       "tov_home              18684            65698       28.44\n",
       "pf_home                2856            65698        4.35\n",
       "wl_away                   2            65698        0.00\n",
       "fgm_away                 13            65698        0.02\n",
       "fga_away              15447            65698       23.51\n",
       "fg_pct_away           15489            65698       23.58\n",
       "fg3m_away             13218            65698       20.12\n",
       "fg3a_away             18683            65698       28.44\n",
       "fg3_pct_away          18962            65698       28.86\n",
       "ftm_away                 13            65698        0.02\n",
       "fta_away               3004            65698        4.57\n",
       "ft_pct_away            3006            65698        4.58\n",
       "oreb_away             18936            65698       28.82\n",
       "dreb_away             18998            65698       28.92\n",
       "reb_away              15725            65698       23.94\n",
       "ast_away              15801            65698       24.05\n",
       "stl_away              18849            65698       28.69\n",
       "blk_away              18625            65698       28.35\n",
       "tov_away              18685            65698       28.44\n",
       "pf_away                2851            65698        4.34"
      ]
     },
     "execution_count": 8,
     "metadata": {},
     "output_type": "execute_result"
    }
   ],
   "source": [
    "null_game = game.isnull().sum()\n",
    "total_register = len(game)\n",
    "null_result = null_game[null_game > 0]\n",
    "\n",
    "df_null_game= pd.DataFrame({\n",
    "    \"Valores nulos\": null_result,\n",
    "    \"Total registros\": total_register,\n",
    "    \"Porcentaje\": (null_result / total_register * 100).round(2)\n",
    "})\n",
    "\n",
    "df_null_game"
   ]
  },
  {
   "cell_type": "markdown",
   "id": "0bf54ef2",
   "metadata": {},
   "source": [
    "### 2.3.2. Filtro por equipos"
   ]
  },
  {
   "cell_type": "code",
   "execution_count": 9,
   "id": "3d1fcbc7",
   "metadata": {},
   "outputs": [],
   "source": [
    "game_team_id = game[game['team_id_home'].isin(team[\"id\"]) & game['team_id_away'].isin(team[\"id\"])]"
   ]
  },
  {
   "cell_type": "code",
   "execution_count": 10,
   "id": "7b817079",
   "metadata": {},
   "outputs": [
    {
     "data": {
      "application/vnd.microsoft.datawrangler.viewer.v0+json": {
       "columns": [
        {
         "name": "index",
         "rawType": "object",
         "type": "string"
        },
        {
         "name": "Valores nulos",
         "rawType": "int64",
         "type": "integer"
        },
        {
         "name": "Total registros",
         "rawType": "int64",
         "type": "integer"
        },
        {
         "name": "Porcentaje",
         "rawType": "float64",
         "type": "float"
        }
       ],
       "conversionMethod": "pd.DataFrame",
       "ref": "dfba14e3-1a3b-470a-9655-5aa2aa4389cd",
       "rows": [
        [
         "wl_home",
         "2",
         "63703",
         "0.0"
        ],
        [
         "fgm_home",
         "3",
         "63703",
         "0.0"
        ],
        [
         "fga_home",
         "13742",
         "63703",
         "21.57"
        ],
        [
         "fg_pct_home",
         "13783",
         "63703",
         "21.64"
        ],
        [
         "fg3m_home",
         "11397",
         "63703",
         "17.89"
        ],
        [
         "fg3a_home",
         "16862",
         "63703",
         "26.47"
        ],
        [
         "fg3_pct_home",
         "17250",
         "63703",
         "27.08"
        ],
        [
         "ftm_home",
         "5",
         "63703",
         "0.01"
        ],
        [
         "fta_home",
         "2294",
         "63703",
         "3.6"
        ],
        [
         "ft_pct_home",
         "2296",
         "63703",
         "3.6"
        ],
        [
         "oreb_home",
         "17123",
         "63703",
         "26.88"
        ],
        [
         "dreb_home",
         "17186",
         "63703",
         "26.98"
        ],
        [
         "reb_home",
         "13960",
         "63703",
         "21.91"
        ],
        [
         "ast_home",
         "14040",
         "63703",
         "22.04"
        ],
        [
         "stl_home",
         "17036",
         "63703",
         "26.74"
        ],
        [
         "blk_home",
         "16813",
         "63703",
         "26.39"
        ],
        [
         "tov_home",
         "16865",
         "63703",
         "26.47"
        ],
        [
         "pf_home",
         "1776",
         "63703",
         "2.79"
        ],
        [
         "wl_away",
         "2",
         "63703",
         "0.0"
        ],
        [
         "fgm_away",
         "4",
         "63703",
         "0.01"
        ],
        [
         "fga_away",
         "13743",
         "63703",
         "21.57"
        ],
        [
         "fg_pct_away",
         "13783",
         "63703",
         "21.64"
        ],
        [
         "fg3m_away",
         "11397",
         "63703",
         "17.89"
        ],
        [
         "fg3a_away",
         "16862",
         "63703",
         "26.47"
        ],
        [
         "fg3_pct_away",
         "17139",
         "63703",
         "26.9"
        ],
        [
         "ftm_away",
         "4",
         "63703",
         "0.01"
        ],
        [
         "fta_away",
         "2295",
         "63703",
         "3.6"
        ],
        [
         "ft_pct_away",
         "2296",
         "63703",
         "3.6"
        ],
        [
         "oreb_away",
         "17123",
         "63703",
         "26.88"
        ],
        [
         "dreb_away",
         "17185",
         "63703",
         "26.98"
        ],
        [
         "reb_away",
         "13956",
         "63703",
         "21.91"
        ],
        [
         "ast_away",
         "14036",
         "63703",
         "22.03"
        ],
        [
         "stl_away",
         "17036",
         "63703",
         "26.74"
        ],
        [
         "blk_away",
         "16812",
         "63703",
         "26.39"
        ],
        [
         "tov_away",
         "16866",
         "63703",
         "26.48"
        ],
        [
         "pf_away",
         "1772",
         "63703",
         "2.78"
        ]
       ],
       "shape": {
        "columns": 3,
        "rows": 36
       }
      },
      "text/html": [
       "<div>\n",
       "<style scoped>\n",
       "    .dataframe tbody tr th:only-of-type {\n",
       "        vertical-align: middle;\n",
       "    }\n",
       "\n",
       "    .dataframe tbody tr th {\n",
       "        vertical-align: top;\n",
       "    }\n",
       "\n",
       "    .dataframe thead th {\n",
       "        text-align: right;\n",
       "    }\n",
       "</style>\n",
       "<table border=\"1\" class=\"dataframe\">\n",
       "  <thead>\n",
       "    <tr style=\"text-align: right;\">\n",
       "      <th></th>\n",
       "      <th>Valores nulos</th>\n",
       "      <th>Total registros</th>\n",
       "      <th>Porcentaje</th>\n",
       "    </tr>\n",
       "  </thead>\n",
       "  <tbody>\n",
       "    <tr>\n",
       "      <th>wl_home</th>\n",
       "      <td>2</td>\n",
       "      <td>63703</td>\n",
       "      <td>0.00</td>\n",
       "    </tr>\n",
       "    <tr>\n",
       "      <th>fgm_home</th>\n",
       "      <td>3</td>\n",
       "      <td>63703</td>\n",
       "      <td>0.00</td>\n",
       "    </tr>\n",
       "    <tr>\n",
       "      <th>fga_home</th>\n",
       "      <td>13742</td>\n",
       "      <td>63703</td>\n",
       "      <td>21.57</td>\n",
       "    </tr>\n",
       "    <tr>\n",
       "      <th>fg_pct_home</th>\n",
       "      <td>13783</td>\n",
       "      <td>63703</td>\n",
       "      <td>21.64</td>\n",
       "    </tr>\n",
       "    <tr>\n",
       "      <th>fg3m_home</th>\n",
       "      <td>11397</td>\n",
       "      <td>63703</td>\n",
       "      <td>17.89</td>\n",
       "    </tr>\n",
       "    <tr>\n",
       "      <th>fg3a_home</th>\n",
       "      <td>16862</td>\n",
       "      <td>63703</td>\n",
       "      <td>26.47</td>\n",
       "    </tr>\n",
       "    <tr>\n",
       "      <th>fg3_pct_home</th>\n",
       "      <td>17250</td>\n",
       "      <td>63703</td>\n",
       "      <td>27.08</td>\n",
       "    </tr>\n",
       "    <tr>\n",
       "      <th>ftm_home</th>\n",
       "      <td>5</td>\n",
       "      <td>63703</td>\n",
       "      <td>0.01</td>\n",
       "    </tr>\n",
       "    <tr>\n",
       "      <th>fta_home</th>\n",
       "      <td>2294</td>\n",
       "      <td>63703</td>\n",
       "      <td>3.60</td>\n",
       "    </tr>\n",
       "    <tr>\n",
       "      <th>ft_pct_home</th>\n",
       "      <td>2296</td>\n",
       "      <td>63703</td>\n",
       "      <td>3.60</td>\n",
       "    </tr>\n",
       "    <tr>\n",
       "      <th>oreb_home</th>\n",
       "      <td>17123</td>\n",
       "      <td>63703</td>\n",
       "      <td>26.88</td>\n",
       "    </tr>\n",
       "    <tr>\n",
       "      <th>dreb_home</th>\n",
       "      <td>17186</td>\n",
       "      <td>63703</td>\n",
       "      <td>26.98</td>\n",
       "    </tr>\n",
       "    <tr>\n",
       "      <th>reb_home</th>\n",
       "      <td>13960</td>\n",
       "      <td>63703</td>\n",
       "      <td>21.91</td>\n",
       "    </tr>\n",
       "    <tr>\n",
       "      <th>ast_home</th>\n",
       "      <td>14040</td>\n",
       "      <td>63703</td>\n",
       "      <td>22.04</td>\n",
       "    </tr>\n",
       "    <tr>\n",
       "      <th>stl_home</th>\n",
       "      <td>17036</td>\n",
       "      <td>63703</td>\n",
       "      <td>26.74</td>\n",
       "    </tr>\n",
       "    <tr>\n",
       "      <th>blk_home</th>\n",
       "      <td>16813</td>\n",
       "      <td>63703</td>\n",
       "      <td>26.39</td>\n",
       "    </tr>\n",
       "    <tr>\n",
       "      <th>tov_home</th>\n",
       "      <td>16865</td>\n",
       "      <td>63703</td>\n",
       "      <td>26.47</td>\n",
       "    </tr>\n",
       "    <tr>\n",
       "      <th>pf_home</th>\n",
       "      <td>1776</td>\n",
       "      <td>63703</td>\n",
       "      <td>2.79</td>\n",
       "    </tr>\n",
       "    <tr>\n",
       "      <th>wl_away</th>\n",
       "      <td>2</td>\n",
       "      <td>63703</td>\n",
       "      <td>0.00</td>\n",
       "    </tr>\n",
       "    <tr>\n",
       "      <th>fgm_away</th>\n",
       "      <td>4</td>\n",
       "      <td>63703</td>\n",
       "      <td>0.01</td>\n",
       "    </tr>\n",
       "    <tr>\n",
       "      <th>fga_away</th>\n",
       "      <td>13743</td>\n",
       "      <td>63703</td>\n",
       "      <td>21.57</td>\n",
       "    </tr>\n",
       "    <tr>\n",
       "      <th>fg_pct_away</th>\n",
       "      <td>13783</td>\n",
       "      <td>63703</td>\n",
       "      <td>21.64</td>\n",
       "    </tr>\n",
       "    <tr>\n",
       "      <th>fg3m_away</th>\n",
       "      <td>11397</td>\n",
       "      <td>63703</td>\n",
       "      <td>17.89</td>\n",
       "    </tr>\n",
       "    <tr>\n",
       "      <th>fg3a_away</th>\n",
       "      <td>16862</td>\n",
       "      <td>63703</td>\n",
       "      <td>26.47</td>\n",
       "    </tr>\n",
       "    <tr>\n",
       "      <th>fg3_pct_away</th>\n",
       "      <td>17139</td>\n",
       "      <td>63703</td>\n",
       "      <td>26.90</td>\n",
       "    </tr>\n",
       "    <tr>\n",
       "      <th>ftm_away</th>\n",
       "      <td>4</td>\n",
       "      <td>63703</td>\n",
       "      <td>0.01</td>\n",
       "    </tr>\n",
       "    <tr>\n",
       "      <th>fta_away</th>\n",
       "      <td>2295</td>\n",
       "      <td>63703</td>\n",
       "      <td>3.60</td>\n",
       "    </tr>\n",
       "    <tr>\n",
       "      <th>ft_pct_away</th>\n",
       "      <td>2296</td>\n",
       "      <td>63703</td>\n",
       "      <td>3.60</td>\n",
       "    </tr>\n",
       "    <tr>\n",
       "      <th>oreb_away</th>\n",
       "      <td>17123</td>\n",
       "      <td>63703</td>\n",
       "      <td>26.88</td>\n",
       "    </tr>\n",
       "    <tr>\n",
       "      <th>dreb_away</th>\n",
       "      <td>17185</td>\n",
       "      <td>63703</td>\n",
       "      <td>26.98</td>\n",
       "    </tr>\n",
       "    <tr>\n",
       "      <th>reb_away</th>\n",
       "      <td>13956</td>\n",
       "      <td>63703</td>\n",
       "      <td>21.91</td>\n",
       "    </tr>\n",
       "    <tr>\n",
       "      <th>ast_away</th>\n",
       "      <td>14036</td>\n",
       "      <td>63703</td>\n",
       "      <td>22.03</td>\n",
       "    </tr>\n",
       "    <tr>\n",
       "      <th>stl_away</th>\n",
       "      <td>17036</td>\n",
       "      <td>63703</td>\n",
       "      <td>26.74</td>\n",
       "    </tr>\n",
       "    <tr>\n",
       "      <th>blk_away</th>\n",
       "      <td>16812</td>\n",
       "      <td>63703</td>\n",
       "      <td>26.39</td>\n",
       "    </tr>\n",
       "    <tr>\n",
       "      <th>tov_away</th>\n",
       "      <td>16866</td>\n",
       "      <td>63703</td>\n",
       "      <td>26.48</td>\n",
       "    </tr>\n",
       "    <tr>\n",
       "      <th>pf_away</th>\n",
       "      <td>1772</td>\n",
       "      <td>63703</td>\n",
       "      <td>2.78</td>\n",
       "    </tr>\n",
       "  </tbody>\n",
       "</table>\n",
       "</div>"
      ],
      "text/plain": [
       "              Valores nulos  Total registros  Porcentaje\n",
       "wl_home                   2            63703        0.00\n",
       "fgm_home                  3            63703        0.00\n",
       "fga_home              13742            63703       21.57\n",
       "fg_pct_home           13783            63703       21.64\n",
       "fg3m_home             11397            63703       17.89\n",
       "fg3a_home             16862            63703       26.47\n",
       "fg3_pct_home          17250            63703       27.08\n",
       "ftm_home                  5            63703        0.01\n",
       "fta_home               2294            63703        3.60\n",
       "ft_pct_home            2296            63703        3.60\n",
       "oreb_home             17123            63703       26.88\n",
       "dreb_home             17186            63703       26.98\n",
       "reb_home              13960            63703       21.91\n",
       "ast_home              14040            63703       22.04\n",
       "stl_home              17036            63703       26.74\n",
       "blk_home              16813            63703       26.39\n",
       "tov_home              16865            63703       26.47\n",
       "pf_home                1776            63703        2.79\n",
       "wl_away                   2            63703        0.00\n",
       "fgm_away                  4            63703        0.01\n",
       "fga_away              13743            63703       21.57\n",
       "fg_pct_away           13783            63703       21.64\n",
       "fg3m_away             11397            63703       17.89\n",
       "fg3a_away             16862            63703       26.47\n",
       "fg3_pct_away          17139            63703       26.90\n",
       "ftm_away                  4            63703        0.01\n",
       "fta_away               2295            63703        3.60\n",
       "ft_pct_away            2296            63703        3.60\n",
       "oreb_away             17123            63703       26.88\n",
       "dreb_away             17185            63703       26.98\n",
       "reb_away              13956            63703       21.91\n",
       "ast_away              14036            63703       22.03\n",
       "stl_away              17036            63703       26.74\n",
       "blk_away              16812            63703       26.39\n",
       "tov_away              16866            63703       26.48\n",
       "pf_away                1772            63703        2.78"
      ]
     },
     "execution_count": 10,
     "metadata": {},
     "output_type": "execute_result"
    }
   ],
   "source": [
    "null_game_team_id = game_team_id.isnull().sum()\n",
    "total_register = len(game_team_id)\n",
    "null_result = null_game_team_id[null_game_team_id > 0]\n",
    "\n",
    "df_null_game_team_id= pd.DataFrame({\n",
    "    \"Valores nulos\": null_result,\n",
    "    \"Total registros\": total_register,\n",
    "    \"Porcentaje\": (null_result / total_register * 100).round(2)\n",
    "})\n",
    "\n",
    "df_null_game_team_id"
   ]
  },
  {
   "cell_type": "markdown",
   "id": "ab9d9684",
   "metadata": {},
   "source": [
    "### 2.3.3. Filtro del año 2000 en adelante"
   ]
  },
  {
   "cell_type": "code",
   "execution_count": 11,
   "id": "e0156a8e",
   "metadata": {},
   "outputs": [],
   "source": [
    "game_2000 = game_team_id[game_team_id['game_date'] >= \"2000-01-01\"].copy()"
   ]
  },
  {
   "cell_type": "code",
   "execution_count": 12,
   "metadata": {},
   "outputs": [
    {
     "data": {
      "application/vnd.microsoft.datawrangler.viewer.v0+json": {
       "columns": [
        {
         "name": "index",
         "rawType": "object",
         "type": "string"
        },
        {
         "name": "Valores nulos",
         "rawType": "int64",
         "type": "integer"
        },
        {
         "name": "Total registros",
         "rawType": "int64",
         "type": "integer"
        },
        {
         "name": "Porcentaje",
         "rawType": "float64",
         "type": "float"
        }
       ],
       "conversionMethod": "pd.DataFrame",
       "ref": "8bff83ae-8053-4149-84c7-a56a3f529050",
       "rows": [
        [
         "wl_home",
         "2",
         "30287",
         "0.01"
        ],
        [
         "wl_away",
         "2",
         "30287",
         "0.01"
        ]
       ],
       "shape": {
        "columns": 3,
        "rows": 2
       }
      },
      "text/html": [
       "<div>\n",
       "<style scoped>\n",
       "    .dataframe tbody tr th:only-of-type {\n",
       "        vertical-align: middle;\n",
       "    }\n",
       "\n",
       "    .dataframe tbody tr th {\n",
       "        vertical-align: top;\n",
       "    }\n",
       "\n",
       "    .dataframe thead th {\n",
       "        text-align: right;\n",
       "    }\n",
       "</style>\n",
       "<table border=\"1\" class=\"dataframe\">\n",
       "  <thead>\n",
       "    <tr style=\"text-align: right;\">\n",
       "      <th></th>\n",
       "      <th>Valores nulos</th>\n",
       "      <th>Total registros</th>\n",
       "      <th>Porcentaje</th>\n",
       "    </tr>\n",
       "  </thead>\n",
       "  <tbody>\n",
       "    <tr>\n",
       "      <th>wl_home</th>\n",
       "      <td>2</td>\n",
       "      <td>30287</td>\n",
       "      <td>0.01</td>\n",
       "    </tr>\n",
       "    <tr>\n",
       "      <th>wl_away</th>\n",
       "      <td>2</td>\n",
       "      <td>30287</td>\n",
       "      <td>0.01</td>\n",
       "    </tr>\n",
       "  </tbody>\n",
       "</table>\n",
       "</div>"
      ],
      "text/plain": [
       "         Valores nulos  Total registros  Porcentaje\n",
       "wl_home              2            30287        0.01\n",
       "wl_away              2            30287        0.01"
      ]
     },
     "execution_count": 12,
     "metadata": {},
     "output_type": "execute_result"
    }
   ],
   "source": [
    "null_game_2000 = game_2000.isnull().sum()\n",
    "total_register = len(game_2000)\n",
    "null_result = null_game_2000[null_game_2000 > 0]\n",
    "\n",
    "df_null_game_2000 = pd.DataFrame({\n",
    "    \"Valores nulos\": null_result,\n",
    "    \"Total registros\": total_register,\n",
    "    \"Porcentaje\": (null_result / total_register * 100).round(2)\n",
    "})\n",
    "\n",
    "df_null_game_2000"
   ]
  },
  {
   "cell_type": "markdown",
   "metadata": {},
   "source": [
    "### 2.3.3. Llenado de nulos por 0"
   ]
  },
  {
   "cell_type": "code",
   "execution_count": 13,
   "id": "f464bce1",
   "metadata": {},
   "outputs": [],
   "source": [
    "game_2000 = game_2000.fillna(0)"
   ]
  },
  {
   "cell_type": "code",
   "execution_count": 14,
   "id": "cd55b709",
   "metadata": {},
   "outputs": [
    {
     "data": {
      "application/vnd.microsoft.datawrangler.viewer.v0+json": {
       "columns": [
        {
         "name": "index",
         "rawType": "object",
         "type": "string"
        },
        {
         "name": "Valores nulos",
         "rawType": "int64",
         "type": "integer"
        },
        {
         "name": "Total registros",
         "rawType": "int64",
         "type": "integer"
        },
        {
         "name": "Porcentaje",
         "rawType": "float64",
         "type": "float"
        }
       ],
       "conversionMethod": "pd.DataFrame",
       "ref": "e8a9d619-3c19-4bf0-858a-2ab3ee5bfd24",
       "rows": [],
       "shape": {
        "columns": 3,
        "rows": 0
       }
      },
      "text/html": [
       "<div>\n",
       "<style scoped>\n",
       "    .dataframe tbody tr th:only-of-type {\n",
       "        vertical-align: middle;\n",
       "    }\n",
       "\n",
       "    .dataframe tbody tr th {\n",
       "        vertical-align: top;\n",
       "    }\n",
       "\n",
       "    .dataframe thead th {\n",
       "        text-align: right;\n",
       "    }\n",
       "</style>\n",
       "<table border=\"1\" class=\"dataframe\">\n",
       "  <thead>\n",
       "    <tr style=\"text-align: right;\">\n",
       "      <th></th>\n",
       "      <th>Valores nulos</th>\n",
       "      <th>Total registros</th>\n",
       "      <th>Porcentaje</th>\n",
       "    </tr>\n",
       "  </thead>\n",
       "  <tbody>\n",
       "  </tbody>\n",
       "</table>\n",
       "</div>"
      ],
      "text/plain": [
       "Empty DataFrame\n",
       "Columns: [Valores nulos, Total registros, Porcentaje]\n",
       "Index: []"
      ]
     },
     "execution_count": 14,
     "metadata": {},
     "output_type": "execute_result"
    }
   ],
   "source": [
    "null_game_2000 = game_2000.isnull().sum()\n",
    "total_register = len(game_2000)\n",
    "null_result = null_game_2000[null_game_2000 > 0]\n",
    "\n",
    "df_null_game_2000 = pd.DataFrame({\n",
    "    \"Valores nulos\": null_result,\n",
    "    \"Total registros\": total_register,\n",
    "    \"Porcentaje\": (null_result / total_register * 100).round(2)\n",
    "})\n",
    "\n",
    "df_null_game_2000"
   ]
  },
  {
   "cell_type": "markdown",
   "id": "c7ab59dd",
   "metadata": {},
   "source": [
    "## 2.4. Tabla Common_player_info"
   ]
  },
  {
   "cell_type": "markdown",
   "id": "988bfbac",
   "metadata": {},
   "source": [
    "### 2.4.1. Lectura de nulos"
   ]
  },
  {
   "cell_type": "code",
   "execution_count": 15,
   "id": "d91f07cf",
   "metadata": {},
   "outputs": [
    {
     "data": {
      "text/plain": [
       "(person_id                             0\n",
       " first_name                            0\n",
       " last_name                             0\n",
       " display_first_last                    0\n",
       " display_last_comma_first              0\n",
       " display_fi_last                       0\n",
       " player_slug                           0\n",
       " birthdate                             0\n",
       " school                               15\n",
       " country                               1\n",
       " last_affiliation                      0\n",
       " height                               96\n",
       " weight                              100\n",
       " season_exp                            0\n",
       " jersey                              980\n",
       " position                             63\n",
       " rosterstatus                          0\n",
       " games_played_current_season_flag      0\n",
       " team_id                               0\n",
       " team_name                           702\n",
       " team_abbreviation                   702\n",
       " team_code                           702\n",
       " team_city                           702\n",
       " playercode                            1\n",
       " from_year                            15\n",
       " to_year                              15\n",
       " dleague_flag                          0\n",
       " nba_flag                              0\n",
       " games_played_flag                     0\n",
       " draft_year                            0\n",
       " draft_round                         164\n",
       " draft_number                        223\n",
       " greatest_75_flag                      0\n",
       " dtype: int64,\n",
       " (4171, 33))"
      ]
     },
     "execution_count": 15,
     "metadata": {},
     "output_type": "execute_result"
    }
   ],
   "source": [
    "common_player_info.isnull().sum(), common_player_info.shape"
   ]
  },
  {
   "cell_type": "code",
   "execution_count": 16,
   "id": "2ca7d3df",
   "metadata": {},
   "outputs": [
    {
     "data": {
      "application/vnd.microsoft.datawrangler.viewer.v0+json": {
       "columns": [
        {
         "name": "index",
         "rawType": "object",
         "type": "string"
        },
        {
         "name": "Valores nulos",
         "rawType": "int64",
         "type": "integer"
        },
        {
         "name": "Total registros",
         "rawType": "int64",
         "type": "integer"
        },
        {
         "name": "Porcentaje",
         "rawType": "float64",
         "type": "float"
        }
       ],
       "conversionMethod": "pd.DataFrame",
       "ref": "f329edc1-bd86-456f-8ff0-e646469f1bc9",
       "rows": [
        [
         "school",
         "15",
         "4171",
         "0.36"
        ],
        [
         "country",
         "1",
         "4171",
         "0.02"
        ],
        [
         "height",
         "96",
         "4171",
         "2.3"
        ],
        [
         "weight",
         "100",
         "4171",
         "2.4"
        ],
        [
         "jersey",
         "980",
         "4171",
         "23.5"
        ],
        [
         "position",
         "63",
         "4171",
         "1.51"
        ],
        [
         "team_name",
         "702",
         "4171",
         "16.83"
        ],
        [
         "team_abbreviation",
         "702",
         "4171",
         "16.83"
        ],
        [
         "team_code",
         "702",
         "4171",
         "16.83"
        ],
        [
         "team_city",
         "702",
         "4171",
         "16.83"
        ],
        [
         "playercode",
         "1",
         "4171",
         "0.02"
        ],
        [
         "from_year",
         "15",
         "4171",
         "0.36"
        ],
        [
         "to_year",
         "15",
         "4171",
         "0.36"
        ],
        [
         "draft_round",
         "164",
         "4171",
         "3.93"
        ],
        [
         "draft_number",
         "223",
         "4171",
         "5.35"
        ]
       ],
       "shape": {
        "columns": 3,
        "rows": 15
       }
      },
      "text/html": [
       "<div>\n",
       "<style scoped>\n",
       "    .dataframe tbody tr th:only-of-type {\n",
       "        vertical-align: middle;\n",
       "    }\n",
       "\n",
       "    .dataframe tbody tr th {\n",
       "        vertical-align: top;\n",
       "    }\n",
       "\n",
       "    .dataframe thead th {\n",
       "        text-align: right;\n",
       "    }\n",
       "</style>\n",
       "<table border=\"1\" class=\"dataframe\">\n",
       "  <thead>\n",
       "    <tr style=\"text-align: right;\">\n",
       "      <th></th>\n",
       "      <th>Valores nulos</th>\n",
       "      <th>Total registros</th>\n",
       "      <th>Porcentaje</th>\n",
       "    </tr>\n",
       "  </thead>\n",
       "  <tbody>\n",
       "    <tr>\n",
       "      <th>school</th>\n",
       "      <td>15</td>\n",
       "      <td>4171</td>\n",
       "      <td>0.36</td>\n",
       "    </tr>\n",
       "    <tr>\n",
       "      <th>country</th>\n",
       "      <td>1</td>\n",
       "      <td>4171</td>\n",
       "      <td>0.02</td>\n",
       "    </tr>\n",
       "    <tr>\n",
       "      <th>height</th>\n",
       "      <td>96</td>\n",
       "      <td>4171</td>\n",
       "      <td>2.30</td>\n",
       "    </tr>\n",
       "    <tr>\n",
       "      <th>weight</th>\n",
       "      <td>100</td>\n",
       "      <td>4171</td>\n",
       "      <td>2.40</td>\n",
       "    </tr>\n",
       "    <tr>\n",
       "      <th>jersey</th>\n",
       "      <td>980</td>\n",
       "      <td>4171</td>\n",
       "      <td>23.50</td>\n",
       "    </tr>\n",
       "    <tr>\n",
       "      <th>position</th>\n",
       "      <td>63</td>\n",
       "      <td>4171</td>\n",
       "      <td>1.51</td>\n",
       "    </tr>\n",
       "    <tr>\n",
       "      <th>team_name</th>\n",
       "      <td>702</td>\n",
       "      <td>4171</td>\n",
       "      <td>16.83</td>\n",
       "    </tr>\n",
       "    <tr>\n",
       "      <th>team_abbreviation</th>\n",
       "      <td>702</td>\n",
       "      <td>4171</td>\n",
       "      <td>16.83</td>\n",
       "    </tr>\n",
       "    <tr>\n",
       "      <th>team_code</th>\n",
       "      <td>702</td>\n",
       "      <td>4171</td>\n",
       "      <td>16.83</td>\n",
       "    </tr>\n",
       "    <tr>\n",
       "      <th>team_city</th>\n",
       "      <td>702</td>\n",
       "      <td>4171</td>\n",
       "      <td>16.83</td>\n",
       "    </tr>\n",
       "    <tr>\n",
       "      <th>playercode</th>\n",
       "      <td>1</td>\n",
       "      <td>4171</td>\n",
       "      <td>0.02</td>\n",
       "    </tr>\n",
       "    <tr>\n",
       "      <th>from_year</th>\n",
       "      <td>15</td>\n",
       "      <td>4171</td>\n",
       "      <td>0.36</td>\n",
       "    </tr>\n",
       "    <tr>\n",
       "      <th>to_year</th>\n",
       "      <td>15</td>\n",
       "      <td>4171</td>\n",
       "      <td>0.36</td>\n",
       "    </tr>\n",
       "    <tr>\n",
       "      <th>draft_round</th>\n",
       "      <td>164</td>\n",
       "      <td>4171</td>\n",
       "      <td>3.93</td>\n",
       "    </tr>\n",
       "    <tr>\n",
       "      <th>draft_number</th>\n",
       "      <td>223</td>\n",
       "      <td>4171</td>\n",
       "      <td>5.35</td>\n",
       "    </tr>\n",
       "  </tbody>\n",
       "</table>\n",
       "</div>"
      ],
      "text/plain": [
       "                   Valores nulos  Total registros  Porcentaje\n",
       "school                        15             4171        0.36\n",
       "country                        1             4171        0.02\n",
       "height                        96             4171        2.30\n",
       "weight                       100             4171        2.40\n",
       "jersey                       980             4171       23.50\n",
       "position                      63             4171        1.51\n",
       "team_name                    702             4171       16.83\n",
       "team_abbreviation            702             4171       16.83\n",
       "team_code                    702             4171       16.83\n",
       "team_city                    702             4171       16.83\n",
       "playercode                     1             4171        0.02\n",
       "from_year                     15             4171        0.36\n",
       "to_year                       15             4171        0.36\n",
       "draft_round                  164             4171        3.93\n",
       "draft_number                 223             4171        5.35"
      ]
     },
     "execution_count": 16,
     "metadata": {},
     "output_type": "execute_result"
    }
   ],
   "source": [
    "null_common_player_info = common_player_info.isnull().sum()\n",
    "total_register = len(common_player_info)\n",
    "null_result = null_common_player_info[null_common_player_info > 0]\n",
    "\n",
    "df_null_common_player_info = pd.DataFrame({\n",
    "    \"Valores nulos\": null_result,\n",
    "    \"Total registros\": total_register,\n",
    "    \"Porcentaje\": (null_result / total_register * 100).round(2)\n",
    "})\n",
    "\n",
    "df_null_common_player_info"
   ]
  },
  {
   "cell_type": "markdown",
   "id": "01d06728",
   "metadata": {},
   "source": [
    "### 2.4.2. Filtro por equipo y jugador"
   ]
  },
  {
   "cell_type": "code",
   "execution_count": 17,
   "id": "a1fd4830",
   "metadata": {},
   "outputs": [],
   "source": [
    "common_player_info = common_player_info[common_player_info['team_id'].isin(team[\"id\"]) & common_player_info['person_id'].isin(player[\"id\"])]"
   ]
  },
  {
   "cell_type": "code",
   "execution_count": 18,
   "id": "7261b278",
   "metadata": {},
   "outputs": [
    {
     "data": {
      "application/vnd.microsoft.datawrangler.viewer.v0+json": {
       "columns": [
        {
         "name": "index",
         "rawType": "object",
         "type": "string"
        },
        {
         "name": "Valores nulos",
         "rawType": "int64",
         "type": "integer"
        },
        {
         "name": "Total registros",
         "rawType": "int64",
         "type": "integer"
        },
        {
         "name": "Porcentaje",
         "rawType": "float64",
         "type": "float"
        }
       ],
       "conversionMethod": "pd.DataFrame",
       "ref": "240a0961-8a68-4f99-b26b-bbf1277bbf9b",
       "rows": [
        [
         "school",
         "8",
         "3242",
         "0.25"
        ],
        [
         "country",
         "1",
         "3242",
         "0.03"
        ],
        [
         "height",
         "1",
         "3242",
         "0.03"
        ],
        [
         "weight",
         "1",
         "3242",
         "0.03"
        ],
        [
         "jersey",
         "85",
         "3242",
         "2.62"
        ],
        [
         "position",
         "2",
         "3242",
         "0.06"
        ],
        [
         "playercode",
         "1",
         "3242",
         "0.03"
        ],
        [
         "draft_round",
         "103",
         "3242",
         "3.18"
        ],
        [
         "draft_number",
         "148",
         "3242",
         "4.57"
        ]
       ],
       "shape": {
        "columns": 3,
        "rows": 9
       }
      },
      "text/html": [
       "<div>\n",
       "<style scoped>\n",
       "    .dataframe tbody tr th:only-of-type {\n",
       "        vertical-align: middle;\n",
       "    }\n",
       "\n",
       "    .dataframe tbody tr th {\n",
       "        vertical-align: top;\n",
       "    }\n",
       "\n",
       "    .dataframe thead th {\n",
       "        text-align: right;\n",
       "    }\n",
       "</style>\n",
       "<table border=\"1\" class=\"dataframe\">\n",
       "  <thead>\n",
       "    <tr style=\"text-align: right;\">\n",
       "      <th></th>\n",
       "      <th>Valores nulos</th>\n",
       "      <th>Total registros</th>\n",
       "      <th>Porcentaje</th>\n",
       "    </tr>\n",
       "  </thead>\n",
       "  <tbody>\n",
       "    <tr>\n",
       "      <th>school</th>\n",
       "      <td>8</td>\n",
       "      <td>3242</td>\n",
       "      <td>0.25</td>\n",
       "    </tr>\n",
       "    <tr>\n",
       "      <th>country</th>\n",
       "      <td>1</td>\n",
       "      <td>3242</td>\n",
       "      <td>0.03</td>\n",
       "    </tr>\n",
       "    <tr>\n",
       "      <th>height</th>\n",
       "      <td>1</td>\n",
       "      <td>3242</td>\n",
       "      <td>0.03</td>\n",
       "    </tr>\n",
       "    <tr>\n",
       "      <th>weight</th>\n",
       "      <td>1</td>\n",
       "      <td>3242</td>\n",
       "      <td>0.03</td>\n",
       "    </tr>\n",
       "    <tr>\n",
       "      <th>jersey</th>\n",
       "      <td>85</td>\n",
       "      <td>3242</td>\n",
       "      <td>2.62</td>\n",
       "    </tr>\n",
       "    <tr>\n",
       "      <th>position</th>\n",
       "      <td>2</td>\n",
       "      <td>3242</td>\n",
       "      <td>0.06</td>\n",
       "    </tr>\n",
       "    <tr>\n",
       "      <th>playercode</th>\n",
       "      <td>1</td>\n",
       "      <td>3242</td>\n",
       "      <td>0.03</td>\n",
       "    </tr>\n",
       "    <tr>\n",
       "      <th>draft_round</th>\n",
       "      <td>103</td>\n",
       "      <td>3242</td>\n",
       "      <td>3.18</td>\n",
       "    </tr>\n",
       "    <tr>\n",
       "      <th>draft_number</th>\n",
       "      <td>148</td>\n",
       "      <td>3242</td>\n",
       "      <td>4.57</td>\n",
       "    </tr>\n",
       "  </tbody>\n",
       "</table>\n",
       "</div>"
      ],
      "text/plain": [
       "              Valores nulos  Total registros  Porcentaje\n",
       "school                    8             3242        0.25\n",
       "country                   1             3242        0.03\n",
       "height                    1             3242        0.03\n",
       "weight                    1             3242        0.03\n",
       "jersey                   85             3242        2.62\n",
       "position                  2             3242        0.06\n",
       "playercode                1             3242        0.03\n",
       "draft_round             103             3242        3.18\n",
       "draft_number            148             3242        4.57"
      ]
     },
     "execution_count": 18,
     "metadata": {},
     "output_type": "execute_result"
    }
   ],
   "source": [
    "null_common_player_info = common_player_info.isnull().sum()\n",
    "total_register = len(common_player_info)\n",
    "null_result = null_common_player_info[null_common_player_info > 0]\n",
    "\n",
    "df_null_common_player_info = pd.DataFrame({\n",
    "    \"Valores nulos\": null_result,\n",
    "    \"Total registros\": total_register,\n",
    "    \"Porcentaje\": (null_result / total_register * 100).round(2)\n",
    "})\n",
    "\n",
    "df_null_common_player_info"
   ]
  },
  {
   "cell_type": "markdown",
   "id": "fe1b0163",
   "metadata": {},
   "source": [
    "### 2.4.3. Filtro del año 2000 en adelante"
   ]
  },
  {
   "cell_type": "code",
   "execution_count": 19,
   "id": "0850803f",
   "metadata": {},
   "outputs": [],
   "source": [
    "common_player_info = common_player_info[common_player_info[\"to_year\"] >= 2000]"
   ]
  },
  {
   "cell_type": "code",
   "execution_count": 20,
   "id": "75bae861",
   "metadata": {},
   "outputs": [
    {
     "data": {
      "application/vnd.microsoft.datawrangler.viewer.v0+json": {
       "columns": [
        {
         "name": "index",
         "rawType": "object",
         "type": "string"
        },
        {
         "name": "Valores nulos",
         "rawType": "int64",
         "type": "integer"
        },
        {
         "name": "Total registros",
         "rawType": "int64",
         "type": "integer"
        },
        {
         "name": "Porcentaje",
         "rawType": "float64",
         "type": "float"
        }
       ],
       "conversionMethod": "pd.DataFrame",
       "ref": "e0978570-427b-4040-b157-dd0f0396c47a",
       "rows": [
        [
         "school",
         "7",
         "1429",
         "0.49"
        ],
        [
         "jersey",
         "6",
         "1429",
         "0.42"
        ],
        [
         "draft_round",
         "25",
         "1429",
         "1.75"
        ],
        [
         "draft_number",
         "26",
         "1429",
         "1.82"
        ]
       ],
       "shape": {
        "columns": 3,
        "rows": 4
       }
      },
      "text/html": [
       "<div>\n",
       "<style scoped>\n",
       "    .dataframe tbody tr th:only-of-type {\n",
       "        vertical-align: middle;\n",
       "    }\n",
       "\n",
       "    .dataframe tbody tr th {\n",
       "        vertical-align: top;\n",
       "    }\n",
       "\n",
       "    .dataframe thead th {\n",
       "        text-align: right;\n",
       "    }\n",
       "</style>\n",
       "<table border=\"1\" class=\"dataframe\">\n",
       "  <thead>\n",
       "    <tr style=\"text-align: right;\">\n",
       "      <th></th>\n",
       "      <th>Valores nulos</th>\n",
       "      <th>Total registros</th>\n",
       "      <th>Porcentaje</th>\n",
       "    </tr>\n",
       "  </thead>\n",
       "  <tbody>\n",
       "    <tr>\n",
       "      <th>school</th>\n",
       "      <td>7</td>\n",
       "      <td>1429</td>\n",
       "      <td>0.49</td>\n",
       "    </tr>\n",
       "    <tr>\n",
       "      <th>jersey</th>\n",
       "      <td>6</td>\n",
       "      <td>1429</td>\n",
       "      <td>0.42</td>\n",
       "    </tr>\n",
       "    <tr>\n",
       "      <th>draft_round</th>\n",
       "      <td>25</td>\n",
       "      <td>1429</td>\n",
       "      <td>1.75</td>\n",
       "    </tr>\n",
       "    <tr>\n",
       "      <th>draft_number</th>\n",
       "      <td>26</td>\n",
       "      <td>1429</td>\n",
       "      <td>1.82</td>\n",
       "    </tr>\n",
       "  </tbody>\n",
       "</table>\n",
       "</div>"
      ],
      "text/plain": [
       "              Valores nulos  Total registros  Porcentaje\n",
       "school                    7             1429        0.49\n",
       "jersey                    6             1429        0.42\n",
       "draft_round              25             1429        1.75\n",
       "draft_number             26             1429        1.82"
      ]
     },
     "execution_count": 20,
     "metadata": {},
     "output_type": "execute_result"
    }
   ],
   "source": [
    "null_common_player_info = common_player_info.isnull().sum()\n",
    "total_register = len(common_player_info)\n",
    "null_result = null_common_player_info[null_common_player_info > 0]\n",
    "\n",
    "df_null_common_player_info = pd.DataFrame({\n",
    "    \"Valores nulos\": null_result,\n",
    "    \"Total registros\": total_register,\n",
    "    \"Porcentaje\": (null_result / total_register * 100).round(2)\n",
    "})\n",
    "\n",
    "df_null_common_player_info"
   ]
  },
  {
   "cell_type": "markdown",
   "id": "4cf6c97c",
   "metadata": {},
   "source": [
    "### 2.4.4. Eliminación de columnas innecesarias"
   ]
  },
  {
   "cell_type": "code",
   "execution_count": 21,
   "id": "f6809241",
   "metadata": {},
   "outputs": [],
   "source": [
    "delete_columns = [\"first_name\", \"last_name\", \"display_first_last\", \"display_last_comma_first\", \"player_slug\",\"jersey\", \"team_name\", \"team_abbreviation\", \"team_code\", \"team_city\", \"games_played_current_season_flag\"]\n",
    "\n",
    "common_player_info.drop(delete_columns, axis=1, inplace=True)"
   ]
  },
  {
   "cell_type": "code",
   "execution_count": 22,
   "id": "3f9388b2",
   "metadata": {},
   "outputs": [
    {
     "data": {
      "application/vnd.microsoft.datawrangler.viewer.v0+json": {
       "columns": [
        {
         "name": "index",
         "rawType": "object",
         "type": "string"
        },
        {
         "name": "Valores nulos",
         "rawType": "int64",
         "type": "integer"
        },
        {
         "name": "Total registros",
         "rawType": "int64",
         "type": "integer"
        },
        {
         "name": "Porcentaje",
         "rawType": "float64",
         "type": "float"
        }
       ],
       "conversionMethod": "pd.DataFrame",
       "ref": "4b634938-c50f-4e58-96da-b4fe4f2dd852",
       "rows": [
        [
         "school",
         "7",
         "1429",
         "0.49"
        ],
        [
         "draft_round",
         "25",
         "1429",
         "1.75"
        ],
        [
         "draft_number",
         "26",
         "1429",
         "1.82"
        ]
       ],
       "shape": {
        "columns": 3,
        "rows": 3
       }
      },
      "text/html": [
       "<div>\n",
       "<style scoped>\n",
       "    .dataframe tbody tr th:only-of-type {\n",
       "        vertical-align: middle;\n",
       "    }\n",
       "\n",
       "    .dataframe tbody tr th {\n",
       "        vertical-align: top;\n",
       "    }\n",
       "\n",
       "    .dataframe thead th {\n",
       "        text-align: right;\n",
       "    }\n",
       "</style>\n",
       "<table border=\"1\" class=\"dataframe\">\n",
       "  <thead>\n",
       "    <tr style=\"text-align: right;\">\n",
       "      <th></th>\n",
       "      <th>Valores nulos</th>\n",
       "      <th>Total registros</th>\n",
       "      <th>Porcentaje</th>\n",
       "    </tr>\n",
       "  </thead>\n",
       "  <tbody>\n",
       "    <tr>\n",
       "      <th>school</th>\n",
       "      <td>7</td>\n",
       "      <td>1429</td>\n",
       "      <td>0.49</td>\n",
       "    </tr>\n",
       "    <tr>\n",
       "      <th>draft_round</th>\n",
       "      <td>25</td>\n",
       "      <td>1429</td>\n",
       "      <td>1.75</td>\n",
       "    </tr>\n",
       "    <tr>\n",
       "      <th>draft_number</th>\n",
       "      <td>26</td>\n",
       "      <td>1429</td>\n",
       "      <td>1.82</td>\n",
       "    </tr>\n",
       "  </tbody>\n",
       "</table>\n",
       "</div>"
      ],
      "text/plain": [
       "              Valores nulos  Total registros  Porcentaje\n",
       "school                    7             1429        0.49\n",
       "draft_round              25             1429        1.75\n",
       "draft_number             26             1429        1.82"
      ]
     },
     "execution_count": 22,
     "metadata": {},
     "output_type": "execute_result"
    }
   ],
   "source": [
    "null_common_player_info = common_player_info.isnull().sum()\n",
    "total_register = len(common_player_info)\n",
    "null_result = null_common_player_info[null_common_player_info > 0]\n",
    "\n",
    "df_null_common_player_info = pd.DataFrame({\n",
    "    \"Valores nulos\": null_result,\n",
    "    \"Total registros\": total_register,\n",
    "    \"Porcentaje\": (null_result / total_register * 100).round(2)\n",
    "})\n",
    "\n",
    "df_null_common_player_info"
   ]
  },
  {
   "cell_type": "markdown",
   "id": "be3b6bb2",
   "metadata": {},
   "source": [
    "### 2.4.5. Eliminación de nulos en las diferentes columnas"
   ]
  },
  {
   "cell_type": "code",
   "execution_count": 23,
   "id": "67fbca32",
   "metadata": {},
   "outputs": [],
   "source": [
    "common_player_info = common_player_info.dropna(subset=['height', 'weight', 'draft_number', 'draft_number', 'position'])"
   ]
  },
  {
   "cell_type": "code",
   "execution_count": 24,
   "id": "a728e441",
   "metadata": {},
   "outputs": [
    {
     "data": {
      "application/vnd.microsoft.datawrangler.viewer.v0+json": {
       "columns": [
        {
         "name": "index",
         "rawType": "object",
         "type": "string"
        },
        {
         "name": "Valores nulos",
         "rawType": "int64",
         "type": "integer"
        },
        {
         "name": "Total registros",
         "rawType": "int64",
         "type": "integer"
        },
        {
         "name": "Porcentaje",
         "rawType": "float64",
         "type": "float"
        }
       ],
       "conversionMethod": "pd.DataFrame",
       "ref": "c38f2a77-926c-4db2-814c-f31d5f77768c",
       "rows": [
        [
         "school",
         "7",
         "1403",
         "0.5"
        ]
       ],
       "shape": {
        "columns": 3,
        "rows": 1
       }
      },
      "text/html": [
       "<div>\n",
       "<style scoped>\n",
       "    .dataframe tbody tr th:only-of-type {\n",
       "        vertical-align: middle;\n",
       "    }\n",
       "\n",
       "    .dataframe tbody tr th {\n",
       "        vertical-align: top;\n",
       "    }\n",
       "\n",
       "    .dataframe thead th {\n",
       "        text-align: right;\n",
       "    }\n",
       "</style>\n",
       "<table border=\"1\" class=\"dataframe\">\n",
       "  <thead>\n",
       "    <tr style=\"text-align: right;\">\n",
       "      <th></th>\n",
       "      <th>Valores nulos</th>\n",
       "      <th>Total registros</th>\n",
       "      <th>Porcentaje</th>\n",
       "    </tr>\n",
       "  </thead>\n",
       "  <tbody>\n",
       "    <tr>\n",
       "      <th>school</th>\n",
       "      <td>7</td>\n",
       "      <td>1403</td>\n",
       "      <td>0.5</td>\n",
       "    </tr>\n",
       "  </tbody>\n",
       "</table>\n",
       "</div>"
      ],
      "text/plain": [
       "        Valores nulos  Total registros  Porcentaje\n",
       "school              7             1403         0.5"
      ]
     },
     "execution_count": 24,
     "metadata": {},
     "output_type": "execute_result"
    }
   ],
   "source": [
    "null_common_player_info = common_player_info.isnull().sum()\n",
    "total_register = len(common_player_info)\n",
    "null_result = null_common_player_info[null_common_player_info > 0]\n",
    "\n",
    "df_null_common_player_info = pd.DataFrame({\n",
    "    \"Valores nulos\": null_result,\n",
    "    \"Total registros\": total_register,\n",
    "    \"Porcentaje\": (null_result / total_register * 100).round(2)\n",
    "})\n",
    "\n",
    "df_null_common_player_info"
   ]
  },
  {
   "cell_type": "markdown",
   "id": "b03d02df",
   "metadata": {},
   "source": [
    "### 2.4.6. Llenado de columnas school y country con los valores descomprimidos de la columna last_affiliation"
   ]
  },
  {
   "cell_type": "code",
   "execution_count": 25,
   "id": "86b0a256",
   "metadata": {},
   "outputs": [],
   "source": [
    "common_player_info[['school', 'country']] = common_player_info['last_affiliation'].str.split('/', n=1, expand=True)"
   ]
  },
  {
   "cell_type": "code",
   "execution_count": 26,
   "id": "ac1f8878",
   "metadata": {},
   "outputs": [
    {
     "data": {
      "application/vnd.microsoft.datawrangler.viewer.v0+json": {
       "columns": [
        {
         "name": "index",
         "rawType": "object",
         "type": "string"
        },
        {
         "name": "Valores nulos",
         "rawType": "int64",
         "type": "integer"
        },
        {
         "name": "Total registros",
         "rawType": "int64",
         "type": "integer"
        },
        {
         "name": "Porcentaje",
         "rawType": "float64",
         "type": "float"
        }
       ],
       "conversionMethod": "pd.DataFrame",
       "ref": "fee447aa-6bde-4760-8db9-cddfc03c9b86",
       "rows": [],
       "shape": {
        "columns": 3,
        "rows": 0
       }
      },
      "text/html": [
       "<div>\n",
       "<style scoped>\n",
       "    .dataframe tbody tr th:only-of-type {\n",
       "        vertical-align: middle;\n",
       "    }\n",
       "\n",
       "    .dataframe tbody tr th {\n",
       "        vertical-align: top;\n",
       "    }\n",
       "\n",
       "    .dataframe thead th {\n",
       "        text-align: right;\n",
       "    }\n",
       "</style>\n",
       "<table border=\"1\" class=\"dataframe\">\n",
       "  <thead>\n",
       "    <tr style=\"text-align: right;\">\n",
       "      <th></th>\n",
       "      <th>Valores nulos</th>\n",
       "      <th>Total registros</th>\n",
       "      <th>Porcentaje</th>\n",
       "    </tr>\n",
       "  </thead>\n",
       "  <tbody>\n",
       "  </tbody>\n",
       "</table>\n",
       "</div>"
      ],
      "text/plain": [
       "Empty DataFrame\n",
       "Columns: [Valores nulos, Total registros, Porcentaje]\n",
       "Index: []"
      ]
     },
     "execution_count": 26,
     "metadata": {},
     "output_type": "execute_result"
    }
   ],
   "source": [
    "null_common_player_info = common_player_info.isnull().sum()\n",
    "total_register = len(common_player_info)\n",
    "null_result = null_common_player_info[null_common_player_info > 0]\n",
    "\n",
    "df_null_common_player_info = pd.DataFrame({\n",
    "    \"Valores nulos\": null_result,\n",
    "    \"Total registros\": total_register,\n",
    "    \"Porcentaje\": (null_result / total_register * 100).round(2)\n",
    "})\n",
    "\n",
    "df_null_common_player_info"
   ]
  },
  {
   "cell_type": "markdown",
   "id": "5d6ea8bf",
   "metadata": {},
   "source": [
    "## 2.5. Tabla Draft_combine_stats"
   ]
  },
  {
   "cell_type": "markdown",
   "id": "513d640b",
   "metadata": {},
   "source": [
    "### 2.5.1. Lectura de nulos"
   ]
  },
  {
   "cell_type": "code",
   "execution_count": 27,
   "id": "44ac9c5b",
   "metadata": {},
   "outputs": [
    {
     "data": {
      "text/plain": [
       "(season                             0\n",
       " player_id                          0\n",
       " first_name                         0\n",
       " last_name                          0\n",
       " player_name                        0\n",
       " position                           5\n",
       " height_wo_shoes                   49\n",
       " height_wo_shoes_ft_in             49\n",
       " height_w_shoes                   194\n",
       " height_w_shoes_ft_in             194\n",
       " weight                            50\n",
       " wingspan                          49\n",
       " wingspan_ft_in                    49\n",
       " standing_reach                    50\n",
       " standing_reach_ft_in              50\n",
       " body_fat_pct                     199\n",
       " hand_length                      483\n",
       " hand_width                       483\n",
       " standing_vertical_leap           185\n",
       " max_vertical_leap                185\n",
       " lane_agility_time                194\n",
       " modified_lane_agility_time       791\n",
       " three_quarter_sprint             190\n",
       " bench_press                      394\n",
       " spot_fifteen_corner_left        1128\n",
       " spot_fifteen_break_left         1126\n",
       " spot_fifteen_top_key            1126\n",
       " spot_fifteen_break_right        1126\n",
       " spot_fifteen_corner_right       1126\n",
       " spot_college_corner_left         957\n",
       " spot_college_break_left         1036\n",
       " spot_college_top_key            1036\n",
       " spot_college_break_right        1036\n",
       " spot_college_corner_right       1036\n",
       " spot_nba_corner_left             985\n",
       " spot_nba_break_left              985\n",
       " spot_nba_top_key                 985\n",
       " spot_nba_break_right             985\n",
       " spot_nba_corner_right            985\n",
       " off_drib_fifteen_break_left     1036\n",
       " off_drib_fifteen_top_key        1036\n",
       " off_drib_fifteen_break_right    1036\n",
       " off_drib_college_break_left     1092\n",
       " off_drib_college_top_key        1171\n",
       " off_drib_college_break_right    1171\n",
       " on_move_fifteen                 1054\n",
       " on_move_college                 1086\n",
       " dtype: int64,\n",
       " (1202, 47))"
      ]
     },
     "execution_count": 27,
     "metadata": {},
     "output_type": "execute_result"
    }
   ],
   "source": [
    "draft_combine_stats.isnull().sum(), draft_combine_stats.shape"
   ]
  },
  {
   "cell_type": "code",
   "execution_count": 28,
   "id": "8a8d65b7",
   "metadata": {},
   "outputs": [
    {
     "data": {
      "application/vnd.microsoft.datawrangler.viewer.v0+json": {
       "columns": [
        {
         "name": "index",
         "rawType": "object",
         "type": "string"
        },
        {
         "name": "Valores nulos",
         "rawType": "int64",
         "type": "integer"
        },
        {
         "name": "Total registros",
         "rawType": "int64",
         "type": "integer"
        },
        {
         "name": "Porcentaje",
         "rawType": "float64",
         "type": "float"
        }
       ],
       "conversionMethod": "pd.DataFrame",
       "ref": "108774cf-ecf4-4aac-9288-a8de77b57f20",
       "rows": [
        [
         "position",
         "5",
         "1202",
         "0.42"
        ],
        [
         "height_wo_shoes",
         "49",
         "1202",
         "4.08"
        ],
        [
         "height_wo_shoes_ft_in",
         "49",
         "1202",
         "4.08"
        ],
        [
         "height_w_shoes",
         "194",
         "1202",
         "16.14"
        ],
        [
         "height_w_shoes_ft_in",
         "194",
         "1202",
         "16.14"
        ],
        [
         "weight",
         "50",
         "1202",
         "4.16"
        ],
        [
         "wingspan",
         "49",
         "1202",
         "4.08"
        ],
        [
         "wingspan_ft_in",
         "49",
         "1202",
         "4.08"
        ],
        [
         "standing_reach",
         "50",
         "1202",
         "4.16"
        ],
        [
         "standing_reach_ft_in",
         "50",
         "1202",
         "4.16"
        ],
        [
         "body_fat_pct",
         "199",
         "1202",
         "16.56"
        ],
        [
         "hand_length",
         "483",
         "1202",
         "40.18"
        ],
        [
         "hand_width",
         "483",
         "1202",
         "40.18"
        ],
        [
         "standing_vertical_leap",
         "185",
         "1202",
         "15.39"
        ],
        [
         "max_vertical_leap",
         "185",
         "1202",
         "15.39"
        ],
        [
         "lane_agility_time",
         "194",
         "1202",
         "16.14"
        ],
        [
         "modified_lane_agility_time",
         "791",
         "1202",
         "65.81"
        ],
        [
         "three_quarter_sprint",
         "190",
         "1202",
         "15.81"
        ],
        [
         "bench_press",
         "394",
         "1202",
         "32.78"
        ],
        [
         "spot_fifteen_corner_left",
         "1128",
         "1202",
         "93.84"
        ],
        [
         "spot_fifteen_break_left",
         "1126",
         "1202",
         "93.68"
        ],
        [
         "spot_fifteen_top_key",
         "1126",
         "1202",
         "93.68"
        ],
        [
         "spot_fifteen_break_right",
         "1126",
         "1202",
         "93.68"
        ],
        [
         "spot_fifteen_corner_right",
         "1126",
         "1202",
         "93.68"
        ],
        [
         "spot_college_corner_left",
         "957",
         "1202",
         "79.62"
        ],
        [
         "spot_college_break_left",
         "1036",
         "1202",
         "86.19"
        ],
        [
         "spot_college_top_key",
         "1036",
         "1202",
         "86.19"
        ],
        [
         "spot_college_break_right",
         "1036",
         "1202",
         "86.19"
        ],
        [
         "spot_college_corner_right",
         "1036",
         "1202",
         "86.19"
        ],
        [
         "spot_nba_corner_left",
         "985",
         "1202",
         "81.95"
        ],
        [
         "spot_nba_break_left",
         "985",
         "1202",
         "81.95"
        ],
        [
         "spot_nba_top_key",
         "985",
         "1202",
         "81.95"
        ],
        [
         "spot_nba_break_right",
         "985",
         "1202",
         "81.95"
        ],
        [
         "spot_nba_corner_right",
         "985",
         "1202",
         "81.95"
        ],
        [
         "off_drib_fifteen_break_left",
         "1036",
         "1202",
         "86.19"
        ],
        [
         "off_drib_fifteen_top_key",
         "1036",
         "1202",
         "86.19"
        ],
        [
         "off_drib_fifteen_break_right",
         "1036",
         "1202",
         "86.19"
        ],
        [
         "off_drib_college_break_left",
         "1092",
         "1202",
         "90.85"
        ],
        [
         "off_drib_college_top_key",
         "1171",
         "1202",
         "97.42"
        ],
        [
         "off_drib_college_break_right",
         "1171",
         "1202",
         "97.42"
        ],
        [
         "on_move_fifteen",
         "1054",
         "1202",
         "87.69"
        ],
        [
         "on_move_college",
         "1086",
         "1202",
         "90.35"
        ]
       ],
       "shape": {
        "columns": 3,
        "rows": 42
       }
      },
      "text/html": [
       "<div>\n",
       "<style scoped>\n",
       "    .dataframe tbody tr th:only-of-type {\n",
       "        vertical-align: middle;\n",
       "    }\n",
       "\n",
       "    .dataframe tbody tr th {\n",
       "        vertical-align: top;\n",
       "    }\n",
       "\n",
       "    .dataframe thead th {\n",
       "        text-align: right;\n",
       "    }\n",
       "</style>\n",
       "<table border=\"1\" class=\"dataframe\">\n",
       "  <thead>\n",
       "    <tr style=\"text-align: right;\">\n",
       "      <th></th>\n",
       "      <th>Valores nulos</th>\n",
       "      <th>Total registros</th>\n",
       "      <th>Porcentaje</th>\n",
       "    </tr>\n",
       "  </thead>\n",
       "  <tbody>\n",
       "    <tr>\n",
       "      <th>position</th>\n",
       "      <td>5</td>\n",
       "      <td>1202</td>\n",
       "      <td>0.42</td>\n",
       "    </tr>\n",
       "    <tr>\n",
       "      <th>height_wo_shoes</th>\n",
       "      <td>49</td>\n",
       "      <td>1202</td>\n",
       "      <td>4.08</td>\n",
       "    </tr>\n",
       "    <tr>\n",
       "      <th>height_wo_shoes_ft_in</th>\n",
       "      <td>49</td>\n",
       "      <td>1202</td>\n",
       "      <td>4.08</td>\n",
       "    </tr>\n",
       "    <tr>\n",
       "      <th>height_w_shoes</th>\n",
       "      <td>194</td>\n",
       "      <td>1202</td>\n",
       "      <td>16.14</td>\n",
       "    </tr>\n",
       "    <tr>\n",
       "      <th>height_w_shoes_ft_in</th>\n",
       "      <td>194</td>\n",
       "      <td>1202</td>\n",
       "      <td>16.14</td>\n",
       "    </tr>\n",
       "    <tr>\n",
       "      <th>weight</th>\n",
       "      <td>50</td>\n",
       "      <td>1202</td>\n",
       "      <td>4.16</td>\n",
       "    </tr>\n",
       "    <tr>\n",
       "      <th>wingspan</th>\n",
       "      <td>49</td>\n",
       "      <td>1202</td>\n",
       "      <td>4.08</td>\n",
       "    </tr>\n",
       "    <tr>\n",
       "      <th>wingspan_ft_in</th>\n",
       "      <td>49</td>\n",
       "      <td>1202</td>\n",
       "      <td>4.08</td>\n",
       "    </tr>\n",
       "    <tr>\n",
       "      <th>standing_reach</th>\n",
       "      <td>50</td>\n",
       "      <td>1202</td>\n",
       "      <td>4.16</td>\n",
       "    </tr>\n",
       "    <tr>\n",
       "      <th>standing_reach_ft_in</th>\n",
       "      <td>50</td>\n",
       "      <td>1202</td>\n",
       "      <td>4.16</td>\n",
       "    </tr>\n",
       "    <tr>\n",
       "      <th>body_fat_pct</th>\n",
       "      <td>199</td>\n",
       "      <td>1202</td>\n",
       "      <td>16.56</td>\n",
       "    </tr>\n",
       "    <tr>\n",
       "      <th>hand_length</th>\n",
       "      <td>483</td>\n",
       "      <td>1202</td>\n",
       "      <td>40.18</td>\n",
       "    </tr>\n",
       "    <tr>\n",
       "      <th>hand_width</th>\n",
       "      <td>483</td>\n",
       "      <td>1202</td>\n",
       "      <td>40.18</td>\n",
       "    </tr>\n",
       "    <tr>\n",
       "      <th>standing_vertical_leap</th>\n",
       "      <td>185</td>\n",
       "      <td>1202</td>\n",
       "      <td>15.39</td>\n",
       "    </tr>\n",
       "    <tr>\n",
       "      <th>max_vertical_leap</th>\n",
       "      <td>185</td>\n",
       "      <td>1202</td>\n",
       "      <td>15.39</td>\n",
       "    </tr>\n",
       "    <tr>\n",
       "      <th>lane_agility_time</th>\n",
       "      <td>194</td>\n",
       "      <td>1202</td>\n",
       "      <td>16.14</td>\n",
       "    </tr>\n",
       "    <tr>\n",
       "      <th>modified_lane_agility_time</th>\n",
       "      <td>791</td>\n",
       "      <td>1202</td>\n",
       "      <td>65.81</td>\n",
       "    </tr>\n",
       "    <tr>\n",
       "      <th>three_quarter_sprint</th>\n",
       "      <td>190</td>\n",
       "      <td>1202</td>\n",
       "      <td>15.81</td>\n",
       "    </tr>\n",
       "    <tr>\n",
       "      <th>bench_press</th>\n",
       "      <td>394</td>\n",
       "      <td>1202</td>\n",
       "      <td>32.78</td>\n",
       "    </tr>\n",
       "    <tr>\n",
       "      <th>spot_fifteen_corner_left</th>\n",
       "      <td>1128</td>\n",
       "      <td>1202</td>\n",
       "      <td>93.84</td>\n",
       "    </tr>\n",
       "    <tr>\n",
       "      <th>spot_fifteen_break_left</th>\n",
       "      <td>1126</td>\n",
       "      <td>1202</td>\n",
       "      <td>93.68</td>\n",
       "    </tr>\n",
       "    <tr>\n",
       "      <th>spot_fifteen_top_key</th>\n",
       "      <td>1126</td>\n",
       "      <td>1202</td>\n",
       "      <td>93.68</td>\n",
       "    </tr>\n",
       "    <tr>\n",
       "      <th>spot_fifteen_break_right</th>\n",
       "      <td>1126</td>\n",
       "      <td>1202</td>\n",
       "      <td>93.68</td>\n",
       "    </tr>\n",
       "    <tr>\n",
       "      <th>spot_fifteen_corner_right</th>\n",
       "      <td>1126</td>\n",
       "      <td>1202</td>\n",
       "      <td>93.68</td>\n",
       "    </tr>\n",
       "    <tr>\n",
       "      <th>spot_college_corner_left</th>\n",
       "      <td>957</td>\n",
       "      <td>1202</td>\n",
       "      <td>79.62</td>\n",
       "    </tr>\n",
       "    <tr>\n",
       "      <th>spot_college_break_left</th>\n",
       "      <td>1036</td>\n",
       "      <td>1202</td>\n",
       "      <td>86.19</td>\n",
       "    </tr>\n",
       "    <tr>\n",
       "      <th>spot_college_top_key</th>\n",
       "      <td>1036</td>\n",
       "      <td>1202</td>\n",
       "      <td>86.19</td>\n",
       "    </tr>\n",
       "    <tr>\n",
       "      <th>spot_college_break_right</th>\n",
       "      <td>1036</td>\n",
       "      <td>1202</td>\n",
       "      <td>86.19</td>\n",
       "    </tr>\n",
       "    <tr>\n",
       "      <th>spot_college_corner_right</th>\n",
       "      <td>1036</td>\n",
       "      <td>1202</td>\n",
       "      <td>86.19</td>\n",
       "    </tr>\n",
       "    <tr>\n",
       "      <th>spot_nba_corner_left</th>\n",
       "      <td>985</td>\n",
       "      <td>1202</td>\n",
       "      <td>81.95</td>\n",
       "    </tr>\n",
       "    <tr>\n",
       "      <th>spot_nba_break_left</th>\n",
       "      <td>985</td>\n",
       "      <td>1202</td>\n",
       "      <td>81.95</td>\n",
       "    </tr>\n",
       "    <tr>\n",
       "      <th>spot_nba_top_key</th>\n",
       "      <td>985</td>\n",
       "      <td>1202</td>\n",
       "      <td>81.95</td>\n",
       "    </tr>\n",
       "    <tr>\n",
       "      <th>spot_nba_break_right</th>\n",
       "      <td>985</td>\n",
       "      <td>1202</td>\n",
       "      <td>81.95</td>\n",
       "    </tr>\n",
       "    <tr>\n",
       "      <th>spot_nba_corner_right</th>\n",
       "      <td>985</td>\n",
       "      <td>1202</td>\n",
       "      <td>81.95</td>\n",
       "    </tr>\n",
       "    <tr>\n",
       "      <th>off_drib_fifteen_break_left</th>\n",
       "      <td>1036</td>\n",
       "      <td>1202</td>\n",
       "      <td>86.19</td>\n",
       "    </tr>\n",
       "    <tr>\n",
       "      <th>off_drib_fifteen_top_key</th>\n",
       "      <td>1036</td>\n",
       "      <td>1202</td>\n",
       "      <td>86.19</td>\n",
       "    </tr>\n",
       "    <tr>\n",
       "      <th>off_drib_fifteen_break_right</th>\n",
       "      <td>1036</td>\n",
       "      <td>1202</td>\n",
       "      <td>86.19</td>\n",
       "    </tr>\n",
       "    <tr>\n",
       "      <th>off_drib_college_break_left</th>\n",
       "      <td>1092</td>\n",
       "      <td>1202</td>\n",
       "      <td>90.85</td>\n",
       "    </tr>\n",
       "    <tr>\n",
       "      <th>off_drib_college_top_key</th>\n",
       "      <td>1171</td>\n",
       "      <td>1202</td>\n",
       "      <td>97.42</td>\n",
       "    </tr>\n",
       "    <tr>\n",
       "      <th>off_drib_college_break_right</th>\n",
       "      <td>1171</td>\n",
       "      <td>1202</td>\n",
       "      <td>97.42</td>\n",
       "    </tr>\n",
       "    <tr>\n",
       "      <th>on_move_fifteen</th>\n",
       "      <td>1054</td>\n",
       "      <td>1202</td>\n",
       "      <td>87.69</td>\n",
       "    </tr>\n",
       "    <tr>\n",
       "      <th>on_move_college</th>\n",
       "      <td>1086</td>\n",
       "      <td>1202</td>\n",
       "      <td>90.35</td>\n",
       "    </tr>\n",
       "  </tbody>\n",
       "</table>\n",
       "</div>"
      ],
      "text/plain": [
       "                              Valores nulos  Total registros  Porcentaje\n",
       "position                                  5             1202        0.42\n",
       "height_wo_shoes                          49             1202        4.08\n",
       "height_wo_shoes_ft_in                    49             1202        4.08\n",
       "height_w_shoes                          194             1202       16.14\n",
       "height_w_shoes_ft_in                    194             1202       16.14\n",
       "weight                                   50             1202        4.16\n",
       "wingspan                                 49             1202        4.08\n",
       "wingspan_ft_in                           49             1202        4.08\n",
       "standing_reach                           50             1202        4.16\n",
       "standing_reach_ft_in                     50             1202        4.16\n",
       "body_fat_pct                            199             1202       16.56\n",
       "hand_length                             483             1202       40.18\n",
       "hand_width                              483             1202       40.18\n",
       "standing_vertical_leap                  185             1202       15.39\n",
       "max_vertical_leap                       185             1202       15.39\n",
       "lane_agility_time                       194             1202       16.14\n",
       "modified_lane_agility_time              791             1202       65.81\n",
       "three_quarter_sprint                    190             1202       15.81\n",
       "bench_press                             394             1202       32.78\n",
       "spot_fifteen_corner_left               1128             1202       93.84\n",
       "spot_fifteen_break_left                1126             1202       93.68\n",
       "spot_fifteen_top_key                   1126             1202       93.68\n",
       "spot_fifteen_break_right               1126             1202       93.68\n",
       "spot_fifteen_corner_right              1126             1202       93.68\n",
       "spot_college_corner_left                957             1202       79.62\n",
       "spot_college_break_left                1036             1202       86.19\n",
       "spot_college_top_key                   1036             1202       86.19\n",
       "spot_college_break_right               1036             1202       86.19\n",
       "spot_college_corner_right              1036             1202       86.19\n",
       "spot_nba_corner_left                    985             1202       81.95\n",
       "spot_nba_break_left                     985             1202       81.95\n",
       "spot_nba_top_key                        985             1202       81.95\n",
       "spot_nba_break_right                    985             1202       81.95\n",
       "spot_nba_corner_right                   985             1202       81.95\n",
       "off_drib_fifteen_break_left            1036             1202       86.19\n",
       "off_drib_fifteen_top_key               1036             1202       86.19\n",
       "off_drib_fifteen_break_right           1036             1202       86.19\n",
       "off_drib_college_break_left            1092             1202       90.85\n",
       "off_drib_college_top_key               1171             1202       97.42\n",
       "off_drib_college_break_right           1171             1202       97.42\n",
       "on_move_fifteen                        1054             1202       87.69\n",
       "on_move_college                        1086             1202       90.35"
      ]
     },
     "execution_count": 28,
     "metadata": {},
     "output_type": "execute_result"
    }
   ],
   "source": [
    "null_draft_combine_stats = draft_combine_stats.isnull().sum()\n",
    "total_register = len(draft_combine_stats)\n",
    "null_result = null_draft_combine_stats[null_draft_combine_stats > 0]\n",
    "\n",
    "df_null_draft_combine_stats = pd.DataFrame({\n",
    "    \"Valores nulos\": null_result,\n",
    "    \"Total registros\": total_register,\n",
    "    \"Porcentaje\": (null_result / total_register * 100).round(2)\n",
    "})\n",
    "\n",
    "df_null_draft_combine_stats"
   ]
  },
  {
   "cell_type": "markdown",
   "id": "0e67f441",
   "metadata": {},
   "source": [
    "### 2.5.2. Eliminación de columnas con un porcentaje mayor al 75% de nulos"
   ]
  },
  {
   "cell_type": "code",
   "execution_count": 29,
   "id": "60e9db95",
   "metadata": {},
   "outputs": [
    {
     "data": {
      "application/vnd.microsoft.datawrangler.viewer.v0+json": {
       "columns": [
        {
         "name": "index",
         "rawType": "object",
         "type": "string"
        },
        {
         "name": "Valores nulos",
         "rawType": "int64",
         "type": "integer"
        },
        {
         "name": "Total registros",
         "rawType": "int64",
         "type": "integer"
        },
        {
         "name": "Porcentaje",
         "rawType": "float64",
         "type": "float"
        }
       ],
       "conversionMethod": "pd.DataFrame",
       "ref": "669ac865-a271-4b77-b559-f2ebd40da4cb",
       "rows": [
        [
         "spot_fifteen_corner_left",
         "1128",
         "1202",
         "93.84"
        ],
        [
         "spot_fifteen_break_left",
         "1126",
         "1202",
         "93.68"
        ],
        [
         "spot_fifteen_top_key",
         "1126",
         "1202",
         "93.68"
        ],
        [
         "spot_fifteen_break_right",
         "1126",
         "1202",
         "93.68"
        ],
        [
         "spot_fifteen_corner_right",
         "1126",
         "1202",
         "93.68"
        ],
        [
         "spot_college_corner_left",
         "957",
         "1202",
         "79.62"
        ],
        [
         "spot_college_break_left",
         "1036",
         "1202",
         "86.19"
        ],
        [
         "spot_college_top_key",
         "1036",
         "1202",
         "86.19"
        ],
        [
         "spot_college_break_right",
         "1036",
         "1202",
         "86.19"
        ],
        [
         "spot_college_corner_right",
         "1036",
         "1202",
         "86.19"
        ],
        [
         "spot_nba_corner_left",
         "985",
         "1202",
         "81.95"
        ],
        [
         "spot_nba_break_left",
         "985",
         "1202",
         "81.95"
        ],
        [
         "spot_nba_top_key",
         "985",
         "1202",
         "81.95"
        ],
        [
         "spot_nba_break_right",
         "985",
         "1202",
         "81.95"
        ],
        [
         "spot_nba_corner_right",
         "985",
         "1202",
         "81.95"
        ],
        [
         "off_drib_fifteen_break_left",
         "1036",
         "1202",
         "86.19"
        ],
        [
         "off_drib_fifteen_top_key",
         "1036",
         "1202",
         "86.19"
        ],
        [
         "off_drib_fifteen_break_right",
         "1036",
         "1202",
         "86.19"
        ],
        [
         "off_drib_college_break_left",
         "1092",
         "1202",
         "90.85"
        ],
        [
         "off_drib_college_top_key",
         "1171",
         "1202",
         "97.42"
        ],
        [
         "off_drib_college_break_right",
         "1171",
         "1202",
         "97.42"
        ],
        [
         "on_move_fifteen",
         "1054",
         "1202",
         "87.69"
        ],
        [
         "on_move_college",
         "1086",
         "1202",
         "90.35"
        ]
       ],
       "shape": {
        "columns": 3,
        "rows": 23
       }
      },
      "text/html": [
       "<div>\n",
       "<style scoped>\n",
       "    .dataframe tbody tr th:only-of-type {\n",
       "        vertical-align: middle;\n",
       "    }\n",
       "\n",
       "    .dataframe tbody tr th {\n",
       "        vertical-align: top;\n",
       "    }\n",
       "\n",
       "    .dataframe thead th {\n",
       "        text-align: right;\n",
       "    }\n",
       "</style>\n",
       "<table border=\"1\" class=\"dataframe\">\n",
       "  <thead>\n",
       "    <tr style=\"text-align: right;\">\n",
       "      <th></th>\n",
       "      <th>Valores nulos</th>\n",
       "      <th>Total registros</th>\n",
       "      <th>Porcentaje</th>\n",
       "    </tr>\n",
       "  </thead>\n",
       "  <tbody>\n",
       "    <tr>\n",
       "      <th>spot_fifteen_corner_left</th>\n",
       "      <td>1128</td>\n",
       "      <td>1202</td>\n",
       "      <td>93.84</td>\n",
       "    </tr>\n",
       "    <tr>\n",
       "      <th>spot_fifteen_break_left</th>\n",
       "      <td>1126</td>\n",
       "      <td>1202</td>\n",
       "      <td>93.68</td>\n",
       "    </tr>\n",
       "    <tr>\n",
       "      <th>spot_fifteen_top_key</th>\n",
       "      <td>1126</td>\n",
       "      <td>1202</td>\n",
       "      <td>93.68</td>\n",
       "    </tr>\n",
       "    <tr>\n",
       "      <th>spot_fifteen_break_right</th>\n",
       "      <td>1126</td>\n",
       "      <td>1202</td>\n",
       "      <td>93.68</td>\n",
       "    </tr>\n",
       "    <tr>\n",
       "      <th>spot_fifteen_corner_right</th>\n",
       "      <td>1126</td>\n",
       "      <td>1202</td>\n",
       "      <td>93.68</td>\n",
       "    </tr>\n",
       "    <tr>\n",
       "      <th>spot_college_corner_left</th>\n",
       "      <td>957</td>\n",
       "      <td>1202</td>\n",
       "      <td>79.62</td>\n",
       "    </tr>\n",
       "    <tr>\n",
       "      <th>spot_college_break_left</th>\n",
       "      <td>1036</td>\n",
       "      <td>1202</td>\n",
       "      <td>86.19</td>\n",
       "    </tr>\n",
       "    <tr>\n",
       "      <th>spot_college_top_key</th>\n",
       "      <td>1036</td>\n",
       "      <td>1202</td>\n",
       "      <td>86.19</td>\n",
       "    </tr>\n",
       "    <tr>\n",
       "      <th>spot_college_break_right</th>\n",
       "      <td>1036</td>\n",
       "      <td>1202</td>\n",
       "      <td>86.19</td>\n",
       "    </tr>\n",
       "    <tr>\n",
       "      <th>spot_college_corner_right</th>\n",
       "      <td>1036</td>\n",
       "      <td>1202</td>\n",
       "      <td>86.19</td>\n",
       "    </tr>\n",
       "    <tr>\n",
       "      <th>spot_nba_corner_left</th>\n",
       "      <td>985</td>\n",
       "      <td>1202</td>\n",
       "      <td>81.95</td>\n",
       "    </tr>\n",
       "    <tr>\n",
       "      <th>spot_nba_break_left</th>\n",
       "      <td>985</td>\n",
       "      <td>1202</td>\n",
       "      <td>81.95</td>\n",
       "    </tr>\n",
       "    <tr>\n",
       "      <th>spot_nba_top_key</th>\n",
       "      <td>985</td>\n",
       "      <td>1202</td>\n",
       "      <td>81.95</td>\n",
       "    </tr>\n",
       "    <tr>\n",
       "      <th>spot_nba_break_right</th>\n",
       "      <td>985</td>\n",
       "      <td>1202</td>\n",
       "      <td>81.95</td>\n",
       "    </tr>\n",
       "    <tr>\n",
       "      <th>spot_nba_corner_right</th>\n",
       "      <td>985</td>\n",
       "      <td>1202</td>\n",
       "      <td>81.95</td>\n",
       "    </tr>\n",
       "    <tr>\n",
       "      <th>off_drib_fifteen_break_left</th>\n",
       "      <td>1036</td>\n",
       "      <td>1202</td>\n",
       "      <td>86.19</td>\n",
       "    </tr>\n",
       "    <tr>\n",
       "      <th>off_drib_fifteen_top_key</th>\n",
       "      <td>1036</td>\n",
       "      <td>1202</td>\n",
       "      <td>86.19</td>\n",
       "    </tr>\n",
       "    <tr>\n",
       "      <th>off_drib_fifteen_break_right</th>\n",
       "      <td>1036</td>\n",
       "      <td>1202</td>\n",
       "      <td>86.19</td>\n",
       "    </tr>\n",
       "    <tr>\n",
       "      <th>off_drib_college_break_left</th>\n",
       "      <td>1092</td>\n",
       "      <td>1202</td>\n",
       "      <td>90.85</td>\n",
       "    </tr>\n",
       "    <tr>\n",
       "      <th>off_drib_college_top_key</th>\n",
       "      <td>1171</td>\n",
       "      <td>1202</td>\n",
       "      <td>97.42</td>\n",
       "    </tr>\n",
       "    <tr>\n",
       "      <th>off_drib_college_break_right</th>\n",
       "      <td>1171</td>\n",
       "      <td>1202</td>\n",
       "      <td>97.42</td>\n",
       "    </tr>\n",
       "    <tr>\n",
       "      <th>on_move_fifteen</th>\n",
       "      <td>1054</td>\n",
       "      <td>1202</td>\n",
       "      <td>87.69</td>\n",
       "    </tr>\n",
       "    <tr>\n",
       "      <th>on_move_college</th>\n",
       "      <td>1086</td>\n",
       "      <td>1202</td>\n",
       "      <td>90.35</td>\n",
       "    </tr>\n",
       "  </tbody>\n",
       "</table>\n",
       "</div>"
      ],
      "text/plain": [
       "                              Valores nulos  Total registros  Porcentaje\n",
       "spot_fifteen_corner_left               1128             1202       93.84\n",
       "spot_fifteen_break_left                1126             1202       93.68\n",
       "spot_fifteen_top_key                   1126             1202       93.68\n",
       "spot_fifteen_break_right               1126             1202       93.68\n",
       "spot_fifteen_corner_right              1126             1202       93.68\n",
       "spot_college_corner_left                957             1202       79.62\n",
       "spot_college_break_left                1036             1202       86.19\n",
       "spot_college_top_key                   1036             1202       86.19\n",
       "spot_college_break_right               1036             1202       86.19\n",
       "spot_college_corner_right              1036             1202       86.19\n",
       "spot_nba_corner_left                    985             1202       81.95\n",
       "spot_nba_break_left                     985             1202       81.95\n",
       "spot_nba_top_key                        985             1202       81.95\n",
       "spot_nba_break_right                    985             1202       81.95\n",
       "spot_nba_corner_right                   985             1202       81.95\n",
       "off_drib_fifteen_break_left            1036             1202       86.19\n",
       "off_drib_fifteen_top_key               1036             1202       86.19\n",
       "off_drib_fifteen_break_right           1036             1202       86.19\n",
       "off_drib_college_break_left            1092             1202       90.85\n",
       "off_drib_college_top_key               1171             1202       97.42\n",
       "off_drib_college_break_right           1171             1202       97.42\n",
       "on_move_fifteen                        1054             1202       87.69\n",
       "on_move_college                        1086             1202       90.35"
      ]
     },
     "execution_count": 29,
     "metadata": {},
     "output_type": "execute_result"
    }
   ],
   "source": [
    "null_75 = df_null_draft_combine_stats[df_null_draft_combine_stats[\"Porcentaje\"] > 75]\n",
    "null_75"
   ]
  },
  {
   "cell_type": "code",
   "execution_count": 30,
   "id": "b9006e50",
   "metadata": {},
   "outputs": [],
   "source": [
    "delete_columns = list(null_75.index)\n",
    "draft_combine_stats.drop(columns=delete_columns, inplace=True)"
   ]
  },
  {
   "cell_type": "code",
   "execution_count": 31,
   "id": "a3f10198",
   "metadata": {},
   "outputs": [
    {
     "data": {
      "application/vnd.microsoft.datawrangler.viewer.v0+json": {
       "columns": [
        {
         "name": "index",
         "rawType": "object",
         "type": "string"
        },
        {
         "name": "Valores nulos",
         "rawType": "int64",
         "type": "integer"
        },
        {
         "name": "Total registros",
         "rawType": "int64",
         "type": "integer"
        },
        {
         "name": "Porcentaje",
         "rawType": "float64",
         "type": "float"
        }
       ],
       "conversionMethod": "pd.DataFrame",
       "ref": "82a5a264-b2ec-4613-a6da-f76c4bdf06d3",
       "rows": [
        [
         "position",
         "5",
         "1202",
         "0.42"
        ],
        [
         "height_wo_shoes",
         "49",
         "1202",
         "4.08"
        ],
        [
         "height_wo_shoes_ft_in",
         "49",
         "1202",
         "4.08"
        ],
        [
         "height_w_shoes",
         "194",
         "1202",
         "16.14"
        ],
        [
         "height_w_shoes_ft_in",
         "194",
         "1202",
         "16.14"
        ],
        [
         "weight",
         "50",
         "1202",
         "4.16"
        ],
        [
         "wingspan",
         "49",
         "1202",
         "4.08"
        ],
        [
         "wingspan_ft_in",
         "49",
         "1202",
         "4.08"
        ],
        [
         "standing_reach",
         "50",
         "1202",
         "4.16"
        ],
        [
         "standing_reach_ft_in",
         "50",
         "1202",
         "4.16"
        ],
        [
         "body_fat_pct",
         "199",
         "1202",
         "16.56"
        ],
        [
         "hand_length",
         "483",
         "1202",
         "40.18"
        ],
        [
         "hand_width",
         "483",
         "1202",
         "40.18"
        ],
        [
         "standing_vertical_leap",
         "185",
         "1202",
         "15.39"
        ],
        [
         "max_vertical_leap",
         "185",
         "1202",
         "15.39"
        ],
        [
         "lane_agility_time",
         "194",
         "1202",
         "16.14"
        ],
        [
         "modified_lane_agility_time",
         "791",
         "1202",
         "65.81"
        ],
        [
         "three_quarter_sprint",
         "190",
         "1202",
         "15.81"
        ],
        [
         "bench_press",
         "394",
         "1202",
         "32.78"
        ]
       ],
       "shape": {
        "columns": 3,
        "rows": 19
       }
      },
      "text/html": [
       "<div>\n",
       "<style scoped>\n",
       "    .dataframe tbody tr th:only-of-type {\n",
       "        vertical-align: middle;\n",
       "    }\n",
       "\n",
       "    .dataframe tbody tr th {\n",
       "        vertical-align: top;\n",
       "    }\n",
       "\n",
       "    .dataframe thead th {\n",
       "        text-align: right;\n",
       "    }\n",
       "</style>\n",
       "<table border=\"1\" class=\"dataframe\">\n",
       "  <thead>\n",
       "    <tr style=\"text-align: right;\">\n",
       "      <th></th>\n",
       "      <th>Valores nulos</th>\n",
       "      <th>Total registros</th>\n",
       "      <th>Porcentaje</th>\n",
       "    </tr>\n",
       "  </thead>\n",
       "  <tbody>\n",
       "    <tr>\n",
       "      <th>position</th>\n",
       "      <td>5</td>\n",
       "      <td>1202</td>\n",
       "      <td>0.42</td>\n",
       "    </tr>\n",
       "    <tr>\n",
       "      <th>height_wo_shoes</th>\n",
       "      <td>49</td>\n",
       "      <td>1202</td>\n",
       "      <td>4.08</td>\n",
       "    </tr>\n",
       "    <tr>\n",
       "      <th>height_wo_shoes_ft_in</th>\n",
       "      <td>49</td>\n",
       "      <td>1202</td>\n",
       "      <td>4.08</td>\n",
       "    </tr>\n",
       "    <tr>\n",
       "      <th>height_w_shoes</th>\n",
       "      <td>194</td>\n",
       "      <td>1202</td>\n",
       "      <td>16.14</td>\n",
       "    </tr>\n",
       "    <tr>\n",
       "      <th>height_w_shoes_ft_in</th>\n",
       "      <td>194</td>\n",
       "      <td>1202</td>\n",
       "      <td>16.14</td>\n",
       "    </tr>\n",
       "    <tr>\n",
       "      <th>weight</th>\n",
       "      <td>50</td>\n",
       "      <td>1202</td>\n",
       "      <td>4.16</td>\n",
       "    </tr>\n",
       "    <tr>\n",
       "      <th>wingspan</th>\n",
       "      <td>49</td>\n",
       "      <td>1202</td>\n",
       "      <td>4.08</td>\n",
       "    </tr>\n",
       "    <tr>\n",
       "      <th>wingspan_ft_in</th>\n",
       "      <td>49</td>\n",
       "      <td>1202</td>\n",
       "      <td>4.08</td>\n",
       "    </tr>\n",
       "    <tr>\n",
       "      <th>standing_reach</th>\n",
       "      <td>50</td>\n",
       "      <td>1202</td>\n",
       "      <td>4.16</td>\n",
       "    </tr>\n",
       "    <tr>\n",
       "      <th>standing_reach_ft_in</th>\n",
       "      <td>50</td>\n",
       "      <td>1202</td>\n",
       "      <td>4.16</td>\n",
       "    </tr>\n",
       "    <tr>\n",
       "      <th>body_fat_pct</th>\n",
       "      <td>199</td>\n",
       "      <td>1202</td>\n",
       "      <td>16.56</td>\n",
       "    </tr>\n",
       "    <tr>\n",
       "      <th>hand_length</th>\n",
       "      <td>483</td>\n",
       "      <td>1202</td>\n",
       "      <td>40.18</td>\n",
       "    </tr>\n",
       "    <tr>\n",
       "      <th>hand_width</th>\n",
       "      <td>483</td>\n",
       "      <td>1202</td>\n",
       "      <td>40.18</td>\n",
       "    </tr>\n",
       "    <tr>\n",
       "      <th>standing_vertical_leap</th>\n",
       "      <td>185</td>\n",
       "      <td>1202</td>\n",
       "      <td>15.39</td>\n",
       "    </tr>\n",
       "    <tr>\n",
       "      <th>max_vertical_leap</th>\n",
       "      <td>185</td>\n",
       "      <td>1202</td>\n",
       "      <td>15.39</td>\n",
       "    </tr>\n",
       "    <tr>\n",
       "      <th>lane_agility_time</th>\n",
       "      <td>194</td>\n",
       "      <td>1202</td>\n",
       "      <td>16.14</td>\n",
       "    </tr>\n",
       "    <tr>\n",
       "      <th>modified_lane_agility_time</th>\n",
       "      <td>791</td>\n",
       "      <td>1202</td>\n",
       "      <td>65.81</td>\n",
       "    </tr>\n",
       "    <tr>\n",
       "      <th>three_quarter_sprint</th>\n",
       "      <td>190</td>\n",
       "      <td>1202</td>\n",
       "      <td>15.81</td>\n",
       "    </tr>\n",
       "    <tr>\n",
       "      <th>bench_press</th>\n",
       "      <td>394</td>\n",
       "      <td>1202</td>\n",
       "      <td>32.78</td>\n",
       "    </tr>\n",
       "  </tbody>\n",
       "</table>\n",
       "</div>"
      ],
      "text/plain": [
       "                            Valores nulos  Total registros  Porcentaje\n",
       "position                                5             1202        0.42\n",
       "height_wo_shoes                        49             1202        4.08\n",
       "height_wo_shoes_ft_in                  49             1202        4.08\n",
       "height_w_shoes                        194             1202       16.14\n",
       "height_w_shoes_ft_in                  194             1202       16.14\n",
       "weight                                 50             1202        4.16\n",
       "wingspan                               49             1202        4.08\n",
       "wingspan_ft_in                         49             1202        4.08\n",
       "standing_reach                         50             1202        4.16\n",
       "standing_reach_ft_in                   50             1202        4.16\n",
       "body_fat_pct                          199             1202       16.56\n",
       "hand_length                           483             1202       40.18\n",
       "hand_width                            483             1202       40.18\n",
       "standing_vertical_leap                185             1202       15.39\n",
       "max_vertical_leap                     185             1202       15.39\n",
       "lane_agility_time                     194             1202       16.14\n",
       "modified_lane_agility_time            791             1202       65.81\n",
       "three_quarter_sprint                  190             1202       15.81\n",
       "bench_press                           394             1202       32.78"
      ]
     },
     "execution_count": 31,
     "metadata": {},
     "output_type": "execute_result"
    }
   ],
   "source": [
    "null_draft_combine_stats = draft_combine_stats.isnull().sum()\n",
    "total_register = len(draft_combine_stats)\n",
    "null_result = null_draft_combine_stats[null_draft_combine_stats > 0]\n",
    "\n",
    "df_null_draft_combine_stats = pd.DataFrame({\n",
    "    \"Valores nulos\": null_result,\n",
    "    \"Total registros\": total_register,\n",
    "    \"Porcentaje\": (null_result / total_register * 100).round(2)\n",
    "})\n",
    "\n",
    "df_null_draft_combine_stats"
   ]
  },
  {
   "cell_type": "markdown",
   "id": "d4d67527",
   "metadata": {},
   "source": [
    "### 2.5.3. Eliminación de columnas innecesarias"
   ]
  },
  {
   "cell_type": "code",
   "execution_count": 32,
   "id": "243db7c9",
   "metadata": {},
   "outputs": [],
   "source": [
    "delete_columns = [\"height_w_shoes\", \"height_w_shoes_ft_in\", \"height_wo_shoes_ft_in\", \"modified_lane_agility_time\", \"standing_reach_ft_in\", \"wingspan_ft_in\", \"hand_length\", \"hand_width\"]\n",
    "\n",
    "draft_combine_stats.drop(delete_columns, axis=1, inplace=True)"
   ]
  },
  {
   "cell_type": "code",
   "execution_count": 33,
   "id": "1f3f3821",
   "metadata": {},
   "outputs": [
    {
     "data": {
      "application/vnd.microsoft.datawrangler.viewer.v0+json": {
       "columns": [
        {
         "name": "index",
         "rawType": "object",
         "type": "string"
        },
        {
         "name": "Valores nulos",
         "rawType": "int64",
         "type": "integer"
        },
        {
         "name": "Total registros",
         "rawType": "int64",
         "type": "integer"
        },
        {
         "name": "Porcentaje",
         "rawType": "float64",
         "type": "float"
        }
       ],
       "conversionMethod": "pd.DataFrame",
       "ref": "9c06b009-5d15-43d3-a6fa-8a06c566c95f",
       "rows": [
        [
         "position",
         "5",
         "1202",
         "0.42"
        ],
        [
         "height_wo_shoes",
         "49",
         "1202",
         "4.08"
        ],
        [
         "weight",
         "50",
         "1202",
         "4.16"
        ],
        [
         "wingspan",
         "49",
         "1202",
         "4.08"
        ],
        [
         "standing_reach",
         "50",
         "1202",
         "4.16"
        ],
        [
         "body_fat_pct",
         "199",
         "1202",
         "16.56"
        ],
        [
         "standing_vertical_leap",
         "185",
         "1202",
         "15.39"
        ],
        [
         "max_vertical_leap",
         "185",
         "1202",
         "15.39"
        ],
        [
         "lane_agility_time",
         "194",
         "1202",
         "16.14"
        ],
        [
         "three_quarter_sprint",
         "190",
         "1202",
         "15.81"
        ],
        [
         "bench_press",
         "394",
         "1202",
         "32.78"
        ]
       ],
       "shape": {
        "columns": 3,
        "rows": 11
       }
      },
      "text/html": [
       "<div>\n",
       "<style scoped>\n",
       "    .dataframe tbody tr th:only-of-type {\n",
       "        vertical-align: middle;\n",
       "    }\n",
       "\n",
       "    .dataframe tbody tr th {\n",
       "        vertical-align: top;\n",
       "    }\n",
       "\n",
       "    .dataframe thead th {\n",
       "        text-align: right;\n",
       "    }\n",
       "</style>\n",
       "<table border=\"1\" class=\"dataframe\">\n",
       "  <thead>\n",
       "    <tr style=\"text-align: right;\">\n",
       "      <th></th>\n",
       "      <th>Valores nulos</th>\n",
       "      <th>Total registros</th>\n",
       "      <th>Porcentaje</th>\n",
       "    </tr>\n",
       "  </thead>\n",
       "  <tbody>\n",
       "    <tr>\n",
       "      <th>position</th>\n",
       "      <td>5</td>\n",
       "      <td>1202</td>\n",
       "      <td>0.42</td>\n",
       "    </tr>\n",
       "    <tr>\n",
       "      <th>height_wo_shoes</th>\n",
       "      <td>49</td>\n",
       "      <td>1202</td>\n",
       "      <td>4.08</td>\n",
       "    </tr>\n",
       "    <tr>\n",
       "      <th>weight</th>\n",
       "      <td>50</td>\n",
       "      <td>1202</td>\n",
       "      <td>4.16</td>\n",
       "    </tr>\n",
       "    <tr>\n",
       "      <th>wingspan</th>\n",
       "      <td>49</td>\n",
       "      <td>1202</td>\n",
       "      <td>4.08</td>\n",
       "    </tr>\n",
       "    <tr>\n",
       "      <th>standing_reach</th>\n",
       "      <td>50</td>\n",
       "      <td>1202</td>\n",
       "      <td>4.16</td>\n",
       "    </tr>\n",
       "    <tr>\n",
       "      <th>body_fat_pct</th>\n",
       "      <td>199</td>\n",
       "      <td>1202</td>\n",
       "      <td>16.56</td>\n",
       "    </tr>\n",
       "    <tr>\n",
       "      <th>standing_vertical_leap</th>\n",
       "      <td>185</td>\n",
       "      <td>1202</td>\n",
       "      <td>15.39</td>\n",
       "    </tr>\n",
       "    <tr>\n",
       "      <th>max_vertical_leap</th>\n",
       "      <td>185</td>\n",
       "      <td>1202</td>\n",
       "      <td>15.39</td>\n",
       "    </tr>\n",
       "    <tr>\n",
       "      <th>lane_agility_time</th>\n",
       "      <td>194</td>\n",
       "      <td>1202</td>\n",
       "      <td>16.14</td>\n",
       "    </tr>\n",
       "    <tr>\n",
       "      <th>three_quarter_sprint</th>\n",
       "      <td>190</td>\n",
       "      <td>1202</td>\n",
       "      <td>15.81</td>\n",
       "    </tr>\n",
       "    <tr>\n",
       "      <th>bench_press</th>\n",
       "      <td>394</td>\n",
       "      <td>1202</td>\n",
       "      <td>32.78</td>\n",
       "    </tr>\n",
       "  </tbody>\n",
       "</table>\n",
       "</div>"
      ],
      "text/plain": [
       "                        Valores nulos  Total registros  Porcentaje\n",
       "position                            5             1202        0.42\n",
       "height_wo_shoes                    49             1202        4.08\n",
       "weight                             50             1202        4.16\n",
       "wingspan                           49             1202        4.08\n",
       "standing_reach                     50             1202        4.16\n",
       "body_fat_pct                      199             1202       16.56\n",
       "standing_vertical_leap            185             1202       15.39\n",
       "max_vertical_leap                 185             1202       15.39\n",
       "lane_agility_time                 194             1202       16.14\n",
       "three_quarter_sprint              190             1202       15.81\n",
       "bench_press                       394             1202       32.78"
      ]
     },
     "execution_count": 33,
     "metadata": {},
     "output_type": "execute_result"
    }
   ],
   "source": [
    "null_draft_combine_stats = draft_combine_stats.isnull().sum()\n",
    "total_register = len(draft_combine_stats)\n",
    "null_result = null_draft_combine_stats[null_draft_combine_stats > 0]\n",
    "\n",
    "df_null_draft_combine_stats = pd.DataFrame({\n",
    "    \"Valores nulos\": null_result,\n",
    "    \"Total registros\": total_register,\n",
    "    \"Porcentaje\": (null_result / total_register * 100).round(2)\n",
    "})\n",
    "\n",
    "df_null_draft_combine_stats"
   ]
  },
  {
   "cell_type": "markdown",
   "id": "c47cec79",
   "metadata": {},
   "source": [
    "### 2.5.4. Eliminación de filas nulas en las diferentes columnas"
   ]
  },
  {
   "cell_type": "code",
   "execution_count": 34,
   "id": "ef47f1ce",
   "metadata": {},
   "outputs": [],
   "source": [
    "draft_combine_stats = draft_combine_stats.dropna(subset=['height_wo_shoes', 'weight', 'wingspan', 'standing_reach', 'body_fat_pct', 'standing_vertical_leap', 'max_vertical_leap', 'lane_agility_time', 'three_quarter_sprint', 'bench_press'])"
   ]
  },
  {
   "cell_type": "code",
   "execution_count": 35,
   "id": "b9f504ae",
   "metadata": {},
   "outputs": [
    {
     "data": {
      "application/vnd.microsoft.datawrangler.viewer.v0+json": {
       "columns": [
        {
         "name": "index",
         "rawType": "object",
         "type": "string"
        },
        {
         "name": "Valores nulos",
         "rawType": "int64",
         "type": "integer"
        },
        {
         "name": "Total registros",
         "rawType": "int64",
         "type": "integer"
        },
        {
         "name": "Porcentaje",
         "rawType": "float64",
         "type": "float"
        }
       ],
       "conversionMethod": "pd.DataFrame",
       "ref": "0d4fabed-9623-4d7f-8410-cff28b1df311",
       "rows": [],
       "shape": {
        "columns": 3,
        "rows": 0
       }
      },
      "text/html": [
       "<div>\n",
       "<style scoped>\n",
       "    .dataframe tbody tr th:only-of-type {\n",
       "        vertical-align: middle;\n",
       "    }\n",
       "\n",
       "    .dataframe tbody tr th {\n",
       "        vertical-align: top;\n",
       "    }\n",
       "\n",
       "    .dataframe thead th {\n",
       "        text-align: right;\n",
       "    }\n",
       "</style>\n",
       "<table border=\"1\" class=\"dataframe\">\n",
       "  <thead>\n",
       "    <tr style=\"text-align: right;\">\n",
       "      <th></th>\n",
       "      <th>Valores nulos</th>\n",
       "      <th>Total registros</th>\n",
       "      <th>Porcentaje</th>\n",
       "    </tr>\n",
       "  </thead>\n",
       "  <tbody>\n",
       "  </tbody>\n",
       "</table>\n",
       "</div>"
      ],
      "text/plain": [
       "Empty DataFrame\n",
       "Columns: [Valores nulos, Total registros, Porcentaje]\n",
       "Index: []"
      ]
     },
     "execution_count": 35,
     "metadata": {},
     "output_type": "execute_result"
    }
   ],
   "source": [
    "null_draft_combine_stats = draft_combine_stats.isnull().sum()\n",
    "total_register = len(draft_combine_stats)\n",
    "null_result = null_draft_combine_stats[null_draft_combine_stats > 0]\n",
    "\n",
    "df_null_draft_combine_stats = pd.DataFrame({\n",
    "    \"Valores nulos\": null_result,\n",
    "    \"Total registros\": total_register,\n",
    "    \"Porcentaje\": (null_result / total_register * 100).round(2)\n",
    "})\n",
    "\n",
    "df_null_draft_combine_stats"
   ]
  },
  {
   "cell_type": "markdown",
   "id": "4c1373cd",
   "metadata": {},
   "source": [
    "### 2.5.5. Filtro por jugadores"
   ]
  },
  {
   "cell_type": "code",
   "execution_count": 36,
   "id": "a26314d2",
   "metadata": {},
   "outputs": [],
   "source": [
    "draft_combine_stats = draft_combine_stats[draft_combine_stats['player_id'].isin(player['id'])]"
   ]
  },
  {
   "cell_type": "code",
   "execution_count": 37,
   "id": "51b7b70e",
   "metadata": {},
   "outputs": [
    {
     "data": {
      "application/vnd.microsoft.datawrangler.viewer.v0+json": {
       "columns": [
        {
         "name": "index",
         "rawType": "object",
         "type": "string"
        },
        {
         "name": "Valores nulos",
         "rawType": "int64",
         "type": "integer"
        },
        {
         "name": "Total registros",
         "rawType": "int64",
         "type": "integer"
        },
        {
         "name": "Porcentaje",
         "rawType": "float64",
         "type": "float"
        }
       ],
       "conversionMethod": "pd.DataFrame",
       "ref": "25ae8b97-2009-494c-9c2f-f1b75340a941",
       "rows": [],
       "shape": {
        "columns": 3,
        "rows": 0
       }
      },
      "text/html": [
       "<div>\n",
       "<style scoped>\n",
       "    .dataframe tbody tr th:only-of-type {\n",
       "        vertical-align: middle;\n",
       "    }\n",
       "\n",
       "    .dataframe tbody tr th {\n",
       "        vertical-align: top;\n",
       "    }\n",
       "\n",
       "    .dataframe thead th {\n",
       "        text-align: right;\n",
       "    }\n",
       "</style>\n",
       "<table border=\"1\" class=\"dataframe\">\n",
       "  <thead>\n",
       "    <tr style=\"text-align: right;\">\n",
       "      <th></th>\n",
       "      <th>Valores nulos</th>\n",
       "      <th>Total registros</th>\n",
       "      <th>Porcentaje</th>\n",
       "    </tr>\n",
       "  </thead>\n",
       "  <tbody>\n",
       "  </tbody>\n",
       "</table>\n",
       "</div>"
      ],
      "text/plain": [
       "Empty DataFrame\n",
       "Columns: [Valores nulos, Total registros, Porcentaje]\n",
       "Index: []"
      ]
     },
     "execution_count": 37,
     "metadata": {},
     "output_type": "execute_result"
    }
   ],
   "source": [
    "null_draft_combine_stats = draft_combine_stats.isnull().sum()\n",
    "total_register = len(draft_combine_stats)\n",
    "null_result = null_draft_combine_stats[null_draft_combine_stats > 0]\n",
    "\n",
    "df_null_draft_combine_stats = pd.DataFrame({\n",
    "    \"Valores nulos\": null_result,\n",
    "    \"Total registros\": total_register,\n",
    "    \"Porcentaje\": (null_result / total_register * 100).round(2)\n",
    "})\n",
    "\n",
    "df_null_draft_combine_stats"
   ]
  },
  {
   "cell_type": "markdown",
   "id": "9a30a520",
   "metadata": {},
   "source": [
    "### 2.5.6. Eliminación de datos duplicados en la columna de player_id"
   ]
  },
  {
   "cell_type": "code",
   "execution_count": 154,
   "id": "9068130f",
   "metadata": {},
   "outputs": [],
   "source": [
    "draft_combine_stats.drop_duplicates(subset='player_id', inplace=True)"
   ]
  },
  {
   "cell_type": "code",
   "execution_count": 155,
   "metadata": {},
   "outputs": [
    {
     "data": {
      "application/vnd.microsoft.datawrangler.viewer.v0+json": {
       "columns": [
        {
         "name": "index",
         "rawType": "object",
         "type": "string"
        },
        {
         "name": "Valores nulos",
         "rawType": "int64",
         "type": "integer"
        },
        {
         "name": "Total registros",
         "rawType": "int64",
         "type": "integer"
        },
        {
         "name": "Porcentaje",
         "rawType": "float64",
         "type": "float"
        }
       ],
       "conversionMethod": "pd.DataFrame",
       "ref": "4654ee51-12ca-4090-a76b-537fe81438bd",
       "rows": [],
       "shape": {
        "columns": 3,
        "rows": 0
       }
      },
      "text/html": [
       "<div>\n",
       "<style scoped>\n",
       "    .dataframe tbody tr th:only-of-type {\n",
       "        vertical-align: middle;\n",
       "    }\n",
       "\n",
       "    .dataframe tbody tr th {\n",
       "        vertical-align: top;\n",
       "    }\n",
       "\n",
       "    .dataframe thead th {\n",
       "        text-align: right;\n",
       "    }\n",
       "</style>\n",
       "<table border=\"1\" class=\"dataframe\">\n",
       "  <thead>\n",
       "    <tr style=\"text-align: right;\">\n",
       "      <th></th>\n",
       "      <th>Valores nulos</th>\n",
       "      <th>Total registros</th>\n",
       "      <th>Porcentaje</th>\n",
       "    </tr>\n",
       "  </thead>\n",
       "  <tbody>\n",
       "  </tbody>\n",
       "</table>\n",
       "</div>"
      ],
      "text/plain": [
       "Empty DataFrame\n",
       "Columns: [Valores nulos, Total registros, Porcentaje]\n",
       "Index: []"
      ]
     },
     "execution_count": 155,
     "metadata": {},
     "output_type": "execute_result"
    }
   ],
   "source": [
    "null_draft_combine_stats = draft_combine_stats.isnull().sum()\n",
    "total_register = len(draft_combine_stats)\n",
    "null_result = null_draft_combine_stats[null_draft_combine_stats > 0]\n",
    "\n",
    "df_null_draft_combine_stats = pd.DataFrame({\n",
    "    \"Valores nulos\": null_result,\n",
    "    \"Total registros\": total_register,\n",
    "    \"Porcentaje\": (null_result / total_register * 100).round(2)\n",
    "})\n",
    "\n",
    "df_null_draft_combine_stats"
   ]
  },
  {
   "cell_type": "markdown",
   "id": "01026637",
   "metadata": {},
   "source": [
    "## 2.6. Tabla Draft_history"
   ]
  },
  {
   "cell_type": "markdown",
   "id": "55bffa35",
   "metadata": {},
   "source": [
    "### 2.6.1. Lectura de nulos"
   ]
  },
  {
   "cell_type": "code",
   "execution_count": 38,
   "id": "d21ba428",
   "metadata": {},
   "outputs": [
    {
     "data": {
      "text/plain": [
       "(person_id               0\n",
       " player_name             0\n",
       " season                  0\n",
       " round_number            0\n",
       " round_pick              0\n",
       " overall_pick            0\n",
       " draft_type              0\n",
       " team_id                 0\n",
       " team_city               0\n",
       " team_name               0\n",
       " team_abbreviation       0\n",
       " organization           19\n",
       " organization_type      19\n",
       " player_profile_flag     0\n",
       " dtype: int64,\n",
       " (7990, 14))"
      ]
     },
     "execution_count": 38,
     "metadata": {},
     "output_type": "execute_result"
    }
   ],
   "source": [
    "draft_history.isnull().sum(), draft_history.shape"
   ]
  },
  {
   "cell_type": "code",
   "execution_count": 39,
   "id": "154c134a",
   "metadata": {},
   "outputs": [
    {
     "data": {
      "application/vnd.microsoft.datawrangler.viewer.v0+json": {
       "columns": [
        {
         "name": "index",
         "rawType": "object",
         "type": "string"
        },
        {
         "name": "Valores nulos",
         "rawType": "int64",
         "type": "integer"
        },
        {
         "name": "Total registros",
         "rawType": "int64",
         "type": "integer"
        },
        {
         "name": "Porcentaje",
         "rawType": "float64",
         "type": "float"
        }
       ],
       "conversionMethod": "pd.DataFrame",
       "ref": "c8259107-badd-483e-b863-42715ffa3170",
       "rows": [
        [
         "organization",
         "19",
         "7990",
         "0.24"
        ],
        [
         "organization_type",
         "19",
         "7990",
         "0.24"
        ]
       ],
       "shape": {
        "columns": 3,
        "rows": 2
       }
      },
      "text/html": [
       "<div>\n",
       "<style scoped>\n",
       "    .dataframe tbody tr th:only-of-type {\n",
       "        vertical-align: middle;\n",
       "    }\n",
       "\n",
       "    .dataframe tbody tr th {\n",
       "        vertical-align: top;\n",
       "    }\n",
       "\n",
       "    .dataframe thead th {\n",
       "        text-align: right;\n",
       "    }\n",
       "</style>\n",
       "<table border=\"1\" class=\"dataframe\">\n",
       "  <thead>\n",
       "    <tr style=\"text-align: right;\">\n",
       "      <th></th>\n",
       "      <th>Valores nulos</th>\n",
       "      <th>Total registros</th>\n",
       "      <th>Porcentaje</th>\n",
       "    </tr>\n",
       "  </thead>\n",
       "  <tbody>\n",
       "    <tr>\n",
       "      <th>organization</th>\n",
       "      <td>19</td>\n",
       "      <td>7990</td>\n",
       "      <td>0.24</td>\n",
       "    </tr>\n",
       "    <tr>\n",
       "      <th>organization_type</th>\n",
       "      <td>19</td>\n",
       "      <td>7990</td>\n",
       "      <td>0.24</td>\n",
       "    </tr>\n",
       "  </tbody>\n",
       "</table>\n",
       "</div>"
      ],
      "text/plain": [
       "                   Valores nulos  Total registros  Porcentaje\n",
       "organization                  19             7990        0.24\n",
       "organization_type             19             7990        0.24"
      ]
     },
     "execution_count": 39,
     "metadata": {},
     "output_type": "execute_result"
    }
   ],
   "source": [
    "null_draft_history = draft_history.isnull().sum()\n",
    "total_register = len(draft_history)\n",
    "null_result = null_draft_history[null_draft_history > 0]\n",
    "\n",
    "df_null_draft_history = pd.DataFrame({\n",
    "    \"Valores nulos\": null_result,\n",
    "    \"Total registros\": total_register,\n",
    "    \"Porcentaje\": (null_result / total_register * 100).round(2)\n",
    "})\n",
    "\n",
    "df_null_draft_history"
   ]
  },
  {
   "cell_type": "markdown",
   "id": "503c08b2",
   "metadata": {},
   "source": [
    "### 2.6.2. Filtro por fecha"
   ]
  },
  {
   "cell_type": "code",
   "execution_count": 40,
   "id": "0d308ed1",
   "metadata": {},
   "outputs": [],
   "source": [
    "draft_history = draft_history[draft_history[\"season\"] >= 2000]"
   ]
  },
  {
   "cell_type": "code",
   "execution_count": 41,
   "id": "4deba526",
   "metadata": {},
   "outputs": [
    {
     "data": {
      "application/vnd.microsoft.datawrangler.viewer.v0+json": {
       "columns": [
        {
         "name": "index",
         "rawType": "object",
         "type": "string"
        },
        {
         "name": "Valores nulos",
         "rawType": "int64",
         "type": "integer"
        },
        {
         "name": "Total registros",
         "rawType": "int64",
         "type": "integer"
        },
        {
         "name": "Porcentaje",
         "rawType": "float64",
         "type": "float"
        }
       ],
       "conversionMethod": "pd.DataFrame",
       "ref": "5572075f-8022-43be-84c8-8b90f2cb6498",
       "rows": [
        [
         "organization",
         "2",
         "1365",
         "0.15"
        ],
        [
         "organization_type",
         "2",
         "1365",
         "0.15"
        ]
       ],
       "shape": {
        "columns": 3,
        "rows": 2
       }
      },
      "text/html": [
       "<div>\n",
       "<style scoped>\n",
       "    .dataframe tbody tr th:only-of-type {\n",
       "        vertical-align: middle;\n",
       "    }\n",
       "\n",
       "    .dataframe tbody tr th {\n",
       "        vertical-align: top;\n",
       "    }\n",
       "\n",
       "    .dataframe thead th {\n",
       "        text-align: right;\n",
       "    }\n",
       "</style>\n",
       "<table border=\"1\" class=\"dataframe\">\n",
       "  <thead>\n",
       "    <tr style=\"text-align: right;\">\n",
       "      <th></th>\n",
       "      <th>Valores nulos</th>\n",
       "      <th>Total registros</th>\n",
       "      <th>Porcentaje</th>\n",
       "    </tr>\n",
       "  </thead>\n",
       "  <tbody>\n",
       "    <tr>\n",
       "      <th>organization</th>\n",
       "      <td>2</td>\n",
       "      <td>1365</td>\n",
       "      <td>0.15</td>\n",
       "    </tr>\n",
       "    <tr>\n",
       "      <th>organization_type</th>\n",
       "      <td>2</td>\n",
       "      <td>1365</td>\n",
       "      <td>0.15</td>\n",
       "    </tr>\n",
       "  </tbody>\n",
       "</table>\n",
       "</div>"
      ],
      "text/plain": [
       "                   Valores nulos  Total registros  Porcentaje\n",
       "organization                   2             1365        0.15\n",
       "organization_type              2             1365        0.15"
      ]
     },
     "execution_count": 41,
     "metadata": {},
     "output_type": "execute_result"
    }
   ],
   "source": [
    "null_draft_history = draft_history.isnull().sum()\n",
    "total_register = len(draft_history)\n",
    "null_result = null_draft_history[null_draft_history > 0]\n",
    "\n",
    "df_null_draft_history = pd.DataFrame({\n",
    "    \"Valores nulos\": null_result,\n",
    "    \"Total registros\": total_register,\n",
    "    \"Porcentaje\": (null_result / total_register * 100).round(2)\n",
    "})\n",
    "\n",
    "df_null_draft_history"
   ]
  },
  {
   "cell_type": "markdown",
   "id": "33550e15",
   "metadata": {},
   "source": [
    "### 2.6.3. Eliminacion de filas nulas en las diferentes columnas"
   ]
  },
  {
   "cell_type": "code",
   "execution_count": 42,
   "id": "229b0018",
   "metadata": {},
   "outputs": [],
   "source": [
    "draft_history = draft_history.dropna(subset=['organization', 'organization_type'])"
   ]
  },
  {
   "cell_type": "code",
   "execution_count": 43,
   "id": "97dbd745",
   "metadata": {},
   "outputs": [
    {
     "data": {
      "application/vnd.microsoft.datawrangler.viewer.v0+json": {
       "columns": [
        {
         "name": "index",
         "rawType": "object",
         "type": "string"
        },
        {
         "name": "Valores nulos",
         "rawType": "int64",
         "type": "integer"
        },
        {
         "name": "Total registros",
         "rawType": "int64",
         "type": "integer"
        },
        {
         "name": "Porcentaje",
         "rawType": "float64",
         "type": "float"
        }
       ],
       "conversionMethod": "pd.DataFrame",
       "ref": "fc4b12d0-82cf-4e76-aa67-93edfce88994",
       "rows": [],
       "shape": {
        "columns": 3,
        "rows": 0
       }
      },
      "text/html": [
       "<div>\n",
       "<style scoped>\n",
       "    .dataframe tbody tr th:only-of-type {\n",
       "        vertical-align: middle;\n",
       "    }\n",
       "\n",
       "    .dataframe tbody tr th {\n",
       "        vertical-align: top;\n",
       "    }\n",
       "\n",
       "    .dataframe thead th {\n",
       "        text-align: right;\n",
       "    }\n",
       "</style>\n",
       "<table border=\"1\" class=\"dataframe\">\n",
       "  <thead>\n",
       "    <tr style=\"text-align: right;\">\n",
       "      <th></th>\n",
       "      <th>Valores nulos</th>\n",
       "      <th>Total registros</th>\n",
       "      <th>Porcentaje</th>\n",
       "    </tr>\n",
       "  </thead>\n",
       "  <tbody>\n",
       "  </tbody>\n",
       "</table>\n",
       "</div>"
      ],
      "text/plain": [
       "Empty DataFrame\n",
       "Columns: [Valores nulos, Total registros, Porcentaje]\n",
       "Index: []"
      ]
     },
     "execution_count": 43,
     "metadata": {},
     "output_type": "execute_result"
    }
   ],
   "source": [
    "null_draft_history = draft_history.isnull().sum()\n",
    "total_register = len(draft_history)\n",
    "null_result = null_draft_history[null_draft_history > 0]\n",
    "\n",
    "df_null_draft_history = pd.DataFrame({\n",
    "    \"Valores nulos\": null_result,\n",
    "    \"Total registros\": total_register,\n",
    "    \"Porcentaje\": (null_result / total_register * 100).round(2)\n",
    "})\n",
    "\n",
    "df_null_draft_history"
   ]
  },
  {
   "cell_type": "markdown",
   "id": "7001e03f",
   "metadata": {},
   "source": [
    "### 2.6.4. Filtro por equipo y jugadores"
   ]
  },
  {
   "cell_type": "code",
   "execution_count": 44,
   "id": "58ca5078",
   "metadata": {},
   "outputs": [],
   "source": [
    "draft_history = draft_history[draft_history['team_id'].isin(team['id']) & draft_history['person_id'].isin(player['id'])]"
   ]
  },
  {
   "cell_type": "code",
   "execution_count": 45,
   "id": "1183115c",
   "metadata": {},
   "outputs": [
    {
     "data": {
      "application/vnd.microsoft.datawrangler.viewer.v0+json": {
       "columns": [
        {
         "name": "index",
         "rawType": "object",
         "type": "string"
        },
        {
         "name": "Valores nulos",
         "rawType": "int64",
         "type": "integer"
        },
        {
         "name": "Total registros",
         "rawType": "int64",
         "type": "integer"
        },
        {
         "name": "Porcentaje",
         "rawType": "float64",
         "type": "float"
        }
       ],
       "conversionMethod": "pd.DataFrame",
       "ref": "0949974d-1bd5-43e3-9e37-2c4848b92a08",
       "rows": [],
       "shape": {
        "columns": 3,
        "rows": 0
       }
      },
      "text/html": [
       "<div>\n",
       "<style scoped>\n",
       "    .dataframe tbody tr th:only-of-type {\n",
       "        vertical-align: middle;\n",
       "    }\n",
       "\n",
       "    .dataframe tbody tr th {\n",
       "        vertical-align: top;\n",
       "    }\n",
       "\n",
       "    .dataframe thead th {\n",
       "        text-align: right;\n",
       "    }\n",
       "</style>\n",
       "<table border=\"1\" class=\"dataframe\">\n",
       "  <thead>\n",
       "    <tr style=\"text-align: right;\">\n",
       "      <th></th>\n",
       "      <th>Valores nulos</th>\n",
       "      <th>Total registros</th>\n",
       "      <th>Porcentaje</th>\n",
       "    </tr>\n",
       "  </thead>\n",
       "  <tbody>\n",
       "  </tbody>\n",
       "</table>\n",
       "</div>"
      ],
      "text/plain": [
       "Empty DataFrame\n",
       "Columns: [Valores nulos, Total registros, Porcentaje]\n",
       "Index: []"
      ]
     },
     "execution_count": 45,
     "metadata": {},
     "output_type": "execute_result"
    }
   ],
   "source": [
    "null_draft_history = draft_history.isnull().sum()\n",
    "total_register = len(draft_history)\n",
    "null_result = null_draft_history[null_draft_history > 0]\n",
    "\n",
    "df_null_draft_history = pd.DataFrame({\n",
    "    \"Valores nulos\": null_result,\n",
    "    \"Total registros\": total_register,\n",
    "    \"Porcentaje\": (null_result / total_register * 100).round(2)\n",
    "})\n",
    "\n",
    "df_null_draft_history"
   ]
  },
  {
   "cell_type": "markdown",
   "id": "9b678137",
   "metadata": {},
   "source": [
    "## 2.7. Tabla Team_details"
   ]
  },
  {
   "cell_type": "markdown",
   "id": "3dc6e1a5",
   "metadata": {},
   "source": [
    "### 2.7.1. Lectura de nulos"
   ]
  },
  {
   "cell_type": "code",
   "execution_count": 46,
   "id": "c8211dd5",
   "metadata": {},
   "outputs": [
    {
     "data": {
      "text/plain": [
       "(team_id               0\n",
       " abbreviation          0\n",
       " nickname              0\n",
       " yearfounded           0\n",
       " city                  0\n",
       " arena                 0\n",
       " arenacapacity         9\n",
       " owner                 0\n",
       " generalmanager        0\n",
       " headcoach             1\n",
       " dleagueaffiliation    0\n",
       " facebook              0\n",
       " instagram             0\n",
       " twitter               0\n",
       " dtype: int64,\n",
       " (25, 14))"
      ]
     },
     "execution_count": 46,
     "metadata": {},
     "output_type": "execute_result"
    }
   ],
   "source": [
    "team_details.isnull().sum(), team_details.shape"
   ]
  },
  {
   "cell_type": "code",
   "execution_count": 47,
   "id": "305093b0",
   "metadata": {},
   "outputs": [
    {
     "data": {
      "application/vnd.microsoft.datawrangler.viewer.v0+json": {
       "columns": [
        {
         "name": "index",
         "rawType": "object",
         "type": "string"
        },
        {
         "name": "Valores nulos",
         "rawType": "int64",
         "type": "integer"
        },
        {
         "name": "Total registros",
         "rawType": "int64",
         "type": "integer"
        },
        {
         "name": "Porcentaje",
         "rawType": "float64",
         "type": "float"
        }
       ],
       "conversionMethod": "pd.DataFrame",
       "ref": "cf6553d8-32d5-421e-8045-737c7c1acb00",
       "rows": [
        [
         "arenacapacity",
         "9",
         "25",
         "36.0"
        ],
        [
         "headcoach",
         "1",
         "25",
         "4.0"
        ]
       ],
       "shape": {
        "columns": 3,
        "rows": 2
       }
      },
      "text/html": [
       "<div>\n",
       "<style scoped>\n",
       "    .dataframe tbody tr th:only-of-type {\n",
       "        vertical-align: middle;\n",
       "    }\n",
       "\n",
       "    .dataframe tbody tr th {\n",
       "        vertical-align: top;\n",
       "    }\n",
       "\n",
       "    .dataframe thead th {\n",
       "        text-align: right;\n",
       "    }\n",
       "</style>\n",
       "<table border=\"1\" class=\"dataframe\">\n",
       "  <thead>\n",
       "    <tr style=\"text-align: right;\">\n",
       "      <th></th>\n",
       "      <th>Valores nulos</th>\n",
       "      <th>Total registros</th>\n",
       "      <th>Porcentaje</th>\n",
       "    </tr>\n",
       "  </thead>\n",
       "  <tbody>\n",
       "    <tr>\n",
       "      <th>arenacapacity</th>\n",
       "      <td>9</td>\n",
       "      <td>25</td>\n",
       "      <td>36.0</td>\n",
       "    </tr>\n",
       "    <tr>\n",
       "      <th>headcoach</th>\n",
       "      <td>1</td>\n",
       "      <td>25</td>\n",
       "      <td>4.0</td>\n",
       "    </tr>\n",
       "  </tbody>\n",
       "</table>\n",
       "</div>"
      ],
      "text/plain": [
       "               Valores nulos  Total registros  Porcentaje\n",
       "arenacapacity              9               25        36.0\n",
       "headcoach                  1               25         4.0"
      ]
     },
     "execution_count": 47,
     "metadata": {},
     "output_type": "execute_result"
    }
   ],
   "source": [
    "null_team_details = team_details.isnull().sum()\n",
    "total_register = len(team_details)\n",
    "null_result = null_team_details[null_team_details > 0]\n",
    "\n",
    "df_null_team_details = pd.DataFrame(\n",
    "    {\n",
    "        \"Valores nulos\": null_result,\n",
    "        \"Total registros\": total_register,\n",
    "        \"Porcentaje\": (null_result / total_register * 100).round(2),\n",
    "    }\n",
    ")\n",
    "\n",
    "df_null_team_details"
   ]
  },
  {
   "cell_type": "markdown",
   "id": "107a0dd5",
   "metadata": {},
   "source": [
    "### 2.7.2. Eliminación de columnas de redes sociales"
   ]
  },
  {
   "cell_type": "code",
   "execution_count": 48,
   "id": "f421f48e",
   "metadata": {},
   "outputs": [],
   "source": [
    "delete_columns = ['facebook', 'instagram', 'twitter']\n",
    "team_details.drop(columns=delete_columns, inplace=True)"
   ]
  },
  {
   "cell_type": "code",
   "execution_count": 49,
   "id": "a86db7b9",
   "metadata": {},
   "outputs": [
    {
     "data": {
      "application/vnd.microsoft.datawrangler.viewer.v0+json": {
       "columns": [
        {
         "name": "index",
         "rawType": "object",
         "type": "string"
        },
        {
         "name": "Valores nulos",
         "rawType": "int64",
         "type": "integer"
        },
        {
         "name": "Total registros",
         "rawType": "int64",
         "type": "integer"
        },
        {
         "name": "Porcentaje",
         "rawType": "float64",
         "type": "float"
        }
       ],
       "conversionMethod": "pd.DataFrame",
       "ref": "1cfa1946-db11-45e9-85ea-b0c8265840a2",
       "rows": [
        [
         "arenacapacity",
         "9",
         "25",
         "36.0"
        ],
        [
         "headcoach",
         "1",
         "25",
         "4.0"
        ]
       ],
       "shape": {
        "columns": 3,
        "rows": 2
       }
      },
      "text/html": [
       "<div>\n",
       "<style scoped>\n",
       "    .dataframe tbody tr th:only-of-type {\n",
       "        vertical-align: middle;\n",
       "    }\n",
       "\n",
       "    .dataframe tbody tr th {\n",
       "        vertical-align: top;\n",
       "    }\n",
       "\n",
       "    .dataframe thead th {\n",
       "        text-align: right;\n",
       "    }\n",
       "</style>\n",
       "<table border=\"1\" class=\"dataframe\">\n",
       "  <thead>\n",
       "    <tr style=\"text-align: right;\">\n",
       "      <th></th>\n",
       "      <th>Valores nulos</th>\n",
       "      <th>Total registros</th>\n",
       "      <th>Porcentaje</th>\n",
       "    </tr>\n",
       "  </thead>\n",
       "  <tbody>\n",
       "    <tr>\n",
       "      <th>arenacapacity</th>\n",
       "      <td>9</td>\n",
       "      <td>25</td>\n",
       "      <td>36.0</td>\n",
       "    </tr>\n",
       "    <tr>\n",
       "      <th>headcoach</th>\n",
       "      <td>1</td>\n",
       "      <td>25</td>\n",
       "      <td>4.0</td>\n",
       "    </tr>\n",
       "  </tbody>\n",
       "</table>\n",
       "</div>"
      ],
      "text/plain": [
       "               Valores nulos  Total registros  Porcentaje\n",
       "arenacapacity              9               25        36.0\n",
       "headcoach                  1               25         4.0"
      ]
     },
     "execution_count": 49,
     "metadata": {},
     "output_type": "execute_result"
    }
   ],
   "source": [
    "null_team_details = team_details.isnull().sum()\n",
    "total_register = len(team_details)\n",
    "null_result = null_team_details[null_team_details > 0]\n",
    "\n",
    "df_null_team_details = pd.DataFrame(\n",
    "    {\n",
    "        \"Valores nulos\": null_result,\n",
    "        \"Total registros\": total_register,\n",
    "        \"Porcentaje\": (null_result / total_register * 100).round(2),\n",
    "    }\n",
    ")\n",
    "\n",
    "df_null_team_details"
   ]
  },
  {
   "cell_type": "markdown",
   "id": "5ac6fcbb",
   "metadata": {},
   "source": [
    "### 2.7.3. Lenado de nulos por la mediana"
   ]
  },
  {
   "cell_type": "code",
   "execution_count": 50,
   "id": "2dd1c68c",
   "metadata": {},
   "outputs": [],
   "source": [
    "column_null = [\"arenacapacity\"]\n",
    "for column in column_null:\n",
    "    team_details[column] = team_details[column].fillna(team_details[column].median())"
   ]
  },
  {
   "cell_type": "code",
   "execution_count": 51,
   "id": "8b089319",
   "metadata": {},
   "outputs": [
    {
     "data": {
      "application/vnd.microsoft.datawrangler.viewer.v0+json": {
       "columns": [
        {
         "name": "index",
         "rawType": "object",
         "type": "string"
        },
        {
         "name": "Valores nulos",
         "rawType": "int64",
         "type": "integer"
        },
        {
         "name": "Total registros",
         "rawType": "int64",
         "type": "integer"
        },
        {
         "name": "Porcentaje",
         "rawType": "float64",
         "type": "float"
        }
       ],
       "conversionMethod": "pd.DataFrame",
       "ref": "13d0fe67-3677-4dfa-aecb-546ffdacbc90",
       "rows": [
        [
         "headcoach",
         "1",
         "25",
         "4.0"
        ]
       ],
       "shape": {
        "columns": 3,
        "rows": 1
       }
      },
      "text/html": [
       "<div>\n",
       "<style scoped>\n",
       "    .dataframe tbody tr th:only-of-type {\n",
       "        vertical-align: middle;\n",
       "    }\n",
       "\n",
       "    .dataframe tbody tr th {\n",
       "        vertical-align: top;\n",
       "    }\n",
       "\n",
       "    .dataframe thead th {\n",
       "        text-align: right;\n",
       "    }\n",
       "</style>\n",
       "<table border=\"1\" class=\"dataframe\">\n",
       "  <thead>\n",
       "    <tr style=\"text-align: right;\">\n",
       "      <th></th>\n",
       "      <th>Valores nulos</th>\n",
       "      <th>Total registros</th>\n",
       "      <th>Porcentaje</th>\n",
       "    </tr>\n",
       "  </thead>\n",
       "  <tbody>\n",
       "    <tr>\n",
       "      <th>headcoach</th>\n",
       "      <td>1</td>\n",
       "      <td>25</td>\n",
       "      <td>4.0</td>\n",
       "    </tr>\n",
       "  </tbody>\n",
       "</table>\n",
       "</div>"
      ],
      "text/plain": [
       "           Valores nulos  Total registros  Porcentaje\n",
       "headcoach              1               25         4.0"
      ]
     },
     "execution_count": 51,
     "metadata": {},
     "output_type": "execute_result"
    }
   ],
   "source": [
    "null_team_details = team_details.isnull().sum()\n",
    "total_register = len(team_details)\n",
    "null_result = null_team_details[null_team_details > 0]\n",
    "\n",
    "df_null_team_details = pd.DataFrame(\n",
    "    {\n",
    "        \"Valores nulos\": null_result,\n",
    "        \"Total registros\": total_register,\n",
    "        \"Porcentaje\": (null_result / total_register * 100).round(2),\n",
    "    }\n",
    ")\n",
    "\n",
    "df_null_team_details"
   ]
  },
  {
   "cell_type": "markdown",
   "id": "cc98e665",
   "metadata": {},
   "source": [
    "### 2.7.4. Eliminación de filas nulas en las diferentes columas"
   ]
  },
  {
   "cell_type": "code",
   "execution_count": 52,
   "id": "4dff2ffe",
   "metadata": {},
   "outputs": [],
   "source": [
    "team_details = team_details.dropna(subset=['headcoach'])"
   ]
  },
  {
   "cell_type": "code",
   "execution_count": 53,
   "id": "4761583a",
   "metadata": {},
   "outputs": [
    {
     "data": {
      "application/vnd.microsoft.datawrangler.viewer.v0+json": {
       "columns": [
        {
         "name": "index",
         "rawType": "object",
         "type": "string"
        },
        {
         "name": "Valores nulos",
         "rawType": "int64",
         "type": "integer"
        },
        {
         "name": "Total registros",
         "rawType": "int64",
         "type": "integer"
        },
        {
         "name": "Porcentaje",
         "rawType": "float64",
         "type": "float"
        }
       ],
       "conversionMethod": "pd.DataFrame",
       "ref": "5866e036-896e-4854-9e52-1a924a58b702",
       "rows": [],
       "shape": {
        "columns": 3,
        "rows": 0
       }
      },
      "text/html": [
       "<div>\n",
       "<style scoped>\n",
       "    .dataframe tbody tr th:only-of-type {\n",
       "        vertical-align: middle;\n",
       "    }\n",
       "\n",
       "    .dataframe tbody tr th {\n",
       "        vertical-align: top;\n",
       "    }\n",
       "\n",
       "    .dataframe thead th {\n",
       "        text-align: right;\n",
       "    }\n",
       "</style>\n",
       "<table border=\"1\" class=\"dataframe\">\n",
       "  <thead>\n",
       "    <tr style=\"text-align: right;\">\n",
       "      <th></th>\n",
       "      <th>Valores nulos</th>\n",
       "      <th>Total registros</th>\n",
       "      <th>Porcentaje</th>\n",
       "    </tr>\n",
       "  </thead>\n",
       "  <tbody>\n",
       "  </tbody>\n",
       "</table>\n",
       "</div>"
      ],
      "text/plain": [
       "Empty DataFrame\n",
       "Columns: [Valores nulos, Total registros, Porcentaje]\n",
       "Index: []"
      ]
     },
     "execution_count": 53,
     "metadata": {},
     "output_type": "execute_result"
    }
   ],
   "source": [
    "null_team_details = team_details.isnull().sum()\n",
    "total_register = len(team_details)\n",
    "null_result = null_team_details[null_team_details > 0]\n",
    "\n",
    "df_null_team_details = pd.DataFrame(\n",
    "    {\n",
    "        \"Valores nulos\": null_result,\n",
    "        \"Total registros\": total_register,\n",
    "        \"Porcentaje\": (null_result / total_register * 100).round(2),\n",
    "    }\n",
    ")\n",
    "\n",
    "df_null_team_details"
   ]
  },
  {
   "cell_type": "markdown",
   "id": "14281029",
   "metadata": {},
   "source": [
    "### 2.7.5. Filtro por equipo"
   ]
  },
  {
   "cell_type": "code",
   "execution_count": 54,
   "id": "70e0677f",
   "metadata": {},
   "outputs": [],
   "source": [
    "team_details = team_details[team_details['team_id'].isin(team['id'])]"
   ]
  },
  {
   "cell_type": "code",
   "execution_count": 55,
   "id": "394bcb98",
   "metadata": {},
   "outputs": [
    {
     "data": {
      "application/vnd.microsoft.datawrangler.viewer.v0+json": {
       "columns": [
        {
         "name": "index",
         "rawType": "object",
         "type": "string"
        },
        {
         "name": "Valores nulos",
         "rawType": "int64",
         "type": "integer"
        },
        {
         "name": "Total registros",
         "rawType": "int64",
         "type": "integer"
        },
        {
         "name": "Porcentaje",
         "rawType": "float64",
         "type": "float"
        }
       ],
       "conversionMethod": "pd.DataFrame",
       "ref": "175813e8-cd3f-4bd3-9776-3b13d8e8855d",
       "rows": [],
       "shape": {
        "columns": 3,
        "rows": 0
       }
      },
      "text/html": [
       "<div>\n",
       "<style scoped>\n",
       "    .dataframe tbody tr th:only-of-type {\n",
       "        vertical-align: middle;\n",
       "    }\n",
       "\n",
       "    .dataframe tbody tr th {\n",
       "        vertical-align: top;\n",
       "    }\n",
       "\n",
       "    .dataframe thead th {\n",
       "        text-align: right;\n",
       "    }\n",
       "</style>\n",
       "<table border=\"1\" class=\"dataframe\">\n",
       "  <thead>\n",
       "    <tr style=\"text-align: right;\">\n",
       "      <th></th>\n",
       "      <th>Valores nulos</th>\n",
       "      <th>Total registros</th>\n",
       "      <th>Porcentaje</th>\n",
       "    </tr>\n",
       "  </thead>\n",
       "  <tbody>\n",
       "  </tbody>\n",
       "</table>\n",
       "</div>"
      ],
      "text/plain": [
       "Empty DataFrame\n",
       "Columns: [Valores nulos, Total registros, Porcentaje]\n",
       "Index: []"
      ]
     },
     "execution_count": 55,
     "metadata": {},
     "output_type": "execute_result"
    }
   ],
   "source": [
    "null_team_details = team_details.isnull().sum()\n",
    "total_register = len(team_details)\n",
    "null_result = null_team_details[null_team_details > 0]\n",
    "\n",
    "df_null_team_details = pd.DataFrame(\n",
    "    {\n",
    "        \"Valores nulos\": null_result,\n",
    "        \"Total registros\": total_register,\n",
    "        \"Porcentaje\": (null_result / total_register * 100).round(2),\n",
    "    }\n",
    ")\n",
    "\n",
    "df_null_team_details"
   ]
  },
  {
   "cell_type": "markdown",
   "id": "0543a257",
   "metadata": {},
   "source": [
    "## 2.8. Tabla Team_history"
   ]
  },
  {
   "cell_type": "markdown",
   "id": "f5bfcbfe",
   "metadata": {},
   "source": [
    "### 2.8.1. Lectura de nulos"
   ]
  },
  {
   "cell_type": "code",
   "execution_count": 56,
   "id": "b7fef182",
   "metadata": {},
   "outputs": [
    {
     "data": {
      "text/plain": [
       "(team_id             0\n",
       " city                0\n",
       " nickname            0\n",
       " year_founded        0\n",
       " year_active_till    0\n",
       " dtype: int64,\n",
       " (52, 5))"
      ]
     },
     "execution_count": 56,
     "metadata": {},
     "output_type": "execute_result"
    }
   ],
   "source": [
    "team_history.isnull().sum(), team_history.shape"
   ]
  },
  {
   "cell_type": "code",
   "execution_count": 57,
   "id": "9e9da26f",
   "metadata": {},
   "outputs": [
    {
     "data": {
      "application/vnd.microsoft.datawrangler.viewer.v0+json": {
       "columns": [
        {
         "name": "index",
         "rawType": "object",
         "type": "string"
        },
        {
         "name": "Valores nulos",
         "rawType": "int64",
         "type": "integer"
        },
        {
         "name": "Total registros",
         "rawType": "int64",
         "type": "integer"
        },
        {
         "name": "Porcentaje",
         "rawType": "float64",
         "type": "float"
        }
       ],
       "conversionMethod": "pd.DataFrame",
       "ref": "707e95c4-8798-411a-80d4-da946f09e483",
       "rows": [],
       "shape": {
        "columns": 3,
        "rows": 0
       }
      },
      "text/html": [
       "<div>\n",
       "<style scoped>\n",
       "    .dataframe tbody tr th:only-of-type {\n",
       "        vertical-align: middle;\n",
       "    }\n",
       "\n",
       "    .dataframe tbody tr th {\n",
       "        vertical-align: top;\n",
       "    }\n",
       "\n",
       "    .dataframe thead th {\n",
       "        text-align: right;\n",
       "    }\n",
       "</style>\n",
       "<table border=\"1\" class=\"dataframe\">\n",
       "  <thead>\n",
       "    <tr style=\"text-align: right;\">\n",
       "      <th></th>\n",
       "      <th>Valores nulos</th>\n",
       "      <th>Total registros</th>\n",
       "      <th>Porcentaje</th>\n",
       "    </tr>\n",
       "  </thead>\n",
       "  <tbody>\n",
       "  </tbody>\n",
       "</table>\n",
       "</div>"
      ],
      "text/plain": [
       "Empty DataFrame\n",
       "Columns: [Valores nulos, Total registros, Porcentaje]\n",
       "Index: []"
      ]
     },
     "execution_count": 57,
     "metadata": {},
     "output_type": "execute_result"
    }
   ],
   "source": [
    "null_team_history = team_history.isnull().sum()\n",
    "total_register = len(team_history)\n",
    "null_result = null_team_history[null_team_history > 0]\n",
    "\n",
    "df_null_team_history = pd.DataFrame(\n",
    "    {\n",
    "        \"Valores nulos\": null_result,\n",
    "        \"Total registros\": total_register,\n",
    "        \"Porcentaje\": (null_result / total_register * 100).round(2),\n",
    "    }\n",
    ")\n",
    "\n",
    "df_null_team_history"
   ]
  },
  {
   "cell_type": "markdown",
   "id": "459bbeaf",
   "metadata": {},
   "source": [
    "### 2.8.2. Filtro por equipo"
   ]
  },
  {
   "cell_type": "code",
   "execution_count": 58,
   "id": "cff3aca8",
   "metadata": {},
   "outputs": [],
   "source": [
    "team_history = team_history[team_history['team_id'].isin(team['id'])]"
   ]
  },
  {
   "cell_type": "code",
   "execution_count": 59,
   "id": "797fb259",
   "metadata": {},
   "outputs": [
    {
     "data": {
      "application/vnd.microsoft.datawrangler.viewer.v0+json": {
       "columns": [
        {
         "name": "index",
         "rawType": "object",
         "type": "string"
        },
        {
         "name": "Valores nulos",
         "rawType": "int64",
         "type": "integer"
        },
        {
         "name": "Total registros",
         "rawType": "int64",
         "type": "integer"
        },
        {
         "name": "Porcentaje",
         "rawType": "float64",
         "type": "float"
        }
       ],
       "conversionMethod": "pd.DataFrame",
       "ref": "070af5e7-1772-47cd-bcfb-353934835ba3",
       "rows": [],
       "shape": {
        "columns": 3,
        "rows": 0
       }
      },
      "text/html": [
       "<div>\n",
       "<style scoped>\n",
       "    .dataframe tbody tr th:only-of-type {\n",
       "        vertical-align: middle;\n",
       "    }\n",
       "\n",
       "    .dataframe tbody tr th {\n",
       "        vertical-align: top;\n",
       "    }\n",
       "\n",
       "    .dataframe thead th {\n",
       "        text-align: right;\n",
       "    }\n",
       "</style>\n",
       "<table border=\"1\" class=\"dataframe\">\n",
       "  <thead>\n",
       "    <tr style=\"text-align: right;\">\n",
       "      <th></th>\n",
       "      <th>Valores nulos</th>\n",
       "      <th>Total registros</th>\n",
       "      <th>Porcentaje</th>\n",
       "    </tr>\n",
       "  </thead>\n",
       "  <tbody>\n",
       "  </tbody>\n",
       "</table>\n",
       "</div>"
      ],
      "text/plain": [
       "Empty DataFrame\n",
       "Columns: [Valores nulos, Total registros, Porcentaje]\n",
       "Index: []"
      ]
     },
     "execution_count": 59,
     "metadata": {},
     "output_type": "execute_result"
    }
   ],
   "source": [
    "null_team_history = team_history.isnull().sum()\n",
    "total_register = len(team_history)\n",
    "null_result = null_team_history[null_team_history > 0]\n",
    "\n",
    "df_null_team_history = pd.DataFrame(\n",
    "    {\n",
    "        \"Valores nulos\": null_result,\n",
    "        \"Total registros\": total_register,\n",
    "        \"Porcentaje\": (null_result / total_register * 100).round(2),\n",
    "    }\n",
    ")\n",
    "\n",
    "df_null_team_history"
   ]
  },
  {
   "cell_type": "markdown",
   "id": "85f7beb8",
   "metadata": {},
   "source": [
    "## 2.9. Tabla Game_info"
   ]
  },
  {
   "cell_type": "markdown",
   "id": "4d8cd054",
   "metadata": {},
   "source": [
    "### 2.9.1. Lectura de nulos"
   ]
  },
  {
   "cell_type": "code",
   "execution_count": 60,
   "id": "8ef06f9b",
   "metadata": {},
   "outputs": [
    {
     "data": {
      "text/plain": [
       "(game_id           0\n",
       " game_date         0\n",
       " attendance     5380\n",
       " game_time     28111\n",
       " dtype: int64,\n",
       " (58053, 4))"
      ]
     },
     "execution_count": 60,
     "metadata": {},
     "output_type": "execute_result"
    }
   ],
   "source": [
    "game_info.isnull().sum(), game_info.shape"
   ]
  },
  {
   "cell_type": "code",
   "execution_count": 61,
   "id": "f8e2af67",
   "metadata": {},
   "outputs": [
    {
     "data": {
      "application/vnd.microsoft.datawrangler.viewer.v0+json": {
       "columns": [
        {
         "name": "index",
         "rawType": "object",
         "type": "string"
        },
        {
         "name": "Valores nulos",
         "rawType": "int64",
         "type": "integer"
        },
        {
         "name": "Total registros",
         "rawType": "int64",
         "type": "integer"
        },
        {
         "name": "Porcentaje",
         "rawType": "float64",
         "type": "float"
        }
       ],
       "conversionMethod": "pd.DataFrame",
       "ref": "8e6b0af5-d5cc-48ec-9482-9002bfa2e8b3",
       "rows": [
        [
         "attendance",
         "5380",
         "58053",
         "9.27"
        ],
        [
         "game_time",
         "28111",
         "58053",
         "48.42"
        ]
       ],
       "shape": {
        "columns": 3,
        "rows": 2
       }
      },
      "text/html": [
       "<div>\n",
       "<style scoped>\n",
       "    .dataframe tbody tr th:only-of-type {\n",
       "        vertical-align: middle;\n",
       "    }\n",
       "\n",
       "    .dataframe tbody tr th {\n",
       "        vertical-align: top;\n",
       "    }\n",
       "\n",
       "    .dataframe thead th {\n",
       "        text-align: right;\n",
       "    }\n",
       "</style>\n",
       "<table border=\"1\" class=\"dataframe\">\n",
       "  <thead>\n",
       "    <tr style=\"text-align: right;\">\n",
       "      <th></th>\n",
       "      <th>Valores nulos</th>\n",
       "      <th>Total registros</th>\n",
       "      <th>Porcentaje</th>\n",
       "    </tr>\n",
       "  </thead>\n",
       "  <tbody>\n",
       "    <tr>\n",
       "      <th>attendance</th>\n",
       "      <td>5380</td>\n",
       "      <td>58053</td>\n",
       "      <td>9.27</td>\n",
       "    </tr>\n",
       "    <tr>\n",
       "      <th>game_time</th>\n",
       "      <td>28111</td>\n",
       "      <td>58053</td>\n",
       "      <td>48.42</td>\n",
       "    </tr>\n",
       "  </tbody>\n",
       "</table>\n",
       "</div>"
      ],
      "text/plain": [
       "            Valores nulos  Total registros  Porcentaje\n",
       "attendance           5380            58053        9.27\n",
       "game_time           28111            58053       48.42"
      ]
     },
     "execution_count": 61,
     "metadata": {},
     "output_type": "execute_result"
    }
   ],
   "source": [
    "null_game_info = game_info.isnull().sum()\n",
    "total_register = len(game_info)\n",
    "null_result = null_game_info[null_game_info > 0]\n",
    "\n",
    "df_null_game_info = pd.DataFrame({\n",
    "    \"Valores nulos\": null_result,\n",
    "    \"Total registros\": total_register,\n",
    "    \"Porcentaje\": (null_result / total_register * 100).round(2)\n",
    "})\n",
    "\n",
    "df_null_game_info"
   ]
  },
  {
   "cell_type": "markdown",
   "id": "f0c9518b",
   "metadata": {},
   "source": [
    "### 2.9.2. Filtro por fecha"
   ]
  },
  {
   "cell_type": "code",
   "execution_count": 62,
   "id": "9d4608ad",
   "metadata": {},
   "outputs": [],
   "source": [
    "game_info_2000 = game_info[game_info[\"game_date\"] >= \"2000-01-01\"].copy()"
   ]
  },
  {
   "cell_type": "code",
   "execution_count": 63,
   "id": "46886cf3",
   "metadata": {},
   "outputs": [
    {
     "data": {
      "application/vnd.microsoft.datawrangler.viewer.v0+json": {
       "columns": [
        {
         "name": "index",
         "rawType": "object",
         "type": "string"
        },
        {
         "name": "Valores nulos",
         "rawType": "int64",
         "type": "integer"
        },
        {
         "name": "Total registros",
         "rawType": "int64",
         "type": "integer"
        },
        {
         "name": "Porcentaje",
         "rawType": "float64",
         "type": "float"
        }
       ],
       "conversionMethod": "pd.DataFrame",
       "ref": "1e972e88-59a6-4c82-aada-a5ee1000f7c4",
       "rows": [
        [
         "attendance",
         "876",
         "27457",
         "3.19"
        ],
        [
         "game_time",
         "843",
         "27457",
         "3.07"
        ]
       ],
       "shape": {
        "columns": 3,
        "rows": 2
       }
      },
      "text/html": [
       "<div>\n",
       "<style scoped>\n",
       "    .dataframe tbody tr th:only-of-type {\n",
       "        vertical-align: middle;\n",
       "    }\n",
       "\n",
       "    .dataframe tbody tr th {\n",
       "        vertical-align: top;\n",
       "    }\n",
       "\n",
       "    .dataframe thead th {\n",
       "        text-align: right;\n",
       "    }\n",
       "</style>\n",
       "<table border=\"1\" class=\"dataframe\">\n",
       "  <thead>\n",
       "    <tr style=\"text-align: right;\">\n",
       "      <th></th>\n",
       "      <th>Valores nulos</th>\n",
       "      <th>Total registros</th>\n",
       "      <th>Porcentaje</th>\n",
       "    </tr>\n",
       "  </thead>\n",
       "  <tbody>\n",
       "    <tr>\n",
       "      <th>attendance</th>\n",
       "      <td>876</td>\n",
       "      <td>27457</td>\n",
       "      <td>3.19</td>\n",
       "    </tr>\n",
       "    <tr>\n",
       "      <th>game_time</th>\n",
       "      <td>843</td>\n",
       "      <td>27457</td>\n",
       "      <td>3.07</td>\n",
       "    </tr>\n",
       "  </tbody>\n",
       "</table>\n",
       "</div>"
      ],
      "text/plain": [
       "            Valores nulos  Total registros  Porcentaje\n",
       "attendance            876            27457        3.19\n",
       "game_time             843            27457        3.07"
      ]
     },
     "execution_count": 63,
     "metadata": {},
     "output_type": "execute_result"
    }
   ],
   "source": [
    "null_game_info_2000 = game_info_2000.isnull().sum()\n",
    "total_register = len(game_info_2000)\n",
    "null_result = null_game_info_2000[null_game_info_2000 > 0]\n",
    "\n",
    "df_null_game_info_2000 = pd.DataFrame({\n",
    "    \"Valores nulos\": null_result,\n",
    "    \"Total registros\": total_register,\n",
    "    \"Porcentaje\": (null_result / total_register * 100).round(2)\n",
    "})\n",
    "\n",
    "df_null_game_info_2000"
   ]
  },
  {
   "cell_type": "markdown",
   "id": "f46bf2cc",
   "metadata": {},
   "source": [
    "### 2.9.3. Eliminación de columnas innecesarias"
   ]
  },
  {
   "cell_type": "code",
   "execution_count": 64,
   "id": "469a338f",
   "metadata": {},
   "outputs": [],
   "source": [
    "delete_column = [\"attendance\", \"game_time\"]\n",
    "\n",
    "game_info_2000.drop(delete_column, axis=1, inplace=True)"
   ]
  },
  {
   "cell_type": "code",
   "execution_count": 65,
   "id": "017290ac",
   "metadata": {},
   "outputs": [
    {
     "data": {
      "application/vnd.microsoft.datawrangler.viewer.v0+json": {
       "columns": [
        {
         "name": "index",
         "rawType": "object",
         "type": "string"
        },
        {
         "name": "Valores nulos",
         "rawType": "int64",
         "type": "integer"
        },
        {
         "name": "Total registros",
         "rawType": "int64",
         "type": "integer"
        },
        {
         "name": "Porcentaje",
         "rawType": "float64",
         "type": "float"
        }
       ],
       "conversionMethod": "pd.DataFrame",
       "ref": "59782ce7-c04e-4473-92fa-d2357764786b",
       "rows": [],
       "shape": {
        "columns": 3,
        "rows": 0
       }
      },
      "text/html": [
       "<div>\n",
       "<style scoped>\n",
       "    .dataframe tbody tr th:only-of-type {\n",
       "        vertical-align: middle;\n",
       "    }\n",
       "\n",
       "    .dataframe tbody tr th {\n",
       "        vertical-align: top;\n",
       "    }\n",
       "\n",
       "    .dataframe thead th {\n",
       "        text-align: right;\n",
       "    }\n",
       "</style>\n",
       "<table border=\"1\" class=\"dataframe\">\n",
       "  <thead>\n",
       "    <tr style=\"text-align: right;\">\n",
       "      <th></th>\n",
       "      <th>Valores nulos</th>\n",
       "      <th>Total registros</th>\n",
       "      <th>Porcentaje</th>\n",
       "    </tr>\n",
       "  </thead>\n",
       "  <tbody>\n",
       "  </tbody>\n",
       "</table>\n",
       "</div>"
      ],
      "text/plain": [
       "Empty DataFrame\n",
       "Columns: [Valores nulos, Total registros, Porcentaje]\n",
       "Index: []"
      ]
     },
     "execution_count": 65,
     "metadata": {},
     "output_type": "execute_result"
    }
   ],
   "source": [
    "null_game_info_2000 = game_info_2000.isnull().sum()\n",
    "total_register = len(game_info_2000)\n",
    "null_result = null_game_info_2000[null_game_info_2000 > 0]\n",
    "\n",
    "df_null_game_info_2000 = pd.DataFrame({\n",
    "    \"Valores nulos\": null_result,\n",
    "    \"Total registros\": total_register,\n",
    "    \"Porcentaje\": (null_result / total_register * 100).round(2)\n",
    "})\n",
    "\n",
    "df_null_game_info_2000"
   ]
  },
  {
   "cell_type": "markdown",
   "id": "d256e9fd",
   "metadata": {},
   "source": [
    "### 2.9.4. Filtro por juego"
   ]
  },
  {
   "cell_type": "code",
   "execution_count": 66,
   "id": "cbb80c03",
   "metadata": {},
   "outputs": [],
   "source": [
    "game_info_2000 = game_info_2000[game_info_2000['game_id'].isin(game_2000['game_id'])]"
   ]
  },
  {
   "cell_type": "code",
   "execution_count": 67,
   "metadata": {},
   "outputs": [
    {
     "data": {
      "application/vnd.microsoft.datawrangler.viewer.v0+json": {
       "columns": [
        {
         "name": "index",
         "rawType": "object",
         "type": "string"
        },
        {
         "name": "Valores nulos",
         "rawType": "int64",
         "type": "integer"
        },
        {
         "name": "Total registros",
         "rawType": "int64",
         "type": "integer"
        },
        {
         "name": "Porcentaje",
         "rawType": "float64",
         "type": "float"
        }
       ],
       "conversionMethod": "pd.DataFrame",
       "ref": "a4944d9e-17dd-4629-b29f-acf883ac2d4f",
       "rows": [],
       "shape": {
        "columns": 3,
        "rows": 0
       }
      },
      "text/html": [
       "<div>\n",
       "<style scoped>\n",
       "    .dataframe tbody tr th:only-of-type {\n",
       "        vertical-align: middle;\n",
       "    }\n",
       "\n",
       "    .dataframe tbody tr th {\n",
       "        vertical-align: top;\n",
       "    }\n",
       "\n",
       "    .dataframe thead th {\n",
       "        text-align: right;\n",
       "    }\n",
       "</style>\n",
       "<table border=\"1\" class=\"dataframe\">\n",
       "  <thead>\n",
       "    <tr style=\"text-align: right;\">\n",
       "      <th></th>\n",
       "      <th>Valores nulos</th>\n",
       "      <th>Total registros</th>\n",
       "      <th>Porcentaje</th>\n",
       "    </tr>\n",
       "  </thead>\n",
       "  <tbody>\n",
       "  </tbody>\n",
       "</table>\n",
       "</div>"
      ],
      "text/plain": [
       "Empty DataFrame\n",
       "Columns: [Valores nulos, Total registros, Porcentaje]\n",
       "Index: []"
      ]
     },
     "execution_count": 67,
     "metadata": {},
     "output_type": "execute_result"
    }
   ],
   "source": [
    "null_game_info_2000 = game_info_2000.isnull().sum()\n",
    "total_register = len(game_info_2000)\n",
    "null_result = null_game_info_2000[null_game_info_2000 > 0]\n",
    "\n",
    "df_null_game_info_2000 = pd.DataFrame({\n",
    "    \"Valores nulos\": null_result,\n",
    "    \"Total registros\": total_register,\n",
    "    \"Porcentaje\": (null_result / total_register * 100).round(2)\n",
    "})\n",
    "\n",
    "df_null_game_info_2000"
   ]
  },
  {
   "cell_type": "markdown",
   "id": "d0abd3e0",
   "metadata": {},
   "source": [
    "## 2.10. Tabla Game_summary"
   ]
  },
  {
   "cell_type": "markdown",
   "id": "034e0e6c",
   "metadata": {},
   "source": [
    "### 2.10.1. Lectura de nulos"
   ]
  },
  {
   "cell_type": "code",
   "execution_count": 68,
   "id": "f430ac60",
   "metadata": {},
   "outputs": [
    {
     "data": {
      "text/plain": [
       "(game_date_est                           0\n",
       " game_sequence                       25532\n",
       " game_id                                 0\n",
       " game_status_id                          0\n",
       " game_status_text                    25986\n",
       " gamecode                                0\n",
       " home_team_id                            0\n",
       " visitor_team_id                         0\n",
       " season                                  0\n",
       " live_period                             0\n",
       " live_pc_time                        56086\n",
       " natl_tv_broadcaster_abbreviation    51907\n",
       " live_period_time_bcast                  0\n",
       " wh_status                               0\n",
       " dtype: int64,\n",
       " (58110, 14))"
      ]
     },
     "execution_count": 68,
     "metadata": {},
     "output_type": "execute_result"
    }
   ],
   "source": [
    "game_summary.isnull().sum(), game_summary.shape"
   ]
  },
  {
   "cell_type": "code",
   "execution_count": 69,
   "id": "c0a4bcbf",
   "metadata": {},
   "outputs": [
    {
     "data": {
      "application/vnd.microsoft.datawrangler.viewer.v0+json": {
       "columns": [
        {
         "name": "index",
         "rawType": "object",
         "type": "string"
        },
        {
         "name": "Valores nulos",
         "rawType": "int64",
         "type": "integer"
        },
        {
         "name": "Total registros",
         "rawType": "int64",
         "type": "integer"
        },
        {
         "name": "Porcentaje",
         "rawType": "float64",
         "type": "float"
        }
       ],
       "conversionMethod": "pd.DataFrame",
       "ref": "9ef6464a-e3d0-42cc-b859-989f5834edb7",
       "rows": [
        [
         "game_sequence",
         "25532",
         "58110",
         "43.94"
        ],
        [
         "game_status_text",
         "25986",
         "58110",
         "44.72"
        ],
        [
         "live_pc_time",
         "56086",
         "58110",
         "96.52"
        ],
        [
         "natl_tv_broadcaster_abbreviation",
         "51907",
         "58110",
         "89.33"
        ]
       ],
       "shape": {
        "columns": 3,
        "rows": 4
       }
      },
      "text/html": [
       "<div>\n",
       "<style scoped>\n",
       "    .dataframe tbody tr th:only-of-type {\n",
       "        vertical-align: middle;\n",
       "    }\n",
       "\n",
       "    .dataframe tbody tr th {\n",
       "        vertical-align: top;\n",
       "    }\n",
       "\n",
       "    .dataframe thead th {\n",
       "        text-align: right;\n",
       "    }\n",
       "</style>\n",
       "<table border=\"1\" class=\"dataframe\">\n",
       "  <thead>\n",
       "    <tr style=\"text-align: right;\">\n",
       "      <th></th>\n",
       "      <th>Valores nulos</th>\n",
       "      <th>Total registros</th>\n",
       "      <th>Porcentaje</th>\n",
       "    </tr>\n",
       "  </thead>\n",
       "  <tbody>\n",
       "    <tr>\n",
       "      <th>game_sequence</th>\n",
       "      <td>25532</td>\n",
       "      <td>58110</td>\n",
       "      <td>43.94</td>\n",
       "    </tr>\n",
       "    <tr>\n",
       "      <th>game_status_text</th>\n",
       "      <td>25986</td>\n",
       "      <td>58110</td>\n",
       "      <td>44.72</td>\n",
       "    </tr>\n",
       "    <tr>\n",
       "      <th>live_pc_time</th>\n",
       "      <td>56086</td>\n",
       "      <td>58110</td>\n",
       "      <td>96.52</td>\n",
       "    </tr>\n",
       "    <tr>\n",
       "      <th>natl_tv_broadcaster_abbreviation</th>\n",
       "      <td>51907</td>\n",
       "      <td>58110</td>\n",
       "      <td>89.33</td>\n",
       "    </tr>\n",
       "  </tbody>\n",
       "</table>\n",
       "</div>"
      ],
      "text/plain": [
       "                                  Valores nulos  Total registros  Porcentaje\n",
       "game_sequence                             25532            58110       43.94\n",
       "game_status_text                          25986            58110       44.72\n",
       "live_pc_time                              56086            58110       96.52\n",
       "natl_tv_broadcaster_abbreviation          51907            58110       89.33"
      ]
     },
     "execution_count": 69,
     "metadata": {},
     "output_type": "execute_result"
    }
   ],
   "source": [
    "null_game_summary = game_summary.isnull().sum()\n",
    "total_register = len(game_summary)\n",
    "null_result = null_game_summary[null_game_summary > 0]\n",
    "\n",
    "df_null_game_summary = pd.DataFrame({\n",
    "    \"Valores nulos\": null_result,\n",
    "    \"Total registros\": total_register,\n",
    "    \"Porcentaje\": (null_result / total_register * 100).round(2)\n",
    "})\n",
    "\n",
    "df_null_game_summary"
   ]
  },
  {
   "cell_type": "markdown",
   "id": "fabe0574",
   "metadata": {},
   "source": [
    "### 2.10.2. Filtro por fecha"
   ]
  },
  {
   "cell_type": "code",
   "execution_count": 70,
   "id": "66a19744",
   "metadata": {},
   "outputs": [],
   "source": [
    "game_summary = game_summary[game_summary[\"game_date_est\"] >= \"2000-01-01\"].copy()"
   ]
  },
  {
   "cell_type": "code",
   "execution_count": 71,
   "id": "2ee114c2",
   "metadata": {},
   "outputs": [
    {
     "data": {
      "application/vnd.microsoft.datawrangler.viewer.v0+json": {
       "columns": [
        {
         "name": "index",
         "rawType": "object",
         "type": "string"
        },
        {
         "name": "Valores nulos",
         "rawType": "int64",
         "type": "integer"
        },
        {
         "name": "Total registros",
         "rawType": "int64",
         "type": "integer"
        },
        {
         "name": "Porcentaje",
         "rawType": "float64",
         "type": "float"
        }
       ],
       "conversionMethod": "pd.DataFrame",
       "ref": "535c7c48-96cb-4c1f-93aa-be8141a37294",
       "rows": [
        [
         "live_pc_time",
         "25490",
         "27514",
         "92.64"
        ],
        [
         "natl_tv_broadcaster_abbreviation",
         "21311",
         "27514",
         "77.46"
        ]
       ],
       "shape": {
        "columns": 3,
        "rows": 2
       }
      },
      "text/html": [
       "<div>\n",
       "<style scoped>\n",
       "    .dataframe tbody tr th:only-of-type {\n",
       "        vertical-align: middle;\n",
       "    }\n",
       "\n",
       "    .dataframe tbody tr th {\n",
       "        vertical-align: top;\n",
       "    }\n",
       "\n",
       "    .dataframe thead th {\n",
       "        text-align: right;\n",
       "    }\n",
       "</style>\n",
       "<table border=\"1\" class=\"dataframe\">\n",
       "  <thead>\n",
       "    <tr style=\"text-align: right;\">\n",
       "      <th></th>\n",
       "      <th>Valores nulos</th>\n",
       "      <th>Total registros</th>\n",
       "      <th>Porcentaje</th>\n",
       "    </tr>\n",
       "  </thead>\n",
       "  <tbody>\n",
       "    <tr>\n",
       "      <th>live_pc_time</th>\n",
       "      <td>25490</td>\n",
       "      <td>27514</td>\n",
       "      <td>92.64</td>\n",
       "    </tr>\n",
       "    <tr>\n",
       "      <th>natl_tv_broadcaster_abbreviation</th>\n",
       "      <td>21311</td>\n",
       "      <td>27514</td>\n",
       "      <td>77.46</td>\n",
       "    </tr>\n",
       "  </tbody>\n",
       "</table>\n",
       "</div>"
      ],
      "text/plain": [
       "                                  Valores nulos  Total registros  Porcentaje\n",
       "live_pc_time                              25490            27514       92.64\n",
       "natl_tv_broadcaster_abbreviation          21311            27514       77.46"
      ]
     },
     "execution_count": 71,
     "metadata": {},
     "output_type": "execute_result"
    }
   ],
   "source": [
    "null_game_summary = game_summary.isnull().sum()\n",
    "total_register = len(game_summary)\n",
    "null_result = null_game_summary[null_game_summary > 0]\n",
    "\n",
    "df_null_game_summary = pd.DataFrame({\n",
    "    \"Valores nulos\": null_result,\n",
    "    \"Total registros\": total_register,\n",
    "    \"Porcentaje\": (null_result / total_register * 100).round(2)\n",
    "})\n",
    "\n",
    "df_null_game_summary"
   ]
  },
  {
   "cell_type": "markdown",
   "id": "62f86f12",
   "metadata": {},
   "source": [
    "### 2.10.3. Elimanación de nulos mayores al 75%"
   ]
  },
  {
   "cell_type": "code",
   "execution_count": 72,
   "id": "bef17508",
   "metadata": {},
   "outputs": [
    {
     "data": {
      "application/vnd.microsoft.datawrangler.viewer.v0+json": {
       "columns": [
        {
         "name": "index",
         "rawType": "object",
         "type": "string"
        },
        {
         "name": "Valores nulos",
         "rawType": "int64",
         "type": "integer"
        },
        {
         "name": "Total registros",
         "rawType": "int64",
         "type": "integer"
        },
        {
         "name": "Porcentaje",
         "rawType": "float64",
         "type": "float"
        }
       ],
       "conversionMethod": "pd.DataFrame",
       "ref": "ddd9828d-764a-42c5-a371-f3ba41a34761",
       "rows": [
        [
         "live_pc_time",
         "25490",
         "27514",
         "92.64"
        ],
        [
         "natl_tv_broadcaster_abbreviation",
         "21311",
         "27514",
         "77.46"
        ]
       ],
       "shape": {
        "columns": 3,
        "rows": 2
       }
      },
      "text/html": [
       "<div>\n",
       "<style scoped>\n",
       "    .dataframe tbody tr th:only-of-type {\n",
       "        vertical-align: middle;\n",
       "    }\n",
       "\n",
       "    .dataframe tbody tr th {\n",
       "        vertical-align: top;\n",
       "    }\n",
       "\n",
       "    .dataframe thead th {\n",
       "        text-align: right;\n",
       "    }\n",
       "</style>\n",
       "<table border=\"1\" class=\"dataframe\">\n",
       "  <thead>\n",
       "    <tr style=\"text-align: right;\">\n",
       "      <th></th>\n",
       "      <th>Valores nulos</th>\n",
       "      <th>Total registros</th>\n",
       "      <th>Porcentaje</th>\n",
       "    </tr>\n",
       "  </thead>\n",
       "  <tbody>\n",
       "    <tr>\n",
       "      <th>live_pc_time</th>\n",
       "      <td>25490</td>\n",
       "      <td>27514</td>\n",
       "      <td>92.64</td>\n",
       "    </tr>\n",
       "    <tr>\n",
       "      <th>natl_tv_broadcaster_abbreviation</th>\n",
       "      <td>21311</td>\n",
       "      <td>27514</td>\n",
       "      <td>77.46</td>\n",
       "    </tr>\n",
       "  </tbody>\n",
       "</table>\n",
       "</div>"
      ],
      "text/plain": [
       "                                  Valores nulos  Total registros  Porcentaje\n",
       "live_pc_time                              25490            27514       92.64\n",
       "natl_tv_broadcaster_abbreviation          21311            27514       77.46"
      ]
     },
     "execution_count": 72,
     "metadata": {},
     "output_type": "execute_result"
    }
   ],
   "source": [
    "null_75 = df_null_game_summary[df_null_game_summary[\"Porcentaje\"] > 75]\n",
    "null_75"
   ]
  },
  {
   "cell_type": "code",
   "execution_count": 73,
   "id": "2b878e06",
   "metadata": {},
   "outputs": [],
   "source": [
    "delete_columns = list(null_75.index)\n",
    "game_summary.drop(columns=delete_columns, inplace=True)"
   ]
  },
  {
   "cell_type": "code",
   "execution_count": 74,
   "id": "efacbc4d",
   "metadata": {},
   "outputs": [
    {
     "data": {
      "application/vnd.microsoft.datawrangler.viewer.v0+json": {
       "columns": [
        {
         "name": "index",
         "rawType": "object",
         "type": "string"
        },
        {
         "name": "Valores nulos",
         "rawType": "int64",
         "type": "integer"
        },
        {
         "name": "Total registros",
         "rawType": "int64",
         "type": "integer"
        },
        {
         "name": "Porcentaje",
         "rawType": "float64",
         "type": "float"
        }
       ],
       "conversionMethod": "pd.DataFrame",
       "ref": "334fab20-ee10-42b9-97fd-84236c3375c9",
       "rows": [],
       "shape": {
        "columns": 3,
        "rows": 0
       }
      },
      "text/html": [
       "<div>\n",
       "<style scoped>\n",
       "    .dataframe tbody tr th:only-of-type {\n",
       "        vertical-align: middle;\n",
       "    }\n",
       "\n",
       "    .dataframe tbody tr th {\n",
       "        vertical-align: top;\n",
       "    }\n",
       "\n",
       "    .dataframe thead th {\n",
       "        text-align: right;\n",
       "    }\n",
       "</style>\n",
       "<table border=\"1\" class=\"dataframe\">\n",
       "  <thead>\n",
       "    <tr style=\"text-align: right;\">\n",
       "      <th></th>\n",
       "      <th>Valores nulos</th>\n",
       "      <th>Total registros</th>\n",
       "      <th>Porcentaje</th>\n",
       "    </tr>\n",
       "  </thead>\n",
       "  <tbody>\n",
       "  </tbody>\n",
       "</table>\n",
       "</div>"
      ],
      "text/plain": [
       "Empty DataFrame\n",
       "Columns: [Valores nulos, Total registros, Porcentaje]\n",
       "Index: []"
      ]
     },
     "execution_count": 74,
     "metadata": {},
     "output_type": "execute_result"
    }
   ],
   "source": [
    "null_game_summary = game_summary.isnull().sum()\n",
    "total_register = len(game_summary)\n",
    "null_result = null_game_summary[null_game_summary > 0]\n",
    "\n",
    "df_null_game_summary = pd.DataFrame({\n",
    "    \"Valores nulos\": null_result,\n",
    "    \"Total registros\": total_register,\n",
    "    \"Porcentaje\": (null_result / total_register * 100).round(2)\n",
    "})\n",
    "\n",
    "df_null_game_summary"
   ]
  },
  {
   "cell_type": "markdown",
   "id": "4c1f05a6",
   "metadata": {},
   "source": [
    "### 2.10.4. Filtro por juego y equipos"
   ]
  },
  {
   "cell_type": "code",
   "execution_count": 75,
   "id": "ecb7ca0a",
   "metadata": {},
   "outputs": [],
   "source": [
    "game_summary = game_summary[game_summary['game_id'].isin(game_2000['game_id']) & game_summary['home_team_id'].isin(team['id']) & game_summary['visitor_team_id'].isin(team['id'])]"
   ]
  },
  {
   "cell_type": "code",
   "execution_count": 76,
   "id": "520798b6",
   "metadata": {},
   "outputs": [
    {
     "data": {
      "application/vnd.microsoft.datawrangler.viewer.v0+json": {
       "columns": [
        {
         "name": "index",
         "rawType": "object",
         "type": "string"
        },
        {
         "name": "Valores nulos",
         "rawType": "int64",
         "type": "integer"
        },
        {
         "name": "Total registros",
         "rawType": "int64",
         "type": "integer"
        },
        {
         "name": "Porcentaje",
         "rawType": "float64",
         "type": "float"
        }
       ],
       "conversionMethod": "pd.DataFrame",
       "ref": "86742b05-ccba-4c70-85f7-5ee921aeff73",
       "rows": [],
       "shape": {
        "columns": 3,
        "rows": 0
       }
      },
      "text/html": [
       "<div>\n",
       "<style scoped>\n",
       "    .dataframe tbody tr th:only-of-type {\n",
       "        vertical-align: middle;\n",
       "    }\n",
       "\n",
       "    .dataframe tbody tr th {\n",
       "        vertical-align: top;\n",
       "    }\n",
       "\n",
       "    .dataframe thead th {\n",
       "        text-align: right;\n",
       "    }\n",
       "</style>\n",
       "<table border=\"1\" class=\"dataframe\">\n",
       "  <thead>\n",
       "    <tr style=\"text-align: right;\">\n",
       "      <th></th>\n",
       "      <th>Valores nulos</th>\n",
       "      <th>Total registros</th>\n",
       "      <th>Porcentaje</th>\n",
       "    </tr>\n",
       "  </thead>\n",
       "  <tbody>\n",
       "  </tbody>\n",
       "</table>\n",
       "</div>"
      ],
      "text/plain": [
       "Empty DataFrame\n",
       "Columns: [Valores nulos, Total registros, Porcentaje]\n",
       "Index: []"
      ]
     },
     "execution_count": 76,
     "metadata": {},
     "output_type": "execute_result"
    }
   ],
   "source": [
    "null_game_summary = game_summary.isnull().sum()\n",
    "total_register = len(game_summary)\n",
    "null_result = null_game_summary[null_game_summary > 0]\n",
    "\n",
    "df_null_game_summary = pd.DataFrame({\n",
    "    \"Valores nulos\": null_result,\n",
    "    \"Total registros\": total_register,\n",
    "    \"Porcentaje\": (null_result / total_register * 100).round(2)\n",
    "})\n",
    "\n",
    "df_null_game_summary"
   ]
  },
  {
   "cell_type": "markdown",
   "id": "e187e92d",
   "metadata": {},
   "source": [
    "### 2.10.5. Eliminación de datos duplicados en la columna game_id"
   ]
  },
  {
   "cell_type": "code",
   "execution_count": 162,
   "id": "e07d6550",
   "metadata": {},
   "outputs": [],
   "source": [
    "game_summary.drop_duplicates(subset=[\"game_id\"], inplace=True)"
   ]
  },
  {
   "cell_type": "code",
   "execution_count": 163,
   "id": "429e0657",
   "metadata": {},
   "outputs": [
    {
     "data": {
      "application/vnd.microsoft.datawrangler.viewer.v0+json": {
       "columns": [
        {
         "name": "index",
         "rawType": "object",
         "type": "string"
        },
        {
         "name": "Valores nulos",
         "rawType": "int64",
         "type": "integer"
        },
        {
         "name": "Total registros",
         "rawType": "int64",
         "type": "integer"
        },
        {
         "name": "Porcentaje",
         "rawType": "float64",
         "type": "float"
        }
       ],
       "conversionMethod": "pd.DataFrame",
       "ref": "bebecf38-8532-415e-935b-21d63c201362",
       "rows": [],
       "shape": {
        "columns": 3,
        "rows": 0
       }
      },
      "text/html": [
       "<div>\n",
       "<style scoped>\n",
       "    .dataframe tbody tr th:only-of-type {\n",
       "        vertical-align: middle;\n",
       "    }\n",
       "\n",
       "    .dataframe tbody tr th {\n",
       "        vertical-align: top;\n",
       "    }\n",
       "\n",
       "    .dataframe thead th {\n",
       "        text-align: right;\n",
       "    }\n",
       "</style>\n",
       "<table border=\"1\" class=\"dataframe\">\n",
       "  <thead>\n",
       "    <tr style=\"text-align: right;\">\n",
       "      <th></th>\n",
       "      <th>Valores nulos</th>\n",
       "      <th>Total registros</th>\n",
       "      <th>Porcentaje</th>\n",
       "    </tr>\n",
       "  </thead>\n",
       "  <tbody>\n",
       "  </tbody>\n",
       "</table>\n",
       "</div>"
      ],
      "text/plain": [
       "Empty DataFrame\n",
       "Columns: [Valores nulos, Total registros, Porcentaje]\n",
       "Index: []"
      ]
     },
     "execution_count": 163,
     "metadata": {},
     "output_type": "execute_result"
    }
   ],
   "source": [
    "null_game_summary = game_summary.isnull().sum()\n",
    "total_register = len(game_summary)\n",
    "null_result = null_game_summary[null_game_summary > 0]\n",
    "\n",
    "df_null_game_summary = pd.DataFrame({\n",
    "    \"Valores nulos\": null_result,\n",
    "    \"Total registros\": total_register,\n",
    "    \"Porcentaje\": (null_result / total_register * 100).round(2)\n",
    "})\n",
    "\n",
    "df_null_game_summary"
   ]
  },
  {
   "cell_type": "markdown",
   "id": "be5eb80d",
   "metadata": {},
   "source": [
    "## 2.11. Tabla Other_stats"
   ]
  },
  {
   "cell_type": "markdown",
   "id": "4d6ab7a4",
   "metadata": {},
   "source": [
    "### 2.11.1. Lectura de nulos"
   ]
  },
  {
   "cell_type": "code",
   "execution_count": 77,
   "id": "3a92000b",
   "metadata": {},
   "outputs": [
    {
     "data": {
      "text/plain": [
       "(game_id                      0\n",
       " league_id                    0\n",
       " team_id_home                 0\n",
       " team_abbreviation_home       0\n",
       " team_city_home               0\n",
       " pts_paint_home               0\n",
       " pts_2nd_chance_home          0\n",
       " pts_fb_home                  0\n",
       " largest_lead_home            0\n",
       " lead_changes                 0\n",
       " times_tied                   0\n",
       " team_turnovers_home          2\n",
       " total_turnovers_home       316\n",
       " team_rebounds_home        1998\n",
       " pts_off_to_home           2123\n",
       " team_id_away                 0\n",
       " team_abbreviation_away       0\n",
       " team_city_away               0\n",
       " pts_paint_away               0\n",
       " pts_2nd_chance_away          0\n",
       " pts_fb_away                  0\n",
       " largest_lead_away            0\n",
       " team_turnovers_away          2\n",
       " total_turnovers_away       316\n",
       " team_rebounds_away        1998\n",
       " pts_off_to_away           2123\n",
       " dtype: int64,\n",
       " (28271, 26))"
      ]
     },
     "execution_count": 77,
     "metadata": {},
     "output_type": "execute_result"
    }
   ],
   "source": [
    "other_stats.isnull().sum(), other_stats.shape"
   ]
  },
  {
   "cell_type": "code",
   "execution_count": 78,
   "id": "03095d27",
   "metadata": {},
   "outputs": [
    {
     "data": {
      "application/vnd.microsoft.datawrangler.viewer.v0+json": {
       "columns": [
        {
         "name": "index",
         "rawType": "object",
         "type": "string"
        },
        {
         "name": "Valores nulos",
         "rawType": "int64",
         "type": "integer"
        },
        {
         "name": "Total registros",
         "rawType": "int64",
         "type": "integer"
        },
        {
         "name": "Porcentaje",
         "rawType": "float64",
         "type": "float"
        }
       ],
       "conversionMethod": "pd.DataFrame",
       "ref": "adfad2f5-82ee-4605-bdae-48865184f80b",
       "rows": [
        [
         "team_turnovers_home",
         "2",
         "28271",
         "0.01"
        ],
        [
         "total_turnovers_home",
         "316",
         "28271",
         "1.12"
        ],
        [
         "team_rebounds_home",
         "1998",
         "28271",
         "7.07"
        ],
        [
         "pts_off_to_home",
         "2123",
         "28271",
         "7.51"
        ],
        [
         "team_turnovers_away",
         "2",
         "28271",
         "0.01"
        ],
        [
         "total_turnovers_away",
         "316",
         "28271",
         "1.12"
        ],
        [
         "team_rebounds_away",
         "1998",
         "28271",
         "7.07"
        ],
        [
         "pts_off_to_away",
         "2123",
         "28271",
         "7.51"
        ]
       ],
       "shape": {
        "columns": 3,
        "rows": 8
       }
      },
      "text/html": [
       "<div>\n",
       "<style scoped>\n",
       "    .dataframe tbody tr th:only-of-type {\n",
       "        vertical-align: middle;\n",
       "    }\n",
       "\n",
       "    .dataframe tbody tr th {\n",
       "        vertical-align: top;\n",
       "    }\n",
       "\n",
       "    .dataframe thead th {\n",
       "        text-align: right;\n",
       "    }\n",
       "</style>\n",
       "<table border=\"1\" class=\"dataframe\">\n",
       "  <thead>\n",
       "    <tr style=\"text-align: right;\">\n",
       "      <th></th>\n",
       "      <th>Valores nulos</th>\n",
       "      <th>Total registros</th>\n",
       "      <th>Porcentaje</th>\n",
       "    </tr>\n",
       "  </thead>\n",
       "  <tbody>\n",
       "    <tr>\n",
       "      <th>team_turnovers_home</th>\n",
       "      <td>2</td>\n",
       "      <td>28271</td>\n",
       "      <td>0.01</td>\n",
       "    </tr>\n",
       "    <tr>\n",
       "      <th>total_turnovers_home</th>\n",
       "      <td>316</td>\n",
       "      <td>28271</td>\n",
       "      <td>1.12</td>\n",
       "    </tr>\n",
       "    <tr>\n",
       "      <th>team_rebounds_home</th>\n",
       "      <td>1998</td>\n",
       "      <td>28271</td>\n",
       "      <td>7.07</td>\n",
       "    </tr>\n",
       "    <tr>\n",
       "      <th>pts_off_to_home</th>\n",
       "      <td>2123</td>\n",
       "      <td>28271</td>\n",
       "      <td>7.51</td>\n",
       "    </tr>\n",
       "    <tr>\n",
       "      <th>team_turnovers_away</th>\n",
       "      <td>2</td>\n",
       "      <td>28271</td>\n",
       "      <td>0.01</td>\n",
       "    </tr>\n",
       "    <tr>\n",
       "      <th>total_turnovers_away</th>\n",
       "      <td>316</td>\n",
       "      <td>28271</td>\n",
       "      <td>1.12</td>\n",
       "    </tr>\n",
       "    <tr>\n",
       "      <th>team_rebounds_away</th>\n",
       "      <td>1998</td>\n",
       "      <td>28271</td>\n",
       "      <td>7.07</td>\n",
       "    </tr>\n",
       "    <tr>\n",
       "      <th>pts_off_to_away</th>\n",
       "      <td>2123</td>\n",
       "      <td>28271</td>\n",
       "      <td>7.51</td>\n",
       "    </tr>\n",
       "  </tbody>\n",
       "</table>\n",
       "</div>"
      ],
      "text/plain": [
       "                      Valores nulos  Total registros  Porcentaje\n",
       "team_turnovers_home               2            28271        0.01\n",
       "total_turnovers_home            316            28271        1.12\n",
       "team_rebounds_home             1998            28271        7.07\n",
       "pts_off_to_home                2123            28271        7.51\n",
       "team_turnovers_away               2            28271        0.01\n",
       "total_turnovers_away            316            28271        1.12\n",
       "team_rebounds_away             1998            28271        7.07\n",
       "pts_off_to_away                2123            28271        7.51"
      ]
     },
     "execution_count": 78,
     "metadata": {},
     "output_type": "execute_result"
    }
   ],
   "source": [
    "null_other_stats = other_stats.isnull().sum()\n",
    "total_register = len(other_stats)\n",
    "null_result = null_other_stats[null_other_stats > 0]\n",
    "\n",
    "df_null_other_stats = pd.DataFrame(\n",
    "    {\n",
    "        \"Valores nulos\": null_result,\n",
    "        \"Total registros\": total_register,\n",
    "        \"Porcentaje\": (null_result / total_register * 100).round(2),\n",
    "    }\n",
    ")\n",
    "\n",
    "df_null_other_stats"
   ]
  },
  {
   "cell_type": "markdown",
   "id": "6536d476",
   "metadata": {},
   "source": [
    "### 2.11.2. Eliminación de columnas innecessarias"
   ]
  },
  {
   "cell_type": "code",
   "execution_count": 79,
   "id": "28e3ca68",
   "metadata": {},
   "outputs": [],
   "source": [
    "delete_columns = ['league_id']\n",
    "\n",
    "other_stats.drop(delete_columns, axis=1, inplace=True)"
   ]
  },
  {
   "cell_type": "code",
   "execution_count": 80,
   "id": "03f7f2f0",
   "metadata": {},
   "outputs": [
    {
     "data": {
      "application/vnd.microsoft.datawrangler.viewer.v0+json": {
       "columns": [
        {
         "name": "index",
         "rawType": "object",
         "type": "string"
        },
        {
         "name": "Valores nulos",
         "rawType": "int64",
         "type": "integer"
        },
        {
         "name": "Total registros",
         "rawType": "int64",
         "type": "integer"
        },
        {
         "name": "Porcentaje",
         "rawType": "float64",
         "type": "float"
        }
       ],
       "conversionMethod": "pd.DataFrame",
       "ref": "0e918df9-9960-4fb3-b7af-5bbaf544f2ca",
       "rows": [
        [
         "team_turnovers_home",
         "2",
         "28271",
         "0.01"
        ],
        [
         "total_turnovers_home",
         "316",
         "28271",
         "1.12"
        ],
        [
         "team_rebounds_home",
         "1998",
         "28271",
         "7.07"
        ],
        [
         "pts_off_to_home",
         "2123",
         "28271",
         "7.51"
        ],
        [
         "team_turnovers_away",
         "2",
         "28271",
         "0.01"
        ],
        [
         "total_turnovers_away",
         "316",
         "28271",
         "1.12"
        ],
        [
         "team_rebounds_away",
         "1998",
         "28271",
         "7.07"
        ],
        [
         "pts_off_to_away",
         "2123",
         "28271",
         "7.51"
        ]
       ],
       "shape": {
        "columns": 3,
        "rows": 8
       }
      },
      "text/html": [
       "<div>\n",
       "<style scoped>\n",
       "    .dataframe tbody tr th:only-of-type {\n",
       "        vertical-align: middle;\n",
       "    }\n",
       "\n",
       "    .dataframe tbody tr th {\n",
       "        vertical-align: top;\n",
       "    }\n",
       "\n",
       "    .dataframe thead th {\n",
       "        text-align: right;\n",
       "    }\n",
       "</style>\n",
       "<table border=\"1\" class=\"dataframe\">\n",
       "  <thead>\n",
       "    <tr style=\"text-align: right;\">\n",
       "      <th></th>\n",
       "      <th>Valores nulos</th>\n",
       "      <th>Total registros</th>\n",
       "      <th>Porcentaje</th>\n",
       "    </tr>\n",
       "  </thead>\n",
       "  <tbody>\n",
       "    <tr>\n",
       "      <th>team_turnovers_home</th>\n",
       "      <td>2</td>\n",
       "      <td>28271</td>\n",
       "      <td>0.01</td>\n",
       "    </tr>\n",
       "    <tr>\n",
       "      <th>total_turnovers_home</th>\n",
       "      <td>316</td>\n",
       "      <td>28271</td>\n",
       "      <td>1.12</td>\n",
       "    </tr>\n",
       "    <tr>\n",
       "      <th>team_rebounds_home</th>\n",
       "      <td>1998</td>\n",
       "      <td>28271</td>\n",
       "      <td>7.07</td>\n",
       "    </tr>\n",
       "    <tr>\n",
       "      <th>pts_off_to_home</th>\n",
       "      <td>2123</td>\n",
       "      <td>28271</td>\n",
       "      <td>7.51</td>\n",
       "    </tr>\n",
       "    <tr>\n",
       "      <th>team_turnovers_away</th>\n",
       "      <td>2</td>\n",
       "      <td>28271</td>\n",
       "      <td>0.01</td>\n",
       "    </tr>\n",
       "    <tr>\n",
       "      <th>total_turnovers_away</th>\n",
       "      <td>316</td>\n",
       "      <td>28271</td>\n",
       "      <td>1.12</td>\n",
       "    </tr>\n",
       "    <tr>\n",
       "      <th>team_rebounds_away</th>\n",
       "      <td>1998</td>\n",
       "      <td>28271</td>\n",
       "      <td>7.07</td>\n",
       "    </tr>\n",
       "    <tr>\n",
       "      <th>pts_off_to_away</th>\n",
       "      <td>2123</td>\n",
       "      <td>28271</td>\n",
       "      <td>7.51</td>\n",
       "    </tr>\n",
       "  </tbody>\n",
       "</table>\n",
       "</div>"
      ],
      "text/plain": [
       "                      Valores nulos  Total registros  Porcentaje\n",
       "team_turnovers_home               2            28271        0.01\n",
       "total_turnovers_home            316            28271        1.12\n",
       "team_rebounds_home             1998            28271        7.07\n",
       "pts_off_to_home                2123            28271        7.51\n",
       "team_turnovers_away               2            28271        0.01\n",
       "total_turnovers_away            316            28271        1.12\n",
       "team_rebounds_away             1998            28271        7.07\n",
       "pts_off_to_away                2123            28271        7.51"
      ]
     },
     "execution_count": 80,
     "metadata": {},
     "output_type": "execute_result"
    }
   ],
   "source": [
    "null_other_stats = other_stats.isnull().sum()\n",
    "total_register = len(other_stats)\n",
    "null_result = null_other_stats[null_other_stats > 0]\n",
    "\n",
    "df_null_other_stats = pd.DataFrame(\n",
    "    {\n",
    "        \"Valores nulos\": null_result,\n",
    "        \"Total registros\": total_register,\n",
    "        \"Porcentaje\": (null_result / total_register * 100).round(2),\n",
    "    }\n",
    ")\n",
    "\n",
    "df_null_other_stats"
   ]
  },
  {
   "cell_type": "markdown",
   "id": "305b41a0",
   "metadata": {},
   "source": [
    "### 2.11.3. Eliminación de filas nulas en las diferentes tablas"
   ]
  },
  {
   "cell_type": "code",
   "execution_count": 81,
   "id": "2096410a",
   "metadata": {},
   "outputs": [],
   "source": [
    "other_stats = other_stats.dropna(subset=['team_turnovers_home', 'total_turnovers_home', 'team_rebounds_home', 'pts_off_to_home', 'team_turnovers_away', 'total_turnovers_away', 'team_rebounds_away', 'pts_off_to_away'])"
   ]
  },
  {
   "cell_type": "code",
   "execution_count": 82,
   "id": "cafbd706",
   "metadata": {},
   "outputs": [
    {
     "data": {
      "application/vnd.microsoft.datawrangler.viewer.v0+json": {
       "columns": [
        {
         "name": "index",
         "rawType": "object",
         "type": "string"
        },
        {
         "name": "Valores nulos",
         "rawType": "int64",
         "type": "integer"
        },
        {
         "name": "Total registros",
         "rawType": "int64",
         "type": "integer"
        },
        {
         "name": "Porcentaje",
         "rawType": "float64",
         "type": "float"
        }
       ],
       "conversionMethod": "pd.DataFrame",
       "ref": "c5027831-aa5b-4b61-b797-dada5c989b3c",
       "rows": [],
       "shape": {
        "columns": 3,
        "rows": 0
       }
      },
      "text/html": [
       "<div>\n",
       "<style scoped>\n",
       "    .dataframe tbody tr th:only-of-type {\n",
       "        vertical-align: middle;\n",
       "    }\n",
       "\n",
       "    .dataframe tbody tr th {\n",
       "        vertical-align: top;\n",
       "    }\n",
       "\n",
       "    .dataframe thead th {\n",
       "        text-align: right;\n",
       "    }\n",
       "</style>\n",
       "<table border=\"1\" class=\"dataframe\">\n",
       "  <thead>\n",
       "    <tr style=\"text-align: right;\">\n",
       "      <th></th>\n",
       "      <th>Valores nulos</th>\n",
       "      <th>Total registros</th>\n",
       "      <th>Porcentaje</th>\n",
       "    </tr>\n",
       "  </thead>\n",
       "  <tbody>\n",
       "  </tbody>\n",
       "</table>\n",
       "</div>"
      ],
      "text/plain": [
       "Empty DataFrame\n",
       "Columns: [Valores nulos, Total registros, Porcentaje]\n",
       "Index: []"
      ]
     },
     "execution_count": 82,
     "metadata": {},
     "output_type": "execute_result"
    }
   ],
   "source": [
    "null_other_stats = other_stats.isnull().sum()\n",
    "total_register = len(other_stats)\n",
    "null_result = null_other_stats[null_other_stats > 0]\n",
    "\n",
    "df_null_other_stats = pd.DataFrame(\n",
    "    {\n",
    "        \"Valores nulos\": null_result,\n",
    "        \"Total registros\": total_register,\n",
    "        \"Porcentaje\": (null_result / total_register * 100).round(2),\n",
    "    }\n",
    ")\n",
    "\n",
    "df_null_other_stats"
   ]
  },
  {
   "cell_type": "markdown",
   "id": "697c2cc9",
   "metadata": {},
   "source": [
    "### 2.11.4. Filtro por juego y equipos"
   ]
  },
  {
   "cell_type": "code",
   "execution_count": 83,
   "id": "4c184cf1",
   "metadata": {},
   "outputs": [],
   "source": [
    "other_stats = other_stats[other_stats['game_id'].isin(game_2000['game_id']) & other_stats['team_id_home'].isin(team['id']) & other_stats['team_id_away'].isin(team['id'])]"
   ]
  },
  {
   "cell_type": "code",
   "execution_count": 84,
   "id": "7203e43f",
   "metadata": {},
   "outputs": [
    {
     "data": {
      "application/vnd.microsoft.datawrangler.viewer.v0+json": {
       "columns": [
        {
         "name": "index",
         "rawType": "object",
         "type": "string"
        },
        {
         "name": "Valores nulos",
         "rawType": "int64",
         "type": "integer"
        },
        {
         "name": "Total registros",
         "rawType": "int64",
         "type": "integer"
        },
        {
         "name": "Porcentaje",
         "rawType": "float64",
         "type": "float"
        }
       ],
       "conversionMethod": "pd.DataFrame",
       "ref": "431f349e-1e34-42d9-9b32-3d4a3614f310",
       "rows": [],
       "shape": {
        "columns": 3,
        "rows": 0
       }
      },
      "text/html": [
       "<div>\n",
       "<style scoped>\n",
       "    .dataframe tbody tr th:only-of-type {\n",
       "        vertical-align: middle;\n",
       "    }\n",
       "\n",
       "    .dataframe tbody tr th {\n",
       "        vertical-align: top;\n",
       "    }\n",
       "\n",
       "    .dataframe thead th {\n",
       "        text-align: right;\n",
       "    }\n",
       "</style>\n",
       "<table border=\"1\" class=\"dataframe\">\n",
       "  <thead>\n",
       "    <tr style=\"text-align: right;\">\n",
       "      <th></th>\n",
       "      <th>Valores nulos</th>\n",
       "      <th>Total registros</th>\n",
       "      <th>Porcentaje</th>\n",
       "    </tr>\n",
       "  </thead>\n",
       "  <tbody>\n",
       "  </tbody>\n",
       "</table>\n",
       "</div>"
      ],
      "text/plain": [
       "Empty DataFrame\n",
       "Columns: [Valores nulos, Total registros, Porcentaje]\n",
       "Index: []"
      ]
     },
     "execution_count": 84,
     "metadata": {},
     "output_type": "execute_result"
    }
   ],
   "source": [
    "null_other_stats = other_stats.isnull().sum()\n",
    "total_register = len(other_stats)\n",
    "null_result = null_other_stats[null_other_stats > 0]\n",
    "\n",
    "df_null_other_stats = pd.DataFrame(\n",
    "    {\n",
    "        \"Valores nulos\": null_result,\n",
    "        \"Total registros\": total_register,\n",
    "        \"Porcentaje\": (null_result / total_register * 100).round(2),\n",
    "    }\n",
    ")\n",
    "\n",
    "df_null_other_stats"
   ]
  },
  {
   "cell_type": "markdown",
   "id": "69c1e9c8",
   "metadata": {},
   "source": [
    "## 2.12. Tabla Officials"
   ]
  },
  {
   "cell_type": "markdown",
   "id": "87b5e482",
   "metadata": {},
   "source": [
    "### 2.12.1. Lectura de nulos"
   ]
  },
  {
   "cell_type": "code",
   "execution_count": 85,
   "id": "055c0671",
   "metadata": {},
   "outputs": [
    {
     "data": {
      "text/plain": [
       "(game_id          0\n",
       " official_id      0\n",
       " first_name       0\n",
       " last_name        0\n",
       " jersey_num     190\n",
       " dtype: int64,\n",
       " (70971, 5))"
      ]
     },
     "execution_count": 85,
     "metadata": {},
     "output_type": "execute_result"
    }
   ],
   "source": [
    "officials.isnull().sum(), officials.shape"
   ]
  },
  {
   "cell_type": "code",
   "execution_count": 86,
   "id": "d555e874",
   "metadata": {},
   "outputs": [
    {
     "data": {
      "application/vnd.microsoft.datawrangler.viewer.v0+json": {
       "columns": [
        {
         "name": "index",
         "rawType": "object",
         "type": "string"
        },
        {
         "name": "Valores nulos",
         "rawType": "int64",
         "type": "integer"
        },
        {
         "name": "Total registros",
         "rawType": "int64",
         "type": "integer"
        },
        {
         "name": "Porcentaje",
         "rawType": "float64",
         "type": "float"
        }
       ],
       "conversionMethod": "pd.DataFrame",
       "ref": "56b84819-d076-4269-90a8-8b6750f50633",
       "rows": [
        [
         "jersey_num",
         "190",
         "70971",
         "0.27"
        ]
       ],
       "shape": {
        "columns": 3,
        "rows": 1
       }
      },
      "text/html": [
       "<div>\n",
       "<style scoped>\n",
       "    .dataframe tbody tr th:only-of-type {\n",
       "        vertical-align: middle;\n",
       "    }\n",
       "\n",
       "    .dataframe tbody tr th {\n",
       "        vertical-align: top;\n",
       "    }\n",
       "\n",
       "    .dataframe thead th {\n",
       "        text-align: right;\n",
       "    }\n",
       "</style>\n",
       "<table border=\"1\" class=\"dataframe\">\n",
       "  <thead>\n",
       "    <tr style=\"text-align: right;\">\n",
       "      <th></th>\n",
       "      <th>Valores nulos</th>\n",
       "      <th>Total registros</th>\n",
       "      <th>Porcentaje</th>\n",
       "    </tr>\n",
       "  </thead>\n",
       "  <tbody>\n",
       "    <tr>\n",
       "      <th>jersey_num</th>\n",
       "      <td>190</td>\n",
       "      <td>70971</td>\n",
       "      <td>0.27</td>\n",
       "    </tr>\n",
       "  </tbody>\n",
       "</table>\n",
       "</div>"
      ],
      "text/plain": [
       "            Valores nulos  Total registros  Porcentaje\n",
       "jersey_num            190            70971        0.27"
      ]
     },
     "execution_count": 86,
     "metadata": {},
     "output_type": "execute_result"
    }
   ],
   "source": [
    "null_officials = officials.isnull().sum()\n",
    "total_register = len(officials)\n",
    "null_result = null_officials[null_officials > 0]\n",
    "\n",
    "df_null_officials = pd.DataFrame(\n",
    "    {\n",
    "        \"Valores nulos\": null_result,\n",
    "        \"Total registros\": total_register,\n",
    "        \"Porcentaje\": (null_result / total_register * 100).round(2),\n",
    "    }\n",
    ")\n",
    "\n",
    "df_null_officials"
   ]
  },
  {
   "cell_type": "markdown",
   "id": "76045fd0",
   "metadata": {},
   "source": [
    "### 2.12.2. Eliminación de columnas innecesarias"
   ]
  },
  {
   "cell_type": "code",
   "execution_count": 87,
   "id": "c5b77912",
   "metadata": {},
   "outputs": [],
   "source": [
    "officials = officials.drop(['jersey_num'], axis=1)"
   ]
  },
  {
   "cell_type": "code",
   "execution_count": 88,
   "id": "69116651",
   "metadata": {},
   "outputs": [
    {
     "data": {
      "application/vnd.microsoft.datawrangler.viewer.v0+json": {
       "columns": [
        {
         "name": "index",
         "rawType": "object",
         "type": "string"
        },
        {
         "name": "Valores nulos",
         "rawType": "int64",
         "type": "integer"
        },
        {
         "name": "Total registros",
         "rawType": "int64",
         "type": "integer"
        },
        {
         "name": "Porcentaje",
         "rawType": "float64",
         "type": "float"
        }
       ],
       "conversionMethod": "pd.DataFrame",
       "ref": "11f72a79-3b92-4535-adea-fbe1231c9c39",
       "rows": [],
       "shape": {
        "columns": 3,
        "rows": 0
       }
      },
      "text/html": [
       "<div>\n",
       "<style scoped>\n",
       "    .dataframe tbody tr th:only-of-type {\n",
       "        vertical-align: middle;\n",
       "    }\n",
       "\n",
       "    .dataframe tbody tr th {\n",
       "        vertical-align: top;\n",
       "    }\n",
       "\n",
       "    .dataframe thead th {\n",
       "        text-align: right;\n",
       "    }\n",
       "</style>\n",
       "<table border=\"1\" class=\"dataframe\">\n",
       "  <thead>\n",
       "    <tr style=\"text-align: right;\">\n",
       "      <th></th>\n",
       "      <th>Valores nulos</th>\n",
       "      <th>Total registros</th>\n",
       "      <th>Porcentaje</th>\n",
       "    </tr>\n",
       "  </thead>\n",
       "  <tbody>\n",
       "  </tbody>\n",
       "</table>\n",
       "</div>"
      ],
      "text/plain": [
       "Empty DataFrame\n",
       "Columns: [Valores nulos, Total registros, Porcentaje]\n",
       "Index: []"
      ]
     },
     "execution_count": 88,
     "metadata": {},
     "output_type": "execute_result"
    }
   ],
   "source": [
    "null_officials = officials.isnull().sum()\n",
    "total_register = len(officials)\n",
    "null_result = null_officials[null_officials > 0]\n",
    "\n",
    "df_null_officials = pd.DataFrame(\n",
    "    {\n",
    "        \"Valores nulos\": null_result,\n",
    "        \"Total registros\": total_register,\n",
    "        \"Porcentaje\": (null_result / total_register * 100).round(2),\n",
    "    }\n",
    ")\n",
    "\n",
    "df_null_officials"
   ]
  },
  {
   "cell_type": "markdown",
   "id": "da8596a8",
   "metadata": {},
   "source": [
    "### 2.12.3. Filtro por juego"
   ]
  },
  {
   "cell_type": "code",
   "execution_count": 89,
   "id": "0bc053f0",
   "metadata": {},
   "outputs": [],
   "source": [
    "officials = officials[officials['game_id'].isin(game_2000['game_id'])]"
   ]
  },
  {
   "cell_type": "code",
   "execution_count": 90,
   "id": "ea3953d7",
   "metadata": {},
   "outputs": [
    {
     "data": {
      "application/vnd.microsoft.datawrangler.viewer.v0+json": {
       "columns": [
        {
         "name": "index",
         "rawType": "object",
         "type": "string"
        },
        {
         "name": "Valores nulos",
         "rawType": "int64",
         "type": "integer"
        },
        {
         "name": "Total registros",
         "rawType": "int64",
         "type": "integer"
        },
        {
         "name": "Porcentaje",
         "rawType": "float64",
         "type": "float"
        }
       ],
       "conversionMethod": "pd.DataFrame",
       "ref": "df0119af-f9a2-478a-aa3e-b6fb3d8c37e6",
       "rows": [],
       "shape": {
        "columns": 3,
        "rows": 0
       }
      },
      "text/html": [
       "<div>\n",
       "<style scoped>\n",
       "    .dataframe tbody tr th:only-of-type {\n",
       "        vertical-align: middle;\n",
       "    }\n",
       "\n",
       "    .dataframe tbody tr th {\n",
       "        vertical-align: top;\n",
       "    }\n",
       "\n",
       "    .dataframe thead th {\n",
       "        text-align: right;\n",
       "    }\n",
       "</style>\n",
       "<table border=\"1\" class=\"dataframe\">\n",
       "  <thead>\n",
       "    <tr style=\"text-align: right;\">\n",
       "      <th></th>\n",
       "      <th>Valores nulos</th>\n",
       "      <th>Total registros</th>\n",
       "      <th>Porcentaje</th>\n",
       "    </tr>\n",
       "  </thead>\n",
       "  <tbody>\n",
       "  </tbody>\n",
       "</table>\n",
       "</div>"
      ],
      "text/plain": [
       "Empty DataFrame\n",
       "Columns: [Valores nulos, Total registros, Porcentaje]\n",
       "Index: []"
      ]
     },
     "execution_count": 90,
     "metadata": {},
     "output_type": "execute_result"
    }
   ],
   "source": [
    "null_officials = officials.isnull().sum()\n",
    "total_register = len(officials)\n",
    "null_result = null_officials[null_officials > 0]\n",
    "\n",
    "df_null_officials = pd.DataFrame(\n",
    "    {\n",
    "        \"Valores nulos\": null_result,\n",
    "        \"Total registros\": total_register,\n",
    "        \"Porcentaje\": (null_result / total_register * 100).round(2),\n",
    "    }\n",
    ")\n",
    "\n",
    "df_null_officials"
   ]
  },
  {
   "cell_type": "markdown",
   "id": "2c22178c",
   "metadata": {},
   "source": [
    "## 2.13. Tabla Inactive_players"
   ]
  },
  {
   "cell_type": "markdown",
   "id": "405431d9",
   "metadata": {},
   "source": [
    "### 2.13.1. Lectura de nulos"
   ]
  },
  {
   "cell_type": "code",
   "execution_count": 91,
   "id": "76a8a18b",
   "metadata": {},
   "outputs": [
    {
     "data": {
      "text/plain": [
       "(game_id               0\n",
       " player_id             0\n",
       " first_name            1\n",
       " last_name             1\n",
       " jersey_num           43\n",
       " team_id               0\n",
       " team_city             0\n",
       " team_name             0\n",
       " team_abbreviation     0\n",
       " dtype: int64,\n",
       " (110191, 9))"
      ]
     },
     "execution_count": 91,
     "metadata": {},
     "output_type": "execute_result"
    }
   ],
   "source": [
    "inactive_players.isnull().sum(), inactive_players.shape"
   ]
  },
  {
   "cell_type": "code",
   "execution_count": 92,
   "id": "94e5b493",
   "metadata": {},
   "outputs": [
    {
     "data": {
      "application/vnd.microsoft.datawrangler.viewer.v0+json": {
       "columns": [
        {
         "name": "index",
         "rawType": "object",
         "type": "string"
        },
        {
         "name": "Valores nulos",
         "rawType": "int64",
         "type": "integer"
        },
        {
         "name": "Total registros",
         "rawType": "int64",
         "type": "integer"
        },
        {
         "name": "Porcentaje",
         "rawType": "float64",
         "type": "float"
        }
       ],
       "conversionMethod": "pd.DataFrame",
       "ref": "5de130a7-648c-44dd-bd68-bcb9abc369e5",
       "rows": [
        [
         "first_name",
         "1",
         "110191",
         "0.0"
        ],
        [
         "last_name",
         "1",
         "110191",
         "0.0"
        ],
        [
         "jersey_num",
         "43",
         "110191",
         "0.04"
        ]
       ],
       "shape": {
        "columns": 3,
        "rows": 3
       }
      },
      "text/html": [
       "<div>\n",
       "<style scoped>\n",
       "    .dataframe tbody tr th:only-of-type {\n",
       "        vertical-align: middle;\n",
       "    }\n",
       "\n",
       "    .dataframe tbody tr th {\n",
       "        vertical-align: top;\n",
       "    }\n",
       "\n",
       "    .dataframe thead th {\n",
       "        text-align: right;\n",
       "    }\n",
       "</style>\n",
       "<table border=\"1\" class=\"dataframe\">\n",
       "  <thead>\n",
       "    <tr style=\"text-align: right;\">\n",
       "      <th></th>\n",
       "      <th>Valores nulos</th>\n",
       "      <th>Total registros</th>\n",
       "      <th>Porcentaje</th>\n",
       "    </tr>\n",
       "  </thead>\n",
       "  <tbody>\n",
       "    <tr>\n",
       "      <th>first_name</th>\n",
       "      <td>1</td>\n",
       "      <td>110191</td>\n",
       "      <td>0.00</td>\n",
       "    </tr>\n",
       "    <tr>\n",
       "      <th>last_name</th>\n",
       "      <td>1</td>\n",
       "      <td>110191</td>\n",
       "      <td>0.00</td>\n",
       "    </tr>\n",
       "    <tr>\n",
       "      <th>jersey_num</th>\n",
       "      <td>43</td>\n",
       "      <td>110191</td>\n",
       "      <td>0.04</td>\n",
       "    </tr>\n",
       "  </tbody>\n",
       "</table>\n",
       "</div>"
      ],
      "text/plain": [
       "            Valores nulos  Total registros  Porcentaje\n",
       "first_name              1           110191        0.00\n",
       "last_name               1           110191        0.00\n",
       "jersey_num             43           110191        0.04"
      ]
     },
     "execution_count": 92,
     "metadata": {},
     "output_type": "execute_result"
    }
   ],
   "source": [
    "null_inactive_players = inactive_players.isnull().sum()\n",
    "total_register = len(inactive_players)\n",
    "null_result = null_inactive_players[null_inactive_players > 0]\n",
    "\n",
    "df_null_inactive_players = pd.DataFrame({\n",
    "    \"Valores nulos\": null_result,\n",
    "    \"Total registros\": total_register,\n",
    "    \"Porcentaje\": (null_result / total_register * 100).round(2)\n",
    "})\n",
    "\n",
    "df_null_inactive_players"
   ]
  },
  {
   "cell_type": "markdown",
   "id": "bae769eb",
   "metadata": {},
   "source": [
    "### 2.13.2. Filtro por los juegos de la tabla game"
   ]
  },
  {
   "cell_type": "code",
   "execution_count": 93,
   "id": "71c5ef72",
   "metadata": {},
   "outputs": [],
   "source": [
    "inactive_players = inactive_players[inactive_players['game_id'].isin(game['game_id'])]"
   ]
  },
  {
   "cell_type": "code",
   "execution_count": 94,
   "id": "b741871a",
   "metadata": {},
   "outputs": [
    {
     "data": {
      "application/vnd.microsoft.datawrangler.viewer.v0+json": {
       "columns": [
        {
         "name": "index",
         "rawType": "object",
         "type": "string"
        },
        {
         "name": "Valores nulos",
         "rawType": "int64",
         "type": "integer"
        },
        {
         "name": "Total registros",
         "rawType": "int64",
         "type": "integer"
        },
        {
         "name": "Porcentaje",
         "rawType": "float64",
         "type": "float"
        }
       ],
       "conversionMethod": "pd.DataFrame",
       "ref": "f74e2d55-9544-443b-9d8f-6b1f20e05b86",
       "rows": [
        [
         "first_name",
         "1",
         "110191",
         "0.0"
        ],
        [
         "last_name",
         "1",
         "110191",
         "0.0"
        ],
        [
         "jersey_num",
         "43",
         "110191",
         "0.04"
        ]
       ],
       "shape": {
        "columns": 3,
        "rows": 3
       }
      },
      "text/html": [
       "<div>\n",
       "<style scoped>\n",
       "    .dataframe tbody tr th:only-of-type {\n",
       "        vertical-align: middle;\n",
       "    }\n",
       "\n",
       "    .dataframe tbody tr th {\n",
       "        vertical-align: top;\n",
       "    }\n",
       "\n",
       "    .dataframe thead th {\n",
       "        text-align: right;\n",
       "    }\n",
       "</style>\n",
       "<table border=\"1\" class=\"dataframe\">\n",
       "  <thead>\n",
       "    <tr style=\"text-align: right;\">\n",
       "      <th></th>\n",
       "      <th>Valores nulos</th>\n",
       "      <th>Total registros</th>\n",
       "      <th>Porcentaje</th>\n",
       "    </tr>\n",
       "  </thead>\n",
       "  <tbody>\n",
       "    <tr>\n",
       "      <th>first_name</th>\n",
       "      <td>1</td>\n",
       "      <td>110191</td>\n",
       "      <td>0.00</td>\n",
       "    </tr>\n",
       "    <tr>\n",
       "      <th>last_name</th>\n",
       "      <td>1</td>\n",
       "      <td>110191</td>\n",
       "      <td>0.00</td>\n",
       "    </tr>\n",
       "    <tr>\n",
       "      <th>jersey_num</th>\n",
       "      <td>43</td>\n",
       "      <td>110191</td>\n",
       "      <td>0.04</td>\n",
       "    </tr>\n",
       "  </tbody>\n",
       "</table>\n",
       "</div>"
      ],
      "text/plain": [
       "            Valores nulos  Total registros  Porcentaje\n",
       "first_name              1           110191        0.00\n",
       "last_name               1           110191        0.00\n",
       "jersey_num             43           110191        0.04"
      ]
     },
     "execution_count": 94,
     "metadata": {},
     "output_type": "execute_result"
    }
   ],
   "source": [
    "null_inactive_players = inactive_players.isnull().sum()\n",
    "total_register = len(inactive_players)\n",
    "null_result = null_inactive_players[null_inactive_players > 0]\n",
    "\n",
    "df_null_inactive_players = pd.DataFrame({\n",
    "    \"Valores nulos\": null_result,\n",
    "    \"Total registros\": total_register,\n",
    "    \"Porcentaje\": (null_result / total_register * 100).round(2)\n",
    "})\n",
    "\n",
    "df_null_inactive_players"
   ]
  },
  {
   "cell_type": "markdown",
   "id": "c835f52b",
   "metadata": {},
   "source": [
    "### 2.13.3. Eliminación de filas nulas en las diferentes columnas"
   ]
  },
  {
   "cell_type": "code",
   "execution_count": 95,
   "id": "f9df7313",
   "metadata": {},
   "outputs": [],
   "source": [
    "inactive_players.dropna(subset=['first_name', 'last_name'], inplace=True)"
   ]
  },
  {
   "cell_type": "code",
   "execution_count": 96,
   "id": "03c13db3",
   "metadata": {},
   "outputs": [
    {
     "data": {
      "application/vnd.microsoft.datawrangler.viewer.v0+json": {
       "columns": [
        {
         "name": "index",
         "rawType": "object",
         "type": "string"
        },
        {
         "name": "Valores nulos",
         "rawType": "int64",
         "type": "integer"
        },
        {
         "name": "Total registros",
         "rawType": "int64",
         "type": "integer"
        },
        {
         "name": "Porcentaje",
         "rawType": "float64",
         "type": "float"
        }
       ],
       "conversionMethod": "pd.DataFrame",
       "ref": "fbfd1f34-3581-41d7-9369-8e5a121e5ac7",
       "rows": [
        [
         "jersey_num",
         "43",
         "110190",
         "0.04"
        ]
       ],
       "shape": {
        "columns": 3,
        "rows": 1
       }
      },
      "text/html": [
       "<div>\n",
       "<style scoped>\n",
       "    .dataframe tbody tr th:only-of-type {\n",
       "        vertical-align: middle;\n",
       "    }\n",
       "\n",
       "    .dataframe tbody tr th {\n",
       "        vertical-align: top;\n",
       "    }\n",
       "\n",
       "    .dataframe thead th {\n",
       "        text-align: right;\n",
       "    }\n",
       "</style>\n",
       "<table border=\"1\" class=\"dataframe\">\n",
       "  <thead>\n",
       "    <tr style=\"text-align: right;\">\n",
       "      <th></th>\n",
       "      <th>Valores nulos</th>\n",
       "      <th>Total registros</th>\n",
       "      <th>Porcentaje</th>\n",
       "    </tr>\n",
       "  </thead>\n",
       "  <tbody>\n",
       "    <tr>\n",
       "      <th>jersey_num</th>\n",
       "      <td>43</td>\n",
       "      <td>110190</td>\n",
       "      <td>0.04</td>\n",
       "    </tr>\n",
       "  </tbody>\n",
       "</table>\n",
       "</div>"
      ],
      "text/plain": [
       "            Valores nulos  Total registros  Porcentaje\n",
       "jersey_num             43           110190        0.04"
      ]
     },
     "execution_count": 96,
     "metadata": {},
     "output_type": "execute_result"
    }
   ],
   "source": [
    "null_inactive_players = inactive_players.isnull().sum()\n",
    "total_register = len(inactive_players)\n",
    "null_result = null_inactive_players[null_inactive_players > 0]\n",
    "\n",
    "df_null_inactive_players = pd.DataFrame({\n",
    "    \"Valores nulos\": null_result,\n",
    "    \"Total registros\": total_register,\n",
    "    \"Porcentaje\": (null_result / total_register * 100).round(2)\n",
    "})\n",
    "\n",
    "df_null_inactive_players"
   ]
  },
  {
   "cell_type": "markdown",
   "id": "700e685e",
   "metadata": {},
   "source": [
    "### 2.13.4. Eliminación de columnas innecesarias"
   ]
  },
  {
   "cell_type": "code",
   "execution_count": 97,
   "id": "0bf04ba0",
   "metadata": {},
   "outputs": [],
   "source": [
    "delete_columns = ['jersey_num']\n",
    "\n",
    "inactive_players.drop(delete_columns, axis=1, inplace=True)"
   ]
  },
  {
   "cell_type": "code",
   "execution_count": 98,
   "id": "140f2245",
   "metadata": {},
   "outputs": [
    {
     "data": {
      "application/vnd.microsoft.datawrangler.viewer.v0+json": {
       "columns": [
        {
         "name": "index",
         "rawType": "object",
         "type": "string"
        },
        {
         "name": "Valores nulos",
         "rawType": "int64",
         "type": "integer"
        },
        {
         "name": "Total registros",
         "rawType": "int64",
         "type": "integer"
        },
        {
         "name": "Porcentaje",
         "rawType": "float64",
         "type": "float"
        }
       ],
       "conversionMethod": "pd.DataFrame",
       "ref": "a541a69d-2033-4fcf-bbc7-7d707020e9fa",
       "rows": [],
       "shape": {
        "columns": 3,
        "rows": 0
       }
      },
      "text/html": [
       "<div>\n",
       "<style scoped>\n",
       "    .dataframe tbody tr th:only-of-type {\n",
       "        vertical-align: middle;\n",
       "    }\n",
       "\n",
       "    .dataframe tbody tr th {\n",
       "        vertical-align: top;\n",
       "    }\n",
       "\n",
       "    .dataframe thead th {\n",
       "        text-align: right;\n",
       "    }\n",
       "</style>\n",
       "<table border=\"1\" class=\"dataframe\">\n",
       "  <thead>\n",
       "    <tr style=\"text-align: right;\">\n",
       "      <th></th>\n",
       "      <th>Valores nulos</th>\n",
       "      <th>Total registros</th>\n",
       "      <th>Porcentaje</th>\n",
       "    </tr>\n",
       "  </thead>\n",
       "  <tbody>\n",
       "  </tbody>\n",
       "</table>\n",
       "</div>"
      ],
      "text/plain": [
       "Empty DataFrame\n",
       "Columns: [Valores nulos, Total registros, Porcentaje]\n",
       "Index: []"
      ]
     },
     "execution_count": 98,
     "metadata": {},
     "output_type": "execute_result"
    }
   ],
   "source": [
    "null_inactive_players = inactive_players.isnull().sum()\n",
    "total_register = len(inactive_players)\n",
    "null_result = null_inactive_players[null_inactive_players > 0]\n",
    "\n",
    "df_null_inactive_players = pd.DataFrame({\n",
    "    \"Valores nulos\": null_result,\n",
    "    \"Total registros\": total_register,\n",
    "    \"Porcentaje\": (null_result / total_register * 100).round(2)\n",
    "})\n",
    "\n",
    "df_null_inactive_players"
   ]
  },
  {
   "cell_type": "markdown",
   "id": "3a71c40b",
   "metadata": {},
   "source": [
    "### 2.13.5. Filtro por juego, equipo y jugador"
   ]
  },
  {
   "cell_type": "code",
   "execution_count": 99,
   "id": "21abbaba",
   "metadata": {},
   "outputs": [],
   "source": [
    "inactive_players = inactive_players[inactive_players['game_id'].isin(game_2000['game_id']) & inactive_players['team_id'].isin(team['id']) & inactive_players['player_id'].isin(player['id'])]"
   ]
  },
  {
   "cell_type": "code",
   "execution_count": 100,
   "metadata": {},
   "outputs": [
    {
     "data": {
      "application/vnd.microsoft.datawrangler.viewer.v0+json": {
       "columns": [
        {
         "name": "index",
         "rawType": "object",
         "type": "string"
        },
        {
         "name": "Valores nulos",
         "rawType": "int64",
         "type": "integer"
        },
        {
         "name": "Total registros",
         "rawType": "int64",
         "type": "integer"
        },
        {
         "name": "Porcentaje",
         "rawType": "float64",
         "type": "float"
        }
       ],
       "conversionMethod": "pd.DataFrame",
       "ref": "ef6267a6-7412-4d37-a5d3-fc14b5e68b4b",
       "rows": [],
       "shape": {
        "columns": 3,
        "rows": 0
       }
      },
      "text/html": [
       "<div>\n",
       "<style scoped>\n",
       "    .dataframe tbody tr th:only-of-type {\n",
       "        vertical-align: middle;\n",
       "    }\n",
       "\n",
       "    .dataframe tbody tr th {\n",
       "        vertical-align: top;\n",
       "    }\n",
       "\n",
       "    .dataframe thead th {\n",
       "        text-align: right;\n",
       "    }\n",
       "</style>\n",
       "<table border=\"1\" class=\"dataframe\">\n",
       "  <thead>\n",
       "    <tr style=\"text-align: right;\">\n",
       "      <th></th>\n",
       "      <th>Valores nulos</th>\n",
       "      <th>Total registros</th>\n",
       "      <th>Porcentaje</th>\n",
       "    </tr>\n",
       "  </thead>\n",
       "  <tbody>\n",
       "  </tbody>\n",
       "</table>\n",
       "</div>"
      ],
      "text/plain": [
       "Empty DataFrame\n",
       "Columns: [Valores nulos, Total registros, Porcentaje]\n",
       "Index: []"
      ]
     },
     "execution_count": 100,
     "metadata": {},
     "output_type": "execute_result"
    }
   ],
   "source": [
    "null_inactive_players = inactive_players.isnull().sum()\n",
    "total_register = len(inactive_players)\n",
    "null_result = null_inactive_players[null_inactive_players > 0]\n",
    "\n",
    "df_null_inactive_players = pd.DataFrame({\n",
    "    \"Valores nulos\": null_result,\n",
    "    \"Total registros\": total_register,\n",
    "    \"Porcentaje\": (null_result / total_register * 100).round(2)\n",
    "})\n",
    "\n",
    "df_null_inactive_players"
   ]
  },
  {
   "cell_type": "markdown",
   "id": "77f1a513",
   "metadata": {},
   "source": [
    "## 2.14. Tabla Play_by_play"
   ]
  },
  {
   "cell_type": "markdown",
   "id": "7fe6ae92",
   "metadata": {},
   "source": [
    "### 2.14.1. Lectura de nulos"
   ]
  },
  {
   "cell_type": "code",
   "execution_count": 101,
   "id": "bd2f0588",
   "metadata": {},
   "outputs": [
    {
     "data": {
      "text/plain": [
       "(game_id                             0\n",
       " eventnum                            0\n",
       " eventmsgtype                        0\n",
       " eventmsgactiontype                  0\n",
       " period                              0\n",
       " wctimestring                      950\n",
       " pctimestring                        0\n",
       " homedescription               6530241\n",
       " neutraldescription           13273327\n",
       " visitordescription            6634527\n",
       " score                        10028436\n",
       " scoremargin                  10028436\n",
       " person1type                      3298\n",
       " player1_id                          0\n",
       " player1_name                  1208875\n",
       " player1_team_id               1215858\n",
       " player1_team_city             1215858\n",
       " player1_team_nickname         1215858\n",
       " player1_team_abbreviation     1215858\n",
       " person2type                         0\n",
       " player2_id                          0\n",
       " player2_name                  9683745\n",
       " player2_team_id               9660454\n",
       " player2_team_city             9660454\n",
       " player2_team_nickname         9660454\n",
       " player2_team_abbreviation     9660454\n",
       " person3type                         0\n",
       " player3_id                          0\n",
       " player3_name                 13251785\n",
       " player3_team_id              13246931\n",
       " player3_team_city            13246931\n",
       " player3_team_nickname        13246931\n",
       " player3_team_abbreviation    13246931\n",
       " video_available_flag                0\n",
       " dtype: int64,\n",
       " (13592899, 34))"
      ]
     },
     "execution_count": 101,
     "metadata": {},
     "output_type": "execute_result"
    }
   ],
   "source": [
    "play_by_play.isnull().sum(), play_by_play.shape"
   ]
  },
  {
   "cell_type": "code",
   "execution_count": 102,
   "id": "314728ab",
   "metadata": {},
   "outputs": [
    {
     "data": {
      "application/vnd.microsoft.datawrangler.viewer.v0+json": {
       "columns": [
        {
         "name": "index",
         "rawType": "object",
         "type": "string"
        },
        {
         "name": "Valores nulos",
         "rawType": "int64",
         "type": "integer"
        },
        {
         "name": "Total registros",
         "rawType": "int64",
         "type": "integer"
        },
        {
         "name": "Porcentaje",
         "rawType": "float64",
         "type": "float"
        }
       ],
       "conversionMethod": "pd.DataFrame",
       "ref": "714e4a41-8532-4b87-86b9-fe19328bceff",
       "rows": [
        [
         "wctimestring",
         "950",
         "13592899",
         "0.01"
        ],
        [
         "homedescription",
         "6530241",
         "13592899",
         "48.04"
        ],
        [
         "neutraldescription",
         "13273327",
         "13592899",
         "97.65"
        ],
        [
         "visitordescription",
         "6634527",
         "13592899",
         "48.81"
        ],
        [
         "score",
         "10028436",
         "13592899",
         "73.78"
        ],
        [
         "scoremargin",
         "10028436",
         "13592899",
         "73.78"
        ],
        [
         "person1type",
         "3298",
         "13592899",
         "0.02"
        ],
        [
         "player1_name",
         "1208875",
         "13592899",
         "8.89"
        ],
        [
         "player1_team_id",
         "1215858",
         "13592899",
         "8.94"
        ],
        [
         "player1_team_city",
         "1215858",
         "13592899",
         "8.94"
        ],
        [
         "player1_team_nickname",
         "1215858",
         "13592899",
         "8.94"
        ],
        [
         "player1_team_abbreviation",
         "1215858",
         "13592899",
         "8.94"
        ],
        [
         "player2_name",
         "9683745",
         "13592899",
         "71.24"
        ],
        [
         "player2_team_id",
         "9660454",
         "13592899",
         "71.07"
        ],
        [
         "player2_team_city",
         "9660454",
         "13592899",
         "71.07"
        ],
        [
         "player2_team_nickname",
         "9660454",
         "13592899",
         "71.07"
        ],
        [
         "player2_team_abbreviation",
         "9660454",
         "13592899",
         "71.07"
        ],
        [
         "player3_name",
         "13251785",
         "13592899",
         "97.49"
        ],
        [
         "player3_team_id",
         "13246931",
         "13592899",
         "97.45"
        ],
        [
         "player3_team_city",
         "13246931",
         "13592899",
         "97.45"
        ],
        [
         "player3_team_nickname",
         "13246931",
         "13592899",
         "97.45"
        ],
        [
         "player3_team_abbreviation",
         "13246931",
         "13592899",
         "97.45"
        ]
       ],
       "shape": {
        "columns": 3,
        "rows": 22
       }
      },
      "text/html": [
       "<div>\n",
       "<style scoped>\n",
       "    .dataframe tbody tr th:only-of-type {\n",
       "        vertical-align: middle;\n",
       "    }\n",
       "\n",
       "    .dataframe tbody tr th {\n",
       "        vertical-align: top;\n",
       "    }\n",
       "\n",
       "    .dataframe thead th {\n",
       "        text-align: right;\n",
       "    }\n",
       "</style>\n",
       "<table border=\"1\" class=\"dataframe\">\n",
       "  <thead>\n",
       "    <tr style=\"text-align: right;\">\n",
       "      <th></th>\n",
       "      <th>Valores nulos</th>\n",
       "      <th>Total registros</th>\n",
       "      <th>Porcentaje</th>\n",
       "    </tr>\n",
       "  </thead>\n",
       "  <tbody>\n",
       "    <tr>\n",
       "      <th>wctimestring</th>\n",
       "      <td>950</td>\n",
       "      <td>13592899</td>\n",
       "      <td>0.01</td>\n",
       "    </tr>\n",
       "    <tr>\n",
       "      <th>homedescription</th>\n",
       "      <td>6530241</td>\n",
       "      <td>13592899</td>\n",
       "      <td>48.04</td>\n",
       "    </tr>\n",
       "    <tr>\n",
       "      <th>neutraldescription</th>\n",
       "      <td>13273327</td>\n",
       "      <td>13592899</td>\n",
       "      <td>97.65</td>\n",
       "    </tr>\n",
       "    <tr>\n",
       "      <th>visitordescription</th>\n",
       "      <td>6634527</td>\n",
       "      <td>13592899</td>\n",
       "      <td>48.81</td>\n",
       "    </tr>\n",
       "    <tr>\n",
       "      <th>score</th>\n",
       "      <td>10028436</td>\n",
       "      <td>13592899</td>\n",
       "      <td>73.78</td>\n",
       "    </tr>\n",
       "    <tr>\n",
       "      <th>scoremargin</th>\n",
       "      <td>10028436</td>\n",
       "      <td>13592899</td>\n",
       "      <td>73.78</td>\n",
       "    </tr>\n",
       "    <tr>\n",
       "      <th>person1type</th>\n",
       "      <td>3298</td>\n",
       "      <td>13592899</td>\n",
       "      <td>0.02</td>\n",
       "    </tr>\n",
       "    <tr>\n",
       "      <th>player1_name</th>\n",
       "      <td>1208875</td>\n",
       "      <td>13592899</td>\n",
       "      <td>8.89</td>\n",
       "    </tr>\n",
       "    <tr>\n",
       "      <th>player1_team_id</th>\n",
       "      <td>1215858</td>\n",
       "      <td>13592899</td>\n",
       "      <td>8.94</td>\n",
       "    </tr>\n",
       "    <tr>\n",
       "      <th>player1_team_city</th>\n",
       "      <td>1215858</td>\n",
       "      <td>13592899</td>\n",
       "      <td>8.94</td>\n",
       "    </tr>\n",
       "    <tr>\n",
       "      <th>player1_team_nickname</th>\n",
       "      <td>1215858</td>\n",
       "      <td>13592899</td>\n",
       "      <td>8.94</td>\n",
       "    </tr>\n",
       "    <tr>\n",
       "      <th>player1_team_abbreviation</th>\n",
       "      <td>1215858</td>\n",
       "      <td>13592899</td>\n",
       "      <td>8.94</td>\n",
       "    </tr>\n",
       "    <tr>\n",
       "      <th>player2_name</th>\n",
       "      <td>9683745</td>\n",
       "      <td>13592899</td>\n",
       "      <td>71.24</td>\n",
       "    </tr>\n",
       "    <tr>\n",
       "      <th>player2_team_id</th>\n",
       "      <td>9660454</td>\n",
       "      <td>13592899</td>\n",
       "      <td>71.07</td>\n",
       "    </tr>\n",
       "    <tr>\n",
       "      <th>player2_team_city</th>\n",
       "      <td>9660454</td>\n",
       "      <td>13592899</td>\n",
       "      <td>71.07</td>\n",
       "    </tr>\n",
       "    <tr>\n",
       "      <th>player2_team_nickname</th>\n",
       "      <td>9660454</td>\n",
       "      <td>13592899</td>\n",
       "      <td>71.07</td>\n",
       "    </tr>\n",
       "    <tr>\n",
       "      <th>player2_team_abbreviation</th>\n",
       "      <td>9660454</td>\n",
       "      <td>13592899</td>\n",
       "      <td>71.07</td>\n",
       "    </tr>\n",
       "    <tr>\n",
       "      <th>player3_name</th>\n",
       "      <td>13251785</td>\n",
       "      <td>13592899</td>\n",
       "      <td>97.49</td>\n",
       "    </tr>\n",
       "    <tr>\n",
       "      <th>player3_team_id</th>\n",
       "      <td>13246931</td>\n",
       "      <td>13592899</td>\n",
       "      <td>97.45</td>\n",
       "    </tr>\n",
       "    <tr>\n",
       "      <th>player3_team_city</th>\n",
       "      <td>13246931</td>\n",
       "      <td>13592899</td>\n",
       "      <td>97.45</td>\n",
       "    </tr>\n",
       "    <tr>\n",
       "      <th>player3_team_nickname</th>\n",
       "      <td>13246931</td>\n",
       "      <td>13592899</td>\n",
       "      <td>97.45</td>\n",
       "    </tr>\n",
       "    <tr>\n",
       "      <th>player3_team_abbreviation</th>\n",
       "      <td>13246931</td>\n",
       "      <td>13592899</td>\n",
       "      <td>97.45</td>\n",
       "    </tr>\n",
       "  </tbody>\n",
       "</table>\n",
       "</div>"
      ],
      "text/plain": [
       "                           Valores nulos  Total registros  Porcentaje\n",
       "wctimestring                         950         13592899        0.01\n",
       "homedescription                  6530241         13592899       48.04\n",
       "neutraldescription              13273327         13592899       97.65\n",
       "visitordescription               6634527         13592899       48.81\n",
       "score                           10028436         13592899       73.78\n",
       "scoremargin                     10028436         13592899       73.78\n",
       "person1type                         3298         13592899        0.02\n",
       "player1_name                     1208875         13592899        8.89\n",
       "player1_team_id                  1215858         13592899        8.94\n",
       "player1_team_city                1215858         13592899        8.94\n",
       "player1_team_nickname            1215858         13592899        8.94\n",
       "player1_team_abbreviation        1215858         13592899        8.94\n",
       "player2_name                     9683745         13592899       71.24\n",
       "player2_team_id                  9660454         13592899       71.07\n",
       "player2_team_city                9660454         13592899       71.07\n",
       "player2_team_nickname            9660454         13592899       71.07\n",
       "player2_team_abbreviation        9660454         13592899       71.07\n",
       "player3_name                    13251785         13592899       97.49\n",
       "player3_team_id                 13246931         13592899       97.45\n",
       "player3_team_city               13246931         13592899       97.45\n",
       "player3_team_nickname           13246931         13592899       97.45\n",
       "player3_team_abbreviation       13246931         13592899       97.45"
      ]
     },
     "execution_count": 102,
     "metadata": {},
     "output_type": "execute_result"
    }
   ],
   "source": [
    "null_play_by_play = play_by_play.isnull().sum()\n",
    "total_register = len(play_by_play)\n",
    "null_result = null_play_by_play[null_play_by_play > 0]\n",
    "\n",
    "df_null_play_by_play = pd.DataFrame(\n",
    "    {\n",
    "        \"Valores nulos\": null_result,\n",
    "        \"Total registros\": total_register,\n",
    "        \"Porcentaje\": (null_result / total_register * 100).round(2),\n",
    "    }\n",
    ")\n",
    "\n",
    "df_null_play_by_play"
   ]
  },
  {
   "cell_type": "markdown",
   "id": "077c8a0b",
   "metadata": {},
   "source": [
    "### 2.14.2. Eliminación de columnas innecesarias"
   ]
  },
  {
   "cell_type": "code",
   "execution_count": 103,
   "id": "9d62f050",
   "metadata": {},
   "outputs": [],
   "source": [
    "play_by_play = play_by_play.drop([\"video_available_flag\"], axis=1)"
   ]
  },
  {
   "cell_type": "code",
   "execution_count": 104,
   "id": "05258358",
   "metadata": {},
   "outputs": [
    {
     "data": {
      "application/vnd.microsoft.datawrangler.viewer.v0+json": {
       "columns": [
        {
         "name": "index",
         "rawType": "object",
         "type": "string"
        },
        {
         "name": "Valores nulos",
         "rawType": "int64",
         "type": "integer"
        },
        {
         "name": "Total registros",
         "rawType": "int64",
         "type": "integer"
        },
        {
         "name": "Porcentaje",
         "rawType": "float64",
         "type": "float"
        }
       ],
       "conversionMethod": "pd.DataFrame",
       "ref": "515e8dc9-532d-400d-99a9-0c5a12002a15",
       "rows": [
        [
         "wctimestring",
         "950",
         "13592899",
         "0.01"
        ],
        [
         "homedescription",
         "6530241",
         "13592899",
         "48.04"
        ],
        [
         "neutraldescription",
         "13273327",
         "13592899",
         "97.65"
        ],
        [
         "visitordescription",
         "6634527",
         "13592899",
         "48.81"
        ],
        [
         "score",
         "10028436",
         "13592899",
         "73.78"
        ],
        [
         "scoremargin",
         "10028436",
         "13592899",
         "73.78"
        ],
        [
         "person1type",
         "3298",
         "13592899",
         "0.02"
        ],
        [
         "player1_name",
         "1208875",
         "13592899",
         "8.89"
        ],
        [
         "player1_team_id",
         "1215858",
         "13592899",
         "8.94"
        ],
        [
         "player1_team_city",
         "1215858",
         "13592899",
         "8.94"
        ],
        [
         "player1_team_nickname",
         "1215858",
         "13592899",
         "8.94"
        ],
        [
         "player1_team_abbreviation",
         "1215858",
         "13592899",
         "8.94"
        ],
        [
         "player2_name",
         "9683745",
         "13592899",
         "71.24"
        ],
        [
         "player2_team_id",
         "9660454",
         "13592899",
         "71.07"
        ],
        [
         "player2_team_city",
         "9660454",
         "13592899",
         "71.07"
        ],
        [
         "player2_team_nickname",
         "9660454",
         "13592899",
         "71.07"
        ],
        [
         "player2_team_abbreviation",
         "9660454",
         "13592899",
         "71.07"
        ],
        [
         "player3_name",
         "13251785",
         "13592899",
         "97.49"
        ],
        [
         "player3_team_id",
         "13246931",
         "13592899",
         "97.45"
        ],
        [
         "player3_team_city",
         "13246931",
         "13592899",
         "97.45"
        ],
        [
         "player3_team_nickname",
         "13246931",
         "13592899",
         "97.45"
        ],
        [
         "player3_team_abbreviation",
         "13246931",
         "13592899",
         "97.45"
        ]
       ],
       "shape": {
        "columns": 3,
        "rows": 22
       }
      },
      "text/html": [
       "<div>\n",
       "<style scoped>\n",
       "    .dataframe tbody tr th:only-of-type {\n",
       "        vertical-align: middle;\n",
       "    }\n",
       "\n",
       "    .dataframe tbody tr th {\n",
       "        vertical-align: top;\n",
       "    }\n",
       "\n",
       "    .dataframe thead th {\n",
       "        text-align: right;\n",
       "    }\n",
       "</style>\n",
       "<table border=\"1\" class=\"dataframe\">\n",
       "  <thead>\n",
       "    <tr style=\"text-align: right;\">\n",
       "      <th></th>\n",
       "      <th>Valores nulos</th>\n",
       "      <th>Total registros</th>\n",
       "      <th>Porcentaje</th>\n",
       "    </tr>\n",
       "  </thead>\n",
       "  <tbody>\n",
       "    <tr>\n",
       "      <th>wctimestring</th>\n",
       "      <td>950</td>\n",
       "      <td>13592899</td>\n",
       "      <td>0.01</td>\n",
       "    </tr>\n",
       "    <tr>\n",
       "      <th>homedescription</th>\n",
       "      <td>6530241</td>\n",
       "      <td>13592899</td>\n",
       "      <td>48.04</td>\n",
       "    </tr>\n",
       "    <tr>\n",
       "      <th>neutraldescription</th>\n",
       "      <td>13273327</td>\n",
       "      <td>13592899</td>\n",
       "      <td>97.65</td>\n",
       "    </tr>\n",
       "    <tr>\n",
       "      <th>visitordescription</th>\n",
       "      <td>6634527</td>\n",
       "      <td>13592899</td>\n",
       "      <td>48.81</td>\n",
       "    </tr>\n",
       "    <tr>\n",
       "      <th>score</th>\n",
       "      <td>10028436</td>\n",
       "      <td>13592899</td>\n",
       "      <td>73.78</td>\n",
       "    </tr>\n",
       "    <tr>\n",
       "      <th>scoremargin</th>\n",
       "      <td>10028436</td>\n",
       "      <td>13592899</td>\n",
       "      <td>73.78</td>\n",
       "    </tr>\n",
       "    <tr>\n",
       "      <th>person1type</th>\n",
       "      <td>3298</td>\n",
       "      <td>13592899</td>\n",
       "      <td>0.02</td>\n",
       "    </tr>\n",
       "    <tr>\n",
       "      <th>player1_name</th>\n",
       "      <td>1208875</td>\n",
       "      <td>13592899</td>\n",
       "      <td>8.89</td>\n",
       "    </tr>\n",
       "    <tr>\n",
       "      <th>player1_team_id</th>\n",
       "      <td>1215858</td>\n",
       "      <td>13592899</td>\n",
       "      <td>8.94</td>\n",
       "    </tr>\n",
       "    <tr>\n",
       "      <th>player1_team_city</th>\n",
       "      <td>1215858</td>\n",
       "      <td>13592899</td>\n",
       "      <td>8.94</td>\n",
       "    </tr>\n",
       "    <tr>\n",
       "      <th>player1_team_nickname</th>\n",
       "      <td>1215858</td>\n",
       "      <td>13592899</td>\n",
       "      <td>8.94</td>\n",
       "    </tr>\n",
       "    <tr>\n",
       "      <th>player1_team_abbreviation</th>\n",
       "      <td>1215858</td>\n",
       "      <td>13592899</td>\n",
       "      <td>8.94</td>\n",
       "    </tr>\n",
       "    <tr>\n",
       "      <th>player2_name</th>\n",
       "      <td>9683745</td>\n",
       "      <td>13592899</td>\n",
       "      <td>71.24</td>\n",
       "    </tr>\n",
       "    <tr>\n",
       "      <th>player2_team_id</th>\n",
       "      <td>9660454</td>\n",
       "      <td>13592899</td>\n",
       "      <td>71.07</td>\n",
       "    </tr>\n",
       "    <tr>\n",
       "      <th>player2_team_city</th>\n",
       "      <td>9660454</td>\n",
       "      <td>13592899</td>\n",
       "      <td>71.07</td>\n",
       "    </tr>\n",
       "    <tr>\n",
       "      <th>player2_team_nickname</th>\n",
       "      <td>9660454</td>\n",
       "      <td>13592899</td>\n",
       "      <td>71.07</td>\n",
       "    </tr>\n",
       "    <tr>\n",
       "      <th>player2_team_abbreviation</th>\n",
       "      <td>9660454</td>\n",
       "      <td>13592899</td>\n",
       "      <td>71.07</td>\n",
       "    </tr>\n",
       "    <tr>\n",
       "      <th>player3_name</th>\n",
       "      <td>13251785</td>\n",
       "      <td>13592899</td>\n",
       "      <td>97.49</td>\n",
       "    </tr>\n",
       "    <tr>\n",
       "      <th>player3_team_id</th>\n",
       "      <td>13246931</td>\n",
       "      <td>13592899</td>\n",
       "      <td>97.45</td>\n",
       "    </tr>\n",
       "    <tr>\n",
       "      <th>player3_team_city</th>\n",
       "      <td>13246931</td>\n",
       "      <td>13592899</td>\n",
       "      <td>97.45</td>\n",
       "    </tr>\n",
       "    <tr>\n",
       "      <th>player3_team_nickname</th>\n",
       "      <td>13246931</td>\n",
       "      <td>13592899</td>\n",
       "      <td>97.45</td>\n",
       "    </tr>\n",
       "    <tr>\n",
       "      <th>player3_team_abbreviation</th>\n",
       "      <td>13246931</td>\n",
       "      <td>13592899</td>\n",
       "      <td>97.45</td>\n",
       "    </tr>\n",
       "  </tbody>\n",
       "</table>\n",
       "</div>"
      ],
      "text/plain": [
       "                           Valores nulos  Total registros  Porcentaje\n",
       "wctimestring                         950         13592899        0.01\n",
       "homedescription                  6530241         13592899       48.04\n",
       "neutraldescription              13273327         13592899       97.65\n",
       "visitordescription               6634527         13592899       48.81\n",
       "score                           10028436         13592899       73.78\n",
       "scoremargin                     10028436         13592899       73.78\n",
       "person1type                         3298         13592899        0.02\n",
       "player1_name                     1208875         13592899        8.89\n",
       "player1_team_id                  1215858         13592899        8.94\n",
       "player1_team_city                1215858         13592899        8.94\n",
       "player1_team_nickname            1215858         13592899        8.94\n",
       "player1_team_abbreviation        1215858         13592899        8.94\n",
       "player2_name                     9683745         13592899       71.24\n",
       "player2_team_id                  9660454         13592899       71.07\n",
       "player2_team_city                9660454         13592899       71.07\n",
       "player2_team_nickname            9660454         13592899       71.07\n",
       "player2_team_abbreviation        9660454         13592899       71.07\n",
       "player3_name                    13251785         13592899       97.49\n",
       "player3_team_id                 13246931         13592899       97.45\n",
       "player3_team_city               13246931         13592899       97.45\n",
       "player3_team_nickname           13246931         13592899       97.45\n",
       "player3_team_abbreviation       13246931         13592899       97.45"
      ]
     },
     "execution_count": 104,
     "metadata": {},
     "output_type": "execute_result"
    }
   ],
   "source": [
    "null_play_by_play = play_by_play.isnull().sum()\n",
    "total_register = len(play_by_play)\n",
    "null_result = null_play_by_play[null_play_by_play > 0]\n",
    "\n",
    "df_null_play_by_play = pd.DataFrame(\n",
    "    {\n",
    "        \"Valores nulos\": null_result,\n",
    "        \"Total registros\": total_register,\n",
    "        \"Porcentaje\": (null_result / total_register * 100).round(2),\n",
    "    }\n",
    ")\n",
    "\n",
    "df_null_play_by_play"
   ]
  },
  {
   "cell_type": "markdown",
   "id": "bdd65377",
   "metadata": {},
   "source": [
    "### 2.14.3. Filtro por el cuarto cuarto"
   ]
  },
  {
   "cell_type": "code",
   "execution_count": 188,
   "id": "e74f2db4",
   "metadata": {},
   "outputs": [],
   "source": [
    "play_by_play_qt4 = play_by_play[play_by_play[\"period\"].isin([4])]"
   ]
  },
  {
   "cell_type": "code",
   "execution_count": 189,
   "id": "d8ffbf47",
   "metadata": {},
   "outputs": [
    {
     "data": {
      "application/vnd.microsoft.datawrangler.viewer.v0+json": {
       "columns": [
        {
         "name": "index",
         "rawType": "object",
         "type": "string"
        },
        {
         "name": "Valores nulos",
         "rawType": "int64",
         "type": "integer"
        },
        {
         "name": "Total registros",
         "rawType": "int64",
         "type": "integer"
        },
        {
         "name": "Porcentaje",
         "rawType": "float64",
         "type": "float"
        }
       ],
       "conversionMethod": "pd.DataFrame",
       "ref": "e7557e4a-5db7-4e49-bd19-fdf4c4112179",
       "rows": [
        [
         "wctimestring",
         "245",
         "3521455",
         "0.01"
        ],
        [
         "homedescription",
         "1708552",
         "3521455",
         "48.52"
        ],
        [
         "neutraldescription",
         "3431595",
         "3521455",
         "97.45"
        ],
        [
         "visitordescription",
         "1722252",
         "3521455",
         "48.91"
        ],
        [
         "score",
         "2612630",
         "3521455",
         "74.19"
        ],
        [
         "scoremargin",
         "2612630",
         "3521455",
         "74.19"
        ],
        [
         "person1type",
         "975",
         "3521455",
         "0.03"
        ],
        [
         "player1_name",
         "359206",
         "3521455",
         "10.2"
        ],
        [
         "player1_team_id",
         "360060",
         "3521455",
         "10.22"
        ],
        [
         "player1_team_city",
         "360060",
         "3521455",
         "10.22"
        ],
        [
         "player1_team_nickname",
         "360060",
         "3521455",
         "10.22"
        ],
        [
         "player1_team_abbreviation",
         "360060",
         "3521455",
         "10.22"
        ],
        [
         "player2_name",
         "2522123",
         "3521455",
         "71.62"
        ],
        [
         "player2_team_id",
         "2515104",
         "3521455",
         "71.42"
        ],
        [
         "player2_team_city",
         "2515104",
         "3521455",
         "71.42"
        ],
        [
         "player2_team_nickname",
         "2515104",
         "3521455",
         "71.42"
        ],
        [
         "player2_team_abbreviation",
         "2515104",
         "3521455",
         "71.42"
        ],
        [
         "player3_name",
         "3444559",
         "3521455",
         "97.82"
        ],
        [
         "player3_team_id",
         "3443344",
         "3521455",
         "97.78"
        ],
        [
         "player3_team_city",
         "3443344",
         "3521455",
         "97.78"
        ],
        [
         "player3_team_nickname",
         "3443344",
         "3521455",
         "97.78"
        ],
        [
         "player3_team_abbreviation",
         "3443344",
         "3521455",
         "97.78"
        ]
       ],
       "shape": {
        "columns": 3,
        "rows": 22
       }
      },
      "text/html": [
       "<div>\n",
       "<style scoped>\n",
       "    .dataframe tbody tr th:only-of-type {\n",
       "        vertical-align: middle;\n",
       "    }\n",
       "\n",
       "    .dataframe tbody tr th {\n",
       "        vertical-align: top;\n",
       "    }\n",
       "\n",
       "    .dataframe thead th {\n",
       "        text-align: right;\n",
       "    }\n",
       "</style>\n",
       "<table border=\"1\" class=\"dataframe\">\n",
       "  <thead>\n",
       "    <tr style=\"text-align: right;\">\n",
       "      <th></th>\n",
       "      <th>Valores nulos</th>\n",
       "      <th>Total registros</th>\n",
       "      <th>Porcentaje</th>\n",
       "    </tr>\n",
       "  </thead>\n",
       "  <tbody>\n",
       "    <tr>\n",
       "      <th>wctimestring</th>\n",
       "      <td>245</td>\n",
       "      <td>3521455</td>\n",
       "      <td>0.01</td>\n",
       "    </tr>\n",
       "    <tr>\n",
       "      <th>homedescription</th>\n",
       "      <td>1708552</td>\n",
       "      <td>3521455</td>\n",
       "      <td>48.52</td>\n",
       "    </tr>\n",
       "    <tr>\n",
       "      <th>neutraldescription</th>\n",
       "      <td>3431595</td>\n",
       "      <td>3521455</td>\n",
       "      <td>97.45</td>\n",
       "    </tr>\n",
       "    <tr>\n",
       "      <th>visitordescription</th>\n",
       "      <td>1722252</td>\n",
       "      <td>3521455</td>\n",
       "      <td>48.91</td>\n",
       "    </tr>\n",
       "    <tr>\n",
       "      <th>score</th>\n",
       "      <td>2612630</td>\n",
       "      <td>3521455</td>\n",
       "      <td>74.19</td>\n",
       "    </tr>\n",
       "    <tr>\n",
       "      <th>scoremargin</th>\n",
       "      <td>2612630</td>\n",
       "      <td>3521455</td>\n",
       "      <td>74.19</td>\n",
       "    </tr>\n",
       "    <tr>\n",
       "      <th>person1type</th>\n",
       "      <td>975</td>\n",
       "      <td>3521455</td>\n",
       "      <td>0.03</td>\n",
       "    </tr>\n",
       "    <tr>\n",
       "      <th>player1_name</th>\n",
       "      <td>359206</td>\n",
       "      <td>3521455</td>\n",
       "      <td>10.20</td>\n",
       "    </tr>\n",
       "    <tr>\n",
       "      <th>player1_team_id</th>\n",
       "      <td>360060</td>\n",
       "      <td>3521455</td>\n",
       "      <td>10.22</td>\n",
       "    </tr>\n",
       "    <tr>\n",
       "      <th>player1_team_city</th>\n",
       "      <td>360060</td>\n",
       "      <td>3521455</td>\n",
       "      <td>10.22</td>\n",
       "    </tr>\n",
       "    <tr>\n",
       "      <th>player1_team_nickname</th>\n",
       "      <td>360060</td>\n",
       "      <td>3521455</td>\n",
       "      <td>10.22</td>\n",
       "    </tr>\n",
       "    <tr>\n",
       "      <th>player1_team_abbreviation</th>\n",
       "      <td>360060</td>\n",
       "      <td>3521455</td>\n",
       "      <td>10.22</td>\n",
       "    </tr>\n",
       "    <tr>\n",
       "      <th>player2_name</th>\n",
       "      <td>2522123</td>\n",
       "      <td>3521455</td>\n",
       "      <td>71.62</td>\n",
       "    </tr>\n",
       "    <tr>\n",
       "      <th>player2_team_id</th>\n",
       "      <td>2515104</td>\n",
       "      <td>3521455</td>\n",
       "      <td>71.42</td>\n",
       "    </tr>\n",
       "    <tr>\n",
       "      <th>player2_team_city</th>\n",
       "      <td>2515104</td>\n",
       "      <td>3521455</td>\n",
       "      <td>71.42</td>\n",
       "    </tr>\n",
       "    <tr>\n",
       "      <th>player2_team_nickname</th>\n",
       "      <td>2515104</td>\n",
       "      <td>3521455</td>\n",
       "      <td>71.42</td>\n",
       "    </tr>\n",
       "    <tr>\n",
       "      <th>player2_team_abbreviation</th>\n",
       "      <td>2515104</td>\n",
       "      <td>3521455</td>\n",
       "      <td>71.42</td>\n",
       "    </tr>\n",
       "    <tr>\n",
       "      <th>player3_name</th>\n",
       "      <td>3444559</td>\n",
       "      <td>3521455</td>\n",
       "      <td>97.82</td>\n",
       "    </tr>\n",
       "    <tr>\n",
       "      <th>player3_team_id</th>\n",
       "      <td>3443344</td>\n",
       "      <td>3521455</td>\n",
       "      <td>97.78</td>\n",
       "    </tr>\n",
       "    <tr>\n",
       "      <th>player3_team_city</th>\n",
       "      <td>3443344</td>\n",
       "      <td>3521455</td>\n",
       "      <td>97.78</td>\n",
       "    </tr>\n",
       "    <tr>\n",
       "      <th>player3_team_nickname</th>\n",
       "      <td>3443344</td>\n",
       "      <td>3521455</td>\n",
       "      <td>97.78</td>\n",
       "    </tr>\n",
       "    <tr>\n",
       "      <th>player3_team_abbreviation</th>\n",
       "      <td>3443344</td>\n",
       "      <td>3521455</td>\n",
       "      <td>97.78</td>\n",
       "    </tr>\n",
       "  </tbody>\n",
       "</table>\n",
       "</div>"
      ],
      "text/plain": [
       "                           Valores nulos  Total registros  Porcentaje\n",
       "wctimestring                         245          3521455        0.01\n",
       "homedescription                  1708552          3521455       48.52\n",
       "neutraldescription               3431595          3521455       97.45\n",
       "visitordescription               1722252          3521455       48.91\n",
       "score                            2612630          3521455       74.19\n",
       "scoremargin                      2612630          3521455       74.19\n",
       "person1type                          975          3521455        0.03\n",
       "player1_name                      359206          3521455       10.20\n",
       "player1_team_id                   360060          3521455       10.22\n",
       "player1_team_city                 360060          3521455       10.22\n",
       "player1_team_nickname             360060          3521455       10.22\n",
       "player1_team_abbreviation         360060          3521455       10.22\n",
       "player2_name                     2522123          3521455       71.62\n",
       "player2_team_id                  2515104          3521455       71.42\n",
       "player2_team_city                2515104          3521455       71.42\n",
       "player2_team_nickname            2515104          3521455       71.42\n",
       "player2_team_abbreviation        2515104          3521455       71.42\n",
       "player3_name                     3444559          3521455       97.82\n",
       "player3_team_id                  3443344          3521455       97.78\n",
       "player3_team_city                3443344          3521455       97.78\n",
       "player3_team_nickname            3443344          3521455       97.78\n",
       "player3_team_abbreviation        3443344          3521455       97.78"
      ]
     },
     "execution_count": 189,
     "metadata": {},
     "output_type": "execute_result"
    }
   ],
   "source": [
    "null_play_by_play_qt4 = play_by_play_qt4.isnull().sum()\n",
    "total_register = len(play_by_play_qt4)\n",
    "null_result = null_play_by_play_qt4[null_play_by_play_qt4 > 0]\n",
    "\n",
    "df_null_play_by_play_qt4 = pd.DataFrame(\n",
    "    {\n",
    "        \"Valores nulos\": null_result,\n",
    "        \"Total registros\": total_register,\n",
    "        \"Porcentaje\": (null_result / total_register * 100).round(2),\n",
    "    }\n",
    ")\n",
    "\n",
    "df_null_play_by_play_qt4"
   ]
  },
  {
   "cell_type": "markdown",
   "id": "a92cf3a1",
   "metadata": {},
   "source": [
    "### 2.14.4. Filtro por los ultimos 5 minutos"
   ]
  },
  {
   "cell_type": "code",
   "execution_count": 190,
   "id": "5bc3306c",
   "metadata": {},
   "outputs": [],
   "source": [
    "# Convertir \"pctimestring\" a segundos para facilitar la comparación\n",
    "play_by_play_qt4 = play_by_play_qt4.copy()\n",
    "play_by_play_qt4[\"pctimestring\"] = play_by_play_qt4[\"pctimestring\"].astype(str).apply(\n",
    "    lambda x: int(x.split(\":\")[0]) * 60 + int(x.split(\":\")[1]) if \":\" in x else None\n",
    ")\n",
    "\n",
    "# Filtrar las jugadas en los últimos 5 minutos (300 segundos)\n",
    "play_by_play_clutch = play_by_play_qt4[play_by_play_qt4[\"pctimestring\"] <= 300].copy()\n",
    "\n",
    "# Convertir de vuelta \"pctimestring\" a formato m:ss\n",
    "play_by_play_clutch[\"pctimestring\"] = play_by_play_clutch[\"pctimestring\"].apply(\n",
    "    lambda x: f\"{x // 60}:{x % 60:02d}\" if pd.notnull(x) else None\n",
    ")"
   ]
  },
  {
   "cell_type": "code",
   "execution_count": 191,
   "id": "a220489b",
   "metadata": {},
   "outputs": [
    {
     "data": {
      "application/vnd.microsoft.datawrangler.viewer.v0+json": {
       "columns": [
        {
         "name": "index",
         "rawType": "object",
         "type": "string"
        },
        {
         "name": "Valores nulos",
         "rawType": "int64",
         "type": "integer"
        },
        {
         "name": "Total registros",
         "rawType": "int64",
         "type": "integer"
        },
        {
         "name": "Porcentaje",
         "rawType": "float64",
         "type": "float"
        }
       ],
       "conversionMethod": "pd.DataFrame",
       "ref": "2706786a-2541-4a17-8aec-1cdc8a224192",
       "rows": [
        [
         "wctimestring",
         "108",
         "1642623",
         "0.01"
        ],
        [
         "homedescription",
         "802604",
         "1642623",
         "48.86"
        ],
        [
         "neutraldescription",
         "1602800",
         "1642623",
         "97.58"
        ],
        [
         "visitordescription",
         "802377",
         "1642623",
         "48.85"
        ],
        [
         "score",
         "1201720",
         "1642623",
         "73.16"
        ],
        [
         "scoremargin",
         "1201720",
         "1642623",
         "73.16"
        ],
        [
         "person1type",
         "626",
         "1642623",
         "0.04"
        ],
        [
         "player1_name",
         "194345",
         "1642623",
         "11.83"
        ],
        [
         "player1_team_id",
         "194986",
         "1642623",
         "11.87"
        ],
        [
         "player1_team_city",
         "194986",
         "1642623",
         "11.87"
        ],
        [
         "player1_team_nickname",
         "194986",
         "1642623",
         "11.87"
        ],
        [
         "player1_team_abbreviation",
         "194986",
         "1642623",
         "11.87"
        ],
        [
         "player2_name",
         "1205283",
         "1642623",
         "73.38"
        ],
        [
         "player2_team_id",
         "1201988",
         "1642623",
         "73.17"
        ],
        [
         "player2_team_city",
         "1201988",
         "1642623",
         "73.17"
        ],
        [
         "player2_team_nickname",
         "1201988",
         "1642623",
         "73.17"
        ],
        [
         "player2_team_abbreviation",
         "1201988",
         "1642623",
         "73.17"
        ],
        [
         "player3_name",
         "1609140",
         "1642623",
         "97.96"
        ],
        [
         "player3_team_id",
         "1608600",
         "1642623",
         "97.93"
        ],
        [
         "player3_team_city",
         "1608600",
         "1642623",
         "97.93"
        ],
        [
         "player3_team_nickname",
         "1608600",
         "1642623",
         "97.93"
        ],
        [
         "player3_team_abbreviation",
         "1608600",
         "1642623",
         "97.93"
        ]
       ],
       "shape": {
        "columns": 3,
        "rows": 22
       }
      },
      "text/html": [
       "<div>\n",
       "<style scoped>\n",
       "    .dataframe tbody tr th:only-of-type {\n",
       "        vertical-align: middle;\n",
       "    }\n",
       "\n",
       "    .dataframe tbody tr th {\n",
       "        vertical-align: top;\n",
       "    }\n",
       "\n",
       "    .dataframe thead th {\n",
       "        text-align: right;\n",
       "    }\n",
       "</style>\n",
       "<table border=\"1\" class=\"dataframe\">\n",
       "  <thead>\n",
       "    <tr style=\"text-align: right;\">\n",
       "      <th></th>\n",
       "      <th>Valores nulos</th>\n",
       "      <th>Total registros</th>\n",
       "      <th>Porcentaje</th>\n",
       "    </tr>\n",
       "  </thead>\n",
       "  <tbody>\n",
       "    <tr>\n",
       "      <th>wctimestring</th>\n",
       "      <td>108</td>\n",
       "      <td>1642623</td>\n",
       "      <td>0.01</td>\n",
       "    </tr>\n",
       "    <tr>\n",
       "      <th>homedescription</th>\n",
       "      <td>802604</td>\n",
       "      <td>1642623</td>\n",
       "      <td>48.86</td>\n",
       "    </tr>\n",
       "    <tr>\n",
       "      <th>neutraldescription</th>\n",
       "      <td>1602800</td>\n",
       "      <td>1642623</td>\n",
       "      <td>97.58</td>\n",
       "    </tr>\n",
       "    <tr>\n",
       "      <th>visitordescription</th>\n",
       "      <td>802377</td>\n",
       "      <td>1642623</td>\n",
       "      <td>48.85</td>\n",
       "    </tr>\n",
       "    <tr>\n",
       "      <th>score</th>\n",
       "      <td>1201720</td>\n",
       "      <td>1642623</td>\n",
       "      <td>73.16</td>\n",
       "    </tr>\n",
       "    <tr>\n",
       "      <th>scoremargin</th>\n",
       "      <td>1201720</td>\n",
       "      <td>1642623</td>\n",
       "      <td>73.16</td>\n",
       "    </tr>\n",
       "    <tr>\n",
       "      <th>person1type</th>\n",
       "      <td>626</td>\n",
       "      <td>1642623</td>\n",
       "      <td>0.04</td>\n",
       "    </tr>\n",
       "    <tr>\n",
       "      <th>player1_name</th>\n",
       "      <td>194345</td>\n",
       "      <td>1642623</td>\n",
       "      <td>11.83</td>\n",
       "    </tr>\n",
       "    <tr>\n",
       "      <th>player1_team_id</th>\n",
       "      <td>194986</td>\n",
       "      <td>1642623</td>\n",
       "      <td>11.87</td>\n",
       "    </tr>\n",
       "    <tr>\n",
       "      <th>player1_team_city</th>\n",
       "      <td>194986</td>\n",
       "      <td>1642623</td>\n",
       "      <td>11.87</td>\n",
       "    </tr>\n",
       "    <tr>\n",
       "      <th>player1_team_nickname</th>\n",
       "      <td>194986</td>\n",
       "      <td>1642623</td>\n",
       "      <td>11.87</td>\n",
       "    </tr>\n",
       "    <tr>\n",
       "      <th>player1_team_abbreviation</th>\n",
       "      <td>194986</td>\n",
       "      <td>1642623</td>\n",
       "      <td>11.87</td>\n",
       "    </tr>\n",
       "    <tr>\n",
       "      <th>player2_name</th>\n",
       "      <td>1205283</td>\n",
       "      <td>1642623</td>\n",
       "      <td>73.38</td>\n",
       "    </tr>\n",
       "    <tr>\n",
       "      <th>player2_team_id</th>\n",
       "      <td>1201988</td>\n",
       "      <td>1642623</td>\n",
       "      <td>73.17</td>\n",
       "    </tr>\n",
       "    <tr>\n",
       "      <th>player2_team_city</th>\n",
       "      <td>1201988</td>\n",
       "      <td>1642623</td>\n",
       "      <td>73.17</td>\n",
       "    </tr>\n",
       "    <tr>\n",
       "      <th>player2_team_nickname</th>\n",
       "      <td>1201988</td>\n",
       "      <td>1642623</td>\n",
       "      <td>73.17</td>\n",
       "    </tr>\n",
       "    <tr>\n",
       "      <th>player2_team_abbreviation</th>\n",
       "      <td>1201988</td>\n",
       "      <td>1642623</td>\n",
       "      <td>73.17</td>\n",
       "    </tr>\n",
       "    <tr>\n",
       "      <th>player3_name</th>\n",
       "      <td>1609140</td>\n",
       "      <td>1642623</td>\n",
       "      <td>97.96</td>\n",
       "    </tr>\n",
       "    <tr>\n",
       "      <th>player3_team_id</th>\n",
       "      <td>1608600</td>\n",
       "      <td>1642623</td>\n",
       "      <td>97.93</td>\n",
       "    </tr>\n",
       "    <tr>\n",
       "      <th>player3_team_city</th>\n",
       "      <td>1608600</td>\n",
       "      <td>1642623</td>\n",
       "      <td>97.93</td>\n",
       "    </tr>\n",
       "    <tr>\n",
       "      <th>player3_team_nickname</th>\n",
       "      <td>1608600</td>\n",
       "      <td>1642623</td>\n",
       "      <td>97.93</td>\n",
       "    </tr>\n",
       "    <tr>\n",
       "      <th>player3_team_abbreviation</th>\n",
       "      <td>1608600</td>\n",
       "      <td>1642623</td>\n",
       "      <td>97.93</td>\n",
       "    </tr>\n",
       "  </tbody>\n",
       "</table>\n",
       "</div>"
      ],
      "text/plain": [
       "                           Valores nulos  Total registros  Porcentaje\n",
       "wctimestring                         108          1642623        0.01\n",
       "homedescription                   802604          1642623       48.86\n",
       "neutraldescription               1602800          1642623       97.58\n",
       "visitordescription                802377          1642623       48.85\n",
       "score                            1201720          1642623       73.16\n",
       "scoremargin                      1201720          1642623       73.16\n",
       "person1type                          626          1642623        0.04\n",
       "player1_name                      194345          1642623       11.83\n",
       "player1_team_id                   194986          1642623       11.87\n",
       "player1_team_city                 194986          1642623       11.87\n",
       "player1_team_nickname             194986          1642623       11.87\n",
       "player1_team_abbreviation         194986          1642623       11.87\n",
       "player2_name                     1205283          1642623       73.38\n",
       "player2_team_id                  1201988          1642623       73.17\n",
       "player2_team_city                1201988          1642623       73.17\n",
       "player2_team_nickname            1201988          1642623       73.17\n",
       "player2_team_abbreviation        1201988          1642623       73.17\n",
       "player3_name                     1609140          1642623       97.96\n",
       "player3_team_id                  1608600          1642623       97.93\n",
       "player3_team_city                1608600          1642623       97.93\n",
       "player3_team_nickname            1608600          1642623       97.93\n",
       "player3_team_abbreviation        1608600          1642623       97.93"
      ]
     },
     "execution_count": 191,
     "metadata": {},
     "output_type": "execute_result"
    }
   ],
   "source": [
    "null_play_by_play_clutch = play_by_play_clutch.isnull().sum()\n",
    "total_register = len(play_by_play_clutch)\n",
    "null_result = null_play_by_play_clutch[null_play_by_play_clutch > 0]\n",
    "\n",
    "df_null_play_by_play_clutch = pd.DataFrame(\n",
    "    {\n",
    "        \"Valores nulos\": null_result,\n",
    "        \"Total registros\": total_register,\n",
    "        \"Porcentaje\": (null_result / total_register * 100).round(2),\n",
    "    }\n",
    ")\n",
    "\n",
    "df_null_play_by_play_clutch"
   ]
  },
  {
   "cell_type": "markdown",
   "id": "05b72973",
   "metadata": {},
   "source": [
    "### 2.14.5. Eliminación de columnas de datos de player y team"
   ]
  },
  {
   "cell_type": "code",
   "execution_count": 192,
   "id": "047706b3",
   "metadata": {},
   "outputs": [],
   "source": [
    "delete_columns = [\"person1type\", \"player1_name\", \"player1_team_city\", \"player1_team_nickname\", \"player1_team_abbreviation\", \"person2type\", \"player2_name\", \"player2_team_city\", \"player2_team_nickname\", \"player2_team_abbreviation\", \"person3type\", \"player3_name\", \"player3_team_city\", \"player3_team_nickname\", \"player3_team_abbreviation\"]\n",
    "\n",
    "play_by_play_clutch.drop(delete_columns, axis=1, inplace=True)"
   ]
  },
  {
   "cell_type": "code",
   "execution_count": 193,
   "id": "b5597cd1",
   "metadata": {},
   "outputs": [
    {
     "data": {
      "application/vnd.microsoft.datawrangler.viewer.v0+json": {
       "columns": [
        {
         "name": "index",
         "rawType": "object",
         "type": "string"
        },
        {
         "name": "Valores nulos",
         "rawType": "int64",
         "type": "integer"
        },
        {
         "name": "Total registros",
         "rawType": "int64",
         "type": "integer"
        },
        {
         "name": "Porcentaje",
         "rawType": "float64",
         "type": "float"
        }
       ],
       "conversionMethod": "pd.DataFrame",
       "ref": "bb4226d1-ceca-4702-89a8-ca954cd02499",
       "rows": [
        [
         "wctimestring",
         "108",
         "1642623",
         "0.01"
        ],
        [
         "homedescription",
         "802604",
         "1642623",
         "48.86"
        ],
        [
         "neutraldescription",
         "1602800",
         "1642623",
         "97.58"
        ],
        [
         "visitordescription",
         "802377",
         "1642623",
         "48.85"
        ],
        [
         "score",
         "1201720",
         "1642623",
         "73.16"
        ],
        [
         "scoremargin",
         "1201720",
         "1642623",
         "73.16"
        ],
        [
         "player1_team_id",
         "194986",
         "1642623",
         "11.87"
        ],
        [
         "player2_team_id",
         "1201988",
         "1642623",
         "73.17"
        ],
        [
         "player3_team_id",
         "1608600",
         "1642623",
         "97.93"
        ]
       ],
       "shape": {
        "columns": 3,
        "rows": 9
       }
      },
      "text/html": [
       "<div>\n",
       "<style scoped>\n",
       "    .dataframe tbody tr th:only-of-type {\n",
       "        vertical-align: middle;\n",
       "    }\n",
       "\n",
       "    .dataframe tbody tr th {\n",
       "        vertical-align: top;\n",
       "    }\n",
       "\n",
       "    .dataframe thead th {\n",
       "        text-align: right;\n",
       "    }\n",
       "</style>\n",
       "<table border=\"1\" class=\"dataframe\">\n",
       "  <thead>\n",
       "    <tr style=\"text-align: right;\">\n",
       "      <th></th>\n",
       "      <th>Valores nulos</th>\n",
       "      <th>Total registros</th>\n",
       "      <th>Porcentaje</th>\n",
       "    </tr>\n",
       "  </thead>\n",
       "  <tbody>\n",
       "    <tr>\n",
       "      <th>wctimestring</th>\n",
       "      <td>108</td>\n",
       "      <td>1642623</td>\n",
       "      <td>0.01</td>\n",
       "    </tr>\n",
       "    <tr>\n",
       "      <th>homedescription</th>\n",
       "      <td>802604</td>\n",
       "      <td>1642623</td>\n",
       "      <td>48.86</td>\n",
       "    </tr>\n",
       "    <tr>\n",
       "      <th>neutraldescription</th>\n",
       "      <td>1602800</td>\n",
       "      <td>1642623</td>\n",
       "      <td>97.58</td>\n",
       "    </tr>\n",
       "    <tr>\n",
       "      <th>visitordescription</th>\n",
       "      <td>802377</td>\n",
       "      <td>1642623</td>\n",
       "      <td>48.85</td>\n",
       "    </tr>\n",
       "    <tr>\n",
       "      <th>score</th>\n",
       "      <td>1201720</td>\n",
       "      <td>1642623</td>\n",
       "      <td>73.16</td>\n",
       "    </tr>\n",
       "    <tr>\n",
       "      <th>scoremargin</th>\n",
       "      <td>1201720</td>\n",
       "      <td>1642623</td>\n",
       "      <td>73.16</td>\n",
       "    </tr>\n",
       "    <tr>\n",
       "      <th>player1_team_id</th>\n",
       "      <td>194986</td>\n",
       "      <td>1642623</td>\n",
       "      <td>11.87</td>\n",
       "    </tr>\n",
       "    <tr>\n",
       "      <th>player2_team_id</th>\n",
       "      <td>1201988</td>\n",
       "      <td>1642623</td>\n",
       "      <td>73.17</td>\n",
       "    </tr>\n",
       "    <tr>\n",
       "      <th>player3_team_id</th>\n",
       "      <td>1608600</td>\n",
       "      <td>1642623</td>\n",
       "      <td>97.93</td>\n",
       "    </tr>\n",
       "  </tbody>\n",
       "</table>\n",
       "</div>"
      ],
      "text/plain": [
       "                    Valores nulos  Total registros  Porcentaje\n",
       "wctimestring                  108          1642623        0.01\n",
       "homedescription            802604          1642623       48.86\n",
       "neutraldescription        1602800          1642623       97.58\n",
       "visitordescription         802377          1642623       48.85\n",
       "score                     1201720          1642623       73.16\n",
       "scoremargin               1201720          1642623       73.16\n",
       "player1_team_id            194986          1642623       11.87\n",
       "player2_team_id           1201988          1642623       73.17\n",
       "player3_team_id           1608600          1642623       97.93"
      ]
     },
     "execution_count": 193,
     "metadata": {},
     "output_type": "execute_result"
    }
   ],
   "source": [
    "null_play_by_play_clutch = play_by_play_clutch.isnull().sum()\n",
    "total_register = len(play_by_play_clutch)\n",
    "null_result = null_play_by_play_clutch[null_play_by_play_clutch > 0]\n",
    "\n",
    "df_null_play_by_play_clutch = pd.DataFrame(\n",
    "    {\n",
    "        \"Valores nulos\": null_result,\n",
    "        \"Total registros\": total_register,\n",
    "        \"Porcentaje\": (null_result / total_register * 100).round(2),\n",
    "    }\n",
    ")\n",
    "\n",
    "df_null_play_by_play_clutch"
   ]
  },
  {
   "cell_type": "markdown",
   "id": "4834442f",
   "metadata": {},
   "source": [
    "### 2.14.6. Eliminación de columnas de evento del partido, periodo y hora"
   ]
  },
  {
   "cell_type": "code",
   "execution_count": 194,
   "id": "65b239d6",
   "metadata": {},
   "outputs": [],
   "source": [
    "delete_columns = [\"eventnum\", \"period\", \"wctimestring\"]\n",
    "\n",
    "play_by_play_clutch.drop(delete_columns, axis=1, inplace=True)"
   ]
  },
  {
   "cell_type": "code",
   "execution_count": 198,
   "id": "e8796df0",
   "metadata": {},
   "outputs": [
    {
     "data": {
      "application/vnd.microsoft.datawrangler.viewer.v0+json": {
       "columns": [
        {
         "name": "index",
         "rawType": "object",
         "type": "string"
        },
        {
         "name": "Valores nulos",
         "rawType": "int64",
         "type": "integer"
        },
        {
         "name": "Total registros",
         "rawType": "int64",
         "type": "integer"
        },
        {
         "name": "Porcentaje",
         "rawType": "float64",
         "type": "float"
        }
       ],
       "conversionMethod": "pd.DataFrame",
       "ref": "5fb578db-31e2-4e09-aa82-b9397a51cd9e",
       "rows": [
        [
         "homedescription",
         "802604",
         "1642623",
         "48.86"
        ],
        [
         "neutraldescription",
         "1602800",
         "1642623",
         "97.58"
        ],
        [
         "visitordescription",
         "802377",
         "1642623",
         "48.85"
        ],
        [
         "score",
         "1201720",
         "1642623",
         "73.16"
        ],
        [
         "scoremargin",
         "1201720",
         "1642623",
         "73.16"
        ],
        [
         "player1_team_id",
         "194986",
         "1642623",
         "11.87"
        ],
        [
         "player2_team_id",
         "1201988",
         "1642623",
         "73.17"
        ],
        [
         "player3_team_id",
         "1608600",
         "1642623",
         "97.93"
        ]
       ],
       "shape": {
        "columns": 3,
        "rows": 8
       }
      },
      "text/html": [
       "<div>\n",
       "<style scoped>\n",
       "    .dataframe tbody tr th:only-of-type {\n",
       "        vertical-align: middle;\n",
       "    }\n",
       "\n",
       "    .dataframe tbody tr th {\n",
       "        vertical-align: top;\n",
       "    }\n",
       "\n",
       "    .dataframe thead th {\n",
       "        text-align: right;\n",
       "    }\n",
       "</style>\n",
       "<table border=\"1\" class=\"dataframe\">\n",
       "  <thead>\n",
       "    <tr style=\"text-align: right;\">\n",
       "      <th></th>\n",
       "      <th>Valores nulos</th>\n",
       "      <th>Total registros</th>\n",
       "      <th>Porcentaje</th>\n",
       "    </tr>\n",
       "  </thead>\n",
       "  <tbody>\n",
       "    <tr>\n",
       "      <th>homedescription</th>\n",
       "      <td>802604</td>\n",
       "      <td>1642623</td>\n",
       "      <td>48.86</td>\n",
       "    </tr>\n",
       "    <tr>\n",
       "      <th>neutraldescription</th>\n",
       "      <td>1602800</td>\n",
       "      <td>1642623</td>\n",
       "      <td>97.58</td>\n",
       "    </tr>\n",
       "    <tr>\n",
       "      <th>visitordescription</th>\n",
       "      <td>802377</td>\n",
       "      <td>1642623</td>\n",
       "      <td>48.85</td>\n",
       "    </tr>\n",
       "    <tr>\n",
       "      <th>score</th>\n",
       "      <td>1201720</td>\n",
       "      <td>1642623</td>\n",
       "      <td>73.16</td>\n",
       "    </tr>\n",
       "    <tr>\n",
       "      <th>scoremargin</th>\n",
       "      <td>1201720</td>\n",
       "      <td>1642623</td>\n",
       "      <td>73.16</td>\n",
       "    </tr>\n",
       "    <tr>\n",
       "      <th>player1_team_id</th>\n",
       "      <td>194986</td>\n",
       "      <td>1642623</td>\n",
       "      <td>11.87</td>\n",
       "    </tr>\n",
       "    <tr>\n",
       "      <th>player2_team_id</th>\n",
       "      <td>1201988</td>\n",
       "      <td>1642623</td>\n",
       "      <td>73.17</td>\n",
       "    </tr>\n",
       "    <tr>\n",
       "      <th>player3_team_id</th>\n",
       "      <td>1608600</td>\n",
       "      <td>1642623</td>\n",
       "      <td>97.93</td>\n",
       "    </tr>\n",
       "  </tbody>\n",
       "</table>\n",
       "</div>"
      ],
      "text/plain": [
       "                    Valores nulos  Total registros  Porcentaje\n",
       "homedescription            802604          1642623       48.86\n",
       "neutraldescription        1602800          1642623       97.58\n",
       "visitordescription         802377          1642623       48.85\n",
       "score                     1201720          1642623       73.16\n",
       "scoremargin               1201720          1642623       73.16\n",
       "player1_team_id            194986          1642623       11.87\n",
       "player2_team_id           1201988          1642623       73.17\n",
       "player3_team_id           1608600          1642623       97.93"
      ]
     },
     "execution_count": 198,
     "metadata": {},
     "output_type": "execute_result"
    }
   ],
   "source": [
    "null_play_by_play_clutch = play_by_play_clutch.isnull().sum()\n",
    "total_register = len(play_by_play_clutch)\n",
    "null_result = null_play_by_play_clutch[null_play_by_play_clutch > 0]\n",
    "\n",
    "df_null_play_by_play_clutch = pd.DataFrame(\n",
    "    {\n",
    "        \"Valores nulos\": null_result,\n",
    "        \"Total registros\": total_register,\n",
    "        \"Porcentaje\": (null_result / total_register * 100).round(2),\n",
    "    }\n",
    ")\n",
    "\n",
    "df_null_play_by_play_clutch"
   ]
  },
  {
   "cell_type": "markdown",
   "id": "f393abcd",
   "metadata": {},
   "source": [
    "### 2.14.7. Cambio de 0 por nulos en columna de player"
   ]
  },
  {
   "cell_type": "code",
   "execution_count": 209,
   "id": "d3f496d1",
   "metadata": {},
   "outputs": [],
   "source": [
    "play_by_play_clutch[['player1_id', 'player2_id', 'player3_id']] = play_by_play_clutch[['player1_id', 'player2_id', 'player3_id']].replace(0, np.nan)"
   ]
  },
  {
   "cell_type": "code",
   "execution_count": 210,
   "id": "c89b7dfd",
   "metadata": {},
   "outputs": [
    {
     "data": {
      "application/vnd.microsoft.datawrangler.viewer.v0+json": {
       "columns": [
        {
         "name": "index",
         "rawType": "object",
         "type": "string"
        },
        {
         "name": "Valores nulos",
         "rawType": "int64",
         "type": "integer"
        },
        {
         "name": "Total registros",
         "rawType": "int64",
         "type": "integer"
        },
        {
         "name": "Porcentaje",
         "rawType": "float64",
         "type": "float"
        }
       ],
       "conversionMethod": "pd.DataFrame",
       "ref": "6c823835-49c4-471a-a8d1-0a3b236e98d0",
       "rows": [
        [
         "homedescription",
         "802604",
         "1642623",
         "48.86"
        ],
        [
         "neutraldescription",
         "1602800",
         "1642623",
         "97.58"
        ],
        [
         "visitordescription",
         "802377",
         "1642623",
         "48.85"
        ],
        [
         "score",
         "1201720",
         "1642623",
         "73.16"
        ],
        [
         "scoremargin",
         "1201720",
         "1642623",
         "73.16"
        ],
        [
         "player1_id",
         "33365",
         "1642623",
         "2.03"
        ],
        [
         "player1_team_id",
         "194986",
         "1642623",
         "11.87"
        ],
        [
         "player2_id",
         "1205176",
         "1642623",
         "73.37"
        ],
        [
         "player2_team_id",
         "1201988",
         "1642623",
         "73.17"
        ],
        [
         "player3_id",
         "1608838",
         "1642623",
         "97.94"
        ],
        [
         "player3_team_id",
         "1608600",
         "1642623",
         "97.93"
        ]
       ],
       "shape": {
        "columns": 3,
        "rows": 11
       }
      },
      "text/html": [
       "<div>\n",
       "<style scoped>\n",
       "    .dataframe tbody tr th:only-of-type {\n",
       "        vertical-align: middle;\n",
       "    }\n",
       "\n",
       "    .dataframe tbody tr th {\n",
       "        vertical-align: top;\n",
       "    }\n",
       "\n",
       "    .dataframe thead th {\n",
       "        text-align: right;\n",
       "    }\n",
       "</style>\n",
       "<table border=\"1\" class=\"dataframe\">\n",
       "  <thead>\n",
       "    <tr style=\"text-align: right;\">\n",
       "      <th></th>\n",
       "      <th>Valores nulos</th>\n",
       "      <th>Total registros</th>\n",
       "      <th>Porcentaje</th>\n",
       "    </tr>\n",
       "  </thead>\n",
       "  <tbody>\n",
       "    <tr>\n",
       "      <th>homedescription</th>\n",
       "      <td>802604</td>\n",
       "      <td>1642623</td>\n",
       "      <td>48.86</td>\n",
       "    </tr>\n",
       "    <tr>\n",
       "      <th>neutraldescription</th>\n",
       "      <td>1602800</td>\n",
       "      <td>1642623</td>\n",
       "      <td>97.58</td>\n",
       "    </tr>\n",
       "    <tr>\n",
       "      <th>visitordescription</th>\n",
       "      <td>802377</td>\n",
       "      <td>1642623</td>\n",
       "      <td>48.85</td>\n",
       "    </tr>\n",
       "    <tr>\n",
       "      <th>score</th>\n",
       "      <td>1201720</td>\n",
       "      <td>1642623</td>\n",
       "      <td>73.16</td>\n",
       "    </tr>\n",
       "    <tr>\n",
       "      <th>scoremargin</th>\n",
       "      <td>1201720</td>\n",
       "      <td>1642623</td>\n",
       "      <td>73.16</td>\n",
       "    </tr>\n",
       "    <tr>\n",
       "      <th>player1_id</th>\n",
       "      <td>33365</td>\n",
       "      <td>1642623</td>\n",
       "      <td>2.03</td>\n",
       "    </tr>\n",
       "    <tr>\n",
       "      <th>player1_team_id</th>\n",
       "      <td>194986</td>\n",
       "      <td>1642623</td>\n",
       "      <td>11.87</td>\n",
       "    </tr>\n",
       "    <tr>\n",
       "      <th>player2_id</th>\n",
       "      <td>1205176</td>\n",
       "      <td>1642623</td>\n",
       "      <td>73.37</td>\n",
       "    </tr>\n",
       "    <tr>\n",
       "      <th>player2_team_id</th>\n",
       "      <td>1201988</td>\n",
       "      <td>1642623</td>\n",
       "      <td>73.17</td>\n",
       "    </tr>\n",
       "    <tr>\n",
       "      <th>player3_id</th>\n",
       "      <td>1608838</td>\n",
       "      <td>1642623</td>\n",
       "      <td>97.94</td>\n",
       "    </tr>\n",
       "    <tr>\n",
       "      <th>player3_team_id</th>\n",
       "      <td>1608600</td>\n",
       "      <td>1642623</td>\n",
       "      <td>97.93</td>\n",
       "    </tr>\n",
       "  </tbody>\n",
       "</table>\n",
       "</div>"
      ],
      "text/plain": [
       "                    Valores nulos  Total registros  Porcentaje\n",
       "homedescription            802604          1642623       48.86\n",
       "neutraldescription        1602800          1642623       97.58\n",
       "visitordescription         802377          1642623       48.85\n",
       "score                     1201720          1642623       73.16\n",
       "scoremargin               1201720          1642623       73.16\n",
       "player1_id                  33365          1642623        2.03\n",
       "player1_team_id            194986          1642623       11.87\n",
       "player2_id                1205176          1642623       73.37\n",
       "player2_team_id           1201988          1642623       73.17\n",
       "player3_id                1608838          1642623       97.94\n",
       "player3_team_id           1608600          1642623       97.93"
      ]
     },
     "execution_count": 210,
     "metadata": {},
     "output_type": "execute_result"
    }
   ],
   "source": [
    "null_play_by_play_clutch = play_by_play_clutch.isnull().sum()\n",
    "total_register = len(play_by_play_clutch)\n",
    "null_result = null_play_by_play_clutch[null_play_by_play_clutch > 0]\n",
    "\n",
    "df_null_play_by_play_clutch = pd.DataFrame(\n",
    "    {\n",
    "        \"Valores nulos\": null_result,\n",
    "        \"Total registros\": total_register,\n",
    "        \"Porcentaje\": (null_result / total_register * 100).round(2),\n",
    "    }\n",
    ")\n",
    "\n",
    "df_null_play_by_play_clutch"
   ]
  },
  {
   "cell_type": "markdown",
   "id": "ec2eb000",
   "metadata": {},
   "source": [
    "### 2.14.8. Filtro por juego, jugadores y equipos"
   ]
  },
  {
   "cell_type": "code",
   "execution_count": 219,
   "id": "f935447f",
   "metadata": {},
   "outputs": [],
   "source": [
    "play_by_play_clutch_final = play_by_play_clutch[\n",
    "    play_by_play_clutch['game_id'].isin(game_2000['game_id']) &\n",
    "\n",
    "    (play_by_play_clutch['player1_id'].isna() | play_by_play_clutch['player1_id'].isin(player['id'])) &\n",
    "    (play_by_play_clutch['player2_id'].isna() | play_by_play_clutch['player2_id'].isin(player['id'])) &\n",
    "    (play_by_play_clutch['player3_id'].isna() | play_by_play_clutch['player3_id'].isin(player['id'])) &\n",
    "\n",
    "    (play_by_play_clutch['player1_team_id'].isna() | play_by_play_clutch['player1_team_id'].isin(team['id'])) &\n",
    "    (play_by_play_clutch['player2_team_id'].isna() | play_by_play_clutch['player2_team_id'].isin(team['id'])) &\n",
    "    (play_by_play_clutch['player3_team_id'].isna() | play_by_play_clutch['player3_team_id'].isin(team['id']))\n",
    "]"
   ]
  },
  {
   "cell_type": "code",
   "execution_count": 220,
   "id": "c000d3f9",
   "metadata": {},
   "outputs": [
    {
     "data": {
      "application/vnd.microsoft.datawrangler.viewer.v0+json": {
       "columns": [
        {
         "name": "index",
         "rawType": "object",
         "type": "string"
        },
        {
         "name": "Valores nulos",
         "rawType": "int64",
         "type": "integer"
        },
        {
         "name": "Total registros",
         "rawType": "int64",
         "type": "integer"
        },
        {
         "name": "Porcentaje",
         "rawType": "float64",
         "type": "float"
        }
       ],
       "conversionMethod": "pd.DataFrame",
       "ref": "8beb6070-d27d-401b-9e99-da40da23a8fb",
       "rows": [
        [
         "homedescription",
         "630234",
         "1302935",
         "48.37"
        ],
        [
         "neutraldescription",
         "1271688",
         "1302935",
         "97.6"
        ],
        [
         "visitordescription",
         "636409",
         "1302935",
         "48.84"
        ],
        [
         "score",
         "917196",
         "1302935",
         "70.39"
        ],
        [
         "scoremargin",
         "917196",
         "1302935",
         "70.39"
        ],
        [
         "player1_id",
         "29906",
         "1302935",
         "2.3"
        ],
        [
         "player1_team_id",
         "30777",
         "1302935",
         "2.36"
        ],
        [
         "player2_id",
         "906281",
         "1302935",
         "69.56"
        ],
        [
         "player2_team_id",
         "906281",
         "1302935",
         "69.56"
        ],
        [
         "player3_id",
         "1273551",
         "1302935",
         "97.74"
        ],
        [
         "player3_team_id",
         "1273551",
         "1302935",
         "97.74"
        ]
       ],
       "shape": {
        "columns": 3,
        "rows": 11
       }
      },
      "text/html": [
       "<div>\n",
       "<style scoped>\n",
       "    .dataframe tbody tr th:only-of-type {\n",
       "        vertical-align: middle;\n",
       "    }\n",
       "\n",
       "    .dataframe tbody tr th {\n",
       "        vertical-align: top;\n",
       "    }\n",
       "\n",
       "    .dataframe thead th {\n",
       "        text-align: right;\n",
       "    }\n",
       "</style>\n",
       "<table border=\"1\" class=\"dataframe\">\n",
       "  <thead>\n",
       "    <tr style=\"text-align: right;\">\n",
       "      <th></th>\n",
       "      <th>Valores nulos</th>\n",
       "      <th>Total registros</th>\n",
       "      <th>Porcentaje</th>\n",
       "    </tr>\n",
       "  </thead>\n",
       "  <tbody>\n",
       "    <tr>\n",
       "      <th>homedescription</th>\n",
       "      <td>630234</td>\n",
       "      <td>1302935</td>\n",
       "      <td>48.37</td>\n",
       "    </tr>\n",
       "    <tr>\n",
       "      <th>neutraldescription</th>\n",
       "      <td>1271688</td>\n",
       "      <td>1302935</td>\n",
       "      <td>97.60</td>\n",
       "    </tr>\n",
       "    <tr>\n",
       "      <th>visitordescription</th>\n",
       "      <td>636409</td>\n",
       "      <td>1302935</td>\n",
       "      <td>48.84</td>\n",
       "    </tr>\n",
       "    <tr>\n",
       "      <th>score</th>\n",
       "      <td>917196</td>\n",
       "      <td>1302935</td>\n",
       "      <td>70.39</td>\n",
       "    </tr>\n",
       "    <tr>\n",
       "      <th>scoremargin</th>\n",
       "      <td>917196</td>\n",
       "      <td>1302935</td>\n",
       "      <td>70.39</td>\n",
       "    </tr>\n",
       "    <tr>\n",
       "      <th>player1_id</th>\n",
       "      <td>29906</td>\n",
       "      <td>1302935</td>\n",
       "      <td>2.30</td>\n",
       "    </tr>\n",
       "    <tr>\n",
       "      <th>player1_team_id</th>\n",
       "      <td>30777</td>\n",
       "      <td>1302935</td>\n",
       "      <td>2.36</td>\n",
       "    </tr>\n",
       "    <tr>\n",
       "      <th>player2_id</th>\n",
       "      <td>906281</td>\n",
       "      <td>1302935</td>\n",
       "      <td>69.56</td>\n",
       "    </tr>\n",
       "    <tr>\n",
       "      <th>player2_team_id</th>\n",
       "      <td>906281</td>\n",
       "      <td>1302935</td>\n",
       "      <td>69.56</td>\n",
       "    </tr>\n",
       "    <tr>\n",
       "      <th>player3_id</th>\n",
       "      <td>1273551</td>\n",
       "      <td>1302935</td>\n",
       "      <td>97.74</td>\n",
       "    </tr>\n",
       "    <tr>\n",
       "      <th>player3_team_id</th>\n",
       "      <td>1273551</td>\n",
       "      <td>1302935</td>\n",
       "      <td>97.74</td>\n",
       "    </tr>\n",
       "  </tbody>\n",
       "</table>\n",
       "</div>"
      ],
      "text/plain": [
       "                    Valores nulos  Total registros  Porcentaje\n",
       "homedescription            630234          1302935       48.37\n",
       "neutraldescription        1271688          1302935       97.60\n",
       "visitordescription         636409          1302935       48.84\n",
       "score                      917196          1302935       70.39\n",
       "scoremargin                917196          1302935       70.39\n",
       "player1_id                  29906          1302935        2.30\n",
       "player1_team_id             30777          1302935        2.36\n",
       "player2_id                 906281          1302935       69.56\n",
       "player2_team_id            906281          1302935       69.56\n",
       "player3_id                1273551          1302935       97.74\n",
       "player3_team_id           1273551          1302935       97.74"
      ]
     },
     "execution_count": 220,
     "metadata": {},
     "output_type": "execute_result"
    }
   ],
   "source": [
    "null_play_by_play_clutch_final = play_by_play_clutch_final.isnull().sum()\n",
    "total_register = len(play_by_play_clutch_final)\n",
    "null_result = null_play_by_play_clutch_final[null_play_by_play_clutch_final > 0]\n",
    "\n",
    "df_null_play_by_play_clutch_final = pd.DataFrame(\n",
    "    {\n",
    "        \"Valores nulos\": null_result,\n",
    "        \"Total registros\": total_register,\n",
    "        \"Porcentaje\": (null_result / total_register * 100).round(2),\n",
    "    }\n",
    ")\n",
    "\n",
    "df_null_play_by_play_clutch_final"
   ]
  },
  {
   "cell_type": "markdown",
   "id": "2b447e02",
   "metadata": {},
   "source": [
    "## 2.15. Tabla Line_score"
   ]
  },
  {
   "cell_type": "markdown",
   "id": "c1260d7e",
   "metadata": {},
   "source": [
    "### 2.15.1. Lectura de nulos"
   ]
  },
  {
   "cell_type": "code",
   "execution_count": 115,
   "id": "2f81e6f5",
   "metadata": {},
   "outputs": [
    {
     "data": {
      "text/plain": [
       "(game_date_est                 0\n",
       " game_sequence             25532\n",
       " game_id                       0\n",
       " team_id_home                  0\n",
       " team_abbreviation_home        0\n",
       " team_city_name_home           0\n",
       " team_nickname_home            0\n",
       " team_wins_losses_home         0\n",
       " pts_qtr1_home              1004\n",
       " pts_qtr2_home              1013\n",
       " pts_qtr3_home              1045\n",
       " pts_qtr4_home              1044\n",
       " pts_ot1_home              25759\n",
       " pts_ot2_home              27051\n",
       " pts_ot3_home              27243\n",
       " pts_ot4_home              27270\n",
       " pts_ot5_home              45577\n",
       " pts_ot6_home              45578\n",
       " pts_ot7_home              45578\n",
       " pts_ot8_home              45578\n",
       " pts_ot9_home              45578\n",
       " pts_ot10_home             45578\n",
       " pts_home                      0\n",
       " team_id_away                  0\n",
       " team_abbreviation_away        0\n",
       " team_city_name_away           0\n",
       " team_nickname_away            0\n",
       " team_wins_losses_away         0\n",
       " pts_qtr1_away              1010\n",
       " pts_qtr2_away              1013\n",
       " pts_qtr3_away              1046\n",
       " pts_qtr4_away              1046\n",
       " pts_ot1_away              25759\n",
       " pts_ot2_away              27051\n",
       " pts_ot3_away              27243\n",
       " pts_ot4_away              27270\n",
       " pts_ot5_away              45577\n",
       " pts_ot6_away              45578\n",
       " pts_ot7_away              45578\n",
       " pts_ot8_away              45578\n",
       " pts_ot9_away              45578\n",
       " pts_ot10_away             45578\n",
       " pts_away                      0\n",
       " dtype: int64,\n",
       " (58053, 43))"
      ]
     },
     "execution_count": 115,
     "metadata": {},
     "output_type": "execute_result"
    }
   ],
   "source": [
    "line_score.isnull().sum(), line_score.shape"
   ]
  },
  {
   "cell_type": "code",
   "execution_count": 116,
   "id": "5da1cea8",
   "metadata": {},
   "outputs": [
    {
     "data": {
      "application/vnd.microsoft.datawrangler.viewer.v0+json": {
       "columns": [
        {
         "name": "index",
         "rawType": "object",
         "type": "string"
        },
        {
         "name": "Valores nulos",
         "rawType": "int64",
         "type": "integer"
        },
        {
         "name": "Total registros",
         "rawType": "int64",
         "type": "integer"
        },
        {
         "name": "Porcentaje",
         "rawType": "float64",
         "type": "float"
        }
       ],
       "conversionMethod": "pd.DataFrame",
       "ref": "bccf7f23-0cc9-40c7-b239-f81cb49df7c8",
       "rows": [
        [
         "game_sequence",
         "25532",
         "58053",
         "43.98"
        ],
        [
         "pts_qtr1_home",
         "1004",
         "58053",
         "1.73"
        ],
        [
         "pts_qtr2_home",
         "1013",
         "58053",
         "1.74"
        ],
        [
         "pts_qtr3_home",
         "1045",
         "58053",
         "1.8"
        ],
        [
         "pts_qtr4_home",
         "1044",
         "58053",
         "1.8"
        ],
        [
         "pts_ot1_home",
         "25759",
         "58053",
         "44.37"
        ],
        [
         "pts_ot2_home",
         "27051",
         "58053",
         "46.6"
        ],
        [
         "pts_ot3_home",
         "27243",
         "58053",
         "46.93"
        ],
        [
         "pts_ot4_home",
         "27270",
         "58053",
         "46.97"
        ],
        [
         "pts_ot5_home",
         "45577",
         "58053",
         "78.51"
        ],
        [
         "pts_ot6_home",
         "45578",
         "58053",
         "78.51"
        ],
        [
         "pts_ot7_home",
         "45578",
         "58053",
         "78.51"
        ],
        [
         "pts_ot8_home",
         "45578",
         "58053",
         "78.51"
        ],
        [
         "pts_ot9_home",
         "45578",
         "58053",
         "78.51"
        ],
        [
         "pts_ot10_home",
         "45578",
         "58053",
         "78.51"
        ],
        [
         "pts_qtr1_away",
         "1010",
         "58053",
         "1.74"
        ],
        [
         "pts_qtr2_away",
         "1013",
         "58053",
         "1.74"
        ],
        [
         "pts_qtr3_away",
         "1046",
         "58053",
         "1.8"
        ],
        [
         "pts_qtr4_away",
         "1046",
         "58053",
         "1.8"
        ],
        [
         "pts_ot1_away",
         "25759",
         "58053",
         "44.37"
        ],
        [
         "pts_ot2_away",
         "27051",
         "58053",
         "46.6"
        ],
        [
         "pts_ot3_away",
         "27243",
         "58053",
         "46.93"
        ],
        [
         "pts_ot4_away",
         "27270",
         "58053",
         "46.97"
        ],
        [
         "pts_ot5_away",
         "45577",
         "58053",
         "78.51"
        ],
        [
         "pts_ot6_away",
         "45578",
         "58053",
         "78.51"
        ],
        [
         "pts_ot7_away",
         "45578",
         "58053",
         "78.51"
        ],
        [
         "pts_ot8_away",
         "45578",
         "58053",
         "78.51"
        ],
        [
         "pts_ot9_away",
         "45578",
         "58053",
         "78.51"
        ],
        [
         "pts_ot10_away",
         "45578",
         "58053",
         "78.51"
        ]
       ],
       "shape": {
        "columns": 3,
        "rows": 29
       }
      },
      "text/html": [
       "<div>\n",
       "<style scoped>\n",
       "    .dataframe tbody tr th:only-of-type {\n",
       "        vertical-align: middle;\n",
       "    }\n",
       "\n",
       "    .dataframe tbody tr th {\n",
       "        vertical-align: top;\n",
       "    }\n",
       "\n",
       "    .dataframe thead th {\n",
       "        text-align: right;\n",
       "    }\n",
       "</style>\n",
       "<table border=\"1\" class=\"dataframe\">\n",
       "  <thead>\n",
       "    <tr style=\"text-align: right;\">\n",
       "      <th></th>\n",
       "      <th>Valores nulos</th>\n",
       "      <th>Total registros</th>\n",
       "      <th>Porcentaje</th>\n",
       "    </tr>\n",
       "  </thead>\n",
       "  <tbody>\n",
       "    <tr>\n",
       "      <th>game_sequence</th>\n",
       "      <td>25532</td>\n",
       "      <td>58053</td>\n",
       "      <td>43.98</td>\n",
       "    </tr>\n",
       "    <tr>\n",
       "      <th>pts_qtr1_home</th>\n",
       "      <td>1004</td>\n",
       "      <td>58053</td>\n",
       "      <td>1.73</td>\n",
       "    </tr>\n",
       "    <tr>\n",
       "      <th>pts_qtr2_home</th>\n",
       "      <td>1013</td>\n",
       "      <td>58053</td>\n",
       "      <td>1.74</td>\n",
       "    </tr>\n",
       "    <tr>\n",
       "      <th>pts_qtr3_home</th>\n",
       "      <td>1045</td>\n",
       "      <td>58053</td>\n",
       "      <td>1.80</td>\n",
       "    </tr>\n",
       "    <tr>\n",
       "      <th>pts_qtr4_home</th>\n",
       "      <td>1044</td>\n",
       "      <td>58053</td>\n",
       "      <td>1.80</td>\n",
       "    </tr>\n",
       "    <tr>\n",
       "      <th>pts_ot1_home</th>\n",
       "      <td>25759</td>\n",
       "      <td>58053</td>\n",
       "      <td>44.37</td>\n",
       "    </tr>\n",
       "    <tr>\n",
       "      <th>pts_ot2_home</th>\n",
       "      <td>27051</td>\n",
       "      <td>58053</td>\n",
       "      <td>46.60</td>\n",
       "    </tr>\n",
       "    <tr>\n",
       "      <th>pts_ot3_home</th>\n",
       "      <td>27243</td>\n",
       "      <td>58053</td>\n",
       "      <td>46.93</td>\n",
       "    </tr>\n",
       "    <tr>\n",
       "      <th>pts_ot4_home</th>\n",
       "      <td>27270</td>\n",
       "      <td>58053</td>\n",
       "      <td>46.97</td>\n",
       "    </tr>\n",
       "    <tr>\n",
       "      <th>pts_ot5_home</th>\n",
       "      <td>45577</td>\n",
       "      <td>58053</td>\n",
       "      <td>78.51</td>\n",
       "    </tr>\n",
       "    <tr>\n",
       "      <th>pts_ot6_home</th>\n",
       "      <td>45578</td>\n",
       "      <td>58053</td>\n",
       "      <td>78.51</td>\n",
       "    </tr>\n",
       "    <tr>\n",
       "      <th>pts_ot7_home</th>\n",
       "      <td>45578</td>\n",
       "      <td>58053</td>\n",
       "      <td>78.51</td>\n",
       "    </tr>\n",
       "    <tr>\n",
       "      <th>pts_ot8_home</th>\n",
       "      <td>45578</td>\n",
       "      <td>58053</td>\n",
       "      <td>78.51</td>\n",
       "    </tr>\n",
       "    <tr>\n",
       "      <th>pts_ot9_home</th>\n",
       "      <td>45578</td>\n",
       "      <td>58053</td>\n",
       "      <td>78.51</td>\n",
       "    </tr>\n",
       "    <tr>\n",
       "      <th>pts_ot10_home</th>\n",
       "      <td>45578</td>\n",
       "      <td>58053</td>\n",
       "      <td>78.51</td>\n",
       "    </tr>\n",
       "    <tr>\n",
       "      <th>pts_qtr1_away</th>\n",
       "      <td>1010</td>\n",
       "      <td>58053</td>\n",
       "      <td>1.74</td>\n",
       "    </tr>\n",
       "    <tr>\n",
       "      <th>pts_qtr2_away</th>\n",
       "      <td>1013</td>\n",
       "      <td>58053</td>\n",
       "      <td>1.74</td>\n",
       "    </tr>\n",
       "    <tr>\n",
       "      <th>pts_qtr3_away</th>\n",
       "      <td>1046</td>\n",
       "      <td>58053</td>\n",
       "      <td>1.80</td>\n",
       "    </tr>\n",
       "    <tr>\n",
       "      <th>pts_qtr4_away</th>\n",
       "      <td>1046</td>\n",
       "      <td>58053</td>\n",
       "      <td>1.80</td>\n",
       "    </tr>\n",
       "    <tr>\n",
       "      <th>pts_ot1_away</th>\n",
       "      <td>25759</td>\n",
       "      <td>58053</td>\n",
       "      <td>44.37</td>\n",
       "    </tr>\n",
       "    <tr>\n",
       "      <th>pts_ot2_away</th>\n",
       "      <td>27051</td>\n",
       "      <td>58053</td>\n",
       "      <td>46.60</td>\n",
       "    </tr>\n",
       "    <tr>\n",
       "      <th>pts_ot3_away</th>\n",
       "      <td>27243</td>\n",
       "      <td>58053</td>\n",
       "      <td>46.93</td>\n",
       "    </tr>\n",
       "    <tr>\n",
       "      <th>pts_ot4_away</th>\n",
       "      <td>27270</td>\n",
       "      <td>58053</td>\n",
       "      <td>46.97</td>\n",
       "    </tr>\n",
       "    <tr>\n",
       "      <th>pts_ot5_away</th>\n",
       "      <td>45577</td>\n",
       "      <td>58053</td>\n",
       "      <td>78.51</td>\n",
       "    </tr>\n",
       "    <tr>\n",
       "      <th>pts_ot6_away</th>\n",
       "      <td>45578</td>\n",
       "      <td>58053</td>\n",
       "      <td>78.51</td>\n",
       "    </tr>\n",
       "    <tr>\n",
       "      <th>pts_ot7_away</th>\n",
       "      <td>45578</td>\n",
       "      <td>58053</td>\n",
       "      <td>78.51</td>\n",
       "    </tr>\n",
       "    <tr>\n",
       "      <th>pts_ot8_away</th>\n",
       "      <td>45578</td>\n",
       "      <td>58053</td>\n",
       "      <td>78.51</td>\n",
       "    </tr>\n",
       "    <tr>\n",
       "      <th>pts_ot9_away</th>\n",
       "      <td>45578</td>\n",
       "      <td>58053</td>\n",
       "      <td>78.51</td>\n",
       "    </tr>\n",
       "    <tr>\n",
       "      <th>pts_ot10_away</th>\n",
       "      <td>45578</td>\n",
       "      <td>58053</td>\n",
       "      <td>78.51</td>\n",
       "    </tr>\n",
       "  </tbody>\n",
       "</table>\n",
       "</div>"
      ],
      "text/plain": [
       "               Valores nulos  Total registros  Porcentaje\n",
       "game_sequence          25532            58053       43.98\n",
       "pts_qtr1_home           1004            58053        1.73\n",
       "pts_qtr2_home           1013            58053        1.74\n",
       "pts_qtr3_home           1045            58053        1.80\n",
       "pts_qtr4_home           1044            58053        1.80\n",
       "pts_ot1_home           25759            58053       44.37\n",
       "pts_ot2_home           27051            58053       46.60\n",
       "pts_ot3_home           27243            58053       46.93\n",
       "pts_ot4_home           27270            58053       46.97\n",
       "pts_ot5_home           45577            58053       78.51\n",
       "pts_ot6_home           45578            58053       78.51\n",
       "pts_ot7_home           45578            58053       78.51\n",
       "pts_ot8_home           45578            58053       78.51\n",
       "pts_ot9_home           45578            58053       78.51\n",
       "pts_ot10_home          45578            58053       78.51\n",
       "pts_qtr1_away           1010            58053        1.74\n",
       "pts_qtr2_away           1013            58053        1.74\n",
       "pts_qtr3_away           1046            58053        1.80\n",
       "pts_qtr4_away           1046            58053        1.80\n",
       "pts_ot1_away           25759            58053       44.37\n",
       "pts_ot2_away           27051            58053       46.60\n",
       "pts_ot3_away           27243            58053       46.93\n",
       "pts_ot4_away           27270            58053       46.97\n",
       "pts_ot5_away           45577            58053       78.51\n",
       "pts_ot6_away           45578            58053       78.51\n",
       "pts_ot7_away           45578            58053       78.51\n",
       "pts_ot8_away           45578            58053       78.51\n",
       "pts_ot9_away           45578            58053       78.51\n",
       "pts_ot10_away          45578            58053       78.51"
      ]
     },
     "execution_count": 116,
     "metadata": {},
     "output_type": "execute_result"
    }
   ],
   "source": [
    "null_line_score = line_score.isnull().sum()\n",
    "total_register = len(line_score)\n",
    "null_result = null_line_score[null_line_score > 0]\n",
    "\n",
    "df_null_line_score = pd.DataFrame(\n",
    "    {\n",
    "        \"Valores nulos\": null_result,\n",
    "        \"Total registros\": total_register,\n",
    "        \"Porcentaje\": (null_result / total_register * 100).round(2),\n",
    "    }\n",
    ")\n",
    "\n",
    "df_null_line_score"
   ]
  },
  {
   "cell_type": "markdown",
   "id": "8ce12ee5",
   "metadata": {},
   "source": [
    "### 2.15.2. Filtro por fecha"
   ]
  },
  {
   "cell_type": "code",
   "execution_count": 117,
   "id": "373e3588",
   "metadata": {},
   "outputs": [],
   "source": [
    "line_score = line_score[line_score['game_date_est'] >= \"2000-01-01\"].copy()"
   ]
  },
  {
   "cell_type": "code",
   "execution_count": 118,
   "id": "aca73eb4",
   "metadata": {},
   "outputs": [
    {
     "data": {
      "application/vnd.microsoft.datawrangler.viewer.v0+json": {
       "columns": [
        {
         "name": "index",
         "rawType": "object",
         "type": "string"
        },
        {
         "name": "Valores nulos",
         "rawType": "int64",
         "type": "integer"
        },
        {
         "name": "Total registros",
         "rawType": "int64",
         "type": "integer"
        },
        {
         "name": "Porcentaje",
         "rawType": "float64",
         "type": "float"
        }
       ],
       "conversionMethod": "pd.DataFrame",
       "ref": "d6bc6f3a-af48-4679-a067-6d28d4f5b3ad",
       "rows": [
        [
         "pts_ot1_home",
         "1",
         "27457",
         "0.0"
        ],
        [
         "pts_ot2_home",
         "2",
         "27457",
         "0.01"
        ],
        [
         "pts_ot3_home",
         "2",
         "27457",
         "0.01"
        ],
        [
         "pts_ot4_home",
         "2",
         "27457",
         "0.01"
        ],
        [
         "pts_ot5_home",
         "14984",
         "27457",
         "54.57"
        ],
        [
         "pts_ot6_home",
         "14984",
         "27457",
         "54.57"
        ],
        [
         "pts_ot7_home",
         "14984",
         "27457",
         "54.57"
        ],
        [
         "pts_ot8_home",
         "14984",
         "27457",
         "54.57"
        ],
        [
         "pts_ot9_home",
         "14984",
         "27457",
         "54.57"
        ],
        [
         "pts_ot10_home",
         "14984",
         "27457",
         "54.57"
        ],
        [
         "pts_ot1_away",
         "1",
         "27457",
         "0.0"
        ],
        [
         "pts_ot2_away",
         "2",
         "27457",
         "0.01"
        ],
        [
         "pts_ot3_away",
         "2",
         "27457",
         "0.01"
        ],
        [
         "pts_ot4_away",
         "2",
         "27457",
         "0.01"
        ],
        [
         "pts_ot5_away",
         "14984",
         "27457",
         "54.57"
        ],
        [
         "pts_ot6_away",
         "14984",
         "27457",
         "54.57"
        ],
        [
         "pts_ot7_away",
         "14984",
         "27457",
         "54.57"
        ],
        [
         "pts_ot8_away",
         "14984",
         "27457",
         "54.57"
        ],
        [
         "pts_ot9_away",
         "14984",
         "27457",
         "54.57"
        ],
        [
         "pts_ot10_away",
         "14984",
         "27457",
         "54.57"
        ]
       ],
       "shape": {
        "columns": 3,
        "rows": 20
       }
      },
      "text/html": [
       "<div>\n",
       "<style scoped>\n",
       "    .dataframe tbody tr th:only-of-type {\n",
       "        vertical-align: middle;\n",
       "    }\n",
       "\n",
       "    .dataframe tbody tr th {\n",
       "        vertical-align: top;\n",
       "    }\n",
       "\n",
       "    .dataframe thead th {\n",
       "        text-align: right;\n",
       "    }\n",
       "</style>\n",
       "<table border=\"1\" class=\"dataframe\">\n",
       "  <thead>\n",
       "    <tr style=\"text-align: right;\">\n",
       "      <th></th>\n",
       "      <th>Valores nulos</th>\n",
       "      <th>Total registros</th>\n",
       "      <th>Porcentaje</th>\n",
       "    </tr>\n",
       "  </thead>\n",
       "  <tbody>\n",
       "    <tr>\n",
       "      <th>pts_ot1_home</th>\n",
       "      <td>1</td>\n",
       "      <td>27457</td>\n",
       "      <td>0.00</td>\n",
       "    </tr>\n",
       "    <tr>\n",
       "      <th>pts_ot2_home</th>\n",
       "      <td>2</td>\n",
       "      <td>27457</td>\n",
       "      <td>0.01</td>\n",
       "    </tr>\n",
       "    <tr>\n",
       "      <th>pts_ot3_home</th>\n",
       "      <td>2</td>\n",
       "      <td>27457</td>\n",
       "      <td>0.01</td>\n",
       "    </tr>\n",
       "    <tr>\n",
       "      <th>pts_ot4_home</th>\n",
       "      <td>2</td>\n",
       "      <td>27457</td>\n",
       "      <td>0.01</td>\n",
       "    </tr>\n",
       "    <tr>\n",
       "      <th>pts_ot5_home</th>\n",
       "      <td>14984</td>\n",
       "      <td>27457</td>\n",
       "      <td>54.57</td>\n",
       "    </tr>\n",
       "    <tr>\n",
       "      <th>pts_ot6_home</th>\n",
       "      <td>14984</td>\n",
       "      <td>27457</td>\n",
       "      <td>54.57</td>\n",
       "    </tr>\n",
       "    <tr>\n",
       "      <th>pts_ot7_home</th>\n",
       "      <td>14984</td>\n",
       "      <td>27457</td>\n",
       "      <td>54.57</td>\n",
       "    </tr>\n",
       "    <tr>\n",
       "      <th>pts_ot8_home</th>\n",
       "      <td>14984</td>\n",
       "      <td>27457</td>\n",
       "      <td>54.57</td>\n",
       "    </tr>\n",
       "    <tr>\n",
       "      <th>pts_ot9_home</th>\n",
       "      <td>14984</td>\n",
       "      <td>27457</td>\n",
       "      <td>54.57</td>\n",
       "    </tr>\n",
       "    <tr>\n",
       "      <th>pts_ot10_home</th>\n",
       "      <td>14984</td>\n",
       "      <td>27457</td>\n",
       "      <td>54.57</td>\n",
       "    </tr>\n",
       "    <tr>\n",
       "      <th>pts_ot1_away</th>\n",
       "      <td>1</td>\n",
       "      <td>27457</td>\n",
       "      <td>0.00</td>\n",
       "    </tr>\n",
       "    <tr>\n",
       "      <th>pts_ot2_away</th>\n",
       "      <td>2</td>\n",
       "      <td>27457</td>\n",
       "      <td>0.01</td>\n",
       "    </tr>\n",
       "    <tr>\n",
       "      <th>pts_ot3_away</th>\n",
       "      <td>2</td>\n",
       "      <td>27457</td>\n",
       "      <td>0.01</td>\n",
       "    </tr>\n",
       "    <tr>\n",
       "      <th>pts_ot4_away</th>\n",
       "      <td>2</td>\n",
       "      <td>27457</td>\n",
       "      <td>0.01</td>\n",
       "    </tr>\n",
       "    <tr>\n",
       "      <th>pts_ot5_away</th>\n",
       "      <td>14984</td>\n",
       "      <td>27457</td>\n",
       "      <td>54.57</td>\n",
       "    </tr>\n",
       "    <tr>\n",
       "      <th>pts_ot6_away</th>\n",
       "      <td>14984</td>\n",
       "      <td>27457</td>\n",
       "      <td>54.57</td>\n",
       "    </tr>\n",
       "    <tr>\n",
       "      <th>pts_ot7_away</th>\n",
       "      <td>14984</td>\n",
       "      <td>27457</td>\n",
       "      <td>54.57</td>\n",
       "    </tr>\n",
       "    <tr>\n",
       "      <th>pts_ot8_away</th>\n",
       "      <td>14984</td>\n",
       "      <td>27457</td>\n",
       "      <td>54.57</td>\n",
       "    </tr>\n",
       "    <tr>\n",
       "      <th>pts_ot9_away</th>\n",
       "      <td>14984</td>\n",
       "      <td>27457</td>\n",
       "      <td>54.57</td>\n",
       "    </tr>\n",
       "    <tr>\n",
       "      <th>pts_ot10_away</th>\n",
       "      <td>14984</td>\n",
       "      <td>27457</td>\n",
       "      <td>54.57</td>\n",
       "    </tr>\n",
       "  </tbody>\n",
       "</table>\n",
       "</div>"
      ],
      "text/plain": [
       "               Valores nulos  Total registros  Porcentaje\n",
       "pts_ot1_home               1            27457        0.00\n",
       "pts_ot2_home               2            27457        0.01\n",
       "pts_ot3_home               2            27457        0.01\n",
       "pts_ot4_home               2            27457        0.01\n",
       "pts_ot5_home           14984            27457       54.57\n",
       "pts_ot6_home           14984            27457       54.57\n",
       "pts_ot7_home           14984            27457       54.57\n",
       "pts_ot8_home           14984            27457       54.57\n",
       "pts_ot9_home           14984            27457       54.57\n",
       "pts_ot10_home          14984            27457       54.57\n",
       "pts_ot1_away               1            27457        0.00\n",
       "pts_ot2_away               2            27457        0.01\n",
       "pts_ot3_away               2            27457        0.01\n",
       "pts_ot4_away               2            27457        0.01\n",
       "pts_ot5_away           14984            27457       54.57\n",
       "pts_ot6_away           14984            27457       54.57\n",
       "pts_ot7_away           14984            27457       54.57\n",
       "pts_ot8_away           14984            27457       54.57\n",
       "pts_ot9_away           14984            27457       54.57\n",
       "pts_ot10_away          14984            27457       54.57"
      ]
     },
     "execution_count": 118,
     "metadata": {},
     "output_type": "execute_result"
    }
   ],
   "source": [
    "null_line_score = line_score.isnull().sum()\n",
    "total_register = len(line_score)\n",
    "null_result = null_line_score[null_line_score > 0]\n",
    "\n",
    "df_null_line_score = pd.DataFrame(\n",
    "    {\n",
    "        \"Valores nulos\": null_result,\n",
    "        \"Total registros\": total_register,\n",
    "        \"Porcentaje\": (null_result / total_register * 100).round(2),\n",
    "    }\n",
    ")\n",
    "\n",
    "df_null_line_score"
   ]
  },
  {
   "cell_type": "markdown",
   "id": "6eb20860",
   "metadata": {},
   "source": [
    "### 2.15.3. Filtro por nulos mayores al 50%"
   ]
  },
  {
   "cell_type": "code",
   "execution_count": 119,
   "id": "ffceca27",
   "metadata": {},
   "outputs": [
    {
     "data": {
      "application/vnd.microsoft.datawrangler.viewer.v0+json": {
       "columns": [
        {
         "name": "index",
         "rawType": "object",
         "type": "string"
        },
        {
         "name": "Valores nulos",
         "rawType": "int64",
         "type": "integer"
        },
        {
         "name": "Total registros",
         "rawType": "int64",
         "type": "integer"
        },
        {
         "name": "Porcentaje",
         "rawType": "float64",
         "type": "float"
        }
       ],
       "conversionMethod": "pd.DataFrame",
       "ref": "9c2feca5-4a53-4290-84c9-6cdda1012e52",
       "rows": [
        [
         "pts_ot5_home",
         "14984",
         "27457",
         "54.57"
        ],
        [
         "pts_ot6_home",
         "14984",
         "27457",
         "54.57"
        ],
        [
         "pts_ot7_home",
         "14984",
         "27457",
         "54.57"
        ],
        [
         "pts_ot8_home",
         "14984",
         "27457",
         "54.57"
        ],
        [
         "pts_ot9_home",
         "14984",
         "27457",
         "54.57"
        ],
        [
         "pts_ot10_home",
         "14984",
         "27457",
         "54.57"
        ],
        [
         "pts_ot5_away",
         "14984",
         "27457",
         "54.57"
        ],
        [
         "pts_ot6_away",
         "14984",
         "27457",
         "54.57"
        ],
        [
         "pts_ot7_away",
         "14984",
         "27457",
         "54.57"
        ],
        [
         "pts_ot8_away",
         "14984",
         "27457",
         "54.57"
        ],
        [
         "pts_ot9_away",
         "14984",
         "27457",
         "54.57"
        ],
        [
         "pts_ot10_away",
         "14984",
         "27457",
         "54.57"
        ]
       ],
       "shape": {
        "columns": 3,
        "rows": 12
       }
      },
      "text/html": [
       "<div>\n",
       "<style scoped>\n",
       "    .dataframe tbody tr th:only-of-type {\n",
       "        vertical-align: middle;\n",
       "    }\n",
       "\n",
       "    .dataframe tbody tr th {\n",
       "        vertical-align: top;\n",
       "    }\n",
       "\n",
       "    .dataframe thead th {\n",
       "        text-align: right;\n",
       "    }\n",
       "</style>\n",
       "<table border=\"1\" class=\"dataframe\">\n",
       "  <thead>\n",
       "    <tr style=\"text-align: right;\">\n",
       "      <th></th>\n",
       "      <th>Valores nulos</th>\n",
       "      <th>Total registros</th>\n",
       "      <th>Porcentaje</th>\n",
       "    </tr>\n",
       "  </thead>\n",
       "  <tbody>\n",
       "    <tr>\n",
       "      <th>pts_ot5_home</th>\n",
       "      <td>14984</td>\n",
       "      <td>27457</td>\n",
       "      <td>54.57</td>\n",
       "    </tr>\n",
       "    <tr>\n",
       "      <th>pts_ot6_home</th>\n",
       "      <td>14984</td>\n",
       "      <td>27457</td>\n",
       "      <td>54.57</td>\n",
       "    </tr>\n",
       "    <tr>\n",
       "      <th>pts_ot7_home</th>\n",
       "      <td>14984</td>\n",
       "      <td>27457</td>\n",
       "      <td>54.57</td>\n",
       "    </tr>\n",
       "    <tr>\n",
       "      <th>pts_ot8_home</th>\n",
       "      <td>14984</td>\n",
       "      <td>27457</td>\n",
       "      <td>54.57</td>\n",
       "    </tr>\n",
       "    <tr>\n",
       "      <th>pts_ot9_home</th>\n",
       "      <td>14984</td>\n",
       "      <td>27457</td>\n",
       "      <td>54.57</td>\n",
       "    </tr>\n",
       "    <tr>\n",
       "      <th>pts_ot10_home</th>\n",
       "      <td>14984</td>\n",
       "      <td>27457</td>\n",
       "      <td>54.57</td>\n",
       "    </tr>\n",
       "    <tr>\n",
       "      <th>pts_ot5_away</th>\n",
       "      <td>14984</td>\n",
       "      <td>27457</td>\n",
       "      <td>54.57</td>\n",
       "    </tr>\n",
       "    <tr>\n",
       "      <th>pts_ot6_away</th>\n",
       "      <td>14984</td>\n",
       "      <td>27457</td>\n",
       "      <td>54.57</td>\n",
       "    </tr>\n",
       "    <tr>\n",
       "      <th>pts_ot7_away</th>\n",
       "      <td>14984</td>\n",
       "      <td>27457</td>\n",
       "      <td>54.57</td>\n",
       "    </tr>\n",
       "    <tr>\n",
       "      <th>pts_ot8_away</th>\n",
       "      <td>14984</td>\n",
       "      <td>27457</td>\n",
       "      <td>54.57</td>\n",
       "    </tr>\n",
       "    <tr>\n",
       "      <th>pts_ot9_away</th>\n",
       "      <td>14984</td>\n",
       "      <td>27457</td>\n",
       "      <td>54.57</td>\n",
       "    </tr>\n",
       "    <tr>\n",
       "      <th>pts_ot10_away</th>\n",
       "      <td>14984</td>\n",
       "      <td>27457</td>\n",
       "      <td>54.57</td>\n",
       "    </tr>\n",
       "  </tbody>\n",
       "</table>\n",
       "</div>"
      ],
      "text/plain": [
       "               Valores nulos  Total registros  Porcentaje\n",
       "pts_ot5_home           14984            27457       54.57\n",
       "pts_ot6_home           14984            27457       54.57\n",
       "pts_ot7_home           14984            27457       54.57\n",
       "pts_ot8_home           14984            27457       54.57\n",
       "pts_ot9_home           14984            27457       54.57\n",
       "pts_ot10_home          14984            27457       54.57\n",
       "pts_ot5_away           14984            27457       54.57\n",
       "pts_ot6_away           14984            27457       54.57\n",
       "pts_ot7_away           14984            27457       54.57\n",
       "pts_ot8_away           14984            27457       54.57\n",
       "pts_ot9_away           14984            27457       54.57\n",
       "pts_ot10_away          14984            27457       54.57"
      ]
     },
     "execution_count": 119,
     "metadata": {},
     "output_type": "execute_result"
    }
   ],
   "source": [
    "null_50 = df_null_line_score[df_null_line_score[\"Porcentaje\"] > 50]\n",
    "null_50"
   ]
  },
  {
   "cell_type": "code",
   "execution_count": 120,
   "id": "9935b281",
   "metadata": {},
   "outputs": [],
   "source": [
    "delete_columns = list(null_50.index)\n",
    "line_score.drop(columns=delete_columns, inplace=True)"
   ]
  },
  {
   "cell_type": "code",
   "execution_count": 121,
   "id": "4ae43e41",
   "metadata": {},
   "outputs": [
    {
     "data": {
      "application/vnd.microsoft.datawrangler.viewer.v0+json": {
       "columns": [
        {
         "name": "index",
         "rawType": "object",
         "type": "string"
        },
        {
         "name": "Valores nulos",
         "rawType": "int64",
         "type": "integer"
        },
        {
         "name": "Total registros",
         "rawType": "int64",
         "type": "integer"
        },
        {
         "name": "Porcentaje",
         "rawType": "float64",
         "type": "float"
        }
       ],
       "conversionMethod": "pd.DataFrame",
       "ref": "9543d16b-1656-4499-a312-dfc6db7ff501",
       "rows": [
        [
         "pts_ot1_home",
         "1",
         "27457",
         "0.0"
        ],
        [
         "pts_ot2_home",
         "2",
         "27457",
         "0.01"
        ],
        [
         "pts_ot3_home",
         "2",
         "27457",
         "0.01"
        ],
        [
         "pts_ot4_home",
         "2",
         "27457",
         "0.01"
        ],
        [
         "pts_ot1_away",
         "1",
         "27457",
         "0.0"
        ],
        [
         "pts_ot2_away",
         "2",
         "27457",
         "0.01"
        ],
        [
         "pts_ot3_away",
         "2",
         "27457",
         "0.01"
        ],
        [
         "pts_ot4_away",
         "2",
         "27457",
         "0.01"
        ]
       ],
       "shape": {
        "columns": 3,
        "rows": 8
       }
      },
      "text/html": [
       "<div>\n",
       "<style scoped>\n",
       "    .dataframe tbody tr th:only-of-type {\n",
       "        vertical-align: middle;\n",
       "    }\n",
       "\n",
       "    .dataframe tbody tr th {\n",
       "        vertical-align: top;\n",
       "    }\n",
       "\n",
       "    .dataframe thead th {\n",
       "        text-align: right;\n",
       "    }\n",
       "</style>\n",
       "<table border=\"1\" class=\"dataframe\">\n",
       "  <thead>\n",
       "    <tr style=\"text-align: right;\">\n",
       "      <th></th>\n",
       "      <th>Valores nulos</th>\n",
       "      <th>Total registros</th>\n",
       "      <th>Porcentaje</th>\n",
       "    </tr>\n",
       "  </thead>\n",
       "  <tbody>\n",
       "    <tr>\n",
       "      <th>pts_ot1_home</th>\n",
       "      <td>1</td>\n",
       "      <td>27457</td>\n",
       "      <td>0.00</td>\n",
       "    </tr>\n",
       "    <tr>\n",
       "      <th>pts_ot2_home</th>\n",
       "      <td>2</td>\n",
       "      <td>27457</td>\n",
       "      <td>0.01</td>\n",
       "    </tr>\n",
       "    <tr>\n",
       "      <th>pts_ot3_home</th>\n",
       "      <td>2</td>\n",
       "      <td>27457</td>\n",
       "      <td>0.01</td>\n",
       "    </tr>\n",
       "    <tr>\n",
       "      <th>pts_ot4_home</th>\n",
       "      <td>2</td>\n",
       "      <td>27457</td>\n",
       "      <td>0.01</td>\n",
       "    </tr>\n",
       "    <tr>\n",
       "      <th>pts_ot1_away</th>\n",
       "      <td>1</td>\n",
       "      <td>27457</td>\n",
       "      <td>0.00</td>\n",
       "    </tr>\n",
       "    <tr>\n",
       "      <th>pts_ot2_away</th>\n",
       "      <td>2</td>\n",
       "      <td>27457</td>\n",
       "      <td>0.01</td>\n",
       "    </tr>\n",
       "    <tr>\n",
       "      <th>pts_ot3_away</th>\n",
       "      <td>2</td>\n",
       "      <td>27457</td>\n",
       "      <td>0.01</td>\n",
       "    </tr>\n",
       "    <tr>\n",
       "      <th>pts_ot4_away</th>\n",
       "      <td>2</td>\n",
       "      <td>27457</td>\n",
       "      <td>0.01</td>\n",
       "    </tr>\n",
       "  </tbody>\n",
       "</table>\n",
       "</div>"
      ],
      "text/plain": [
       "              Valores nulos  Total registros  Porcentaje\n",
       "pts_ot1_home              1            27457        0.00\n",
       "pts_ot2_home              2            27457        0.01\n",
       "pts_ot3_home              2            27457        0.01\n",
       "pts_ot4_home              2            27457        0.01\n",
       "pts_ot1_away              1            27457        0.00\n",
       "pts_ot2_away              2            27457        0.01\n",
       "pts_ot3_away              2            27457        0.01\n",
       "pts_ot4_away              2            27457        0.01"
      ]
     },
     "execution_count": 121,
     "metadata": {},
     "output_type": "execute_result"
    }
   ],
   "source": [
    "null_line_score = line_score.isnull().sum()\n",
    "total_register = len(line_score)\n",
    "null_result = null_line_score[null_line_score > 0]\n",
    "\n",
    "df_null_line_score = pd.DataFrame(\n",
    "    {\n",
    "        \"Valores nulos\": null_result,\n",
    "        \"Total registros\": total_register,\n",
    "        \"Porcentaje\": (null_result / total_register * 100).round(2),\n",
    "    }\n",
    ")\n",
    "\n",
    "df_null_line_score"
   ]
  },
  {
   "cell_type": "markdown",
   "id": "077ab128",
   "metadata": {},
   "source": [
    "### 2.15.4. Agregado de 0 a los nulos restantes"
   ]
  },
  {
   "cell_type": "code",
   "execution_count": 122,
   "id": "d4d3ba17",
   "metadata": {},
   "outputs": [],
   "source": [
    "line_score = line_score.fillna(0)"
   ]
  },
  {
   "cell_type": "code",
   "execution_count": 123,
   "id": "181b7ecf",
   "metadata": {},
   "outputs": [
    {
     "data": {
      "application/vnd.microsoft.datawrangler.viewer.v0+json": {
       "columns": [
        {
         "name": "index",
         "rawType": "object",
         "type": "string"
        },
        {
         "name": "Valores nulos",
         "rawType": "int64",
         "type": "integer"
        },
        {
         "name": "Total registros",
         "rawType": "int64",
         "type": "integer"
        },
        {
         "name": "Porcentaje",
         "rawType": "float64",
         "type": "float"
        }
       ],
       "conversionMethod": "pd.DataFrame",
       "ref": "19038971-c20c-495c-8fe1-659750180a9b",
       "rows": [],
       "shape": {
        "columns": 3,
        "rows": 0
       }
      },
      "text/html": [
       "<div>\n",
       "<style scoped>\n",
       "    .dataframe tbody tr th:only-of-type {\n",
       "        vertical-align: middle;\n",
       "    }\n",
       "\n",
       "    .dataframe tbody tr th {\n",
       "        vertical-align: top;\n",
       "    }\n",
       "\n",
       "    .dataframe thead th {\n",
       "        text-align: right;\n",
       "    }\n",
       "</style>\n",
       "<table border=\"1\" class=\"dataframe\">\n",
       "  <thead>\n",
       "    <tr style=\"text-align: right;\">\n",
       "      <th></th>\n",
       "      <th>Valores nulos</th>\n",
       "      <th>Total registros</th>\n",
       "      <th>Porcentaje</th>\n",
       "    </tr>\n",
       "  </thead>\n",
       "  <tbody>\n",
       "  </tbody>\n",
       "</table>\n",
       "</div>"
      ],
      "text/plain": [
       "Empty DataFrame\n",
       "Columns: [Valores nulos, Total registros, Porcentaje]\n",
       "Index: []"
      ]
     },
     "execution_count": 123,
     "metadata": {},
     "output_type": "execute_result"
    }
   ],
   "source": [
    "null_line_score = line_score.isnull().sum()\n",
    "total_register = len(line_score)\n",
    "null_result = null_line_score[null_line_score > 0]\n",
    "\n",
    "df_null_line_score = pd.DataFrame(\n",
    "    {\n",
    "        \"Valores nulos\": null_result,\n",
    "        \"Total registros\": total_register,\n",
    "        \"Porcentaje\": (null_result / total_register * 100).round(2),\n",
    "    }\n",
    ")\n",
    "\n",
    "df_null_line_score"
   ]
  },
  {
   "cell_type": "markdown",
   "id": "31eff25b",
   "metadata": {},
   "source": [
    "### 2.15.5. Filtro por juego y equipo"
   ]
  },
  {
   "cell_type": "code",
   "execution_count": 124,
   "id": "2cc8c4a7",
   "metadata": {},
   "outputs": [],
   "source": [
    "line_score = line_score[line_score['game_id'].isin(game_2000['game_id']) & line_score['team_id_home'].isin(team['id']) & line_score['team_id_away'].isin(team['id'])]"
   ]
  },
  {
   "cell_type": "code",
   "execution_count": 125,
   "id": "595aca4b",
   "metadata": {},
   "outputs": [
    {
     "data": {
      "application/vnd.microsoft.datawrangler.viewer.v0+json": {
       "columns": [
        {
         "name": "index",
         "rawType": "object",
         "type": "string"
        },
        {
         "name": "Valores nulos",
         "rawType": "int64",
         "type": "integer"
        },
        {
         "name": "Total registros",
         "rawType": "int64",
         "type": "integer"
        },
        {
         "name": "Porcentaje",
         "rawType": "float64",
         "type": "float"
        }
       ],
       "conversionMethod": "pd.DataFrame",
       "ref": "fd1d6840-ffa3-49e0-bb2e-9e0b5aed906a",
       "rows": [],
       "shape": {
        "columns": 3,
        "rows": 0
       }
      },
      "text/html": [
       "<div>\n",
       "<style scoped>\n",
       "    .dataframe tbody tr th:only-of-type {\n",
       "        vertical-align: middle;\n",
       "    }\n",
       "\n",
       "    .dataframe tbody tr th {\n",
       "        vertical-align: top;\n",
       "    }\n",
       "\n",
       "    .dataframe thead th {\n",
       "        text-align: right;\n",
       "    }\n",
       "</style>\n",
       "<table border=\"1\" class=\"dataframe\">\n",
       "  <thead>\n",
       "    <tr style=\"text-align: right;\">\n",
       "      <th></th>\n",
       "      <th>Valores nulos</th>\n",
       "      <th>Total registros</th>\n",
       "      <th>Porcentaje</th>\n",
       "    </tr>\n",
       "  </thead>\n",
       "  <tbody>\n",
       "  </tbody>\n",
       "</table>\n",
       "</div>"
      ],
      "text/plain": [
       "Empty DataFrame\n",
       "Columns: [Valores nulos, Total registros, Porcentaje]\n",
       "Index: []"
      ]
     },
     "execution_count": 125,
     "metadata": {},
     "output_type": "execute_result"
    }
   ],
   "source": [
    "null_line_score = line_score.isnull().sum()\n",
    "total_register = len(line_score)\n",
    "null_result = null_line_score[null_line_score > 0]\n",
    "\n",
    "df_null_line_score = pd.DataFrame(\n",
    "    {\n",
    "        \"Valores nulos\": null_result,\n",
    "        \"Total registros\": total_register,\n",
    "        \"Porcentaje\": (null_result / total_register * 100).round(2),\n",
    "    }\n",
    ")\n",
    "\n",
    "df_null_line_score"
   ]
  },
  {
   "cell_type": "markdown",
   "id": "98d3a475",
   "metadata": {},
   "source": [
    "# 3. Muestra del resultado de las tablas"
   ]
  },
  {
   "cell_type": "code",
   "execution_count": 126,
   "id": "16a92ac6",
   "metadata": {},
   "outputs": [
    {
     "name": "stdout",
     "output_type": "stream",
     "text": [
      "<class 'pandas.core.frame.DataFrame'>\n",
      "RangeIndex: 4831 entries, 0 to 4830\n",
      "Data columns (total 5 columns):\n",
      " #   Column      Non-Null Count  Dtype \n",
      "---  ------      --------------  ----- \n",
      " 0   id          4831 non-null   int64 \n",
      " 1   full_name   4831 non-null   object\n",
      " 2   first_name  4825 non-null   object\n",
      " 3   last_name   4831 non-null   object\n",
      " 4   is_active   4831 non-null   int64 \n",
      "dtypes: int64(2), object(3)\n",
      "memory usage: 188.8+ KB\n"
     ]
    }
   ],
   "source": [
    "player.info()"
   ]
  },
  {
   "cell_type": "code",
   "execution_count": 127,
   "id": "a4d0eea2",
   "metadata": {},
   "outputs": [
    {
     "name": "stdout",
     "output_type": "stream",
     "text": [
      "<class 'pandas.core.frame.DataFrame'>\n",
      "RangeIndex: 30 entries, 0 to 29\n",
      "Data columns (total 7 columns):\n",
      " #   Column        Non-Null Count  Dtype  \n",
      "---  ------        --------------  -----  \n",
      " 0   id            30 non-null     int64  \n",
      " 1   full_name     30 non-null     object \n",
      " 2   abbreviation  30 non-null     object \n",
      " 3   nickname      30 non-null     object \n",
      " 4   city          30 non-null     object \n",
      " 5   state         30 non-null     object \n",
      " 6   year_founded  30 non-null     float64\n",
      "dtypes: float64(1), int64(1), object(5)\n",
      "memory usage: 1.8+ KB\n"
     ]
    }
   ],
   "source": [
    "team.info()"
   ]
  },
  {
   "cell_type": "code",
   "execution_count": 128,
   "id": "2cf306bf",
   "metadata": {},
   "outputs": [
    {
     "name": "stdout",
     "output_type": "stream",
     "text": [
      "<class 'pandas.core.frame.DataFrame'>\n",
      "Index: 30287 entries, 35272 to 65695\n",
      "Data columns (total 55 columns):\n",
      " #   Column                  Non-Null Count  Dtype  \n",
      "---  ------                  --------------  -----  \n",
      " 0   season_id               30287 non-null  int64  \n",
      " 1   team_id_home            30287 non-null  int64  \n",
      " 2   team_abbreviation_home  30287 non-null  object \n",
      " 3   team_name_home          30287 non-null  object \n",
      " 4   game_id                 30287 non-null  int64  \n",
      " 5   game_date               30287 non-null  object \n",
      " 6   matchup_home            30287 non-null  object \n",
      " 7   wl_home                 30287 non-null  object \n",
      " 8   min                     30287 non-null  int64  \n",
      " 9   fgm_home                30287 non-null  float64\n",
      " 10  fga_home                30287 non-null  float64\n",
      " 11  fg_pct_home             30287 non-null  float64\n",
      " 12  fg3m_home               30287 non-null  float64\n",
      " 13  fg3a_home               30287 non-null  float64\n",
      " 14  fg3_pct_home            30287 non-null  float64\n",
      " 15  ftm_home                30287 non-null  float64\n",
      " 16  fta_home                30287 non-null  float64\n",
      " 17  ft_pct_home             30287 non-null  float64\n",
      " 18  oreb_home               30287 non-null  float64\n",
      " 19  dreb_home               30287 non-null  float64\n",
      " 20  reb_home                30287 non-null  float64\n",
      " 21  ast_home                30287 non-null  float64\n",
      " 22  stl_home                30287 non-null  float64\n",
      " 23  blk_home                30287 non-null  float64\n",
      " 24  tov_home                30287 non-null  float64\n",
      " 25  pf_home                 30287 non-null  float64\n",
      " 26  pts_home                30287 non-null  float64\n",
      " 27  plus_minus_home         30287 non-null  int64  \n",
      " 28  video_available_home    30287 non-null  int64  \n",
      " 29  team_id_away            30287 non-null  int64  \n",
      " 30  team_abbreviation_away  30287 non-null  object \n",
      " 31  team_name_away          30287 non-null  object \n",
      " 32  matchup_away            30287 non-null  object \n",
      " 33  wl_away                 30287 non-null  object \n",
      " 34  fgm_away                30287 non-null  float64\n",
      " 35  fga_away                30287 non-null  float64\n",
      " 36  fg_pct_away             30287 non-null  float64\n",
      " 37  fg3m_away               30287 non-null  float64\n",
      " 38  fg3a_away               30287 non-null  float64\n",
      " 39  fg3_pct_away            30287 non-null  float64\n",
      " 40  ftm_away                30287 non-null  float64\n",
      " 41  fta_away                30287 non-null  float64\n",
      " 42  ft_pct_away             30287 non-null  float64\n",
      " 43  oreb_away               30287 non-null  float64\n",
      " 44  dreb_away               30287 non-null  float64\n",
      " 45  reb_away                30287 non-null  float64\n",
      " 46  ast_away                30287 non-null  float64\n",
      " 47  stl_away                30287 non-null  float64\n",
      " 48  blk_away                30287 non-null  float64\n",
      " 49  tov_away                30287 non-null  float64\n",
      " 50  pf_away                 30287 non-null  float64\n",
      " 51  pts_away                30287 non-null  float64\n",
      " 52  plus_minus_away         30287 non-null  int64  \n",
      " 53  video_available_away    30287 non-null  int64  \n",
      " 54  season_type             30287 non-null  object \n",
      "dtypes: float64(36), int64(9), object(10)\n",
      "memory usage: 12.9+ MB\n"
     ]
    }
   ],
   "source": [
    "game_2000.info()"
   ]
  },
  {
   "cell_type": "code",
   "execution_count": 129,
   "id": "f16151b1",
   "metadata": {},
   "outputs": [
    {
     "name": "stdout",
     "output_type": "stream",
     "text": [
      "<class 'pandas.core.frame.DataFrame'>\n",
      "Index: 1403 entries, 2 to 4169\n",
      "Data columns (total 22 columns):\n",
      " #   Column             Non-Null Count  Dtype  \n",
      "---  ------             --------------  -----  \n",
      " 0   person_id          1403 non-null   int64  \n",
      " 1   display_fi_last    1403 non-null   object \n",
      " 2   birthdate          1403 non-null   object \n",
      " 3   school             1403 non-null   object \n",
      " 4   country            1403 non-null   object \n",
      " 5   last_affiliation   1403 non-null   object \n",
      " 6   height             1403 non-null   object \n",
      " 7   weight             1403 non-null   float64\n",
      " 8   season_exp         1403 non-null   float64\n",
      " 9   position           1403 non-null   object \n",
      " 10  rosterstatus       1403 non-null   object \n",
      " 11  team_id            1403 non-null   int64  \n",
      " 12  playercode         1403 non-null   object \n",
      " 13  from_year          1403 non-null   float64\n",
      " 14  to_year            1403 non-null   float64\n",
      " 15  dleague_flag       1403 non-null   object \n",
      " 16  nba_flag           1403 non-null   object \n",
      " 17  games_played_flag  1403 non-null   object \n",
      " 18  draft_year         1403 non-null   object \n",
      " 19  draft_round        1403 non-null   object \n",
      " 20  draft_number       1403 non-null   object \n",
      " 21  greatest_75_flag   1403 non-null   object \n",
      "dtypes: float64(4), int64(2), object(16)\n",
      "memory usage: 252.1+ KB\n"
     ]
    }
   ],
   "source": [
    "common_player_info.info()"
   ]
  },
  {
   "cell_type": "code",
   "execution_count": 130,
   "id": "7fcdde03",
   "metadata": {},
   "outputs": [
    {
     "name": "stdout",
     "output_type": "stream",
     "text": [
      "<class 'pandas.core.frame.DataFrame'>\n",
      "Index: 494 entries, 2 to 992\n",
      "Data columns (total 16 columns):\n",
      " #   Column                  Non-Null Count  Dtype  \n",
      "---  ------                  --------------  -----  \n",
      " 0   season                  494 non-null    int64  \n",
      " 1   player_id               494 non-null    int64  \n",
      " 2   first_name              494 non-null    object \n",
      " 3   last_name               494 non-null    object \n",
      " 4   player_name             494 non-null    object \n",
      " 5   position                494 non-null    object \n",
      " 6   height_wo_shoes         494 non-null    float64\n",
      " 7   weight                  494 non-null    float64\n",
      " 8   wingspan                494 non-null    float64\n",
      " 9   standing_reach          494 non-null    float64\n",
      " 10  body_fat_pct            494 non-null    float64\n",
      " 11  standing_vertical_leap  494 non-null    float64\n",
      " 12  max_vertical_leap       494 non-null    float64\n",
      " 13  lane_agility_time       494 non-null    float64\n",
      " 14  three_quarter_sprint    494 non-null    float64\n",
      " 15  bench_press             494 non-null    float64\n",
      "dtypes: float64(10), int64(2), object(4)\n",
      "memory usage: 65.6+ KB\n"
     ]
    }
   ],
   "source": [
    "draft_combine_stats.info()"
   ]
  },
  {
   "cell_type": "code",
   "execution_count": 131,
   "id": "b80f07ed",
   "metadata": {},
   "outputs": [
    {
     "name": "stdout",
     "output_type": "stream",
     "text": [
      "<class 'pandas.core.frame.DataFrame'>\n",
      "Index: 1143 entries, 6625 to 7930\n",
      "Data columns (total 14 columns):\n",
      " #   Column               Non-Null Count  Dtype \n",
      "---  ------               --------------  ----- \n",
      " 0   person_id            1143 non-null   int64 \n",
      " 1   player_name          1143 non-null   object\n",
      " 2   season               1143 non-null   int64 \n",
      " 3   round_number         1143 non-null   int64 \n",
      " 4   round_pick           1143 non-null   int64 \n",
      " 5   overall_pick         1143 non-null   int64 \n",
      " 6   draft_type           1143 non-null   object\n",
      " 7   team_id              1143 non-null   int64 \n",
      " 8   team_city            1143 non-null   object\n",
      " 9   team_name            1143 non-null   object\n",
      " 10  team_abbreviation    1143 non-null   object\n",
      " 11  organization         1143 non-null   object\n",
      " 12  organization_type    1143 non-null   object\n",
      " 13  player_profile_flag  1143 non-null   int64 \n",
      "dtypes: int64(7), object(7)\n",
      "memory usage: 133.9+ KB\n"
     ]
    }
   ],
   "source": [
    "draft_history.info()"
   ]
  },
  {
   "cell_type": "code",
   "execution_count": 132,
   "id": "8832fcb7",
   "metadata": {},
   "outputs": [
    {
     "name": "stdout",
     "output_type": "stream",
     "text": [
      "<class 'pandas.core.frame.DataFrame'>\n",
      "Index: 24 entries, 0 to 24\n",
      "Data columns (total 11 columns):\n",
      " #   Column              Non-Null Count  Dtype  \n",
      "---  ------              --------------  -----  \n",
      " 0   team_id             24 non-null     int64  \n",
      " 1   abbreviation        24 non-null     object \n",
      " 2   nickname            24 non-null     object \n",
      " 3   yearfounded         24 non-null     float64\n",
      " 4   city                24 non-null     object \n",
      " 5   arena               24 non-null     object \n",
      " 6   arenacapacity       24 non-null     float64\n",
      " 7   owner               24 non-null     object \n",
      " 8   generalmanager      24 non-null     object \n",
      " 9   headcoach           24 non-null     object \n",
      " 10  dleagueaffiliation  24 non-null     object \n",
      "dtypes: float64(2), int64(1), object(8)\n",
      "memory usage: 2.2+ KB\n"
     ]
    }
   ],
   "source": [
    "team_details.info()"
   ]
  },
  {
   "cell_type": "code",
   "execution_count": 133,
   "id": "72abc140",
   "metadata": {},
   "outputs": [
    {
     "name": "stdout",
     "output_type": "stream",
     "text": [
      "<class 'pandas.core.frame.DataFrame'>\n",
      "RangeIndex: 52 entries, 0 to 51\n",
      "Data columns (total 5 columns):\n",
      " #   Column            Non-Null Count  Dtype \n",
      "---  ------            --------------  ----- \n",
      " 0   team_id           52 non-null     int64 \n",
      " 1   city              52 non-null     object\n",
      " 2   nickname          52 non-null     object\n",
      " 3   year_founded      52 non-null     int64 \n",
      " 4   year_active_till  52 non-null     int64 \n",
      "dtypes: int64(3), object(2)\n",
      "memory usage: 2.2+ KB\n"
     ]
    }
   ],
   "source": [
    "team_history.info()"
   ]
  },
  {
   "cell_type": "code",
   "execution_count": 134,
   "id": "70b352dc",
   "metadata": {},
   "outputs": [
    {
     "name": "stdout",
     "output_type": "stream",
     "text": [
      "<class 'pandas.core.frame.DataFrame'>\n",
      "Index: 27329 entries, 30596 to 58050\n",
      "Data columns (total 2 columns):\n",
      " #   Column     Non-Null Count  Dtype \n",
      "---  ------     --------------  ----- \n",
      " 0   game_id    27329 non-null  int64 \n",
      " 1   game_date  27329 non-null  object\n",
      "dtypes: int64(1), object(1)\n",
      "memory usage: 640.5+ KB\n"
     ]
    }
   ],
   "source": [
    "game_info_2000.info()"
   ]
  },
  {
   "cell_type": "code",
   "execution_count": 135,
   "id": "29c3f1ca",
   "metadata": {},
   "outputs": [
    {
     "name": "stdout",
     "output_type": "stream",
     "text": [
      "<class 'pandas.core.frame.DataFrame'>\n",
      "Index: 27385 entries, 30596 to 58107\n",
      "Data columns (total 12 columns):\n",
      " #   Column                  Non-Null Count  Dtype  \n",
      "---  ------                  --------------  -----  \n",
      " 0   game_date_est           27385 non-null  object \n",
      " 1   game_sequence           27385 non-null  float64\n",
      " 2   game_id                 27385 non-null  int64  \n",
      " 3   game_status_id          27385 non-null  int64  \n",
      " 4   game_status_text        27385 non-null  object \n",
      " 5   gamecode                27385 non-null  object \n",
      " 6   home_team_id            27385 non-null  int64  \n",
      " 7   visitor_team_id         27385 non-null  int64  \n",
      " 8   season                  27385 non-null  int64  \n",
      " 9   live_period             27385 non-null  int64  \n",
      " 10  live_period_time_bcast  27385 non-null  object \n",
      " 11  wh_status               27385 non-null  int64  \n",
      "dtypes: float64(1), int64(7), object(4)\n",
      "memory usage: 2.7+ MB\n"
     ]
    }
   ],
   "source": [
    "game_summary.info()"
   ]
  },
  {
   "cell_type": "code",
   "execution_count": 136,
   "id": "41fe7bad",
   "metadata": {},
   "outputs": [
    {
     "name": "stdout",
     "output_type": "stream",
     "text": [
      "<class 'pandas.core.frame.DataFrame'>\n",
      "Index: 23150 entries, 3106 to 28268\n",
      "Data columns (total 25 columns):\n",
      " #   Column                  Non-Null Count  Dtype  \n",
      "---  ------                  --------------  -----  \n",
      " 0   game_id                 23150 non-null  int64  \n",
      " 1   team_id_home            23150 non-null  int64  \n",
      " 2   team_abbreviation_home  23150 non-null  object \n",
      " 3   team_city_home          23150 non-null  object \n",
      " 4   pts_paint_home          23150 non-null  int64  \n",
      " 5   pts_2nd_chance_home     23150 non-null  int64  \n",
      " 6   pts_fb_home             23150 non-null  int64  \n",
      " 7   largest_lead_home       23150 non-null  int64  \n",
      " 8   lead_changes            23150 non-null  int64  \n",
      " 9   times_tied              23150 non-null  int64  \n",
      " 10  team_turnovers_home     23150 non-null  float64\n",
      " 11  total_turnovers_home    23150 non-null  float64\n",
      " 12  team_rebounds_home      23150 non-null  float64\n",
      " 13  pts_off_to_home         23150 non-null  float64\n",
      " 14  team_id_away            23150 non-null  int64  \n",
      " 15  team_abbreviation_away  23150 non-null  object \n",
      " 16  team_city_away          23150 non-null  object \n",
      " 17  pts_paint_away          23150 non-null  int64  \n",
      " 18  pts_2nd_chance_away     23150 non-null  int64  \n",
      " 19  pts_fb_away             23150 non-null  int64  \n",
      " 20  largest_lead_away       23150 non-null  int64  \n",
      " 21  team_turnovers_away     23150 non-null  float64\n",
      " 22  total_turnovers_away    23150 non-null  float64\n",
      " 23  team_rebounds_away      23150 non-null  float64\n",
      " 24  pts_off_to_away         23150 non-null  float64\n",
      "dtypes: float64(8), int64(13), object(4)\n",
      "memory usage: 4.6+ MB\n"
     ]
    }
   ],
   "source": [
    "other_stats.info()"
   ]
  },
  {
   "cell_type": "code",
   "execution_count": 137,
   "id": "3e75f0d3",
   "metadata": {},
   "outputs": [
    {
     "name": "stdout",
     "output_type": "stream",
     "text": [
      "<class 'pandas.core.frame.DataFrame'>\n",
      "Index: 70395 entries, 241 to 70964\n",
      "Data columns (total 4 columns):\n",
      " #   Column       Non-Null Count  Dtype \n",
      "---  ------       --------------  ----- \n",
      " 0   game_id      70395 non-null  int64 \n",
      " 1   official_id  70395 non-null  int64 \n",
      " 2   first_name   70395 non-null  object\n",
      " 3   last_name    70395 non-null  object\n",
      "dtypes: int64(2), object(2)\n",
      "memory usage: 2.7+ MB\n"
     ]
    }
   ],
   "source": [
    "officials.info()"
   ]
  },
  {
   "cell_type": "code",
   "execution_count": 138,
   "id": "36b25b00",
   "metadata": {},
   "outputs": [
    {
     "name": "stdout",
     "output_type": "stream",
     "text": [
      "<class 'pandas.core.frame.DataFrame'>\n",
      "Index: 109342 entries, 150 to 110184\n",
      "Data columns (total 8 columns):\n",
      " #   Column             Non-Null Count   Dtype \n",
      "---  ------             --------------   ----- \n",
      " 0   game_id            109342 non-null  int64 \n",
      " 1   player_id          109342 non-null  int64 \n",
      " 2   first_name         109342 non-null  object\n",
      " 3   last_name          109342 non-null  object\n",
      " 4   team_id            109342 non-null  int64 \n",
      " 5   team_city          109342 non-null  object\n",
      " 6   team_name          109342 non-null  object\n",
      " 7   team_abbreviation  109342 non-null  object\n",
      "dtypes: int64(3), object(5)\n",
      "memory usage: 7.5+ MB\n"
     ]
    }
   ],
   "source": [
    "inactive_players.info()"
   ]
  },
  {
   "cell_type": "code",
   "execution_count": 222,
   "id": "7c721ba0",
   "metadata": {},
   "outputs": [
    {
     "name": "stdout",
     "output_type": "stream",
     "text": [
      "<class 'pandas.core.frame.DataFrame'>\n",
      "Index: 1642623 entries, 416 to 13592898\n",
      "Data columns (total 15 columns):\n",
      " #   Column              Non-Null Count    Dtype \n",
      "---  ------              --------------    ----- \n",
      " 0   game_id             1642623 non-null  int64 \n",
      " 1   eventmsgtype        1642623 non-null  int64 \n",
      " 2   eventmsgactiontype  1642623 non-null  int64 \n",
      " 3   pctimestring        1642623 non-null  object\n",
      " 4   homedescription     840019 non-null   object\n",
      " 5   neutraldescription  39823 non-null    object\n",
      " 6   visitordescription  840246 non-null   object\n",
      " 7   score               440903 non-null   object\n",
      " 8   scoremargin         440903 non-null   object\n",
      " 9   player1_id          1609258 non-null  Int64 \n",
      " 10  player1_team_id     1447637 non-null  Int64 \n",
      " 11  player2_id          437447 non-null   Int64 \n",
      " 12  player2_team_id     440635 non-null   Int64 \n",
      " 13  player3_id          33785 non-null    Int64 \n",
      " 14  player3_team_id     34023 non-null    Int64 \n",
      "dtypes: Int64(6), int64(3), object(6)\n",
      "memory usage: 209.9+ MB\n"
     ]
    }
   ],
   "source": [
    "play_by_play_clutch.info()"
   ]
  },
  {
   "cell_type": "code",
   "execution_count": 140,
   "id": "fbdd18d9",
   "metadata": {},
   "outputs": [
    {
     "name": "stdout",
     "output_type": "stream",
     "text": [
      "<class 'pandas.core.frame.DataFrame'>\n",
      "Index: 27329 entries, 30596 to 58050\n",
      "Data columns (total 31 columns):\n",
      " #   Column                  Non-Null Count  Dtype  \n",
      "---  ------                  --------------  -----  \n",
      " 0   game_date_est           27329 non-null  object \n",
      " 1   game_sequence           27329 non-null  float64\n",
      " 2   game_id                 27329 non-null  int64  \n",
      " 3   team_id_home            27329 non-null  int64  \n",
      " 4   team_abbreviation_home  27329 non-null  object \n",
      " 5   team_city_name_home     27329 non-null  object \n",
      " 6   team_nickname_home      27329 non-null  object \n",
      " 7   team_wins_losses_home   27329 non-null  object \n",
      " 8   pts_qtr1_home           27329 non-null  float64\n",
      " 9   pts_qtr2_home           27329 non-null  float64\n",
      " 10  pts_qtr3_home           27329 non-null  float64\n",
      " 11  pts_qtr4_home           27329 non-null  float64\n",
      " 12  pts_ot1_home            27329 non-null  float64\n",
      " 13  pts_ot2_home            27329 non-null  float64\n",
      " 14  pts_ot3_home            27329 non-null  float64\n",
      " 15  pts_ot4_home            27329 non-null  float64\n",
      " 16  pts_home                27329 non-null  float64\n",
      " 17  team_id_away            27329 non-null  int64  \n",
      " 18  team_abbreviation_away  27329 non-null  object \n",
      " 19  team_city_name_away     27329 non-null  object \n",
      " 20  team_nickname_away      27329 non-null  object \n",
      " 21  team_wins_losses_away   27329 non-null  object \n",
      " 22  pts_qtr1_away           27329 non-null  float64\n",
      " 23  pts_qtr2_away           27329 non-null  float64\n",
      " 24  pts_qtr3_away           27329 non-null  float64\n",
      " 25  pts_qtr4_away           27329 non-null  float64\n",
      " 26  pts_ot1_away            27329 non-null  float64\n",
      " 27  pts_ot2_away            27329 non-null  float64\n",
      " 28  pts_ot3_away            27329 non-null  float64\n",
      " 29  pts_ot4_away            27329 non-null  float64\n",
      " 30  pts_away                27329 non-null  float64\n",
      "dtypes: float64(19), int64(3), object(9)\n",
      "memory usage: 6.7+ MB\n"
     ]
    }
   ],
   "source": [
    "line_score.info()"
   ]
  },
  {
   "cell_type": "markdown",
   "id": "c9e51082",
   "metadata": {},
   "source": [
    "# 4. Insercion a la base de datos"
   ]
  },
  {
   "cell_type": "markdown",
   "id": "e2049d9b",
   "metadata": {},
   "source": [
    "## 4.1. Carga de variables de entorno"
   ]
  },
  {
   "cell_type": "code",
   "execution_count": 141,
   "id": "7b98673c",
   "metadata": {},
   "outputs": [],
   "source": [
    "from dotenv import load_dotenv\n",
    "import os\n",
    "\n",
    "# Carga variables desde el archivo .env\n",
    "load_dotenv()\n",
    "\n",
    "# Accede a las variables\n",
    "SERVER = os.getenv(\"SERVER\")\n",
    "DATABASE = os.getenv(\"DATABASE\")\n",
    "USER = os.getenv(\"USER\")\n",
    "PASSWORD = os.getenv(\"PASSWORD\")\n",
    "DRIVER = os.getenv(\"DRIVER\")"
   ]
  },
  {
   "cell_type": "markdown",
   "id": "7ff18080",
   "metadata": {},
   "source": [
    "## 4.2. Conexion a la base de datos"
   ]
  },
  {
   "cell_type": "code",
   "execution_count": 142,
   "id": "e332072f",
   "metadata": {},
   "outputs": [
    {
     "name": "stdout",
     "output_type": "stream",
     "text": [
      "Conexión a la base de datos exitosa.\n",
      "Servidor: db-pi-final.cbkqem6qo4ah.sa-east-1.rds.amazonaws.com\n"
     ]
    }
   ],
   "source": [
    "from sqlalchemy.exc import SQLAlchemyError\n",
    "from sqlalchemy import create_engine\n",
    "\n",
    "# Crear la cadena de conexión\n",
    "connection_string = f\"mssql+pyodbc://{USER}:{PASSWORD}@{SERVER}/{DATABASE}?driver={DRIVER}\"\n",
    "engine = create_engine(connection_string)\n",
    "\n",
    "# Verificar la conexión\n",
    "try:\n",
    "    with engine.connect() as connection:\n",
    "        print(\"Conexión a la base de datos exitosa.\")\n",
    "        print(f\"Servidor: {SERVER}\")\n",
    "except Exception as e:\n",
    "    print(f\"Error al conectar a la base de datos: {e}\")"
   ]
  },
  {
   "cell_type": "markdown",
   "id": "717450b6",
   "metadata": {},
   "source": [
    "## 4.3. Inserción de los dataframe a la base de datos"
   ]
  },
  {
   "cell_type": "markdown",
   "id": "e3952bb7",
   "metadata": {},
   "source": [
    "### 4.3.1. Inserción tabla Player"
   ]
  },
  {
   "cell_type": "code",
   "execution_count": 143,
   "id": "2e548007",
   "metadata": {},
   "outputs": [
    {
     "name": "stdout",
     "output_type": "stream",
     "text": [
      "Datos insertados en la tabla 'Player'\n"
     ]
    }
   ],
   "source": [
    "try:\n",
    "\tplayer.to_sql(\"Player\", con=engine, if_exists=\"append\", index=False)\n",
    "\tprint(\"Datos insertados en la tabla 'Player'\")\n",
    "except SQLAlchemyError as e:\n",
    "\tprint(f\"A ocurrido un error: {e}\")"
   ]
  },
  {
   "cell_type": "markdown",
   "id": "c7330dce",
   "metadata": {},
   "source": [
    "### 4.3.2. Inserción tabla Team"
   ]
  },
  {
   "cell_type": "code",
   "execution_count": 144,
   "id": "1caab33d",
   "metadata": {},
   "outputs": [
    {
     "name": "stdout",
     "output_type": "stream",
     "text": [
      "Datos insertados en la tabla 'Team'\n"
     ]
    }
   ],
   "source": [
    "try:\n",
    "\tteam.to_sql(\"Team\", con=engine, if_exists=\"append\", index=False)\n",
    "\tprint(\"Datos insertados en la tabla 'Team'\")\n",
    "except SQLAlchemyError as e:\n",
    "\tprint(f\"A ocurrido un error: {e}\")"
   ]
  },
  {
   "cell_type": "markdown",
   "id": "c21a6395",
   "metadata": {},
   "source": [
    "### 4.3.3. Inserción tabla Game"
   ]
  },
  {
   "cell_type": "code",
   "execution_count": 145,
   "id": "f68cd649",
   "metadata": {},
   "outputs": [
    {
     "name": "stdout",
     "output_type": "stream",
     "text": [
      "Datos insertados en la tabla 'Game'\n"
     ]
    }
   ],
   "source": [
    "try:\n",
    "\tgame_2000.to_sql(\"Game\", con=engine, if_exists=\"append\", index=False)\n",
    "\tprint(\"Datos insertados en la tabla 'Game'\")\n",
    "except SQLAlchemyError as e:\n",
    "\tprint(f\"A ocurrido un error: {e}\")"
   ]
  },
  {
   "cell_type": "markdown",
   "id": "1a02fc2f",
   "metadata": {},
   "source": [
    "### 4.3.4. Inserción tabla Commom_player_info"
   ]
  },
  {
   "cell_type": "code",
   "execution_count": 147,
   "id": "9ed1d907",
   "metadata": {},
   "outputs": [
    {
     "name": "stdout",
     "output_type": "stream",
     "text": [
      "Datos insertados en la tabla 'Common_player_info'\n"
     ]
    }
   ],
   "source": [
    "try:\n",
    "\tcommon_player_info.to_sql(\"Common_player_info\", con=engine, if_exists=\"append\", index=False)\n",
    "\tprint(\"Datos insertados en la tabla 'Common_player_info'\")\n",
    "except SQLAlchemyError as e:\n",
    "\tprint(f\"A ocurrido un error: {e}\")"
   ]
  },
  {
   "cell_type": "markdown",
   "id": "bab6d6f3",
   "metadata": {},
   "source": [
    "### 4.3.5. Inserción tabla Draft_combine_stats"
   ]
  },
  {
   "cell_type": "code",
   "execution_count": 156,
   "id": "ff336812",
   "metadata": {},
   "outputs": [
    {
     "name": "stdout",
     "output_type": "stream",
     "text": [
      "Datos insertados en la tabla 'Draft_combine_stats'\n"
     ]
    }
   ],
   "source": [
    "try:\n",
    "\tdraft_combine_stats.to_sql(\"Draft_combine_stats\", con=engine, if_exists=\"append\", index=False)\n",
    "\tprint(\"Datos insertados en la tabla 'Draft_combine_stats'\")\n",
    "except SQLAlchemyError as e:\n",
    "\tprint(f\"A ocurrido un error: {e}\")"
   ]
  },
  {
   "cell_type": "markdown",
   "id": "566223e6",
   "metadata": {},
   "source": [
    "### 4.3.6. Inserción tabla Draft_history"
   ]
  },
  {
   "cell_type": "code",
   "execution_count": 157,
   "id": "d545db22",
   "metadata": {},
   "outputs": [
    {
     "name": "stdout",
     "output_type": "stream",
     "text": [
      "Datos insertados en la tabla 'Draft_history'\n"
     ]
    }
   ],
   "source": [
    "try:\n",
    "\tdraft_history.to_sql(\"Draft_history\", con=engine, if_exists=\"append\", index=False)\n",
    "\tprint(\"Datos insertados en la tabla 'Draft_history'\")\n",
    "except SQLAlchemyError as e:\n",
    "\tprint(f\"A ocurrido un error: {e}\")"
   ]
  },
  {
   "cell_type": "markdown",
   "id": "17d19411",
   "metadata": {},
   "source": [
    "### 4.3.7. Inserción tabla Team_details"
   ]
  },
  {
   "cell_type": "code",
   "execution_count": 158,
   "id": "5a846a05",
   "metadata": {},
   "outputs": [
    {
     "name": "stdout",
     "output_type": "stream",
     "text": [
      "Datos insertados en la tabla 'Team_details'\n"
     ]
    }
   ],
   "source": [
    "try:\n",
    "\tteam_details.to_sql(\"Team_details\", con=engine, if_exists=\"append\", index=False)\n",
    "\tprint(\"Datos insertados en la tabla 'Team_details'\")\n",
    "except SQLAlchemyError as e:\n",
    "\tprint(f\"A ocurrido un error: {e}\")"
   ]
  },
  {
   "cell_type": "markdown",
   "id": "a5c89b1e",
   "metadata": {},
   "source": [
    "### 4.3.8. Inserción tabla Team_history"
   ]
  },
  {
   "cell_type": "code",
   "execution_count": 159,
   "id": "c896a1e8",
   "metadata": {},
   "outputs": [
    {
     "name": "stdout",
     "output_type": "stream",
     "text": [
      "Datos insertados en la tabla 'Team_history'\n"
     ]
    }
   ],
   "source": [
    "try:\n",
    "\tteam_history.to_sql(\"Team_history\", con=engine, if_exists=\"append\", index=False)\n",
    "\tprint(\"Datos insertados en la tabla 'Team_history'\")\n",
    "except SQLAlchemyError as e:\n",
    "\tprint(f\"A ocurrido un error: {e}\")"
   ]
  },
  {
   "cell_type": "markdown",
   "id": "29b0d741",
   "metadata": {},
   "source": [
    "### 4.3.9. Inserción tabla Game_info"
   ]
  },
  {
   "cell_type": "code",
   "execution_count": 160,
   "id": "9c870955",
   "metadata": {},
   "outputs": [
    {
     "name": "stdout",
     "output_type": "stream",
     "text": [
      "Datos insertados en la tabla 'Game_info'\n"
     ]
    }
   ],
   "source": [
    "try:\n",
    "\tgame_info_2000.to_sql(\"Game_info\", con=engine, if_exists=\"append\", index=False)\n",
    "\tprint(\"Datos insertados en la tabla 'Game_info'\")\n",
    "except SQLAlchemyError as e:\n",
    "\tprint(f\"A ocurrido un error: {e}\")"
   ]
  },
  {
   "cell_type": "markdown",
   "id": "91c1effa",
   "metadata": {},
   "source": [
    "### 4.3.10. Inserción tabla Game_summary"
   ]
  },
  {
   "cell_type": "code",
   "execution_count": 164,
   "id": "82f34eb8",
   "metadata": {},
   "outputs": [
    {
     "name": "stdout",
     "output_type": "stream",
     "text": [
      "Datos insertados en la tabla 'Game_summary'\n"
     ]
    }
   ],
   "source": [
    "try:\n",
    "\tgame_summary.to_sql(\"Game_summary\", con=engine, if_exists=\"append\", index=False)\n",
    "\tprint(\"Datos insertados en la tabla 'Game_summary'\")\n",
    "except SQLAlchemyError as e:\n",
    "\tprint(f\"A ocurrido un error: {e}\")"
   ]
  },
  {
   "cell_type": "markdown",
   "id": "b27a33f6",
   "metadata": {},
   "source": [
    "### 4.3.11. Inserción tabla Other_stats"
   ]
  },
  {
   "cell_type": "code",
   "execution_count": 165,
   "id": "c60bd033",
   "metadata": {},
   "outputs": [
    {
     "name": "stdout",
     "output_type": "stream",
     "text": [
      "Datos insertados en la tabla 'Other_stats'\n"
     ]
    }
   ],
   "source": [
    "try:\n",
    "\tother_stats.to_sql(\"Other_stats\", con=engine, if_exists=\"append\", index=False)\n",
    "\tprint(\"Datos insertados en la tabla 'Other_stats'\")\n",
    "except SQLAlchemyError as e:\n",
    "\tprint(f\"A ocurrido un error: {e}\")"
   ]
  },
  {
   "cell_type": "markdown",
   "id": "c8053669",
   "metadata": {},
   "source": [
    "### 4.3.12. Inserción tabla Officials"
   ]
  },
  {
   "cell_type": "code",
   "execution_count": 167,
   "id": "af57001b",
   "metadata": {},
   "outputs": [
    {
     "name": "stdout",
     "output_type": "stream",
     "text": [
      "Datos insertados en la tabla 'Officials'\n"
     ]
    }
   ],
   "source": [
    "try:\n",
    "\tofficials.to_sql(\"Officials\", con=engine, if_exists=\"append\", index=False)\n",
    "\tprint(\"Datos insertados en la tabla 'Officials'\")\n",
    "except SQLAlchemyError as e:\n",
    "\tprint(f\"A ocurrido un error: {e}\")"
   ]
  },
  {
   "cell_type": "markdown",
   "id": "2effbabd",
   "metadata": {},
   "source": [
    "### 4.3.13. Inserción tabla Inactive_players"
   ]
  },
  {
   "cell_type": "code",
   "execution_count": 168,
   "id": "06d08df9",
   "metadata": {},
   "outputs": [
    {
     "name": "stdout",
     "output_type": "stream",
     "text": [
      "Datos insertados en la tabla 'Inactive_players'\n"
     ]
    }
   ],
   "source": [
    "try:\n",
    "\tinactive_players.to_sql(\"Inactive_players\", con=engine, if_exists=\"append\", index=False)\n",
    "\tprint(\"Datos insertados en la tabla 'Inactive_players'\")\n",
    "except SQLAlchemyError as e:\n",
    "\tprint(f\"A ocurrido un error: {e}\")"
   ]
  },
  {
   "cell_type": "markdown",
   "id": "0a615ce8",
   "metadata": {},
   "source": [
    "### 4.3.14. Inserción tabla Play_by_play"
   ]
  },
  {
   "cell_type": "code",
   "execution_count": 221,
   "id": "bec234f0",
   "metadata": {},
   "outputs": [
    {
     "name": "stdout",
     "output_type": "stream",
     "text": [
      "Datos insertados en la tabla 'Play_by_play'\n"
     ]
    }
   ],
   "source": [
    "try:\n",
    "\tplay_by_play_clutch_final.to_sql(\"Play_by_play\", con=engine, if_exists=\"append\", index=False)\n",
    "\tprint(\"Datos insertados en la tabla 'Play_by_play'\")\n",
    "except SQLAlchemyError as e:\n",
    "\tprint(f\"A ocurrido un error: {e}\")"
   ]
  },
  {
   "cell_type": "markdown",
   "id": "7f84502a",
   "metadata": {},
   "source": [
    "### 4.3.15. Inserción tabla Line_score"
   ]
  },
  {
   "cell_type": "code",
   "execution_count": 207,
   "id": "4993b69c",
   "metadata": {},
   "outputs": [
    {
     "name": "stdout",
     "output_type": "stream",
     "text": [
      "Datos insertados en la tabla 'Line_score'\n"
     ]
    }
   ],
   "source": [
    "try:\n",
    "\tline_score.to_sql(\"Line_score\", con=engine, if_exists=\"append\", index=False)\n",
    "\tprint(\"Datos insertados en la tabla 'Line_score'\")\n",
    "except SQLAlchemyError as e:\n",
    "\tprint(f\"A ocurrido un error: {e}\")"
   ]
  }
 ],
 "metadata": {
  "kernelspec": {
   "display_name": "Python 3",
   "language": "python",
   "name": "python3"
  },
  "language_info": {
   "codemirror_mode": {
    "name": "ipython",
    "version": 3
   },
   "file_extension": ".py",
   "mimetype": "text/x-python",
   "name": "python",
   "nbconvert_exporter": "python",
   "pygments_lexer": "ipython3",
   "version": "3.12.4"
  }
 },
 "nbformat": 4,
 "nbformat_minor": 5
}
