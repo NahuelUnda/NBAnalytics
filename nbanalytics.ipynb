{
 "cells": [
  {
   "cell_type": "markdown",
   "id": "685240f0",
   "metadata": {},
   "source": [
    "# 1. Importacion y carga de datos"
   ]
  },
  {
   "cell_type": "code",
   "execution_count": 2,
   "id": "5111aefa",
   "metadata": {},
   "outputs": [],
   "source": [
    "import pandas as pd\n",
    "import numpy as np"
   ]
  },
  {
   "cell_type": "code",
   "execution_count": 3,
   "id": "3d40d38c",
   "metadata": {},
   "outputs": [],
   "source": [
    "common_player_info = pd.read_csv('common_player_info.csv')\n",
    "draft_combine_stats = pd.read_csv('draft_combine_stats.csv')\n",
    "draft_history = pd.read_csv('draft_history.csv')\n",
    "game_info = pd.read_csv('game_info.csv')\n",
    "game_summary = pd.read_csv('game_summary.csv')\n",
    "game = pd.read_csv('game.csv')\n",
    "inactive_players = pd.read_csv('inactive_players.csv')\n",
    "line_score = pd.read_csv('line_score.csv')\n",
    "officials = pd.read_csv('officials.csv')\n",
    "other_stats = pd.read_csv('other_stats.csv')\n",
    "play_by_play = pd.read_csv('play_by_play.csv')\n",
    "player = pd.read_csv('player.csv')\n",
    "team_details = pd.read_csv('team_details.csv')\n",
    "team_history = pd.read_csv('team_history.csv')\n",
    "team_info_common = pd.read_csv('team_info_common.csv')\n",
    "team = pd.read_csv('team.csv')"
   ]
  },
  {
   "cell_type": "markdown",
   "id": "e17f504e",
   "metadata": {},
   "source": [
    "# 2. Limpieza de datos"
   ]
  },
  {
   "cell_type": "markdown",
   "id": "2b1353f2",
   "metadata": {},
   "source": [
    "## 2.1. Tabla common_player_info"
   ]
  },
  {
   "cell_type": "markdown",
   "id": "fa371774",
   "metadata": {},
   "source": [
    "### 2.1.1. Lectura de nulos"
   ]
  },
  {
   "cell_type": "code",
   "execution_count": 4,
   "id": "5dae139c",
   "metadata": {},
   "outputs": [
    {
     "data": {
      "text/plain": [
       "(person_id                             0\n",
       " first_name                            0\n",
       " last_name                             0\n",
       " display_first_last                    0\n",
       " display_last_comma_first              0\n",
       " display_fi_last                       0\n",
       " player_slug                           0\n",
       " birthdate                             0\n",
       " school                               15\n",
       " country                               1\n",
       " last_affiliation                      0\n",
       " height                               96\n",
       " weight                              100\n",
       " season_exp                            0\n",
       " jersey                              980\n",
       " position                             63\n",
       " rosterstatus                          0\n",
       " games_played_current_season_flag      0\n",
       " team_id                               0\n",
       " team_name                           702\n",
       " team_abbreviation                   702\n",
       " team_code                           702\n",
       " team_city                           702\n",
       " playercode                            1\n",
       " from_year                            15\n",
       " to_year                              15\n",
       " dleague_flag                          0\n",
       " nba_flag                              0\n",
       " games_played_flag                     0\n",
       " draft_year                            0\n",
       " draft_round                         164\n",
       " draft_number                        223\n",
       " greatest_75_flag                      0\n",
       " dtype: int64,\n",
       " (4171, 33))"
      ]
     },
     "execution_count": 4,
     "metadata": {},
     "output_type": "execute_result"
    }
   ],
   "source": [
    "common_player_info.isnull().sum(), common_player_info.shape"
   ]
  },
  {
   "cell_type": "code",
   "execution_count": 5,
   "id": "1e88a006",
   "metadata": {},
   "outputs": [
    {
     "data": {
      "application/vnd.microsoft.datawrangler.viewer.v0+json": {
       "columns": [
        {
         "name": "index",
         "rawType": "object",
         "type": "string"
        },
        {
         "name": "Valores nulos",
         "rawType": "int64",
         "type": "integer"
        },
        {
         "name": "Total registros",
         "rawType": "int64",
         "type": "integer"
        },
        {
         "name": "Porcentaje",
         "rawType": "float64",
         "type": "float"
        }
       ],
       "conversionMethod": "pd.DataFrame",
       "ref": "fa6af938-32fc-442f-8d40-48c1e4295ef3",
       "rows": [
        [
         "school",
         "15",
         "4171",
         "0.36"
        ],
        [
         "country",
         "1",
         "4171",
         "0.02"
        ],
        [
         "height",
         "96",
         "4171",
         "2.3"
        ],
        [
         "weight",
         "100",
         "4171",
         "2.4"
        ],
        [
         "jersey",
         "980",
         "4171",
         "23.5"
        ],
        [
         "position",
         "63",
         "4171",
         "1.51"
        ],
        [
         "team_name",
         "702",
         "4171",
         "16.83"
        ],
        [
         "team_abbreviation",
         "702",
         "4171",
         "16.83"
        ],
        [
         "team_code",
         "702",
         "4171",
         "16.83"
        ],
        [
         "team_city",
         "702",
         "4171",
         "16.83"
        ],
        [
         "playercode",
         "1",
         "4171",
         "0.02"
        ],
        [
         "from_year",
         "15",
         "4171",
         "0.36"
        ],
        [
         "to_year",
         "15",
         "4171",
         "0.36"
        ],
        [
         "draft_round",
         "164",
         "4171",
         "3.93"
        ],
        [
         "draft_number",
         "223",
         "4171",
         "5.35"
        ]
       ],
       "shape": {
        "columns": 3,
        "rows": 15
       }
      },
      "text/html": [
       "<div>\n",
       "<style scoped>\n",
       "    .dataframe tbody tr th:only-of-type {\n",
       "        vertical-align: middle;\n",
       "    }\n",
       "\n",
       "    .dataframe tbody tr th {\n",
       "        vertical-align: top;\n",
       "    }\n",
       "\n",
       "    .dataframe thead th {\n",
       "        text-align: right;\n",
       "    }\n",
       "</style>\n",
       "<table border=\"1\" class=\"dataframe\">\n",
       "  <thead>\n",
       "    <tr style=\"text-align: right;\">\n",
       "      <th></th>\n",
       "      <th>Valores nulos</th>\n",
       "      <th>Total registros</th>\n",
       "      <th>Porcentaje</th>\n",
       "    </tr>\n",
       "  </thead>\n",
       "  <tbody>\n",
       "    <tr>\n",
       "      <th>school</th>\n",
       "      <td>15</td>\n",
       "      <td>4171</td>\n",
       "      <td>0.36</td>\n",
       "    </tr>\n",
       "    <tr>\n",
       "      <th>country</th>\n",
       "      <td>1</td>\n",
       "      <td>4171</td>\n",
       "      <td>0.02</td>\n",
       "    </tr>\n",
       "    <tr>\n",
       "      <th>height</th>\n",
       "      <td>96</td>\n",
       "      <td>4171</td>\n",
       "      <td>2.30</td>\n",
       "    </tr>\n",
       "    <tr>\n",
       "      <th>weight</th>\n",
       "      <td>100</td>\n",
       "      <td>4171</td>\n",
       "      <td>2.40</td>\n",
       "    </tr>\n",
       "    <tr>\n",
       "      <th>jersey</th>\n",
       "      <td>980</td>\n",
       "      <td>4171</td>\n",
       "      <td>23.50</td>\n",
       "    </tr>\n",
       "    <tr>\n",
       "      <th>position</th>\n",
       "      <td>63</td>\n",
       "      <td>4171</td>\n",
       "      <td>1.51</td>\n",
       "    </tr>\n",
       "    <tr>\n",
       "      <th>team_name</th>\n",
       "      <td>702</td>\n",
       "      <td>4171</td>\n",
       "      <td>16.83</td>\n",
       "    </tr>\n",
       "    <tr>\n",
       "      <th>team_abbreviation</th>\n",
       "      <td>702</td>\n",
       "      <td>4171</td>\n",
       "      <td>16.83</td>\n",
       "    </tr>\n",
       "    <tr>\n",
       "      <th>team_code</th>\n",
       "      <td>702</td>\n",
       "      <td>4171</td>\n",
       "      <td>16.83</td>\n",
       "    </tr>\n",
       "    <tr>\n",
       "      <th>team_city</th>\n",
       "      <td>702</td>\n",
       "      <td>4171</td>\n",
       "      <td>16.83</td>\n",
       "    </tr>\n",
       "    <tr>\n",
       "      <th>playercode</th>\n",
       "      <td>1</td>\n",
       "      <td>4171</td>\n",
       "      <td>0.02</td>\n",
       "    </tr>\n",
       "    <tr>\n",
       "      <th>from_year</th>\n",
       "      <td>15</td>\n",
       "      <td>4171</td>\n",
       "      <td>0.36</td>\n",
       "    </tr>\n",
       "    <tr>\n",
       "      <th>to_year</th>\n",
       "      <td>15</td>\n",
       "      <td>4171</td>\n",
       "      <td>0.36</td>\n",
       "    </tr>\n",
       "    <tr>\n",
       "      <th>draft_round</th>\n",
       "      <td>164</td>\n",
       "      <td>4171</td>\n",
       "      <td>3.93</td>\n",
       "    </tr>\n",
       "    <tr>\n",
       "      <th>draft_number</th>\n",
       "      <td>223</td>\n",
       "      <td>4171</td>\n",
       "      <td>5.35</td>\n",
       "    </tr>\n",
       "  </tbody>\n",
       "</table>\n",
       "</div>"
      ],
      "text/plain": [
       "                   Valores nulos  Total registros  Porcentaje\n",
       "school                        15             4171        0.36\n",
       "country                        1             4171        0.02\n",
       "height                        96             4171        2.30\n",
       "weight                       100             4171        2.40\n",
       "jersey                       980             4171       23.50\n",
       "position                      63             4171        1.51\n",
       "team_name                    702             4171       16.83\n",
       "team_abbreviation            702             4171       16.83\n",
       "team_code                    702             4171       16.83\n",
       "team_city                    702             4171       16.83\n",
       "playercode                     1             4171        0.02\n",
       "from_year                     15             4171        0.36\n",
       "to_year                       15             4171        0.36\n",
       "draft_round                  164             4171        3.93\n",
       "draft_number                 223             4171        5.35"
      ]
     },
     "execution_count": 5,
     "metadata": {},
     "output_type": "execute_result"
    }
   ],
   "source": [
    "null_common_player_info = common_player_info.isnull().sum()\n",
    "total_register = len(common_player_info)\n",
    "null_result = null_common_player_info[null_common_player_info > 0]\n",
    "\n",
    "df_null_common_player_info = pd.DataFrame({\n",
    "    \"Valores nulos\": null_result,\n",
    "    \"Total registros\": total_register,\n",
    "    \"Porcentaje\": (null_result / total_register * 100).round(2)\n",
    "})\n",
    "\n",
    "df_null_common_player_info"
   ]
  },
  {
   "cell_type": "markdown",
   "id": "f7b9bda9",
   "metadata": {},
   "source": [
    "### 2.1.2. Filtro por el final de la carrera mayor a 2000"
   ]
  },
  {
   "cell_type": "code",
   "execution_count": 6,
   "id": "b050b1c7",
   "metadata": {},
   "outputs": [],
   "source": [
    "common_player_info = common_player_info[common_player_info[\"to_year\"] >= 2000]"
   ]
  },
  {
   "cell_type": "markdown",
   "id": "d2acbb38",
   "metadata": {},
   "source": [
    "### 2.1.3. Eliminacion de columnas innecesarias"
   ]
  },
  {
   "cell_type": "code",
   "execution_count": 7,
   "id": "68d077dd",
   "metadata": {},
   "outputs": [],
   "source": [
    "delete_columns = [\"first_name\", \"last_name\", \"display_first_last\", \"display_last_comma_first\", \"player_slug\",\"jersey\", \"team_name\", \"team_abbreviation\", \"team_code\", \"team_city\", \"games_played_current_season_flag\"]\n",
    "\n",
    "common_player_info.drop(delete_columns, axis=1, inplace=True)"
   ]
  },
  {
   "cell_type": "markdown",
   "id": "43e576d7",
   "metadata": {},
   "source": [
    "### 2.1.4. Eliminacion de nulos en las diferentes columnas por no encontrar la posibilidad de llenarlos"
   ]
  },
  {
   "cell_type": "code",
   "execution_count": 8,
   "id": "1044b4d9",
   "metadata": {},
   "outputs": [],
   "source": [
    "common_player_info = common_player_info.dropna(subset=['height', 'weight', 'draft_number', 'draft_number', 'position'])"
   ]
  },
  {
   "cell_type": "code",
   "execution_count": 9,
   "id": "c6078357",
   "metadata": {},
   "outputs": [
    {
     "data": {
      "text/plain": [
       "(person_id             0\n",
       " display_fi_last       0\n",
       " birthdate             0\n",
       " school               13\n",
       " country               0\n",
       " last_affiliation      0\n",
       " height                0\n",
       " weight                0\n",
       " season_exp            0\n",
       " position              0\n",
       " rosterstatus          0\n",
       " team_id               0\n",
       " playercode            0\n",
       " from_year             0\n",
       " to_year               0\n",
       " dleague_flag          0\n",
       " nba_flag              0\n",
       " games_played_flag     0\n",
       " draft_year            0\n",
       " draft_round           0\n",
       " draft_number          0\n",
       " greatest_75_flag      0\n",
       " dtype: int64,\n",
       " (1877, 22))"
      ]
     },
     "execution_count": 9,
     "metadata": {},
     "output_type": "execute_result"
    }
   ],
   "source": [
    "common_player_info.isnull().sum(), common_player_info.shape"
   ]
  },
  {
   "cell_type": "markdown",
   "id": "ee83ace8",
   "metadata": {},
   "source": [
    "### 2.1.5. Rellenado de las columnas school y country con los valores descomprimidos de last_affiliation"
   ]
  },
  {
   "cell_type": "code",
   "execution_count": 10,
   "id": "fdf1f57e",
   "metadata": {},
   "outputs": [],
   "source": [
    "common_player_info[['school', 'country']] = common_player_info['last_affiliation'].str.split('/', n=1, expand=True)"
   ]
  },
  {
   "cell_type": "code",
   "execution_count": 11,
   "id": "084f8924",
   "metadata": {},
   "outputs": [
    {
     "data": {
      "text/plain": [
       "(person_id            0\n",
       " display_fi_last      0\n",
       " birthdate            0\n",
       " school               0\n",
       " country              0\n",
       " last_affiliation     0\n",
       " height               0\n",
       " weight               0\n",
       " season_exp           0\n",
       " position             0\n",
       " rosterstatus         0\n",
       " team_id              0\n",
       " playercode           0\n",
       " from_year            0\n",
       " to_year              0\n",
       " dleague_flag         0\n",
       " nba_flag             0\n",
       " games_played_flag    0\n",
       " draft_year           0\n",
       " draft_round          0\n",
       " draft_number         0\n",
       " greatest_75_flag     0\n",
       " dtype: int64,\n",
       " (1877, 22))"
      ]
     },
     "execution_count": 11,
     "metadata": {},
     "output_type": "execute_result"
    }
   ],
   "source": [
    "common_player_info.isnull().sum(), common_player_info.shape"
   ]
  },
  {
   "cell_type": "markdown",
   "id": "7a328466",
   "metadata": {},
   "source": [
    "## 2.2. Tabla draft_combine_stats"
   ]
  },
  {
   "cell_type": "markdown",
   "id": "d0fbb12b",
   "metadata": {},
   "source": [
    "### 2.2.1. Lectura de nulos"
   ]
  },
  {
   "cell_type": "code",
   "execution_count": 12,
   "id": "8997ced9",
   "metadata": {},
   "outputs": [
    {
     "data": {
      "text/plain": [
       "(season                             0\n",
       " player_id                          0\n",
       " first_name                         0\n",
       " last_name                          0\n",
       " player_name                        0\n",
       " position                           5\n",
       " height_wo_shoes                   49\n",
       " height_wo_shoes_ft_in             49\n",
       " height_w_shoes                   194\n",
       " height_w_shoes_ft_in             194\n",
       " weight                            50\n",
       " wingspan                          49\n",
       " wingspan_ft_in                    49\n",
       " standing_reach                    50\n",
       " standing_reach_ft_in              50\n",
       " body_fat_pct                     199\n",
       " hand_length                      483\n",
       " hand_width                       483\n",
       " standing_vertical_leap           185\n",
       " max_vertical_leap                185\n",
       " lane_agility_time                194\n",
       " modified_lane_agility_time       791\n",
       " three_quarter_sprint             190\n",
       " bench_press                      394\n",
       " spot_fifteen_corner_left        1128\n",
       " spot_fifteen_break_left         1126\n",
       " spot_fifteen_top_key            1126\n",
       " spot_fifteen_break_right        1126\n",
       " spot_fifteen_corner_right       1126\n",
       " spot_college_corner_left         957\n",
       " spot_college_break_left         1036\n",
       " spot_college_top_key            1036\n",
       " spot_college_break_right        1036\n",
       " spot_college_corner_right       1036\n",
       " spot_nba_corner_left             985\n",
       " spot_nba_break_left              985\n",
       " spot_nba_top_key                 985\n",
       " spot_nba_break_right             985\n",
       " spot_nba_corner_right            985\n",
       " off_drib_fifteen_break_left     1036\n",
       " off_drib_fifteen_top_key        1036\n",
       " off_drib_fifteen_break_right    1036\n",
       " off_drib_college_break_left     1092\n",
       " off_drib_college_top_key        1171\n",
       " off_drib_college_break_right    1171\n",
       " on_move_fifteen                 1054\n",
       " on_move_college                 1086\n",
       " dtype: int64,\n",
       " (1202, 47))"
      ]
     },
     "execution_count": 12,
     "metadata": {},
     "output_type": "execute_result"
    }
   ],
   "source": [
    "draft_combine_stats.isnull().sum(), draft_combine_stats.shape"
   ]
  },
  {
   "cell_type": "code",
   "execution_count": 13,
   "id": "c7a379df",
   "metadata": {},
   "outputs": [
    {
     "data": {
      "application/vnd.microsoft.datawrangler.viewer.v0+json": {
       "columns": [
        {
         "name": "index",
         "rawType": "object",
         "type": "string"
        },
        {
         "name": "Valores nulos",
         "rawType": "int64",
         "type": "integer"
        },
        {
         "name": "Total registros",
         "rawType": "int64",
         "type": "integer"
        },
        {
         "name": "Porcentaje",
         "rawType": "float64",
         "type": "float"
        }
       ],
       "conversionMethod": "pd.DataFrame",
       "ref": "1a5e4b70-6d44-4cb5-843a-7b777619d643",
       "rows": [
        [
         "position",
         "5",
         "1202",
         "0.42"
        ],
        [
         "height_wo_shoes",
         "49",
         "1202",
         "4.08"
        ],
        [
         "height_wo_shoes_ft_in",
         "49",
         "1202",
         "4.08"
        ],
        [
         "height_w_shoes",
         "194",
         "1202",
         "16.14"
        ],
        [
         "height_w_shoes_ft_in",
         "194",
         "1202",
         "16.14"
        ],
        [
         "weight",
         "50",
         "1202",
         "4.16"
        ],
        [
         "wingspan",
         "49",
         "1202",
         "4.08"
        ],
        [
         "wingspan_ft_in",
         "49",
         "1202",
         "4.08"
        ],
        [
         "standing_reach",
         "50",
         "1202",
         "4.16"
        ],
        [
         "standing_reach_ft_in",
         "50",
         "1202",
         "4.16"
        ],
        [
         "body_fat_pct",
         "199",
         "1202",
         "16.56"
        ],
        [
         "hand_length",
         "483",
         "1202",
         "40.18"
        ],
        [
         "hand_width",
         "483",
         "1202",
         "40.18"
        ],
        [
         "standing_vertical_leap",
         "185",
         "1202",
         "15.39"
        ],
        [
         "max_vertical_leap",
         "185",
         "1202",
         "15.39"
        ],
        [
         "lane_agility_time",
         "194",
         "1202",
         "16.14"
        ],
        [
         "modified_lane_agility_time",
         "791",
         "1202",
         "65.81"
        ],
        [
         "three_quarter_sprint",
         "190",
         "1202",
         "15.81"
        ],
        [
         "bench_press",
         "394",
         "1202",
         "32.78"
        ],
        [
         "spot_fifteen_corner_left",
         "1128",
         "1202",
         "93.84"
        ],
        [
         "spot_fifteen_break_left",
         "1126",
         "1202",
         "93.68"
        ],
        [
         "spot_fifteen_top_key",
         "1126",
         "1202",
         "93.68"
        ],
        [
         "spot_fifteen_break_right",
         "1126",
         "1202",
         "93.68"
        ],
        [
         "spot_fifteen_corner_right",
         "1126",
         "1202",
         "93.68"
        ],
        [
         "spot_college_corner_left",
         "957",
         "1202",
         "79.62"
        ],
        [
         "spot_college_break_left",
         "1036",
         "1202",
         "86.19"
        ],
        [
         "spot_college_top_key",
         "1036",
         "1202",
         "86.19"
        ],
        [
         "spot_college_break_right",
         "1036",
         "1202",
         "86.19"
        ],
        [
         "spot_college_corner_right",
         "1036",
         "1202",
         "86.19"
        ],
        [
         "spot_nba_corner_left",
         "985",
         "1202",
         "81.95"
        ],
        [
         "spot_nba_break_left",
         "985",
         "1202",
         "81.95"
        ],
        [
         "spot_nba_top_key",
         "985",
         "1202",
         "81.95"
        ],
        [
         "spot_nba_break_right",
         "985",
         "1202",
         "81.95"
        ],
        [
         "spot_nba_corner_right",
         "985",
         "1202",
         "81.95"
        ],
        [
         "off_drib_fifteen_break_left",
         "1036",
         "1202",
         "86.19"
        ],
        [
         "off_drib_fifteen_top_key",
         "1036",
         "1202",
         "86.19"
        ],
        [
         "off_drib_fifteen_break_right",
         "1036",
         "1202",
         "86.19"
        ],
        [
         "off_drib_college_break_left",
         "1092",
         "1202",
         "90.85"
        ],
        [
         "off_drib_college_top_key",
         "1171",
         "1202",
         "97.42"
        ],
        [
         "off_drib_college_break_right",
         "1171",
         "1202",
         "97.42"
        ],
        [
         "on_move_fifteen",
         "1054",
         "1202",
         "87.69"
        ],
        [
         "on_move_college",
         "1086",
         "1202",
         "90.35"
        ]
       ],
       "shape": {
        "columns": 3,
        "rows": 42
       }
      },
      "text/html": [
       "<div>\n",
       "<style scoped>\n",
       "    .dataframe tbody tr th:only-of-type {\n",
       "        vertical-align: middle;\n",
       "    }\n",
       "\n",
       "    .dataframe tbody tr th {\n",
       "        vertical-align: top;\n",
       "    }\n",
       "\n",
       "    .dataframe thead th {\n",
       "        text-align: right;\n",
       "    }\n",
       "</style>\n",
       "<table border=\"1\" class=\"dataframe\">\n",
       "  <thead>\n",
       "    <tr style=\"text-align: right;\">\n",
       "      <th></th>\n",
       "      <th>Valores nulos</th>\n",
       "      <th>Total registros</th>\n",
       "      <th>Porcentaje</th>\n",
       "    </tr>\n",
       "  </thead>\n",
       "  <tbody>\n",
       "    <tr>\n",
       "      <th>position</th>\n",
       "      <td>5</td>\n",
       "      <td>1202</td>\n",
       "      <td>0.42</td>\n",
       "    </tr>\n",
       "    <tr>\n",
       "      <th>height_wo_shoes</th>\n",
       "      <td>49</td>\n",
       "      <td>1202</td>\n",
       "      <td>4.08</td>\n",
       "    </tr>\n",
       "    <tr>\n",
       "      <th>height_wo_shoes_ft_in</th>\n",
       "      <td>49</td>\n",
       "      <td>1202</td>\n",
       "      <td>4.08</td>\n",
       "    </tr>\n",
       "    <tr>\n",
       "      <th>height_w_shoes</th>\n",
       "      <td>194</td>\n",
       "      <td>1202</td>\n",
       "      <td>16.14</td>\n",
       "    </tr>\n",
       "    <tr>\n",
       "      <th>height_w_shoes_ft_in</th>\n",
       "      <td>194</td>\n",
       "      <td>1202</td>\n",
       "      <td>16.14</td>\n",
       "    </tr>\n",
       "    <tr>\n",
       "      <th>weight</th>\n",
       "      <td>50</td>\n",
       "      <td>1202</td>\n",
       "      <td>4.16</td>\n",
       "    </tr>\n",
       "    <tr>\n",
       "      <th>wingspan</th>\n",
       "      <td>49</td>\n",
       "      <td>1202</td>\n",
       "      <td>4.08</td>\n",
       "    </tr>\n",
       "    <tr>\n",
       "      <th>wingspan_ft_in</th>\n",
       "      <td>49</td>\n",
       "      <td>1202</td>\n",
       "      <td>4.08</td>\n",
       "    </tr>\n",
       "    <tr>\n",
       "      <th>standing_reach</th>\n",
       "      <td>50</td>\n",
       "      <td>1202</td>\n",
       "      <td>4.16</td>\n",
       "    </tr>\n",
       "    <tr>\n",
       "      <th>standing_reach_ft_in</th>\n",
       "      <td>50</td>\n",
       "      <td>1202</td>\n",
       "      <td>4.16</td>\n",
       "    </tr>\n",
       "    <tr>\n",
       "      <th>body_fat_pct</th>\n",
       "      <td>199</td>\n",
       "      <td>1202</td>\n",
       "      <td>16.56</td>\n",
       "    </tr>\n",
       "    <tr>\n",
       "      <th>hand_length</th>\n",
       "      <td>483</td>\n",
       "      <td>1202</td>\n",
       "      <td>40.18</td>\n",
       "    </tr>\n",
       "    <tr>\n",
       "      <th>hand_width</th>\n",
       "      <td>483</td>\n",
       "      <td>1202</td>\n",
       "      <td>40.18</td>\n",
       "    </tr>\n",
       "    <tr>\n",
       "      <th>standing_vertical_leap</th>\n",
       "      <td>185</td>\n",
       "      <td>1202</td>\n",
       "      <td>15.39</td>\n",
       "    </tr>\n",
       "    <tr>\n",
       "      <th>max_vertical_leap</th>\n",
       "      <td>185</td>\n",
       "      <td>1202</td>\n",
       "      <td>15.39</td>\n",
       "    </tr>\n",
       "    <tr>\n",
       "      <th>lane_agility_time</th>\n",
       "      <td>194</td>\n",
       "      <td>1202</td>\n",
       "      <td>16.14</td>\n",
       "    </tr>\n",
       "    <tr>\n",
       "      <th>modified_lane_agility_time</th>\n",
       "      <td>791</td>\n",
       "      <td>1202</td>\n",
       "      <td>65.81</td>\n",
       "    </tr>\n",
       "    <tr>\n",
       "      <th>three_quarter_sprint</th>\n",
       "      <td>190</td>\n",
       "      <td>1202</td>\n",
       "      <td>15.81</td>\n",
       "    </tr>\n",
       "    <tr>\n",
       "      <th>bench_press</th>\n",
       "      <td>394</td>\n",
       "      <td>1202</td>\n",
       "      <td>32.78</td>\n",
       "    </tr>\n",
       "    <tr>\n",
       "      <th>spot_fifteen_corner_left</th>\n",
       "      <td>1128</td>\n",
       "      <td>1202</td>\n",
       "      <td>93.84</td>\n",
       "    </tr>\n",
       "    <tr>\n",
       "      <th>spot_fifteen_break_left</th>\n",
       "      <td>1126</td>\n",
       "      <td>1202</td>\n",
       "      <td>93.68</td>\n",
       "    </tr>\n",
       "    <tr>\n",
       "      <th>spot_fifteen_top_key</th>\n",
       "      <td>1126</td>\n",
       "      <td>1202</td>\n",
       "      <td>93.68</td>\n",
       "    </tr>\n",
       "    <tr>\n",
       "      <th>spot_fifteen_break_right</th>\n",
       "      <td>1126</td>\n",
       "      <td>1202</td>\n",
       "      <td>93.68</td>\n",
       "    </tr>\n",
       "    <tr>\n",
       "      <th>spot_fifteen_corner_right</th>\n",
       "      <td>1126</td>\n",
       "      <td>1202</td>\n",
       "      <td>93.68</td>\n",
       "    </tr>\n",
       "    <tr>\n",
       "      <th>spot_college_corner_left</th>\n",
       "      <td>957</td>\n",
       "      <td>1202</td>\n",
       "      <td>79.62</td>\n",
       "    </tr>\n",
       "    <tr>\n",
       "      <th>spot_college_break_left</th>\n",
       "      <td>1036</td>\n",
       "      <td>1202</td>\n",
       "      <td>86.19</td>\n",
       "    </tr>\n",
       "    <tr>\n",
       "      <th>spot_college_top_key</th>\n",
       "      <td>1036</td>\n",
       "      <td>1202</td>\n",
       "      <td>86.19</td>\n",
       "    </tr>\n",
       "    <tr>\n",
       "      <th>spot_college_break_right</th>\n",
       "      <td>1036</td>\n",
       "      <td>1202</td>\n",
       "      <td>86.19</td>\n",
       "    </tr>\n",
       "    <tr>\n",
       "      <th>spot_college_corner_right</th>\n",
       "      <td>1036</td>\n",
       "      <td>1202</td>\n",
       "      <td>86.19</td>\n",
       "    </tr>\n",
       "    <tr>\n",
       "      <th>spot_nba_corner_left</th>\n",
       "      <td>985</td>\n",
       "      <td>1202</td>\n",
       "      <td>81.95</td>\n",
       "    </tr>\n",
       "    <tr>\n",
       "      <th>spot_nba_break_left</th>\n",
       "      <td>985</td>\n",
       "      <td>1202</td>\n",
       "      <td>81.95</td>\n",
       "    </tr>\n",
       "    <tr>\n",
       "      <th>spot_nba_top_key</th>\n",
       "      <td>985</td>\n",
       "      <td>1202</td>\n",
       "      <td>81.95</td>\n",
       "    </tr>\n",
       "    <tr>\n",
       "      <th>spot_nba_break_right</th>\n",
       "      <td>985</td>\n",
       "      <td>1202</td>\n",
       "      <td>81.95</td>\n",
       "    </tr>\n",
       "    <tr>\n",
       "      <th>spot_nba_corner_right</th>\n",
       "      <td>985</td>\n",
       "      <td>1202</td>\n",
       "      <td>81.95</td>\n",
       "    </tr>\n",
       "    <tr>\n",
       "      <th>off_drib_fifteen_break_left</th>\n",
       "      <td>1036</td>\n",
       "      <td>1202</td>\n",
       "      <td>86.19</td>\n",
       "    </tr>\n",
       "    <tr>\n",
       "      <th>off_drib_fifteen_top_key</th>\n",
       "      <td>1036</td>\n",
       "      <td>1202</td>\n",
       "      <td>86.19</td>\n",
       "    </tr>\n",
       "    <tr>\n",
       "      <th>off_drib_fifteen_break_right</th>\n",
       "      <td>1036</td>\n",
       "      <td>1202</td>\n",
       "      <td>86.19</td>\n",
       "    </tr>\n",
       "    <tr>\n",
       "      <th>off_drib_college_break_left</th>\n",
       "      <td>1092</td>\n",
       "      <td>1202</td>\n",
       "      <td>90.85</td>\n",
       "    </tr>\n",
       "    <tr>\n",
       "      <th>off_drib_college_top_key</th>\n",
       "      <td>1171</td>\n",
       "      <td>1202</td>\n",
       "      <td>97.42</td>\n",
       "    </tr>\n",
       "    <tr>\n",
       "      <th>off_drib_college_break_right</th>\n",
       "      <td>1171</td>\n",
       "      <td>1202</td>\n",
       "      <td>97.42</td>\n",
       "    </tr>\n",
       "    <tr>\n",
       "      <th>on_move_fifteen</th>\n",
       "      <td>1054</td>\n",
       "      <td>1202</td>\n",
       "      <td>87.69</td>\n",
       "    </tr>\n",
       "    <tr>\n",
       "      <th>on_move_college</th>\n",
       "      <td>1086</td>\n",
       "      <td>1202</td>\n",
       "      <td>90.35</td>\n",
       "    </tr>\n",
       "  </tbody>\n",
       "</table>\n",
       "</div>"
      ],
      "text/plain": [
       "                              Valores nulos  Total registros  Porcentaje\n",
       "position                                  5             1202        0.42\n",
       "height_wo_shoes                          49             1202        4.08\n",
       "height_wo_shoes_ft_in                    49             1202        4.08\n",
       "height_w_shoes                          194             1202       16.14\n",
       "height_w_shoes_ft_in                    194             1202       16.14\n",
       "weight                                   50             1202        4.16\n",
       "wingspan                                 49             1202        4.08\n",
       "wingspan_ft_in                           49             1202        4.08\n",
       "standing_reach                           50             1202        4.16\n",
       "standing_reach_ft_in                     50             1202        4.16\n",
       "body_fat_pct                            199             1202       16.56\n",
       "hand_length                             483             1202       40.18\n",
       "hand_width                              483             1202       40.18\n",
       "standing_vertical_leap                  185             1202       15.39\n",
       "max_vertical_leap                       185             1202       15.39\n",
       "lane_agility_time                       194             1202       16.14\n",
       "modified_lane_agility_time              791             1202       65.81\n",
       "three_quarter_sprint                    190             1202       15.81\n",
       "bench_press                             394             1202       32.78\n",
       "spot_fifteen_corner_left               1128             1202       93.84\n",
       "spot_fifteen_break_left                1126             1202       93.68\n",
       "spot_fifteen_top_key                   1126             1202       93.68\n",
       "spot_fifteen_break_right               1126             1202       93.68\n",
       "spot_fifteen_corner_right              1126             1202       93.68\n",
       "spot_college_corner_left                957             1202       79.62\n",
       "spot_college_break_left                1036             1202       86.19\n",
       "spot_college_top_key                   1036             1202       86.19\n",
       "spot_college_break_right               1036             1202       86.19\n",
       "spot_college_corner_right              1036             1202       86.19\n",
       "spot_nba_corner_left                    985             1202       81.95\n",
       "spot_nba_break_left                     985             1202       81.95\n",
       "spot_nba_top_key                        985             1202       81.95\n",
       "spot_nba_break_right                    985             1202       81.95\n",
       "spot_nba_corner_right                   985             1202       81.95\n",
       "off_drib_fifteen_break_left            1036             1202       86.19\n",
       "off_drib_fifteen_top_key               1036             1202       86.19\n",
       "off_drib_fifteen_break_right           1036             1202       86.19\n",
       "off_drib_college_break_left            1092             1202       90.85\n",
       "off_drib_college_top_key               1171             1202       97.42\n",
       "off_drib_college_break_right           1171             1202       97.42\n",
       "on_move_fifteen                        1054             1202       87.69\n",
       "on_move_college                        1086             1202       90.35"
      ]
     },
     "execution_count": 13,
     "metadata": {},
     "output_type": "execute_result"
    }
   ],
   "source": [
    "null_draft_combine_stats = draft_combine_stats.isnull().sum()\n",
    "total_register = len(draft_combine_stats)\n",
    "null_result = null_draft_combine_stats[null_draft_combine_stats > 0]\n",
    "\n",
    "df_null_draft_combine_stats = pd.DataFrame({\n",
    "    \"Valores nulos\": null_result,\n",
    "    \"Total registros\": total_register,\n",
    "    \"Porcentaje\": (null_result / total_register * 100).round(2)\n",
    "})\n",
    "\n",
    "df_null_draft_combine_stats"
   ]
  },
  {
   "cell_type": "markdown",
   "id": "058928cc",
   "metadata": {},
   "source": [
    "### 2.2.2. Eliminacion de columnas con un porcentaje mayor al 75% de nulos"
   ]
  },
  {
   "cell_type": "code",
   "execution_count": 14,
   "id": "619d500e",
   "metadata": {},
   "outputs": [
    {
     "data": {
      "application/vnd.microsoft.datawrangler.viewer.v0+json": {
       "columns": [
        {
         "name": "index",
         "rawType": "object",
         "type": "string"
        },
        {
         "name": "Valores nulos",
         "rawType": "int64",
         "type": "integer"
        },
        {
         "name": "Total registros",
         "rawType": "int64",
         "type": "integer"
        },
        {
         "name": "Porcentaje",
         "rawType": "float64",
         "type": "float"
        }
       ],
       "conversionMethod": "pd.DataFrame",
       "ref": "02631ec6-7417-421b-bd89-43a15563a49e",
       "rows": [
        [
         "spot_fifteen_corner_left",
         "1128",
         "1202",
         "93.84"
        ],
        [
         "spot_fifteen_break_left",
         "1126",
         "1202",
         "93.68"
        ],
        [
         "spot_fifteen_top_key",
         "1126",
         "1202",
         "93.68"
        ],
        [
         "spot_fifteen_break_right",
         "1126",
         "1202",
         "93.68"
        ],
        [
         "spot_fifteen_corner_right",
         "1126",
         "1202",
         "93.68"
        ],
        [
         "spot_college_corner_left",
         "957",
         "1202",
         "79.62"
        ],
        [
         "spot_college_break_left",
         "1036",
         "1202",
         "86.19"
        ],
        [
         "spot_college_top_key",
         "1036",
         "1202",
         "86.19"
        ],
        [
         "spot_college_break_right",
         "1036",
         "1202",
         "86.19"
        ],
        [
         "spot_college_corner_right",
         "1036",
         "1202",
         "86.19"
        ],
        [
         "spot_nba_corner_left",
         "985",
         "1202",
         "81.95"
        ],
        [
         "spot_nba_break_left",
         "985",
         "1202",
         "81.95"
        ],
        [
         "spot_nba_top_key",
         "985",
         "1202",
         "81.95"
        ],
        [
         "spot_nba_break_right",
         "985",
         "1202",
         "81.95"
        ],
        [
         "spot_nba_corner_right",
         "985",
         "1202",
         "81.95"
        ],
        [
         "off_drib_fifteen_break_left",
         "1036",
         "1202",
         "86.19"
        ],
        [
         "off_drib_fifteen_top_key",
         "1036",
         "1202",
         "86.19"
        ],
        [
         "off_drib_fifteen_break_right",
         "1036",
         "1202",
         "86.19"
        ],
        [
         "off_drib_college_break_left",
         "1092",
         "1202",
         "90.85"
        ],
        [
         "off_drib_college_top_key",
         "1171",
         "1202",
         "97.42"
        ],
        [
         "off_drib_college_break_right",
         "1171",
         "1202",
         "97.42"
        ],
        [
         "on_move_fifteen",
         "1054",
         "1202",
         "87.69"
        ],
        [
         "on_move_college",
         "1086",
         "1202",
         "90.35"
        ]
       ],
       "shape": {
        "columns": 3,
        "rows": 23
       }
      },
      "text/html": [
       "<div>\n",
       "<style scoped>\n",
       "    .dataframe tbody tr th:only-of-type {\n",
       "        vertical-align: middle;\n",
       "    }\n",
       "\n",
       "    .dataframe tbody tr th {\n",
       "        vertical-align: top;\n",
       "    }\n",
       "\n",
       "    .dataframe thead th {\n",
       "        text-align: right;\n",
       "    }\n",
       "</style>\n",
       "<table border=\"1\" class=\"dataframe\">\n",
       "  <thead>\n",
       "    <tr style=\"text-align: right;\">\n",
       "      <th></th>\n",
       "      <th>Valores nulos</th>\n",
       "      <th>Total registros</th>\n",
       "      <th>Porcentaje</th>\n",
       "    </tr>\n",
       "  </thead>\n",
       "  <tbody>\n",
       "    <tr>\n",
       "      <th>spot_fifteen_corner_left</th>\n",
       "      <td>1128</td>\n",
       "      <td>1202</td>\n",
       "      <td>93.84</td>\n",
       "    </tr>\n",
       "    <tr>\n",
       "      <th>spot_fifteen_break_left</th>\n",
       "      <td>1126</td>\n",
       "      <td>1202</td>\n",
       "      <td>93.68</td>\n",
       "    </tr>\n",
       "    <tr>\n",
       "      <th>spot_fifteen_top_key</th>\n",
       "      <td>1126</td>\n",
       "      <td>1202</td>\n",
       "      <td>93.68</td>\n",
       "    </tr>\n",
       "    <tr>\n",
       "      <th>spot_fifteen_break_right</th>\n",
       "      <td>1126</td>\n",
       "      <td>1202</td>\n",
       "      <td>93.68</td>\n",
       "    </tr>\n",
       "    <tr>\n",
       "      <th>spot_fifteen_corner_right</th>\n",
       "      <td>1126</td>\n",
       "      <td>1202</td>\n",
       "      <td>93.68</td>\n",
       "    </tr>\n",
       "    <tr>\n",
       "      <th>spot_college_corner_left</th>\n",
       "      <td>957</td>\n",
       "      <td>1202</td>\n",
       "      <td>79.62</td>\n",
       "    </tr>\n",
       "    <tr>\n",
       "      <th>spot_college_break_left</th>\n",
       "      <td>1036</td>\n",
       "      <td>1202</td>\n",
       "      <td>86.19</td>\n",
       "    </tr>\n",
       "    <tr>\n",
       "      <th>spot_college_top_key</th>\n",
       "      <td>1036</td>\n",
       "      <td>1202</td>\n",
       "      <td>86.19</td>\n",
       "    </tr>\n",
       "    <tr>\n",
       "      <th>spot_college_break_right</th>\n",
       "      <td>1036</td>\n",
       "      <td>1202</td>\n",
       "      <td>86.19</td>\n",
       "    </tr>\n",
       "    <tr>\n",
       "      <th>spot_college_corner_right</th>\n",
       "      <td>1036</td>\n",
       "      <td>1202</td>\n",
       "      <td>86.19</td>\n",
       "    </tr>\n",
       "    <tr>\n",
       "      <th>spot_nba_corner_left</th>\n",
       "      <td>985</td>\n",
       "      <td>1202</td>\n",
       "      <td>81.95</td>\n",
       "    </tr>\n",
       "    <tr>\n",
       "      <th>spot_nba_break_left</th>\n",
       "      <td>985</td>\n",
       "      <td>1202</td>\n",
       "      <td>81.95</td>\n",
       "    </tr>\n",
       "    <tr>\n",
       "      <th>spot_nba_top_key</th>\n",
       "      <td>985</td>\n",
       "      <td>1202</td>\n",
       "      <td>81.95</td>\n",
       "    </tr>\n",
       "    <tr>\n",
       "      <th>spot_nba_break_right</th>\n",
       "      <td>985</td>\n",
       "      <td>1202</td>\n",
       "      <td>81.95</td>\n",
       "    </tr>\n",
       "    <tr>\n",
       "      <th>spot_nba_corner_right</th>\n",
       "      <td>985</td>\n",
       "      <td>1202</td>\n",
       "      <td>81.95</td>\n",
       "    </tr>\n",
       "    <tr>\n",
       "      <th>off_drib_fifteen_break_left</th>\n",
       "      <td>1036</td>\n",
       "      <td>1202</td>\n",
       "      <td>86.19</td>\n",
       "    </tr>\n",
       "    <tr>\n",
       "      <th>off_drib_fifteen_top_key</th>\n",
       "      <td>1036</td>\n",
       "      <td>1202</td>\n",
       "      <td>86.19</td>\n",
       "    </tr>\n",
       "    <tr>\n",
       "      <th>off_drib_fifteen_break_right</th>\n",
       "      <td>1036</td>\n",
       "      <td>1202</td>\n",
       "      <td>86.19</td>\n",
       "    </tr>\n",
       "    <tr>\n",
       "      <th>off_drib_college_break_left</th>\n",
       "      <td>1092</td>\n",
       "      <td>1202</td>\n",
       "      <td>90.85</td>\n",
       "    </tr>\n",
       "    <tr>\n",
       "      <th>off_drib_college_top_key</th>\n",
       "      <td>1171</td>\n",
       "      <td>1202</td>\n",
       "      <td>97.42</td>\n",
       "    </tr>\n",
       "    <tr>\n",
       "      <th>off_drib_college_break_right</th>\n",
       "      <td>1171</td>\n",
       "      <td>1202</td>\n",
       "      <td>97.42</td>\n",
       "    </tr>\n",
       "    <tr>\n",
       "      <th>on_move_fifteen</th>\n",
       "      <td>1054</td>\n",
       "      <td>1202</td>\n",
       "      <td>87.69</td>\n",
       "    </tr>\n",
       "    <tr>\n",
       "      <th>on_move_college</th>\n",
       "      <td>1086</td>\n",
       "      <td>1202</td>\n",
       "      <td>90.35</td>\n",
       "    </tr>\n",
       "  </tbody>\n",
       "</table>\n",
       "</div>"
      ],
      "text/plain": [
       "                              Valores nulos  Total registros  Porcentaje\n",
       "spot_fifteen_corner_left               1128             1202       93.84\n",
       "spot_fifteen_break_left                1126             1202       93.68\n",
       "spot_fifteen_top_key                   1126             1202       93.68\n",
       "spot_fifteen_break_right               1126             1202       93.68\n",
       "spot_fifteen_corner_right              1126             1202       93.68\n",
       "spot_college_corner_left                957             1202       79.62\n",
       "spot_college_break_left                1036             1202       86.19\n",
       "spot_college_top_key                   1036             1202       86.19\n",
       "spot_college_break_right               1036             1202       86.19\n",
       "spot_college_corner_right              1036             1202       86.19\n",
       "spot_nba_corner_left                    985             1202       81.95\n",
       "spot_nba_break_left                     985             1202       81.95\n",
       "spot_nba_top_key                        985             1202       81.95\n",
       "spot_nba_break_right                    985             1202       81.95\n",
       "spot_nba_corner_right                   985             1202       81.95\n",
       "off_drib_fifteen_break_left            1036             1202       86.19\n",
       "off_drib_fifteen_top_key               1036             1202       86.19\n",
       "off_drib_fifteen_break_right           1036             1202       86.19\n",
       "off_drib_college_break_left            1092             1202       90.85\n",
       "off_drib_college_top_key               1171             1202       97.42\n",
       "off_drib_college_break_right           1171             1202       97.42\n",
       "on_move_fifteen                        1054             1202       87.69\n",
       "on_move_college                        1086             1202       90.35"
      ]
     },
     "execution_count": 14,
     "metadata": {},
     "output_type": "execute_result"
    }
   ],
   "source": [
    "null_75 = df_null_draft_combine_stats[df_null_draft_combine_stats[\"Porcentaje\"] > 75]\n",
    "null_75"
   ]
  },
  {
   "cell_type": "code",
   "execution_count": 15,
   "id": "7b528c12",
   "metadata": {},
   "outputs": [],
   "source": [
    "delete_columns = list(null_75.index)\n",
    "draft_combine_stats.drop(columns=delete_columns, inplace=True)"
   ]
  },
  {
   "cell_type": "code",
   "execution_count": 16,
   "id": "43b1878b",
   "metadata": {},
   "outputs": [
    {
     "data": {
      "text/plain": [
       "(season                          0\n",
       " player_id                       0\n",
       " first_name                      0\n",
       " last_name                       0\n",
       " player_name                     0\n",
       " position                        5\n",
       " height_wo_shoes                49\n",
       " height_wo_shoes_ft_in          49\n",
       " height_w_shoes                194\n",
       " height_w_shoes_ft_in          194\n",
       " weight                         50\n",
       " wingspan                       49\n",
       " wingspan_ft_in                 49\n",
       " standing_reach                 50\n",
       " standing_reach_ft_in           50\n",
       " body_fat_pct                  199\n",
       " hand_length                   483\n",
       " hand_width                    483\n",
       " standing_vertical_leap        185\n",
       " max_vertical_leap             185\n",
       " lane_agility_time             194\n",
       " modified_lane_agility_time    791\n",
       " three_quarter_sprint          190\n",
       " bench_press                   394\n",
       " dtype: int64,\n",
       " (1202, 24))"
      ]
     },
     "execution_count": 16,
     "metadata": {},
     "output_type": "execute_result"
    }
   ],
   "source": [
    "draft_combine_stats.isnull().sum(), draft_combine_stats.shape"
   ]
  },
  {
   "cell_type": "markdown",
   "metadata": {},
   "source": [
    "### 2.2.3. Eliminacion de columnas que no se usaran"
   ]
  },
  {
   "cell_type": "code",
   "execution_count": 17,
   "id": "fcad26f6",
   "metadata": {},
   "outputs": [],
   "source": [
    "delete_columns = [\"height_w_shoes\", \"height_w_shoes_ft_in\", \"height_wo_shoes_ft_in\", \"modified_lane_agility_time\", \"standing_reach_ft_in\", \"wingspan_ft_in\", \"hand_length\", \"hand_width\"]\n",
    "\n",
    "draft_combine_stats.drop(delete_columns, axis=1, inplace=True)"
   ]
  },
  {
   "cell_type": "code",
   "execution_count": 18,
   "id": "831e3901",
   "metadata": {},
   "outputs": [
    {
     "data": {
      "application/vnd.microsoft.datawrangler.viewer.v0+json": {
       "columns": [
        {
         "name": "index",
         "rawType": "object",
         "type": "string"
        },
        {
         "name": "Valores nulos",
         "rawType": "int64",
         "type": "integer"
        },
        {
         "name": "Total registros",
         "rawType": "int64",
         "type": "integer"
        },
        {
         "name": "Porcentaje",
         "rawType": "float64",
         "type": "float"
        }
       ],
       "conversionMethod": "pd.DataFrame",
       "ref": "f6a547e4-1106-4751-8778-12e9b5b2cc9b",
       "rows": [
        [
         "position",
         "5",
         "1202",
         "0.42"
        ],
        [
         "height_wo_shoes",
         "49",
         "1202",
         "4.08"
        ],
        [
         "weight",
         "50",
         "1202",
         "4.16"
        ],
        [
         "wingspan",
         "49",
         "1202",
         "4.08"
        ],
        [
         "standing_reach",
         "50",
         "1202",
         "4.16"
        ],
        [
         "body_fat_pct",
         "199",
         "1202",
         "16.56"
        ],
        [
         "standing_vertical_leap",
         "185",
         "1202",
         "15.39"
        ],
        [
         "max_vertical_leap",
         "185",
         "1202",
         "15.39"
        ],
        [
         "lane_agility_time",
         "194",
         "1202",
         "16.14"
        ],
        [
         "three_quarter_sprint",
         "190",
         "1202",
         "15.81"
        ],
        [
         "bench_press",
         "394",
         "1202",
         "32.78"
        ]
       ],
       "shape": {
        "columns": 3,
        "rows": 11
       }
      },
      "text/html": [
       "<div>\n",
       "<style scoped>\n",
       "    .dataframe tbody tr th:only-of-type {\n",
       "        vertical-align: middle;\n",
       "    }\n",
       "\n",
       "    .dataframe tbody tr th {\n",
       "        vertical-align: top;\n",
       "    }\n",
       "\n",
       "    .dataframe thead th {\n",
       "        text-align: right;\n",
       "    }\n",
       "</style>\n",
       "<table border=\"1\" class=\"dataframe\">\n",
       "  <thead>\n",
       "    <tr style=\"text-align: right;\">\n",
       "      <th></th>\n",
       "      <th>Valores nulos</th>\n",
       "      <th>Total registros</th>\n",
       "      <th>Porcentaje</th>\n",
       "    </tr>\n",
       "  </thead>\n",
       "  <tbody>\n",
       "    <tr>\n",
       "      <th>position</th>\n",
       "      <td>5</td>\n",
       "      <td>1202</td>\n",
       "      <td>0.42</td>\n",
       "    </tr>\n",
       "    <tr>\n",
       "      <th>height_wo_shoes</th>\n",
       "      <td>49</td>\n",
       "      <td>1202</td>\n",
       "      <td>4.08</td>\n",
       "    </tr>\n",
       "    <tr>\n",
       "      <th>weight</th>\n",
       "      <td>50</td>\n",
       "      <td>1202</td>\n",
       "      <td>4.16</td>\n",
       "    </tr>\n",
       "    <tr>\n",
       "      <th>wingspan</th>\n",
       "      <td>49</td>\n",
       "      <td>1202</td>\n",
       "      <td>4.08</td>\n",
       "    </tr>\n",
       "    <tr>\n",
       "      <th>standing_reach</th>\n",
       "      <td>50</td>\n",
       "      <td>1202</td>\n",
       "      <td>4.16</td>\n",
       "    </tr>\n",
       "    <tr>\n",
       "      <th>body_fat_pct</th>\n",
       "      <td>199</td>\n",
       "      <td>1202</td>\n",
       "      <td>16.56</td>\n",
       "    </tr>\n",
       "    <tr>\n",
       "      <th>standing_vertical_leap</th>\n",
       "      <td>185</td>\n",
       "      <td>1202</td>\n",
       "      <td>15.39</td>\n",
       "    </tr>\n",
       "    <tr>\n",
       "      <th>max_vertical_leap</th>\n",
       "      <td>185</td>\n",
       "      <td>1202</td>\n",
       "      <td>15.39</td>\n",
       "    </tr>\n",
       "    <tr>\n",
       "      <th>lane_agility_time</th>\n",
       "      <td>194</td>\n",
       "      <td>1202</td>\n",
       "      <td>16.14</td>\n",
       "    </tr>\n",
       "    <tr>\n",
       "      <th>three_quarter_sprint</th>\n",
       "      <td>190</td>\n",
       "      <td>1202</td>\n",
       "      <td>15.81</td>\n",
       "    </tr>\n",
       "    <tr>\n",
       "      <th>bench_press</th>\n",
       "      <td>394</td>\n",
       "      <td>1202</td>\n",
       "      <td>32.78</td>\n",
       "    </tr>\n",
       "  </tbody>\n",
       "</table>\n",
       "</div>"
      ],
      "text/plain": [
       "                        Valores nulos  Total registros  Porcentaje\n",
       "position                            5             1202        0.42\n",
       "height_wo_shoes                    49             1202        4.08\n",
       "weight                             50             1202        4.16\n",
       "wingspan                           49             1202        4.08\n",
       "standing_reach                     50             1202        4.16\n",
       "body_fat_pct                      199             1202       16.56\n",
       "standing_vertical_leap            185             1202       15.39\n",
       "max_vertical_leap                 185             1202       15.39\n",
       "lane_agility_time                 194             1202       16.14\n",
       "three_quarter_sprint              190             1202       15.81\n",
       "bench_press                       394             1202       32.78"
      ]
     },
     "execution_count": 18,
     "metadata": {},
     "output_type": "execute_result"
    }
   ],
   "source": [
    "null_draft_combine_stats = draft_combine_stats.isnull().sum()\n",
    "total_register = len(draft_combine_stats)\n",
    "null_result = null_draft_combine_stats[null_draft_combine_stats > 0]\n",
    "\n",
    "df_null_draft_combine_stats = pd.DataFrame({\n",
    "    \"Valores nulos\": null_result,\n",
    "    \"Total registros\": total_register,\n",
    "    \"Porcentaje\": (null_result / total_register * 100).round(2)\n",
    "})\n",
    "\n",
    "df_null_draft_combine_stats"
   ]
  },
  {
   "cell_type": "markdown",
   "id": "8c6e133e",
   "metadata": {},
   "source": [
    "### 2.2.4. Eliminacion de filas nulas en las diferentes columnas"
   ]
  },
  {
   "cell_type": "code",
   "execution_count": 19,
   "id": "e7cdeb7d",
   "metadata": {},
   "outputs": [],
   "source": [
    "draft_combine_stats = draft_combine_stats.dropna(subset=['height_wo_shoes', 'weight', 'wingspan', 'standing_reach', 'body_fat_pct', 'standing_vertical_leap', 'max_vertical_leap', 'lane_agility_time', 'three_quarter_sprint', 'bench_press'])"
   ]
  },
  {
   "cell_type": "code",
   "execution_count": 20,
   "id": "0a55bfcb",
   "metadata": {},
   "outputs": [
    {
     "data": {
      "application/vnd.microsoft.datawrangler.viewer.v0+json": {
       "columns": [
        {
         "name": "index",
         "rawType": "object",
         "type": "string"
        },
        {
         "name": "Valores nulos",
         "rawType": "int64",
         "type": "integer"
        },
        {
         "name": "Total registros",
         "rawType": "int64",
         "type": "integer"
        },
        {
         "name": "Porcentaje",
         "rawType": "float64",
         "type": "float"
        }
       ],
       "conversionMethod": "pd.DataFrame",
       "ref": "068d23b7-ff89-4ed2-8618-b67b1b5dedfb",
       "rows": [],
       "shape": {
        "columns": 3,
        "rows": 0
       }
      },
      "text/html": [
       "<div>\n",
       "<style scoped>\n",
       "    .dataframe tbody tr th:only-of-type {\n",
       "        vertical-align: middle;\n",
       "    }\n",
       "\n",
       "    .dataframe tbody tr th {\n",
       "        vertical-align: top;\n",
       "    }\n",
       "\n",
       "    .dataframe thead th {\n",
       "        text-align: right;\n",
       "    }\n",
       "</style>\n",
       "<table border=\"1\" class=\"dataframe\">\n",
       "  <thead>\n",
       "    <tr style=\"text-align: right;\">\n",
       "      <th></th>\n",
       "      <th>Valores nulos</th>\n",
       "      <th>Total registros</th>\n",
       "      <th>Porcentaje</th>\n",
       "    </tr>\n",
       "  </thead>\n",
       "  <tbody>\n",
       "  </tbody>\n",
       "</table>\n",
       "</div>"
      ],
      "text/plain": [
       "Empty DataFrame\n",
       "Columns: [Valores nulos, Total registros, Porcentaje]\n",
       "Index: []"
      ]
     },
     "execution_count": 20,
     "metadata": {},
     "output_type": "execute_result"
    }
   ],
   "source": [
    "null_draft_combine_stats = draft_combine_stats.isnull().sum()\n",
    "total_register = len(draft_combine_stats)\n",
    "null_result = null_draft_combine_stats[null_draft_combine_stats > 0]\n",
    "\n",
    "df_null_draft_combine_stats = pd.DataFrame({\n",
    "    \"Valores nulos\": null_result,\n",
    "    \"Total registros\": total_register,\n",
    "    \"Porcentaje\": (null_result / total_register * 100).round(2)\n",
    "})\n",
    "\n",
    "df_null_draft_combine_stats"
   ]
  },
  {
   "cell_type": "markdown",
   "id": "99642047",
   "metadata": {},
   "source": [
    "## 2.3. Tabla draft_history"
   ]
  },
  {
   "cell_type": "markdown",
   "id": "9e957478",
   "metadata": {},
   "source": [
    "### 2.3.1. Lectura de nulos"
   ]
  },
  {
   "cell_type": "code",
   "execution_count": 21,
   "id": "1cf581e7",
   "metadata": {},
   "outputs": [
    {
     "data": {
      "text/plain": [
       "(person_id               0\n",
       " player_name             0\n",
       " season                  0\n",
       " round_number            0\n",
       " round_pick              0\n",
       " overall_pick            0\n",
       " draft_type              0\n",
       " team_id                 0\n",
       " team_city               0\n",
       " team_name               0\n",
       " team_abbreviation       0\n",
       " organization           19\n",
       " organization_type      19\n",
       " player_profile_flag     0\n",
       " dtype: int64,\n",
       " (7990, 14))"
      ]
     },
     "execution_count": 21,
     "metadata": {},
     "output_type": "execute_result"
    }
   ],
   "source": [
    "draft_history.isnull().sum(), draft_history.shape"
   ]
  },
  {
   "cell_type": "code",
   "execution_count": 22,
   "id": "6a980ee4",
   "metadata": {},
   "outputs": [
    {
     "data": {
      "application/vnd.microsoft.datawrangler.viewer.v0+json": {
       "columns": [
        {
         "name": "index",
         "rawType": "object",
         "type": "string"
        },
        {
         "name": "Valores nulos",
         "rawType": "int64",
         "type": "integer"
        },
        {
         "name": "Total registros",
         "rawType": "int64",
         "type": "integer"
        },
        {
         "name": "Porcentaje",
         "rawType": "float64",
         "type": "float"
        }
       ],
       "conversionMethod": "pd.DataFrame",
       "ref": "c1cbf61d-fe6b-4897-99be-c8cc82ece870",
       "rows": [
        [
         "organization",
         "19",
         "7990",
         "0.24"
        ],
        [
         "organization_type",
         "19",
         "7990",
         "0.24"
        ]
       ],
       "shape": {
        "columns": 3,
        "rows": 2
       }
      },
      "text/html": [
       "<div>\n",
       "<style scoped>\n",
       "    .dataframe tbody tr th:only-of-type {\n",
       "        vertical-align: middle;\n",
       "    }\n",
       "\n",
       "    .dataframe tbody tr th {\n",
       "        vertical-align: top;\n",
       "    }\n",
       "\n",
       "    .dataframe thead th {\n",
       "        text-align: right;\n",
       "    }\n",
       "</style>\n",
       "<table border=\"1\" class=\"dataframe\">\n",
       "  <thead>\n",
       "    <tr style=\"text-align: right;\">\n",
       "      <th></th>\n",
       "      <th>Valores nulos</th>\n",
       "      <th>Total registros</th>\n",
       "      <th>Porcentaje</th>\n",
       "    </tr>\n",
       "  </thead>\n",
       "  <tbody>\n",
       "    <tr>\n",
       "      <th>organization</th>\n",
       "      <td>19</td>\n",
       "      <td>7990</td>\n",
       "      <td>0.24</td>\n",
       "    </tr>\n",
       "    <tr>\n",
       "      <th>organization_type</th>\n",
       "      <td>19</td>\n",
       "      <td>7990</td>\n",
       "      <td>0.24</td>\n",
       "    </tr>\n",
       "  </tbody>\n",
       "</table>\n",
       "</div>"
      ],
      "text/plain": [
       "                   Valores nulos  Total registros  Porcentaje\n",
       "organization                  19             7990        0.24\n",
       "organization_type             19             7990        0.24"
      ]
     },
     "execution_count": 22,
     "metadata": {},
     "output_type": "execute_result"
    }
   ],
   "source": [
    "null_draft_history = draft_history.isnull().sum()\n",
    "total_register = len(draft_history)\n",
    "null_result = null_draft_history[null_draft_history > 0]\n",
    "\n",
    "df_null_draft_history = pd.DataFrame({\n",
    "    \"Valores nulos\": null_result,\n",
    "    \"Total registros\": total_register,\n",
    "    \"Porcentaje\": (null_result / total_register * 100).round(2)\n",
    "})\n",
    "\n",
    "df_null_draft_history"
   ]
  },
  {
   "cell_type": "markdown",
   "id": "5ad6e58f",
   "metadata": {},
   "source": [
    "### 2.3.2. Filtro por fecha"
   ]
  },
  {
   "cell_type": "code",
   "execution_count": 23,
   "id": "b1b7a448",
   "metadata": {},
   "outputs": [],
   "source": [
    "draft_history = draft_history[draft_history[\"season\"] >= 2000]"
   ]
  },
  {
   "cell_type": "markdown",
   "id": "a96b319a",
   "metadata": {},
   "source": [
    "### 2.3.3. Eliminacion de filas nulas en las diferentes columnas"
   ]
  },
  {
   "cell_type": "code",
   "execution_count": 24,
   "id": "889000ef",
   "metadata": {},
   "outputs": [],
   "source": [
    "draft_history = draft_history.dropna(subset=['organization', 'organization_type'])"
   ]
  },
  {
   "cell_type": "code",
   "execution_count": 25,
   "id": "4e81e1d5",
   "metadata": {},
   "outputs": [
    {
     "data": {
      "application/vnd.microsoft.datawrangler.viewer.v0+json": {
       "columns": [
        {
         "name": "index",
         "rawType": "object",
         "type": "string"
        },
        {
         "name": "Valores nulos",
         "rawType": "int64",
         "type": "integer"
        },
        {
         "name": "Total registros",
         "rawType": "int64",
         "type": "integer"
        },
        {
         "name": "Porcentaje",
         "rawType": "float64",
         "type": "float"
        }
       ],
       "conversionMethod": "pd.DataFrame",
       "ref": "afaccbf5-aa5b-49bf-b8b0-88f358cad886",
       "rows": [],
       "shape": {
        "columns": 3,
        "rows": 0
       }
      },
      "text/html": [
       "<div>\n",
       "<style scoped>\n",
       "    .dataframe tbody tr th:only-of-type {\n",
       "        vertical-align: middle;\n",
       "    }\n",
       "\n",
       "    .dataframe tbody tr th {\n",
       "        vertical-align: top;\n",
       "    }\n",
       "\n",
       "    .dataframe thead th {\n",
       "        text-align: right;\n",
       "    }\n",
       "</style>\n",
       "<table border=\"1\" class=\"dataframe\">\n",
       "  <thead>\n",
       "    <tr style=\"text-align: right;\">\n",
       "      <th></th>\n",
       "      <th>Valores nulos</th>\n",
       "      <th>Total registros</th>\n",
       "      <th>Porcentaje</th>\n",
       "    </tr>\n",
       "  </thead>\n",
       "  <tbody>\n",
       "  </tbody>\n",
       "</table>\n",
       "</div>"
      ],
      "text/plain": [
       "Empty DataFrame\n",
       "Columns: [Valores nulos, Total registros, Porcentaje]\n",
       "Index: []"
      ]
     },
     "execution_count": 25,
     "metadata": {},
     "output_type": "execute_result"
    }
   ],
   "source": [
    "null_draft_history = draft_history.isnull().sum()\n",
    "total_register = len(draft_history)\n",
    "null_result = null_draft_history[null_draft_history > 0]\n",
    "\n",
    "df_null_draft_history = pd.DataFrame({\n",
    "    \"Valores nulos\": null_result,\n",
    "    \"Total registros\": total_register,\n",
    "    \"Porcentaje\": (null_result / total_register * 100).round(2)\n",
    "})\n",
    "\n",
    "df_null_draft_history"
   ]
  },
  {
   "cell_type": "markdown",
   "id": "d2986512",
   "metadata": {},
   "source": [
    "## 2.4. Tabla game_info"
   ]
  },
  {
   "cell_type": "markdown",
   "id": "9fee4e96",
   "metadata": {},
   "source": [
    "### 2.4.1. Lectura de nulos"
   ]
  },
  {
   "cell_type": "code",
   "execution_count": 26,
   "id": "0d94b46f",
   "metadata": {},
   "outputs": [
    {
     "data": {
      "text/plain": [
       "(game_id           0\n",
       " game_date         0\n",
       " attendance     5380\n",
       " game_time     28111\n",
       " dtype: int64,\n",
       " (58053, 4))"
      ]
     },
     "execution_count": 26,
     "metadata": {},
     "output_type": "execute_result"
    }
   ],
   "source": [
    "game_info.isnull().sum(), game_info.shape"
   ]
  },
  {
   "cell_type": "code",
   "execution_count": 27,
   "id": "896b0c8f",
   "metadata": {},
   "outputs": [
    {
     "data": {
      "application/vnd.microsoft.datawrangler.viewer.v0+json": {
       "columns": [
        {
         "name": "index",
         "rawType": "object",
         "type": "string"
        },
        {
         "name": "Valores nulos",
         "rawType": "int64",
         "type": "integer"
        },
        {
         "name": "Total registros",
         "rawType": "int64",
         "type": "integer"
        },
        {
         "name": "Porcentaje",
         "rawType": "float64",
         "type": "float"
        }
       ],
       "conversionMethod": "pd.DataFrame",
       "ref": "6425b453-afaf-443b-9802-4fc3b34e824c",
       "rows": [
        [
         "attendance",
         "5380",
         "58053",
         "9.27"
        ],
        [
         "game_time",
         "28111",
         "58053",
         "48.42"
        ]
       ],
       "shape": {
        "columns": 3,
        "rows": 2
       }
      },
      "text/html": [
       "<div>\n",
       "<style scoped>\n",
       "    .dataframe tbody tr th:only-of-type {\n",
       "        vertical-align: middle;\n",
       "    }\n",
       "\n",
       "    .dataframe tbody tr th {\n",
       "        vertical-align: top;\n",
       "    }\n",
       "\n",
       "    .dataframe thead th {\n",
       "        text-align: right;\n",
       "    }\n",
       "</style>\n",
       "<table border=\"1\" class=\"dataframe\">\n",
       "  <thead>\n",
       "    <tr style=\"text-align: right;\">\n",
       "      <th></th>\n",
       "      <th>Valores nulos</th>\n",
       "      <th>Total registros</th>\n",
       "      <th>Porcentaje</th>\n",
       "    </tr>\n",
       "  </thead>\n",
       "  <tbody>\n",
       "    <tr>\n",
       "      <th>attendance</th>\n",
       "      <td>5380</td>\n",
       "      <td>58053</td>\n",
       "      <td>9.27</td>\n",
       "    </tr>\n",
       "    <tr>\n",
       "      <th>game_time</th>\n",
       "      <td>28111</td>\n",
       "      <td>58053</td>\n",
       "      <td>48.42</td>\n",
       "    </tr>\n",
       "  </tbody>\n",
       "</table>\n",
       "</div>"
      ],
      "text/plain": [
       "            Valores nulos  Total registros  Porcentaje\n",
       "attendance           5380            58053        9.27\n",
       "game_time           28111            58053       48.42"
      ]
     },
     "execution_count": 27,
     "metadata": {},
     "output_type": "execute_result"
    }
   ],
   "source": [
    "null_game_info = game_info.isnull().sum()\n",
    "total_register = len(game_info)\n",
    "null_result = null_game_info[null_game_info > 0]\n",
    "\n",
    "df_null_game_info = pd.DataFrame({\n",
    "    \"Valores nulos\": null_result,\n",
    "    \"Total registros\": total_register,\n",
    "    \"Porcentaje\": (null_result / total_register * 100).round(2)\n",
    "})\n",
    "\n",
    "df_null_game_info"
   ]
  },
  {
   "cell_type": "markdown",
   "id": "b3386be3",
   "metadata": {},
   "source": [
    "### 2.4.2. Filtro por fechas del año del 2000 en adelante"
   ]
  },
  {
   "cell_type": "code",
   "execution_count": 28,
   "id": "33355c3c",
   "metadata": {},
   "outputs": [],
   "source": [
    "game_info_2000_plus = game_info[game_info[\"game_date\"] >= \"2000-01-01\"]"
   ]
  },
  {
   "cell_type": "code",
   "execution_count": 29,
   "id": "9ff985c4",
   "metadata": {},
   "outputs": [
    {
     "data": {
      "application/vnd.microsoft.datawrangler.viewer.v0+json": {
       "columns": [
        {
         "name": "index",
         "rawType": "object",
         "type": "string"
        },
        {
         "name": "Valores nulos",
         "rawType": "int64",
         "type": "integer"
        },
        {
         "name": "Total registros",
         "rawType": "int64",
         "type": "integer"
        },
        {
         "name": "Porcentaje",
         "rawType": "float64",
         "type": "float"
        }
       ],
       "conversionMethod": "pd.DataFrame",
       "ref": "1441fb44-c803-4c03-b4f1-6e0bf7b12fcf",
       "rows": [
        [
         "attendance",
         "876",
         "27457",
         "3.19"
        ],
        [
         "game_time",
         "843",
         "27457",
         "3.07"
        ]
       ],
       "shape": {
        "columns": 3,
        "rows": 2
       }
      },
      "text/html": [
       "<div>\n",
       "<style scoped>\n",
       "    .dataframe tbody tr th:only-of-type {\n",
       "        vertical-align: middle;\n",
       "    }\n",
       "\n",
       "    .dataframe tbody tr th {\n",
       "        vertical-align: top;\n",
       "    }\n",
       "\n",
       "    .dataframe thead th {\n",
       "        text-align: right;\n",
       "    }\n",
       "</style>\n",
       "<table border=\"1\" class=\"dataframe\">\n",
       "  <thead>\n",
       "    <tr style=\"text-align: right;\">\n",
       "      <th></th>\n",
       "      <th>Valores nulos</th>\n",
       "      <th>Total registros</th>\n",
       "      <th>Porcentaje</th>\n",
       "    </tr>\n",
       "  </thead>\n",
       "  <tbody>\n",
       "    <tr>\n",
       "      <th>attendance</th>\n",
       "      <td>876</td>\n",
       "      <td>27457</td>\n",
       "      <td>3.19</td>\n",
       "    </tr>\n",
       "    <tr>\n",
       "      <th>game_time</th>\n",
       "      <td>843</td>\n",
       "      <td>27457</td>\n",
       "      <td>3.07</td>\n",
       "    </tr>\n",
       "  </tbody>\n",
       "</table>\n",
       "</div>"
      ],
      "text/plain": [
       "            Valores nulos  Total registros  Porcentaje\n",
       "attendance            876            27457        3.19\n",
       "game_time             843            27457        3.07"
      ]
     },
     "execution_count": 29,
     "metadata": {},
     "output_type": "execute_result"
    }
   ],
   "source": [
    "null_game_info_2000_plus = game_info_2000_plus.isnull().sum()\n",
    "total_register = len(game_info_2000_plus)\n",
    "null_result = null_game_info_2000_plus[null_game_info_2000_plus > 0]\n",
    "\n",
    "df_null_game_info_2000_plus = pd.DataFrame({\n",
    "    \"Valores nulos\": null_result,\n",
    "    \"Total registros\": total_register,\n",
    "    \"Porcentaje\": (null_result / total_register * 100).round(2)\n",
    "})\n",
    "\n",
    "df_null_game_info_2000_plus"
   ]
  },
  {
   "cell_type": "markdown",
   "id": "3ec034a2",
   "metadata": {},
   "source": [
    "### 2.4.3. Eliminacion de columnas innecesarias"
   ]
  },
  {
   "cell_type": "code",
   "execution_count": 114,
   "id": "5386b978",
   "metadata": {},
   "outputs": [
    {
     "ename": "KeyError",
     "evalue": "\"['attendance', 'game_time'] not found in axis\"",
     "output_type": "error",
     "traceback": [
      "\u001b[1;31m---------------------------------------------------------------------------\u001b[0m",
      "\u001b[1;31mKeyError\u001b[0m                                  Traceback (most recent call last)",
      "Cell \u001b[1;32mIn[114], line 3\u001b[0m\n\u001b[0;32m      1\u001b[0m delete_columns \u001b[38;5;241m=\u001b[39m [\u001b[38;5;124m'\u001b[39m\u001b[38;5;124mattendance\u001b[39m\u001b[38;5;124m'\u001b[39m, \u001b[38;5;124m'\u001b[39m\u001b[38;5;124mgame_time\u001b[39m\u001b[38;5;124m'\u001b[39m]\n\u001b[1;32m----> 3\u001b[0m game_info_2000_plus \u001b[38;5;241m=\u001b[39m \u001b[43mgame_info_2000_plus\u001b[49m\u001b[38;5;241;43m.\u001b[39;49m\u001b[43mdrop\u001b[49m\u001b[43m(\u001b[49m\u001b[43mdelete_columns\u001b[49m\u001b[43m,\u001b[49m\u001b[43m \u001b[49m\u001b[43maxis\u001b[49m\u001b[38;5;241;43m=\u001b[39;49m\u001b[38;5;241;43m1\u001b[39;49m\u001b[43m,\u001b[49m\u001b[43m \u001b[49m\u001b[43minplace\u001b[49m\u001b[38;5;241;43m=\u001b[39;49m\u001b[38;5;28;43;01mTrue\u001b[39;49;00m\u001b[43m)\u001b[49m\n",
      "File \u001b[1;32mc:\\Users\\Usuario\\AppData\\Local\\Programs\\Python\\Python312\\Lib\\site-packages\\pandas\\core\\frame.py:5581\u001b[0m, in \u001b[0;36mDataFrame.drop\u001b[1;34m(self, labels, axis, index, columns, level, inplace, errors)\u001b[0m\n\u001b[0;32m   5433\u001b[0m \u001b[38;5;28;01mdef\u001b[39;00m \u001b[38;5;21mdrop\u001b[39m(\n\u001b[0;32m   5434\u001b[0m     \u001b[38;5;28mself\u001b[39m,\n\u001b[0;32m   5435\u001b[0m     labels: IndexLabel \u001b[38;5;241m|\u001b[39m \u001b[38;5;28;01mNone\u001b[39;00m \u001b[38;5;241m=\u001b[39m \u001b[38;5;28;01mNone\u001b[39;00m,\n\u001b[1;32m   (...)\u001b[0m\n\u001b[0;32m   5442\u001b[0m     errors: IgnoreRaise \u001b[38;5;241m=\u001b[39m \u001b[38;5;124m\"\u001b[39m\u001b[38;5;124mraise\u001b[39m\u001b[38;5;124m\"\u001b[39m,\n\u001b[0;32m   5443\u001b[0m ) \u001b[38;5;241m-\u001b[39m\u001b[38;5;241m>\u001b[39m DataFrame \u001b[38;5;241m|\u001b[39m \u001b[38;5;28;01mNone\u001b[39;00m:\n\u001b[0;32m   5444\u001b[0m \u001b[38;5;250m    \u001b[39m\u001b[38;5;124;03m\"\"\"\u001b[39;00m\n\u001b[0;32m   5445\u001b[0m \u001b[38;5;124;03m    Drop specified labels from rows or columns.\u001b[39;00m\n\u001b[0;32m   5446\u001b[0m \n\u001b[1;32m   (...)\u001b[0m\n\u001b[0;32m   5579\u001b[0m \u001b[38;5;124;03m            weight  1.0     0.8\u001b[39;00m\n\u001b[0;32m   5580\u001b[0m \u001b[38;5;124;03m    \"\"\"\u001b[39;00m\n\u001b[1;32m-> 5581\u001b[0m     \u001b[38;5;28;01mreturn\u001b[39;00m \u001b[38;5;28;43msuper\u001b[39;49m\u001b[43m(\u001b[49m\u001b[43m)\u001b[49m\u001b[38;5;241;43m.\u001b[39;49m\u001b[43mdrop\u001b[49m\u001b[43m(\u001b[49m\n\u001b[0;32m   5582\u001b[0m \u001b[43m        \u001b[49m\u001b[43mlabels\u001b[49m\u001b[38;5;241;43m=\u001b[39;49m\u001b[43mlabels\u001b[49m\u001b[43m,\u001b[49m\n\u001b[0;32m   5583\u001b[0m \u001b[43m        \u001b[49m\u001b[43maxis\u001b[49m\u001b[38;5;241;43m=\u001b[39;49m\u001b[43maxis\u001b[49m\u001b[43m,\u001b[49m\n\u001b[0;32m   5584\u001b[0m \u001b[43m        \u001b[49m\u001b[43mindex\u001b[49m\u001b[38;5;241;43m=\u001b[39;49m\u001b[43mindex\u001b[49m\u001b[43m,\u001b[49m\n\u001b[0;32m   5585\u001b[0m \u001b[43m        \u001b[49m\u001b[43mcolumns\u001b[49m\u001b[38;5;241;43m=\u001b[39;49m\u001b[43mcolumns\u001b[49m\u001b[43m,\u001b[49m\n\u001b[0;32m   5586\u001b[0m \u001b[43m        \u001b[49m\u001b[43mlevel\u001b[49m\u001b[38;5;241;43m=\u001b[39;49m\u001b[43mlevel\u001b[49m\u001b[43m,\u001b[49m\n\u001b[0;32m   5587\u001b[0m \u001b[43m        \u001b[49m\u001b[43minplace\u001b[49m\u001b[38;5;241;43m=\u001b[39;49m\u001b[43minplace\u001b[49m\u001b[43m,\u001b[49m\n\u001b[0;32m   5588\u001b[0m \u001b[43m        \u001b[49m\u001b[43merrors\u001b[49m\u001b[38;5;241;43m=\u001b[39;49m\u001b[43merrors\u001b[49m\u001b[43m,\u001b[49m\n\u001b[0;32m   5589\u001b[0m \u001b[43m    \u001b[49m\u001b[43m)\u001b[49m\n",
      "File \u001b[1;32mc:\\Users\\Usuario\\AppData\\Local\\Programs\\Python\\Python312\\Lib\\site-packages\\pandas\\core\\generic.py:4788\u001b[0m, in \u001b[0;36mNDFrame.drop\u001b[1;34m(self, labels, axis, index, columns, level, inplace, errors)\u001b[0m\n\u001b[0;32m   4786\u001b[0m \u001b[38;5;28;01mfor\u001b[39;00m axis, labels \u001b[38;5;129;01min\u001b[39;00m axes\u001b[38;5;241m.\u001b[39mitems():\n\u001b[0;32m   4787\u001b[0m     \u001b[38;5;28;01mif\u001b[39;00m labels \u001b[38;5;129;01mis\u001b[39;00m \u001b[38;5;129;01mnot\u001b[39;00m \u001b[38;5;28;01mNone\u001b[39;00m:\n\u001b[1;32m-> 4788\u001b[0m         obj \u001b[38;5;241m=\u001b[39m \u001b[43mobj\u001b[49m\u001b[38;5;241;43m.\u001b[39;49m\u001b[43m_drop_axis\u001b[49m\u001b[43m(\u001b[49m\u001b[43mlabels\u001b[49m\u001b[43m,\u001b[49m\u001b[43m \u001b[49m\u001b[43maxis\u001b[49m\u001b[43m,\u001b[49m\u001b[43m \u001b[49m\u001b[43mlevel\u001b[49m\u001b[38;5;241;43m=\u001b[39;49m\u001b[43mlevel\u001b[49m\u001b[43m,\u001b[49m\u001b[43m \u001b[49m\u001b[43merrors\u001b[49m\u001b[38;5;241;43m=\u001b[39;49m\u001b[43merrors\u001b[49m\u001b[43m)\u001b[49m\n\u001b[0;32m   4790\u001b[0m \u001b[38;5;28;01mif\u001b[39;00m inplace:\n\u001b[0;32m   4791\u001b[0m     \u001b[38;5;28mself\u001b[39m\u001b[38;5;241m.\u001b[39m_update_inplace(obj)\n",
      "File \u001b[1;32mc:\\Users\\Usuario\\AppData\\Local\\Programs\\Python\\Python312\\Lib\\site-packages\\pandas\\core\\generic.py:4830\u001b[0m, in \u001b[0;36mNDFrame._drop_axis\u001b[1;34m(self, labels, axis, level, errors, only_slice)\u001b[0m\n\u001b[0;32m   4828\u001b[0m         new_axis \u001b[38;5;241m=\u001b[39m axis\u001b[38;5;241m.\u001b[39mdrop(labels, level\u001b[38;5;241m=\u001b[39mlevel, errors\u001b[38;5;241m=\u001b[39merrors)\n\u001b[0;32m   4829\u001b[0m     \u001b[38;5;28;01melse\u001b[39;00m:\n\u001b[1;32m-> 4830\u001b[0m         new_axis \u001b[38;5;241m=\u001b[39m \u001b[43maxis\u001b[49m\u001b[38;5;241;43m.\u001b[39;49m\u001b[43mdrop\u001b[49m\u001b[43m(\u001b[49m\u001b[43mlabels\u001b[49m\u001b[43m,\u001b[49m\u001b[43m \u001b[49m\u001b[43merrors\u001b[49m\u001b[38;5;241;43m=\u001b[39;49m\u001b[43merrors\u001b[49m\u001b[43m)\u001b[49m\n\u001b[0;32m   4831\u001b[0m     indexer \u001b[38;5;241m=\u001b[39m axis\u001b[38;5;241m.\u001b[39mget_indexer(new_axis)\n\u001b[0;32m   4833\u001b[0m \u001b[38;5;66;03m# Case for non-unique axis\u001b[39;00m\n\u001b[0;32m   4834\u001b[0m \u001b[38;5;28;01melse\u001b[39;00m:\n",
      "File \u001b[1;32mc:\\Users\\Usuario\\AppData\\Local\\Programs\\Python\\Python312\\Lib\\site-packages\\pandas\\core\\indexes\\base.py:7070\u001b[0m, in \u001b[0;36mIndex.drop\u001b[1;34m(self, labels, errors)\u001b[0m\n\u001b[0;32m   7068\u001b[0m \u001b[38;5;28;01mif\u001b[39;00m mask\u001b[38;5;241m.\u001b[39many():\n\u001b[0;32m   7069\u001b[0m     \u001b[38;5;28;01mif\u001b[39;00m errors \u001b[38;5;241m!=\u001b[39m \u001b[38;5;124m\"\u001b[39m\u001b[38;5;124mignore\u001b[39m\u001b[38;5;124m\"\u001b[39m:\n\u001b[1;32m-> 7070\u001b[0m         \u001b[38;5;28;01mraise\u001b[39;00m \u001b[38;5;167;01mKeyError\u001b[39;00m(\u001b[38;5;124mf\u001b[39m\u001b[38;5;124m\"\u001b[39m\u001b[38;5;132;01m{\u001b[39;00mlabels[mask]\u001b[38;5;241m.\u001b[39mtolist()\u001b[38;5;132;01m}\u001b[39;00m\u001b[38;5;124m not found in axis\u001b[39m\u001b[38;5;124m\"\u001b[39m)\n\u001b[0;32m   7071\u001b[0m     indexer \u001b[38;5;241m=\u001b[39m indexer[\u001b[38;5;241m~\u001b[39mmask]\n\u001b[0;32m   7072\u001b[0m \u001b[38;5;28;01mreturn\u001b[39;00m \u001b[38;5;28mself\u001b[39m\u001b[38;5;241m.\u001b[39mdelete(indexer)\n",
      "\u001b[1;31mKeyError\u001b[0m: \"['attendance', 'game_time'] not found in axis\""
     ]
    }
   ],
   "source": [
    "delete_columns = ['attendance', 'game_time']\n",
    "\n",
    "game_info_2000_plus = game_info_2000_plus.drop(delete_columns, axis=1, inplace=True)"
   ]
  },
  {
   "cell_type": "code",
   "execution_count": 31,
   "id": "b67d6c82",
   "metadata": {},
   "outputs": [
    {
     "data": {
      "application/vnd.microsoft.datawrangler.viewer.v0+json": {
       "columns": [
        {
         "name": "index",
         "rawType": "object",
         "type": "string"
        },
        {
         "name": "Valores nulos",
         "rawType": "int64",
         "type": "integer"
        },
        {
         "name": "Total registros",
         "rawType": "int64",
         "type": "integer"
        },
        {
         "name": "Porcentaje",
         "rawType": "float64",
         "type": "float"
        }
       ],
       "conversionMethod": "pd.DataFrame",
       "ref": "7668927b-aa56-4744-a1d1-f6ceb5438145",
       "rows": [],
       "shape": {
        "columns": 3,
        "rows": 0
       }
      },
      "text/html": [
       "<div>\n",
       "<style scoped>\n",
       "    .dataframe tbody tr th:only-of-type {\n",
       "        vertical-align: middle;\n",
       "    }\n",
       "\n",
       "    .dataframe tbody tr th {\n",
       "        vertical-align: top;\n",
       "    }\n",
       "\n",
       "    .dataframe thead th {\n",
       "        text-align: right;\n",
       "    }\n",
       "</style>\n",
       "<table border=\"1\" class=\"dataframe\">\n",
       "  <thead>\n",
       "    <tr style=\"text-align: right;\">\n",
       "      <th></th>\n",
       "      <th>Valores nulos</th>\n",
       "      <th>Total registros</th>\n",
       "      <th>Porcentaje</th>\n",
       "    </tr>\n",
       "  </thead>\n",
       "  <tbody>\n",
       "  </tbody>\n",
       "</table>\n",
       "</div>"
      ],
      "text/plain": [
       "Empty DataFrame\n",
       "Columns: [Valores nulos, Total registros, Porcentaje]\n",
       "Index: []"
      ]
     },
     "execution_count": 31,
     "metadata": {},
     "output_type": "execute_result"
    }
   ],
   "source": [
    "null_game_info_2000_plus = game_info_2000_plus.isnull().sum()\n",
    "total_register = len(game_info_2000_plus)\n",
    "null_result = null_game_info_2000_plus[null_game_info_2000_plus > 0]\n",
    "\n",
    "df_null_game_info_2000_plus = pd.DataFrame({\n",
    "    \"Valores nulos\": null_result,\n",
    "    \"Total registros\": total_register,\n",
    "    \"Porcentaje\": (null_result / total_register * 100).round(2)\n",
    "})\n",
    "\n",
    "df_null_game_info_2000_plus"
   ]
  },
  {
   "cell_type": "markdown",
   "id": "73a4c7fa",
   "metadata": {},
   "source": [
    "## 2.5. Tabla game_summary"
   ]
  },
  {
   "cell_type": "markdown",
   "id": "246d8af0",
   "metadata": {},
   "source": [
    "### 2.5.1. Lectura de nulos"
   ]
  },
  {
   "cell_type": "code",
   "execution_count": 32,
   "id": "c360b6a1",
   "metadata": {},
   "outputs": [
    {
     "data": {
      "text/plain": [
       "(game_date_est                           0\n",
       " game_sequence                       25532\n",
       " game_id                                 0\n",
       " game_status_id                          0\n",
       " game_status_text                    25986\n",
       " gamecode                                0\n",
       " home_team_id                            0\n",
       " visitor_team_id                         0\n",
       " season                                  0\n",
       " live_period                             0\n",
       " live_pc_time                        56086\n",
       " natl_tv_broadcaster_abbreviation    51907\n",
       " live_period_time_bcast                  0\n",
       " wh_status                               0\n",
       " dtype: int64,\n",
       " (58110, 14))"
      ]
     },
     "execution_count": 32,
     "metadata": {},
     "output_type": "execute_result"
    }
   ],
   "source": [
    "game_summary.isnull().sum(), game_summary.shape"
   ]
  },
  {
   "cell_type": "code",
   "execution_count": 33,
   "id": "0fe9acf9",
   "metadata": {},
   "outputs": [
    {
     "data": {
      "application/vnd.microsoft.datawrangler.viewer.v0+json": {
       "columns": [
        {
         "name": "index",
         "rawType": "object",
         "type": "string"
        },
        {
         "name": "Valores nulos",
         "rawType": "int64",
         "type": "integer"
        },
        {
         "name": "Total registros",
         "rawType": "int64",
         "type": "integer"
        },
        {
         "name": "Porcentaje",
         "rawType": "float64",
         "type": "float"
        }
       ],
       "conversionMethod": "pd.DataFrame",
       "ref": "1034af93-23ae-4e46-9b62-9eae39c1845e",
       "rows": [
        [
         "game_sequence",
         "25532",
         "58110",
         "43.94"
        ],
        [
         "game_status_text",
         "25986",
         "58110",
         "44.72"
        ],
        [
         "live_pc_time",
         "56086",
         "58110",
         "96.52"
        ],
        [
         "natl_tv_broadcaster_abbreviation",
         "51907",
         "58110",
         "89.33"
        ]
       ],
       "shape": {
        "columns": 3,
        "rows": 4
       }
      },
      "text/html": [
       "<div>\n",
       "<style scoped>\n",
       "    .dataframe tbody tr th:only-of-type {\n",
       "        vertical-align: middle;\n",
       "    }\n",
       "\n",
       "    .dataframe tbody tr th {\n",
       "        vertical-align: top;\n",
       "    }\n",
       "\n",
       "    .dataframe thead th {\n",
       "        text-align: right;\n",
       "    }\n",
       "</style>\n",
       "<table border=\"1\" class=\"dataframe\">\n",
       "  <thead>\n",
       "    <tr style=\"text-align: right;\">\n",
       "      <th></th>\n",
       "      <th>Valores nulos</th>\n",
       "      <th>Total registros</th>\n",
       "      <th>Porcentaje</th>\n",
       "    </tr>\n",
       "  </thead>\n",
       "  <tbody>\n",
       "    <tr>\n",
       "      <th>game_sequence</th>\n",
       "      <td>25532</td>\n",
       "      <td>58110</td>\n",
       "      <td>43.94</td>\n",
       "    </tr>\n",
       "    <tr>\n",
       "      <th>game_status_text</th>\n",
       "      <td>25986</td>\n",
       "      <td>58110</td>\n",
       "      <td>44.72</td>\n",
       "    </tr>\n",
       "    <tr>\n",
       "      <th>live_pc_time</th>\n",
       "      <td>56086</td>\n",
       "      <td>58110</td>\n",
       "      <td>96.52</td>\n",
       "    </tr>\n",
       "    <tr>\n",
       "      <th>natl_tv_broadcaster_abbreviation</th>\n",
       "      <td>51907</td>\n",
       "      <td>58110</td>\n",
       "      <td>89.33</td>\n",
       "    </tr>\n",
       "  </tbody>\n",
       "</table>\n",
       "</div>"
      ],
      "text/plain": [
       "                                  Valores nulos  Total registros  Porcentaje\n",
       "game_sequence                             25532            58110       43.94\n",
       "game_status_text                          25986            58110       44.72\n",
       "live_pc_time                              56086            58110       96.52\n",
       "natl_tv_broadcaster_abbreviation          51907            58110       89.33"
      ]
     },
     "execution_count": 33,
     "metadata": {},
     "output_type": "execute_result"
    }
   ],
   "source": [
    "null_game_summary = game_summary.isnull().sum()\n",
    "total_register = len(game_summary)\n",
    "null_result = null_game_summary[null_game_summary > 0]\n",
    "\n",
    "df_null_game_summary = pd.DataFrame({\n",
    "    \"Valores nulos\": null_result,\n",
    "    \"Total registros\": total_register,\n",
    "    \"Porcentaje\": (null_result / total_register * 100).round(2)\n",
    "})\n",
    "\n",
    "df_null_game_summary"
   ]
  },
  {
   "cell_type": "markdown",
   "id": "27d33ce3",
   "metadata": {},
   "source": [
    "### 2.5.2. Filtro por el año 2000 en adelante"
   ]
  },
  {
   "cell_type": "code",
   "execution_count": 34,
   "id": "4c077ed3",
   "metadata": {},
   "outputs": [],
   "source": [
    "game_summary = game_summary[game_summary[\"game_date_est\"] >= \"2000-01-01\"]"
   ]
  },
  {
   "cell_type": "code",
   "execution_count": 35,
   "id": "6408ced9",
   "metadata": {},
   "outputs": [
    {
     "data": {
      "application/vnd.microsoft.datawrangler.viewer.v0+json": {
       "columns": [
        {
         "name": "index",
         "rawType": "object",
         "type": "string"
        },
        {
         "name": "Valores nulos",
         "rawType": "int64",
         "type": "integer"
        },
        {
         "name": "Total registros",
         "rawType": "int64",
         "type": "integer"
        },
        {
         "name": "Porcentaje",
         "rawType": "float64",
         "type": "float"
        }
       ],
       "conversionMethod": "pd.DataFrame",
       "ref": "31213e8c-3744-48ab-94af-914f62325d68",
       "rows": [
        [
         "live_pc_time",
         "25490",
         "27514",
         "92.64"
        ],
        [
         "natl_tv_broadcaster_abbreviation",
         "21311",
         "27514",
         "77.46"
        ]
       ],
       "shape": {
        "columns": 3,
        "rows": 2
       }
      },
      "text/html": [
       "<div>\n",
       "<style scoped>\n",
       "    .dataframe tbody tr th:only-of-type {\n",
       "        vertical-align: middle;\n",
       "    }\n",
       "\n",
       "    .dataframe tbody tr th {\n",
       "        vertical-align: top;\n",
       "    }\n",
       "\n",
       "    .dataframe thead th {\n",
       "        text-align: right;\n",
       "    }\n",
       "</style>\n",
       "<table border=\"1\" class=\"dataframe\">\n",
       "  <thead>\n",
       "    <tr style=\"text-align: right;\">\n",
       "      <th></th>\n",
       "      <th>Valores nulos</th>\n",
       "      <th>Total registros</th>\n",
       "      <th>Porcentaje</th>\n",
       "    </tr>\n",
       "  </thead>\n",
       "  <tbody>\n",
       "    <tr>\n",
       "      <th>live_pc_time</th>\n",
       "      <td>25490</td>\n",
       "      <td>27514</td>\n",
       "      <td>92.64</td>\n",
       "    </tr>\n",
       "    <tr>\n",
       "      <th>natl_tv_broadcaster_abbreviation</th>\n",
       "      <td>21311</td>\n",
       "      <td>27514</td>\n",
       "      <td>77.46</td>\n",
       "    </tr>\n",
       "  </tbody>\n",
       "</table>\n",
       "</div>"
      ],
      "text/plain": [
       "                                  Valores nulos  Total registros  Porcentaje\n",
       "live_pc_time                              25490            27514       92.64\n",
       "natl_tv_broadcaster_abbreviation          21311            27514       77.46"
      ]
     },
     "execution_count": 35,
     "metadata": {},
     "output_type": "execute_result"
    }
   ],
   "source": [
    "null_game_summary = game_summary.isnull().sum()\n",
    "total_register = len(game_summary)\n",
    "null_result = null_game_summary[null_game_summary > 0]\n",
    "\n",
    "df_null_game_summary = pd.DataFrame({\n",
    "    \"Valores nulos\": null_result,\n",
    "    \"Total registros\": total_register,\n",
    "    \"Porcentaje\": (null_result / total_register * 100).round(2)\n",
    "})\n",
    "\n",
    "df_null_game_summary"
   ]
  },
  {
   "cell_type": "markdown",
   "id": "0ffacc02",
   "metadata": {},
   "source": [
    "### 2.5.3. Eliminacion de nullos mayores al 75%"
   ]
  },
  {
   "cell_type": "code",
   "execution_count": 36,
   "id": "3cd83b94",
   "metadata": {},
   "outputs": [
    {
     "data": {
      "application/vnd.microsoft.datawrangler.viewer.v0+json": {
       "columns": [
        {
         "name": "index",
         "rawType": "object",
         "type": "string"
        },
        {
         "name": "Valores nulos",
         "rawType": "int64",
         "type": "integer"
        },
        {
         "name": "Total registros",
         "rawType": "int64",
         "type": "integer"
        },
        {
         "name": "Porcentaje",
         "rawType": "float64",
         "type": "float"
        }
       ],
       "conversionMethod": "pd.DataFrame",
       "ref": "72ff381f-6b1f-4eff-9359-8840ed96e305",
       "rows": [
        [
         "live_pc_time",
         "25490",
         "27514",
         "92.64"
        ],
        [
         "natl_tv_broadcaster_abbreviation",
         "21311",
         "27514",
         "77.46"
        ]
       ],
       "shape": {
        "columns": 3,
        "rows": 2
       }
      },
      "text/html": [
       "<div>\n",
       "<style scoped>\n",
       "    .dataframe tbody tr th:only-of-type {\n",
       "        vertical-align: middle;\n",
       "    }\n",
       "\n",
       "    .dataframe tbody tr th {\n",
       "        vertical-align: top;\n",
       "    }\n",
       "\n",
       "    .dataframe thead th {\n",
       "        text-align: right;\n",
       "    }\n",
       "</style>\n",
       "<table border=\"1\" class=\"dataframe\">\n",
       "  <thead>\n",
       "    <tr style=\"text-align: right;\">\n",
       "      <th></th>\n",
       "      <th>Valores nulos</th>\n",
       "      <th>Total registros</th>\n",
       "      <th>Porcentaje</th>\n",
       "    </tr>\n",
       "  </thead>\n",
       "  <tbody>\n",
       "    <tr>\n",
       "      <th>live_pc_time</th>\n",
       "      <td>25490</td>\n",
       "      <td>27514</td>\n",
       "      <td>92.64</td>\n",
       "    </tr>\n",
       "    <tr>\n",
       "      <th>natl_tv_broadcaster_abbreviation</th>\n",
       "      <td>21311</td>\n",
       "      <td>27514</td>\n",
       "      <td>77.46</td>\n",
       "    </tr>\n",
       "  </tbody>\n",
       "</table>\n",
       "</div>"
      ],
      "text/plain": [
       "                                  Valores nulos  Total registros  Porcentaje\n",
       "live_pc_time                              25490            27514       92.64\n",
       "natl_tv_broadcaster_abbreviation          21311            27514       77.46"
      ]
     },
     "execution_count": 36,
     "metadata": {},
     "output_type": "execute_result"
    }
   ],
   "source": [
    "null_75 = df_null_game_summary[df_null_game_summary[\"Porcentaje\"] > 75]\n",
    "null_75"
   ]
  },
  {
   "cell_type": "code",
   "execution_count": 37,
   "id": "bb0b5837",
   "metadata": {},
   "outputs": [],
   "source": [
    "delete_columns = list(null_75.index)\n",
    "game_summary.drop(columns=delete_columns, inplace=True)"
   ]
  },
  {
   "cell_type": "code",
   "execution_count": 38,
   "id": "6e98761c",
   "metadata": {},
   "outputs": [
    {
     "data": {
      "application/vnd.microsoft.datawrangler.viewer.v0+json": {
       "columns": [
        {
         "name": "index",
         "rawType": "object",
         "type": "string"
        },
        {
         "name": "Valores nulos",
         "rawType": "int64",
         "type": "integer"
        },
        {
         "name": "Total registros",
         "rawType": "int64",
         "type": "integer"
        },
        {
         "name": "Porcentaje",
         "rawType": "float64",
         "type": "float"
        }
       ],
       "conversionMethod": "pd.DataFrame",
       "ref": "3f21e6df-4c15-4f37-b87d-63531a4bb62a",
       "rows": [],
       "shape": {
        "columns": 3,
        "rows": 0
       }
      },
      "text/html": [
       "<div>\n",
       "<style scoped>\n",
       "    .dataframe tbody tr th:only-of-type {\n",
       "        vertical-align: middle;\n",
       "    }\n",
       "\n",
       "    .dataframe tbody tr th {\n",
       "        vertical-align: top;\n",
       "    }\n",
       "\n",
       "    .dataframe thead th {\n",
       "        text-align: right;\n",
       "    }\n",
       "</style>\n",
       "<table border=\"1\" class=\"dataframe\">\n",
       "  <thead>\n",
       "    <tr style=\"text-align: right;\">\n",
       "      <th></th>\n",
       "      <th>Valores nulos</th>\n",
       "      <th>Total registros</th>\n",
       "      <th>Porcentaje</th>\n",
       "    </tr>\n",
       "  </thead>\n",
       "  <tbody>\n",
       "  </tbody>\n",
       "</table>\n",
       "</div>"
      ],
      "text/plain": [
       "Empty DataFrame\n",
       "Columns: [Valores nulos, Total registros, Porcentaje]\n",
       "Index: []"
      ]
     },
     "execution_count": 38,
     "metadata": {},
     "output_type": "execute_result"
    }
   ],
   "source": [
    "null_game_summary = game_summary.isnull().sum()\n",
    "total_register = len(game_summary)\n",
    "null_result = null_game_summary[null_game_summary > 0]\n",
    "\n",
    "df_null_game_summary = pd.DataFrame({\n",
    "    \"Valores nulos\": null_result,\n",
    "    \"Total registros\": total_register,\n",
    "    \"Porcentaje\": (null_result / total_register * 100).round(2)\n",
    "})\n",
    "\n",
    "df_null_game_summary"
   ]
  },
  {
   "cell_type": "markdown",
   "id": "7fbacce0",
   "metadata": {},
   "source": [
    "## 2.6. Tabla game"
   ]
  },
  {
   "cell_type": "markdown",
   "id": "b91cdfeb",
   "metadata": {},
   "source": [
    "### 2.6.1. Lectura de nulos"
   ]
  },
  {
   "cell_type": "code",
   "execution_count": 39,
   "id": "433ce930",
   "metadata": {},
   "outputs": [
    {
     "data": {
      "text/plain": [
       "(season_id                     0\n",
       " team_id_home                  0\n",
       " team_abbreviation_home        0\n",
       " team_name_home                0\n",
       " game_id                       0\n",
       " game_date                     0\n",
       " matchup_home                  0\n",
       " wl_home                       2\n",
       " min                           0\n",
       " fgm_home                     13\n",
       " fga_home                  15447\n",
       " fg_pct_home               15490\n",
       " fg3m_home                 13218\n",
       " fg3a_home                 18683\n",
       " fg3_pct_home              19074\n",
       " ftm_home                     16\n",
       " fta_home                   3004\n",
       " ft_pct_home                3009\n",
       " oreb_home                 18936\n",
       " dreb_home                 18999\n",
       " reb_home                  15729\n",
       " ast_home                  15805\n",
       " stl_home                  18849\n",
       " blk_home                  18626\n",
       " tov_home                  18684\n",
       " pf_home                    2856\n",
       " pts_home                      0\n",
       " plus_minus_home               0\n",
       " video_available_home          0\n",
       " team_id_away                  0\n",
       " team_abbreviation_away        0\n",
       " team_name_away                0\n",
       " matchup_away                  0\n",
       " wl_away                       2\n",
       " fgm_away                     13\n",
       " fga_away                  15447\n",
       " fg_pct_away               15489\n",
       " fg3m_away                 13218\n",
       " fg3a_away                 18683\n",
       " fg3_pct_away              18962\n",
       " ftm_away                     13\n",
       " fta_away                   3004\n",
       " ft_pct_away                3006\n",
       " oreb_away                 18936\n",
       " dreb_away                 18998\n",
       " reb_away                  15725\n",
       " ast_away                  15801\n",
       " stl_away                  18849\n",
       " blk_away                  18625\n",
       " tov_away                  18685\n",
       " pf_away                    2851\n",
       " pts_away                      0\n",
       " plus_minus_away               0\n",
       " video_available_away          0\n",
       " season_type                   0\n",
       " dtype: int64,\n",
       " (65698, 55))"
      ]
     },
     "execution_count": 39,
     "metadata": {},
     "output_type": "execute_result"
    }
   ],
   "source": [
    "game.isnull().sum(), game.shape"
   ]
  },
  {
   "cell_type": "code",
   "execution_count": 40,
   "id": "b1f4744b",
   "metadata": {},
   "outputs": [
    {
     "data": {
      "application/vnd.microsoft.datawrangler.viewer.v0+json": {
       "columns": [
        {
         "name": "index",
         "rawType": "object",
         "type": "string"
        },
        {
         "name": "Valores nulos",
         "rawType": "int64",
         "type": "integer"
        },
        {
         "name": "Total registros",
         "rawType": "int64",
         "type": "integer"
        },
        {
         "name": "Porcentaje",
         "rawType": "float64",
         "type": "float"
        }
       ],
       "conversionMethod": "pd.DataFrame",
       "ref": "d11b52a5-cd39-4551-99aa-99068e51bf00",
       "rows": [
        [
         "wl_home",
         "2",
         "65698",
         "0.0"
        ],
        [
         "fgm_home",
         "13",
         "65698",
         "0.02"
        ],
        [
         "fga_home",
         "15447",
         "65698",
         "23.51"
        ],
        [
         "fg_pct_home",
         "15490",
         "65698",
         "23.58"
        ],
        [
         "fg3m_home",
         "13218",
         "65698",
         "20.12"
        ],
        [
         "fg3a_home",
         "18683",
         "65698",
         "28.44"
        ],
        [
         "fg3_pct_home",
         "19074",
         "65698",
         "29.03"
        ],
        [
         "ftm_home",
         "16",
         "65698",
         "0.02"
        ],
        [
         "fta_home",
         "3004",
         "65698",
         "4.57"
        ],
        [
         "ft_pct_home",
         "3009",
         "65698",
         "4.58"
        ],
        [
         "oreb_home",
         "18936",
         "65698",
         "28.82"
        ],
        [
         "dreb_home",
         "18999",
         "65698",
         "28.92"
        ],
        [
         "reb_home",
         "15729",
         "65698",
         "23.94"
        ],
        [
         "ast_home",
         "15805",
         "65698",
         "24.06"
        ],
        [
         "stl_home",
         "18849",
         "65698",
         "28.69"
        ],
        [
         "blk_home",
         "18626",
         "65698",
         "28.35"
        ],
        [
         "tov_home",
         "18684",
         "65698",
         "28.44"
        ],
        [
         "pf_home",
         "2856",
         "65698",
         "4.35"
        ],
        [
         "wl_away",
         "2",
         "65698",
         "0.0"
        ],
        [
         "fgm_away",
         "13",
         "65698",
         "0.02"
        ],
        [
         "fga_away",
         "15447",
         "65698",
         "23.51"
        ],
        [
         "fg_pct_away",
         "15489",
         "65698",
         "23.58"
        ],
        [
         "fg3m_away",
         "13218",
         "65698",
         "20.12"
        ],
        [
         "fg3a_away",
         "18683",
         "65698",
         "28.44"
        ],
        [
         "fg3_pct_away",
         "18962",
         "65698",
         "28.86"
        ],
        [
         "ftm_away",
         "13",
         "65698",
         "0.02"
        ],
        [
         "fta_away",
         "3004",
         "65698",
         "4.57"
        ],
        [
         "ft_pct_away",
         "3006",
         "65698",
         "4.58"
        ],
        [
         "oreb_away",
         "18936",
         "65698",
         "28.82"
        ],
        [
         "dreb_away",
         "18998",
         "65698",
         "28.92"
        ],
        [
         "reb_away",
         "15725",
         "65698",
         "23.94"
        ],
        [
         "ast_away",
         "15801",
         "65698",
         "24.05"
        ],
        [
         "stl_away",
         "18849",
         "65698",
         "28.69"
        ],
        [
         "blk_away",
         "18625",
         "65698",
         "28.35"
        ],
        [
         "tov_away",
         "18685",
         "65698",
         "28.44"
        ],
        [
         "pf_away",
         "2851",
         "65698",
         "4.34"
        ]
       ],
       "shape": {
        "columns": 3,
        "rows": 36
       }
      },
      "text/html": [
       "<div>\n",
       "<style scoped>\n",
       "    .dataframe tbody tr th:only-of-type {\n",
       "        vertical-align: middle;\n",
       "    }\n",
       "\n",
       "    .dataframe tbody tr th {\n",
       "        vertical-align: top;\n",
       "    }\n",
       "\n",
       "    .dataframe thead th {\n",
       "        text-align: right;\n",
       "    }\n",
       "</style>\n",
       "<table border=\"1\" class=\"dataframe\">\n",
       "  <thead>\n",
       "    <tr style=\"text-align: right;\">\n",
       "      <th></th>\n",
       "      <th>Valores nulos</th>\n",
       "      <th>Total registros</th>\n",
       "      <th>Porcentaje</th>\n",
       "    </tr>\n",
       "  </thead>\n",
       "  <tbody>\n",
       "    <tr>\n",
       "      <th>wl_home</th>\n",
       "      <td>2</td>\n",
       "      <td>65698</td>\n",
       "      <td>0.00</td>\n",
       "    </tr>\n",
       "    <tr>\n",
       "      <th>fgm_home</th>\n",
       "      <td>13</td>\n",
       "      <td>65698</td>\n",
       "      <td>0.02</td>\n",
       "    </tr>\n",
       "    <tr>\n",
       "      <th>fga_home</th>\n",
       "      <td>15447</td>\n",
       "      <td>65698</td>\n",
       "      <td>23.51</td>\n",
       "    </tr>\n",
       "    <tr>\n",
       "      <th>fg_pct_home</th>\n",
       "      <td>15490</td>\n",
       "      <td>65698</td>\n",
       "      <td>23.58</td>\n",
       "    </tr>\n",
       "    <tr>\n",
       "      <th>fg3m_home</th>\n",
       "      <td>13218</td>\n",
       "      <td>65698</td>\n",
       "      <td>20.12</td>\n",
       "    </tr>\n",
       "    <tr>\n",
       "      <th>fg3a_home</th>\n",
       "      <td>18683</td>\n",
       "      <td>65698</td>\n",
       "      <td>28.44</td>\n",
       "    </tr>\n",
       "    <tr>\n",
       "      <th>fg3_pct_home</th>\n",
       "      <td>19074</td>\n",
       "      <td>65698</td>\n",
       "      <td>29.03</td>\n",
       "    </tr>\n",
       "    <tr>\n",
       "      <th>ftm_home</th>\n",
       "      <td>16</td>\n",
       "      <td>65698</td>\n",
       "      <td>0.02</td>\n",
       "    </tr>\n",
       "    <tr>\n",
       "      <th>fta_home</th>\n",
       "      <td>3004</td>\n",
       "      <td>65698</td>\n",
       "      <td>4.57</td>\n",
       "    </tr>\n",
       "    <tr>\n",
       "      <th>ft_pct_home</th>\n",
       "      <td>3009</td>\n",
       "      <td>65698</td>\n",
       "      <td>4.58</td>\n",
       "    </tr>\n",
       "    <tr>\n",
       "      <th>oreb_home</th>\n",
       "      <td>18936</td>\n",
       "      <td>65698</td>\n",
       "      <td>28.82</td>\n",
       "    </tr>\n",
       "    <tr>\n",
       "      <th>dreb_home</th>\n",
       "      <td>18999</td>\n",
       "      <td>65698</td>\n",
       "      <td>28.92</td>\n",
       "    </tr>\n",
       "    <tr>\n",
       "      <th>reb_home</th>\n",
       "      <td>15729</td>\n",
       "      <td>65698</td>\n",
       "      <td>23.94</td>\n",
       "    </tr>\n",
       "    <tr>\n",
       "      <th>ast_home</th>\n",
       "      <td>15805</td>\n",
       "      <td>65698</td>\n",
       "      <td>24.06</td>\n",
       "    </tr>\n",
       "    <tr>\n",
       "      <th>stl_home</th>\n",
       "      <td>18849</td>\n",
       "      <td>65698</td>\n",
       "      <td>28.69</td>\n",
       "    </tr>\n",
       "    <tr>\n",
       "      <th>blk_home</th>\n",
       "      <td>18626</td>\n",
       "      <td>65698</td>\n",
       "      <td>28.35</td>\n",
       "    </tr>\n",
       "    <tr>\n",
       "      <th>tov_home</th>\n",
       "      <td>18684</td>\n",
       "      <td>65698</td>\n",
       "      <td>28.44</td>\n",
       "    </tr>\n",
       "    <tr>\n",
       "      <th>pf_home</th>\n",
       "      <td>2856</td>\n",
       "      <td>65698</td>\n",
       "      <td>4.35</td>\n",
       "    </tr>\n",
       "    <tr>\n",
       "      <th>wl_away</th>\n",
       "      <td>2</td>\n",
       "      <td>65698</td>\n",
       "      <td>0.00</td>\n",
       "    </tr>\n",
       "    <tr>\n",
       "      <th>fgm_away</th>\n",
       "      <td>13</td>\n",
       "      <td>65698</td>\n",
       "      <td>0.02</td>\n",
       "    </tr>\n",
       "    <tr>\n",
       "      <th>fga_away</th>\n",
       "      <td>15447</td>\n",
       "      <td>65698</td>\n",
       "      <td>23.51</td>\n",
       "    </tr>\n",
       "    <tr>\n",
       "      <th>fg_pct_away</th>\n",
       "      <td>15489</td>\n",
       "      <td>65698</td>\n",
       "      <td>23.58</td>\n",
       "    </tr>\n",
       "    <tr>\n",
       "      <th>fg3m_away</th>\n",
       "      <td>13218</td>\n",
       "      <td>65698</td>\n",
       "      <td>20.12</td>\n",
       "    </tr>\n",
       "    <tr>\n",
       "      <th>fg3a_away</th>\n",
       "      <td>18683</td>\n",
       "      <td>65698</td>\n",
       "      <td>28.44</td>\n",
       "    </tr>\n",
       "    <tr>\n",
       "      <th>fg3_pct_away</th>\n",
       "      <td>18962</td>\n",
       "      <td>65698</td>\n",
       "      <td>28.86</td>\n",
       "    </tr>\n",
       "    <tr>\n",
       "      <th>ftm_away</th>\n",
       "      <td>13</td>\n",
       "      <td>65698</td>\n",
       "      <td>0.02</td>\n",
       "    </tr>\n",
       "    <tr>\n",
       "      <th>fta_away</th>\n",
       "      <td>3004</td>\n",
       "      <td>65698</td>\n",
       "      <td>4.57</td>\n",
       "    </tr>\n",
       "    <tr>\n",
       "      <th>ft_pct_away</th>\n",
       "      <td>3006</td>\n",
       "      <td>65698</td>\n",
       "      <td>4.58</td>\n",
       "    </tr>\n",
       "    <tr>\n",
       "      <th>oreb_away</th>\n",
       "      <td>18936</td>\n",
       "      <td>65698</td>\n",
       "      <td>28.82</td>\n",
       "    </tr>\n",
       "    <tr>\n",
       "      <th>dreb_away</th>\n",
       "      <td>18998</td>\n",
       "      <td>65698</td>\n",
       "      <td>28.92</td>\n",
       "    </tr>\n",
       "    <tr>\n",
       "      <th>reb_away</th>\n",
       "      <td>15725</td>\n",
       "      <td>65698</td>\n",
       "      <td>23.94</td>\n",
       "    </tr>\n",
       "    <tr>\n",
       "      <th>ast_away</th>\n",
       "      <td>15801</td>\n",
       "      <td>65698</td>\n",
       "      <td>24.05</td>\n",
       "    </tr>\n",
       "    <tr>\n",
       "      <th>stl_away</th>\n",
       "      <td>18849</td>\n",
       "      <td>65698</td>\n",
       "      <td>28.69</td>\n",
       "    </tr>\n",
       "    <tr>\n",
       "      <th>blk_away</th>\n",
       "      <td>18625</td>\n",
       "      <td>65698</td>\n",
       "      <td>28.35</td>\n",
       "    </tr>\n",
       "    <tr>\n",
       "      <th>tov_away</th>\n",
       "      <td>18685</td>\n",
       "      <td>65698</td>\n",
       "      <td>28.44</td>\n",
       "    </tr>\n",
       "    <tr>\n",
       "      <th>pf_away</th>\n",
       "      <td>2851</td>\n",
       "      <td>65698</td>\n",
       "      <td>4.34</td>\n",
       "    </tr>\n",
       "  </tbody>\n",
       "</table>\n",
       "</div>"
      ],
      "text/plain": [
       "              Valores nulos  Total registros  Porcentaje\n",
       "wl_home                   2            65698        0.00\n",
       "fgm_home                 13            65698        0.02\n",
       "fga_home              15447            65698       23.51\n",
       "fg_pct_home           15490            65698       23.58\n",
       "fg3m_home             13218            65698       20.12\n",
       "fg3a_home             18683            65698       28.44\n",
       "fg3_pct_home          19074            65698       29.03\n",
       "ftm_home                 16            65698        0.02\n",
       "fta_home               3004            65698        4.57\n",
       "ft_pct_home            3009            65698        4.58\n",
       "oreb_home             18936            65698       28.82\n",
       "dreb_home             18999            65698       28.92\n",
       "reb_home              15729            65698       23.94\n",
       "ast_home              15805            65698       24.06\n",
       "stl_home              18849            65698       28.69\n",
       "blk_home              18626            65698       28.35\n",
       "tov_home              18684            65698       28.44\n",
       "pf_home                2856            65698        4.35\n",
       "wl_away                   2            65698        0.00\n",
       "fgm_away                 13            65698        0.02\n",
       "fga_away              15447            65698       23.51\n",
       "fg_pct_away           15489            65698       23.58\n",
       "fg3m_away             13218            65698       20.12\n",
       "fg3a_away             18683            65698       28.44\n",
       "fg3_pct_away          18962            65698       28.86\n",
       "ftm_away                 13            65698        0.02\n",
       "fta_away               3004            65698        4.57\n",
       "ft_pct_away            3006            65698        4.58\n",
       "oreb_away             18936            65698       28.82\n",
       "dreb_away             18998            65698       28.92\n",
       "reb_away              15725            65698       23.94\n",
       "ast_away              15801            65698       24.05\n",
       "stl_away              18849            65698       28.69\n",
       "blk_away              18625            65698       28.35\n",
       "tov_away              18685            65698       28.44\n",
       "pf_away                2851            65698        4.34"
      ]
     },
     "execution_count": 40,
     "metadata": {},
     "output_type": "execute_result"
    }
   ],
   "source": [
    "null_game = game.isnull().sum()\n",
    "total_register = len(game)\n",
    "null_result = null_game[null_game > 0]\n",
    "\n",
    "df_null_game= pd.DataFrame({\n",
    "    \"Valores nulos\": null_result,\n",
    "    \"Total registros\": total_register,\n",
    "    \"Porcentaje\": (null_result / total_register * 100).round(2)\n",
    "})\n",
    "\n",
    "df_null_game"
   ]
  },
  {
   "cell_type": "markdown",
   "id": "ffcf3b5e",
   "metadata": {},
   "source": [
    "### 2.6.2. Filtro del año 2000 en adelante"
   ]
  },
  {
   "cell_type": "code",
   "execution_count": 41,
   "id": "dcc7e050",
   "metadata": {},
   "outputs": [],
   "source": [
    "game = game[game['game_date'] >= \"2000-01-01\"]"
   ]
  },
  {
   "cell_type": "code",
   "execution_count": 42,
   "id": "a5b3c8e3",
   "metadata": {},
   "outputs": [
    {
     "data": {
      "application/vnd.microsoft.datawrangler.viewer.v0+json": {
       "columns": [
        {
         "name": "index",
         "rawType": "object",
         "type": "string"
        },
        {
         "name": "Valores nulos",
         "rawType": "int64",
         "type": "integer"
        },
        {
         "name": "Total registros",
         "rawType": "int64",
         "type": "integer"
        },
        {
         "name": "Porcentaje",
         "rawType": "float64",
         "type": "float"
        }
       ],
       "conversionMethod": "pd.DataFrame",
       "ref": "3330bb2e-304f-437e-a975-45a77bb4c4c8",
       "rows": [
        [
         "wl_home",
         "2",
         "30426",
         "0.01"
        ],
        [
         "ft_pct_home",
         "2",
         "30426",
         "0.01"
        ],
        [
         "wl_away",
         "2",
         "30426",
         "0.01"
        ],
        [
         "ft_pct_away",
         "1",
         "30426",
         "0.0"
        ]
       ],
       "shape": {
        "columns": 3,
        "rows": 4
       }
      },
      "text/html": [
       "<div>\n",
       "<style scoped>\n",
       "    .dataframe tbody tr th:only-of-type {\n",
       "        vertical-align: middle;\n",
       "    }\n",
       "\n",
       "    .dataframe tbody tr th {\n",
       "        vertical-align: top;\n",
       "    }\n",
       "\n",
       "    .dataframe thead th {\n",
       "        text-align: right;\n",
       "    }\n",
       "</style>\n",
       "<table border=\"1\" class=\"dataframe\">\n",
       "  <thead>\n",
       "    <tr style=\"text-align: right;\">\n",
       "      <th></th>\n",
       "      <th>Valores nulos</th>\n",
       "      <th>Total registros</th>\n",
       "      <th>Porcentaje</th>\n",
       "    </tr>\n",
       "  </thead>\n",
       "  <tbody>\n",
       "    <tr>\n",
       "      <th>wl_home</th>\n",
       "      <td>2</td>\n",
       "      <td>30426</td>\n",
       "      <td>0.01</td>\n",
       "    </tr>\n",
       "    <tr>\n",
       "      <th>ft_pct_home</th>\n",
       "      <td>2</td>\n",
       "      <td>30426</td>\n",
       "      <td>0.01</td>\n",
       "    </tr>\n",
       "    <tr>\n",
       "      <th>wl_away</th>\n",
       "      <td>2</td>\n",
       "      <td>30426</td>\n",
       "      <td>0.01</td>\n",
       "    </tr>\n",
       "    <tr>\n",
       "      <th>ft_pct_away</th>\n",
       "      <td>1</td>\n",
       "      <td>30426</td>\n",
       "      <td>0.00</td>\n",
       "    </tr>\n",
       "  </tbody>\n",
       "</table>\n",
       "</div>"
      ],
      "text/plain": [
       "             Valores nulos  Total registros  Porcentaje\n",
       "wl_home                  2            30426        0.01\n",
       "ft_pct_home              2            30426        0.01\n",
       "wl_away                  2            30426        0.01\n",
       "ft_pct_away              1            30426        0.00"
      ]
     },
     "execution_count": 42,
     "metadata": {},
     "output_type": "execute_result"
    }
   ],
   "source": [
    "null_game = game.isnull().sum()\n",
    "total_register = len(game)\n",
    "null_result = null_game[null_game > 0]\n",
    "\n",
    "df_null_game= pd.DataFrame({\n",
    "    \"Valores nulos\": null_result,\n",
    "    \"Total registros\": total_register,\n",
    "    \"Porcentaje\": (null_result / total_register * 100).round(2)\n",
    "})\n",
    "\n",
    "df_null_game"
   ]
  },
  {
   "cell_type": "markdown",
   "id": "770b37ea",
   "metadata": {},
   "source": [
    "### 2.6.3. Llenado de nulos por 0"
   ]
  },
  {
   "cell_type": "code",
   "execution_count": 43,
   "id": "65eb9bd9",
   "metadata": {},
   "outputs": [],
   "source": [
    "game = game.fillna(0)"
   ]
  },
  {
   "cell_type": "code",
   "execution_count": 44,
   "id": "434fb9c7",
   "metadata": {},
   "outputs": [
    {
     "data": {
      "application/vnd.microsoft.datawrangler.viewer.v0+json": {
       "columns": [
        {
         "name": "index",
         "rawType": "object",
         "type": "string"
        },
        {
         "name": "Valores nulos",
         "rawType": "int64",
         "type": "integer"
        },
        {
         "name": "Total registros",
         "rawType": "int64",
         "type": "integer"
        },
        {
         "name": "Porcentaje",
         "rawType": "float64",
         "type": "float"
        }
       ],
       "conversionMethod": "pd.DataFrame",
       "ref": "5b795232-eca9-46e5-8369-ab3cd1f0e8a9",
       "rows": [],
       "shape": {
        "columns": 3,
        "rows": 0
       }
      },
      "text/html": [
       "<div>\n",
       "<style scoped>\n",
       "    .dataframe tbody tr th:only-of-type {\n",
       "        vertical-align: middle;\n",
       "    }\n",
       "\n",
       "    .dataframe tbody tr th {\n",
       "        vertical-align: top;\n",
       "    }\n",
       "\n",
       "    .dataframe thead th {\n",
       "        text-align: right;\n",
       "    }\n",
       "</style>\n",
       "<table border=\"1\" class=\"dataframe\">\n",
       "  <thead>\n",
       "    <tr style=\"text-align: right;\">\n",
       "      <th></th>\n",
       "      <th>Valores nulos</th>\n",
       "      <th>Total registros</th>\n",
       "      <th>Porcentaje</th>\n",
       "    </tr>\n",
       "  </thead>\n",
       "  <tbody>\n",
       "  </tbody>\n",
       "</table>\n",
       "</div>"
      ],
      "text/plain": [
       "Empty DataFrame\n",
       "Columns: [Valores nulos, Total registros, Porcentaje]\n",
       "Index: []"
      ]
     },
     "execution_count": 44,
     "metadata": {},
     "output_type": "execute_result"
    }
   ],
   "source": [
    "null_game = game.isnull().sum()\n",
    "total_register = len(game)\n",
    "null_result = null_game[null_game > 0]\n",
    "\n",
    "df_null_game= pd.DataFrame({\n",
    "    \"Valores nulos\": null_result,\n",
    "    \"Total registros\": total_register,\n",
    "    \"Porcentaje\": (null_result / total_register * 100).round(2)\n",
    "})\n",
    "\n",
    "df_null_game\n"
   ]
  },
  {
   "cell_type": "markdown",
   "id": "5ddec16b",
   "metadata": {},
   "source": [
    "## 2.7. Tabla inactive_players"
   ]
  },
  {
   "cell_type": "markdown",
   "id": "4886d835",
   "metadata": {},
   "source": [
    "### 2.7.1. Lectura de nulos"
   ]
  },
  {
   "cell_type": "code",
   "execution_count": 45,
   "id": "6b46032e",
   "metadata": {},
   "outputs": [
    {
     "data": {
      "text/plain": [
       "(game_id               0\n",
       " player_id             0\n",
       " first_name            1\n",
       " last_name             1\n",
       " jersey_num           43\n",
       " team_id               0\n",
       " team_city             0\n",
       " team_name             0\n",
       " team_abbreviation     0\n",
       " dtype: int64,\n",
       " (110191, 9))"
      ]
     },
     "execution_count": 45,
     "metadata": {},
     "output_type": "execute_result"
    }
   ],
   "source": [
    "inactive_players.isnull().sum(), inactive_players.shape"
   ]
  },
  {
   "cell_type": "code",
   "execution_count": 46,
   "id": "57681d55",
   "metadata": {},
   "outputs": [
    {
     "data": {
      "application/vnd.microsoft.datawrangler.viewer.v0+json": {
       "columns": [
        {
         "name": "index",
         "rawType": "object",
         "type": "string"
        },
        {
         "name": "Valores nulos",
         "rawType": "int64",
         "type": "integer"
        },
        {
         "name": "Total registros",
         "rawType": "int64",
         "type": "integer"
        },
        {
         "name": "Porcentaje",
         "rawType": "float64",
         "type": "float"
        }
       ],
       "conversionMethod": "pd.DataFrame",
       "ref": "0281f40d-a24b-4ef4-a062-228df66ab3e7",
       "rows": [
        [
         "first_name",
         "1",
         "110191",
         "0.0"
        ],
        [
         "last_name",
         "1",
         "110191",
         "0.0"
        ],
        [
         "jersey_num",
         "43",
         "110191",
         "0.04"
        ]
       ],
       "shape": {
        "columns": 3,
        "rows": 3
       }
      },
      "text/html": [
       "<div>\n",
       "<style scoped>\n",
       "    .dataframe tbody tr th:only-of-type {\n",
       "        vertical-align: middle;\n",
       "    }\n",
       "\n",
       "    .dataframe tbody tr th {\n",
       "        vertical-align: top;\n",
       "    }\n",
       "\n",
       "    .dataframe thead th {\n",
       "        text-align: right;\n",
       "    }\n",
       "</style>\n",
       "<table border=\"1\" class=\"dataframe\">\n",
       "  <thead>\n",
       "    <tr style=\"text-align: right;\">\n",
       "      <th></th>\n",
       "      <th>Valores nulos</th>\n",
       "      <th>Total registros</th>\n",
       "      <th>Porcentaje</th>\n",
       "    </tr>\n",
       "  </thead>\n",
       "  <tbody>\n",
       "    <tr>\n",
       "      <th>first_name</th>\n",
       "      <td>1</td>\n",
       "      <td>110191</td>\n",
       "      <td>0.00</td>\n",
       "    </tr>\n",
       "    <tr>\n",
       "      <th>last_name</th>\n",
       "      <td>1</td>\n",
       "      <td>110191</td>\n",
       "      <td>0.00</td>\n",
       "    </tr>\n",
       "    <tr>\n",
       "      <th>jersey_num</th>\n",
       "      <td>43</td>\n",
       "      <td>110191</td>\n",
       "      <td>0.04</td>\n",
       "    </tr>\n",
       "  </tbody>\n",
       "</table>\n",
       "</div>"
      ],
      "text/plain": [
       "            Valores nulos  Total registros  Porcentaje\n",
       "first_name              1           110191        0.00\n",
       "last_name               1           110191        0.00\n",
       "jersey_num             43           110191        0.04"
      ]
     },
     "execution_count": 46,
     "metadata": {},
     "output_type": "execute_result"
    }
   ],
   "source": [
    "null_inactive_players = inactive_players.isnull().sum()\n",
    "total_register = len(inactive_players)\n",
    "null_result = null_inactive_players[null_inactive_players > 0]\n",
    "\n",
    "df_null_inactive_players = pd.DataFrame({\n",
    "    \"Valores nulos\": null_result,\n",
    "    \"Total registros\": total_register,\n",
    "    \"Porcentaje\": (null_result / total_register * 100).round(2)\n",
    "})\n",
    "\n",
    "df_null_inactive_players"
   ]
  },
  {
   "cell_type": "markdown",
   "id": "be098361",
   "metadata": {},
   "source": [
    "### 2.7.2. Filtro por los juegos filtrados de la tabla game"
   ]
  },
  {
   "cell_type": "code",
   "execution_count": 47,
   "id": "6966ca1d",
   "metadata": {},
   "outputs": [],
   "source": [
    "inactive_players = inactive_players[inactive_players['game_id'].isin(game['game_id'])]"
   ]
  },
  {
   "cell_type": "code",
   "execution_count": 48,
   "id": "d918f0ce",
   "metadata": {},
   "outputs": [
    {
     "data": {
      "application/vnd.microsoft.datawrangler.viewer.v0+json": {
       "columns": [
        {
         "name": "index",
         "rawType": "object",
         "type": "string"
        },
        {
         "name": "Valores nulos",
         "rawType": "int64",
         "type": "integer"
        },
        {
         "name": "Total registros",
         "rawType": "int64",
         "type": "integer"
        },
        {
         "name": "Porcentaje",
         "rawType": "float64",
         "type": "float"
        }
       ],
       "conversionMethod": "pd.DataFrame",
       "ref": "cbf99320-a803-44b1-8788-3f2a02d94493",
       "rows": [
        [
         "first_name",
         "1",
         "110041",
         "0.0"
        ],
        [
         "last_name",
         "1",
         "110041",
         "0.0"
        ],
        [
         "jersey_num",
         "43",
         "110041",
         "0.04"
        ]
       ],
       "shape": {
        "columns": 3,
        "rows": 3
       }
      },
      "text/html": [
       "<div>\n",
       "<style scoped>\n",
       "    .dataframe tbody tr th:only-of-type {\n",
       "        vertical-align: middle;\n",
       "    }\n",
       "\n",
       "    .dataframe tbody tr th {\n",
       "        vertical-align: top;\n",
       "    }\n",
       "\n",
       "    .dataframe thead th {\n",
       "        text-align: right;\n",
       "    }\n",
       "</style>\n",
       "<table border=\"1\" class=\"dataframe\">\n",
       "  <thead>\n",
       "    <tr style=\"text-align: right;\">\n",
       "      <th></th>\n",
       "      <th>Valores nulos</th>\n",
       "      <th>Total registros</th>\n",
       "      <th>Porcentaje</th>\n",
       "    </tr>\n",
       "  </thead>\n",
       "  <tbody>\n",
       "    <tr>\n",
       "      <th>first_name</th>\n",
       "      <td>1</td>\n",
       "      <td>110041</td>\n",
       "      <td>0.00</td>\n",
       "    </tr>\n",
       "    <tr>\n",
       "      <th>last_name</th>\n",
       "      <td>1</td>\n",
       "      <td>110041</td>\n",
       "      <td>0.00</td>\n",
       "    </tr>\n",
       "    <tr>\n",
       "      <th>jersey_num</th>\n",
       "      <td>43</td>\n",
       "      <td>110041</td>\n",
       "      <td>0.04</td>\n",
       "    </tr>\n",
       "  </tbody>\n",
       "</table>\n",
       "</div>"
      ],
      "text/plain": [
       "            Valores nulos  Total registros  Porcentaje\n",
       "first_name              1           110041        0.00\n",
       "last_name               1           110041        0.00\n",
       "jersey_num             43           110041        0.04"
      ]
     },
     "execution_count": 48,
     "metadata": {},
     "output_type": "execute_result"
    }
   ],
   "source": [
    "null_inactive_players = inactive_players.isnull().sum()\n",
    "total_register = len(inactive_players)\n",
    "null_result = null_inactive_players[null_inactive_players > 0]\n",
    "\n",
    "df_null_inactive_players = pd.DataFrame({\n",
    "    \"Valores nulos\": null_result,\n",
    "    \"Total registros\": total_register,\n",
    "    \"Porcentaje\": (null_result / total_register * 100).round(2)\n",
    "})\n",
    "\n",
    "df_null_inactive_players"
   ]
  },
  {
   "cell_type": "markdown",
   "id": "30f0c4b8",
   "metadata": {},
   "source": [
    "### 2.7.3. Eliminacion de filas nulas en las diversas columnas"
   ]
  },
  {
   "cell_type": "code",
   "execution_count": 49,
   "id": "05ed0173",
   "metadata": {},
   "outputs": [],
   "source": [
    "inactive_players.dropna(subset=['first_name', 'last_name'], inplace=True)"
   ]
  },
  {
   "cell_type": "code",
   "execution_count": 50,
   "id": "b0cd0299",
   "metadata": {},
   "outputs": [
    {
     "data": {
      "application/vnd.microsoft.datawrangler.viewer.v0+json": {
       "columns": [
        {
         "name": "index",
         "rawType": "object",
         "type": "string"
        },
        {
         "name": "Valores nulos",
         "rawType": "int64",
         "type": "integer"
        },
        {
         "name": "Total registros",
         "rawType": "int64",
         "type": "integer"
        },
        {
         "name": "Porcentaje",
         "rawType": "float64",
         "type": "float"
        }
       ],
       "conversionMethod": "pd.DataFrame",
       "ref": "738440f3-04b3-4120-a259-971fa71a7e78",
       "rows": [
        [
         "jersey_num",
         "43",
         "110040",
         "0.04"
        ]
       ],
       "shape": {
        "columns": 3,
        "rows": 1
       }
      },
      "text/html": [
       "<div>\n",
       "<style scoped>\n",
       "    .dataframe tbody tr th:only-of-type {\n",
       "        vertical-align: middle;\n",
       "    }\n",
       "\n",
       "    .dataframe tbody tr th {\n",
       "        vertical-align: top;\n",
       "    }\n",
       "\n",
       "    .dataframe thead th {\n",
       "        text-align: right;\n",
       "    }\n",
       "</style>\n",
       "<table border=\"1\" class=\"dataframe\">\n",
       "  <thead>\n",
       "    <tr style=\"text-align: right;\">\n",
       "      <th></th>\n",
       "      <th>Valores nulos</th>\n",
       "      <th>Total registros</th>\n",
       "      <th>Porcentaje</th>\n",
       "    </tr>\n",
       "  </thead>\n",
       "  <tbody>\n",
       "    <tr>\n",
       "      <th>jersey_num</th>\n",
       "      <td>43</td>\n",
       "      <td>110040</td>\n",
       "      <td>0.04</td>\n",
       "    </tr>\n",
       "  </tbody>\n",
       "</table>\n",
       "</div>"
      ],
      "text/plain": [
       "            Valores nulos  Total registros  Porcentaje\n",
       "jersey_num             43           110040        0.04"
      ]
     },
     "execution_count": 50,
     "metadata": {},
     "output_type": "execute_result"
    }
   ],
   "source": [
    "null_inactive_players = inactive_players.isnull().sum()\n",
    "total_register = len(inactive_players)\n",
    "null_result = null_inactive_players[null_inactive_players > 0]\n",
    "\n",
    "df_null_inactive_players = pd.DataFrame({\n",
    "    \"Valores nulos\": null_result,\n",
    "    \"Total registros\": total_register,\n",
    "    \"Porcentaje\": (null_result / total_register * 100).round(2)\n",
    "})\n",
    "\n",
    "df_null_inactive_players"
   ]
  },
  {
   "cell_type": "markdown",
   "id": "de669f7b",
   "metadata": {},
   "source": [
    "### 2.7.4. Eliminacion de columnas innecesarias"
   ]
  },
  {
   "cell_type": "code",
   "execution_count": 51,
   "id": "435c1612",
   "metadata": {},
   "outputs": [],
   "source": [
    "delete_columns = ['jersey_num']\n",
    "\n",
    "inactive_players.drop(delete_columns, axis=1, inplace=True)"
   ]
  },
  {
   "cell_type": "code",
   "execution_count": 52,
   "id": "3b0d227c",
   "metadata": {},
   "outputs": [
    {
     "data": {
      "application/vnd.microsoft.datawrangler.viewer.v0+json": {
       "columns": [
        {
         "name": "index",
         "rawType": "object",
         "type": "string"
        },
        {
         "name": "Valores nulos",
         "rawType": "int64",
         "type": "integer"
        },
        {
         "name": "Total registros",
         "rawType": "int64",
         "type": "integer"
        },
        {
         "name": "Porcentaje",
         "rawType": "float64",
         "type": "float"
        }
       ],
       "conversionMethod": "pd.DataFrame",
       "ref": "d636fcf4-b9e1-40b1-a6f1-5aeb600d83cf",
       "rows": [],
       "shape": {
        "columns": 3,
        "rows": 0
       }
      },
      "text/html": [
       "<div>\n",
       "<style scoped>\n",
       "    .dataframe tbody tr th:only-of-type {\n",
       "        vertical-align: middle;\n",
       "    }\n",
       "\n",
       "    .dataframe tbody tr th {\n",
       "        vertical-align: top;\n",
       "    }\n",
       "\n",
       "    .dataframe thead th {\n",
       "        text-align: right;\n",
       "    }\n",
       "</style>\n",
       "<table border=\"1\" class=\"dataframe\">\n",
       "  <thead>\n",
       "    <tr style=\"text-align: right;\">\n",
       "      <th></th>\n",
       "      <th>Valores nulos</th>\n",
       "      <th>Total registros</th>\n",
       "      <th>Porcentaje</th>\n",
       "    </tr>\n",
       "  </thead>\n",
       "  <tbody>\n",
       "  </tbody>\n",
       "</table>\n",
       "</div>"
      ],
      "text/plain": [
       "Empty DataFrame\n",
       "Columns: [Valores nulos, Total registros, Porcentaje]\n",
       "Index: []"
      ]
     },
     "execution_count": 52,
     "metadata": {},
     "output_type": "execute_result"
    }
   ],
   "source": [
    "null_inactive_players = inactive_players.isnull().sum()\n",
    "total_register = len(inactive_players)\n",
    "null_result = null_inactive_players[null_inactive_players > 0]\n",
    "\n",
    "df_null_inactive_players = pd.DataFrame({\n",
    "    \"Valores nulos\": null_result,\n",
    "    \"Total registros\": total_register,\n",
    "    \"Porcentaje\": (null_result / total_register * 100).round(2)\n",
    "})\n",
    "\n",
    "df_null_inactive_players"
   ]
  },
  {
   "cell_type": "markdown",
   "id": "31333722",
   "metadata": {},
   "source": [
    "## 2.8. Tabla line_score"
   ]
  },
  {
   "cell_type": "markdown",
   "id": "69288c9b",
   "metadata": {},
   "source": [
    "### 2.8.1. Lectura de nulos"
   ]
  },
  {
   "cell_type": "code",
   "execution_count": 53,
   "id": "722b0f50",
   "metadata": {},
   "outputs": [
    {
     "data": {
      "text/plain": [
       "(game_date_est                 0\n",
       " game_sequence             25532\n",
       " game_id                       0\n",
       " team_id_home                  0\n",
       " team_abbreviation_home        0\n",
       " team_city_name_home           0\n",
       " team_nickname_home            0\n",
       " team_wins_losses_home         0\n",
       " pts_qtr1_home              1004\n",
       " pts_qtr2_home              1013\n",
       " pts_qtr3_home              1045\n",
       " pts_qtr4_home              1044\n",
       " pts_ot1_home              25759\n",
       " pts_ot2_home              27051\n",
       " pts_ot3_home              27243\n",
       " pts_ot4_home              27270\n",
       " pts_ot5_home              45577\n",
       " pts_ot6_home              45578\n",
       " pts_ot7_home              45578\n",
       " pts_ot8_home              45578\n",
       " pts_ot9_home              45578\n",
       " pts_ot10_home             45578\n",
       " pts_home                      0\n",
       " team_id_away                  0\n",
       " team_abbreviation_away        0\n",
       " team_city_name_away           0\n",
       " team_nickname_away            0\n",
       " team_wins_losses_away         0\n",
       " pts_qtr1_away              1010\n",
       " pts_qtr2_away              1013\n",
       " pts_qtr3_away              1046\n",
       " pts_qtr4_away              1046\n",
       " pts_ot1_away              25759\n",
       " pts_ot2_away              27051\n",
       " pts_ot3_away              27243\n",
       " pts_ot4_away              27270\n",
       " pts_ot5_away              45577\n",
       " pts_ot6_away              45578\n",
       " pts_ot7_away              45578\n",
       " pts_ot8_away              45578\n",
       " pts_ot9_away              45578\n",
       " pts_ot10_away             45578\n",
       " pts_away                      0\n",
       " dtype: int64,\n",
       " (58053, 43))"
      ]
     },
     "execution_count": 53,
     "metadata": {},
     "output_type": "execute_result"
    }
   ],
   "source": [
    "line_score.isnull().sum(), line_score.shape"
   ]
  },
  {
   "cell_type": "code",
   "execution_count": 54,
   "id": "46f09a4f",
   "metadata": {},
   "outputs": [
    {
     "data": {
      "application/vnd.microsoft.datawrangler.viewer.v0+json": {
       "columns": [
        {
         "name": "index",
         "rawType": "object",
         "type": "string"
        },
        {
         "name": "Valores nulos",
         "rawType": "int64",
         "type": "integer"
        },
        {
         "name": "Total registros",
         "rawType": "int64",
         "type": "integer"
        },
        {
         "name": "Porcentaje",
         "rawType": "float64",
         "type": "float"
        }
       ],
       "conversionMethod": "pd.DataFrame",
       "ref": "5bd815bb-44af-4db5-8df5-106ec8d33cc9",
       "rows": [
        [
         "game_sequence",
         "25532",
         "58053",
         "43.98"
        ],
        [
         "pts_qtr1_home",
         "1004",
         "58053",
         "1.73"
        ],
        [
         "pts_qtr2_home",
         "1013",
         "58053",
         "1.74"
        ],
        [
         "pts_qtr3_home",
         "1045",
         "58053",
         "1.8"
        ],
        [
         "pts_qtr4_home",
         "1044",
         "58053",
         "1.8"
        ],
        [
         "pts_ot1_home",
         "25759",
         "58053",
         "44.37"
        ],
        [
         "pts_ot2_home",
         "27051",
         "58053",
         "46.6"
        ],
        [
         "pts_ot3_home",
         "27243",
         "58053",
         "46.93"
        ],
        [
         "pts_ot4_home",
         "27270",
         "58053",
         "46.97"
        ],
        [
         "pts_ot5_home",
         "45577",
         "58053",
         "78.51"
        ],
        [
         "pts_ot6_home",
         "45578",
         "58053",
         "78.51"
        ],
        [
         "pts_ot7_home",
         "45578",
         "58053",
         "78.51"
        ],
        [
         "pts_ot8_home",
         "45578",
         "58053",
         "78.51"
        ],
        [
         "pts_ot9_home",
         "45578",
         "58053",
         "78.51"
        ],
        [
         "pts_ot10_home",
         "45578",
         "58053",
         "78.51"
        ],
        [
         "pts_qtr1_away",
         "1010",
         "58053",
         "1.74"
        ],
        [
         "pts_qtr2_away",
         "1013",
         "58053",
         "1.74"
        ],
        [
         "pts_qtr3_away",
         "1046",
         "58053",
         "1.8"
        ],
        [
         "pts_qtr4_away",
         "1046",
         "58053",
         "1.8"
        ],
        [
         "pts_ot1_away",
         "25759",
         "58053",
         "44.37"
        ],
        [
         "pts_ot2_away",
         "27051",
         "58053",
         "46.6"
        ],
        [
         "pts_ot3_away",
         "27243",
         "58053",
         "46.93"
        ],
        [
         "pts_ot4_away",
         "27270",
         "58053",
         "46.97"
        ],
        [
         "pts_ot5_away",
         "45577",
         "58053",
         "78.51"
        ],
        [
         "pts_ot6_away",
         "45578",
         "58053",
         "78.51"
        ],
        [
         "pts_ot7_away",
         "45578",
         "58053",
         "78.51"
        ],
        [
         "pts_ot8_away",
         "45578",
         "58053",
         "78.51"
        ],
        [
         "pts_ot9_away",
         "45578",
         "58053",
         "78.51"
        ],
        [
         "pts_ot10_away",
         "45578",
         "58053",
         "78.51"
        ]
       ],
       "shape": {
        "columns": 3,
        "rows": 29
       }
      },
      "text/html": [
       "<div>\n",
       "<style scoped>\n",
       "    .dataframe tbody tr th:only-of-type {\n",
       "        vertical-align: middle;\n",
       "    }\n",
       "\n",
       "    .dataframe tbody tr th {\n",
       "        vertical-align: top;\n",
       "    }\n",
       "\n",
       "    .dataframe thead th {\n",
       "        text-align: right;\n",
       "    }\n",
       "</style>\n",
       "<table border=\"1\" class=\"dataframe\">\n",
       "  <thead>\n",
       "    <tr style=\"text-align: right;\">\n",
       "      <th></th>\n",
       "      <th>Valores nulos</th>\n",
       "      <th>Total registros</th>\n",
       "      <th>Porcentaje</th>\n",
       "    </tr>\n",
       "  </thead>\n",
       "  <tbody>\n",
       "    <tr>\n",
       "      <th>game_sequence</th>\n",
       "      <td>25532</td>\n",
       "      <td>58053</td>\n",
       "      <td>43.98</td>\n",
       "    </tr>\n",
       "    <tr>\n",
       "      <th>pts_qtr1_home</th>\n",
       "      <td>1004</td>\n",
       "      <td>58053</td>\n",
       "      <td>1.73</td>\n",
       "    </tr>\n",
       "    <tr>\n",
       "      <th>pts_qtr2_home</th>\n",
       "      <td>1013</td>\n",
       "      <td>58053</td>\n",
       "      <td>1.74</td>\n",
       "    </tr>\n",
       "    <tr>\n",
       "      <th>pts_qtr3_home</th>\n",
       "      <td>1045</td>\n",
       "      <td>58053</td>\n",
       "      <td>1.80</td>\n",
       "    </tr>\n",
       "    <tr>\n",
       "      <th>pts_qtr4_home</th>\n",
       "      <td>1044</td>\n",
       "      <td>58053</td>\n",
       "      <td>1.80</td>\n",
       "    </tr>\n",
       "    <tr>\n",
       "      <th>pts_ot1_home</th>\n",
       "      <td>25759</td>\n",
       "      <td>58053</td>\n",
       "      <td>44.37</td>\n",
       "    </tr>\n",
       "    <tr>\n",
       "      <th>pts_ot2_home</th>\n",
       "      <td>27051</td>\n",
       "      <td>58053</td>\n",
       "      <td>46.60</td>\n",
       "    </tr>\n",
       "    <tr>\n",
       "      <th>pts_ot3_home</th>\n",
       "      <td>27243</td>\n",
       "      <td>58053</td>\n",
       "      <td>46.93</td>\n",
       "    </tr>\n",
       "    <tr>\n",
       "      <th>pts_ot4_home</th>\n",
       "      <td>27270</td>\n",
       "      <td>58053</td>\n",
       "      <td>46.97</td>\n",
       "    </tr>\n",
       "    <tr>\n",
       "      <th>pts_ot5_home</th>\n",
       "      <td>45577</td>\n",
       "      <td>58053</td>\n",
       "      <td>78.51</td>\n",
       "    </tr>\n",
       "    <tr>\n",
       "      <th>pts_ot6_home</th>\n",
       "      <td>45578</td>\n",
       "      <td>58053</td>\n",
       "      <td>78.51</td>\n",
       "    </tr>\n",
       "    <tr>\n",
       "      <th>pts_ot7_home</th>\n",
       "      <td>45578</td>\n",
       "      <td>58053</td>\n",
       "      <td>78.51</td>\n",
       "    </tr>\n",
       "    <tr>\n",
       "      <th>pts_ot8_home</th>\n",
       "      <td>45578</td>\n",
       "      <td>58053</td>\n",
       "      <td>78.51</td>\n",
       "    </tr>\n",
       "    <tr>\n",
       "      <th>pts_ot9_home</th>\n",
       "      <td>45578</td>\n",
       "      <td>58053</td>\n",
       "      <td>78.51</td>\n",
       "    </tr>\n",
       "    <tr>\n",
       "      <th>pts_ot10_home</th>\n",
       "      <td>45578</td>\n",
       "      <td>58053</td>\n",
       "      <td>78.51</td>\n",
       "    </tr>\n",
       "    <tr>\n",
       "      <th>pts_qtr1_away</th>\n",
       "      <td>1010</td>\n",
       "      <td>58053</td>\n",
       "      <td>1.74</td>\n",
       "    </tr>\n",
       "    <tr>\n",
       "      <th>pts_qtr2_away</th>\n",
       "      <td>1013</td>\n",
       "      <td>58053</td>\n",
       "      <td>1.74</td>\n",
       "    </tr>\n",
       "    <tr>\n",
       "      <th>pts_qtr3_away</th>\n",
       "      <td>1046</td>\n",
       "      <td>58053</td>\n",
       "      <td>1.80</td>\n",
       "    </tr>\n",
       "    <tr>\n",
       "      <th>pts_qtr4_away</th>\n",
       "      <td>1046</td>\n",
       "      <td>58053</td>\n",
       "      <td>1.80</td>\n",
       "    </tr>\n",
       "    <tr>\n",
       "      <th>pts_ot1_away</th>\n",
       "      <td>25759</td>\n",
       "      <td>58053</td>\n",
       "      <td>44.37</td>\n",
       "    </tr>\n",
       "    <tr>\n",
       "      <th>pts_ot2_away</th>\n",
       "      <td>27051</td>\n",
       "      <td>58053</td>\n",
       "      <td>46.60</td>\n",
       "    </tr>\n",
       "    <tr>\n",
       "      <th>pts_ot3_away</th>\n",
       "      <td>27243</td>\n",
       "      <td>58053</td>\n",
       "      <td>46.93</td>\n",
       "    </tr>\n",
       "    <tr>\n",
       "      <th>pts_ot4_away</th>\n",
       "      <td>27270</td>\n",
       "      <td>58053</td>\n",
       "      <td>46.97</td>\n",
       "    </tr>\n",
       "    <tr>\n",
       "      <th>pts_ot5_away</th>\n",
       "      <td>45577</td>\n",
       "      <td>58053</td>\n",
       "      <td>78.51</td>\n",
       "    </tr>\n",
       "    <tr>\n",
       "      <th>pts_ot6_away</th>\n",
       "      <td>45578</td>\n",
       "      <td>58053</td>\n",
       "      <td>78.51</td>\n",
       "    </tr>\n",
       "    <tr>\n",
       "      <th>pts_ot7_away</th>\n",
       "      <td>45578</td>\n",
       "      <td>58053</td>\n",
       "      <td>78.51</td>\n",
       "    </tr>\n",
       "    <tr>\n",
       "      <th>pts_ot8_away</th>\n",
       "      <td>45578</td>\n",
       "      <td>58053</td>\n",
       "      <td>78.51</td>\n",
       "    </tr>\n",
       "    <tr>\n",
       "      <th>pts_ot9_away</th>\n",
       "      <td>45578</td>\n",
       "      <td>58053</td>\n",
       "      <td>78.51</td>\n",
       "    </tr>\n",
       "    <tr>\n",
       "      <th>pts_ot10_away</th>\n",
       "      <td>45578</td>\n",
       "      <td>58053</td>\n",
       "      <td>78.51</td>\n",
       "    </tr>\n",
       "  </tbody>\n",
       "</table>\n",
       "</div>"
      ],
      "text/plain": [
       "               Valores nulos  Total registros  Porcentaje\n",
       "game_sequence          25532            58053       43.98\n",
       "pts_qtr1_home           1004            58053        1.73\n",
       "pts_qtr2_home           1013            58053        1.74\n",
       "pts_qtr3_home           1045            58053        1.80\n",
       "pts_qtr4_home           1044            58053        1.80\n",
       "pts_ot1_home           25759            58053       44.37\n",
       "pts_ot2_home           27051            58053       46.60\n",
       "pts_ot3_home           27243            58053       46.93\n",
       "pts_ot4_home           27270            58053       46.97\n",
       "pts_ot5_home           45577            58053       78.51\n",
       "pts_ot6_home           45578            58053       78.51\n",
       "pts_ot7_home           45578            58053       78.51\n",
       "pts_ot8_home           45578            58053       78.51\n",
       "pts_ot9_home           45578            58053       78.51\n",
       "pts_ot10_home          45578            58053       78.51\n",
       "pts_qtr1_away           1010            58053        1.74\n",
       "pts_qtr2_away           1013            58053        1.74\n",
       "pts_qtr3_away           1046            58053        1.80\n",
       "pts_qtr4_away           1046            58053        1.80\n",
       "pts_ot1_away           25759            58053       44.37\n",
       "pts_ot2_away           27051            58053       46.60\n",
       "pts_ot3_away           27243            58053       46.93\n",
       "pts_ot4_away           27270            58053       46.97\n",
       "pts_ot5_away           45577            58053       78.51\n",
       "pts_ot6_away           45578            58053       78.51\n",
       "pts_ot7_away           45578            58053       78.51\n",
       "pts_ot8_away           45578            58053       78.51\n",
       "pts_ot9_away           45578            58053       78.51\n",
       "pts_ot10_away          45578            58053       78.51"
      ]
     },
     "execution_count": 54,
     "metadata": {},
     "output_type": "execute_result"
    }
   ],
   "source": [
    "null_line_score = line_score.isnull().sum()\n",
    "total_register = len(line_score)\n",
    "null_result = null_line_score[null_line_score > 0]\n",
    "\n",
    "df_null_line_score = pd.DataFrame(\n",
    "    {\n",
    "        \"Valores nulos\": null_result,\n",
    "        \"Total registros\": total_register,\n",
    "        \"Porcentaje\": (null_result / total_register * 100).round(2),\n",
    "    }\n",
    ")\n",
    "\n",
    "df_null_line_score"
   ]
  },
  {
   "cell_type": "markdown",
   "id": "d6ac0c10",
   "metadata": {},
   "source": [
    "### 2.8.2. Filtro por el año 2000 en adelante"
   ]
  },
  {
   "cell_type": "code",
   "execution_count": 55,
   "id": "d8fc13ff",
   "metadata": {},
   "outputs": [],
   "source": [
    "line_score = line_score[line_score['game_date_est'] >= \"2000-01-01\"]"
   ]
  },
  {
   "cell_type": "code",
   "execution_count": 56,
   "id": "85c70d30",
   "metadata": {},
   "outputs": [
    {
     "data": {
      "application/vnd.microsoft.datawrangler.viewer.v0+json": {
       "columns": [
        {
         "name": "index",
         "rawType": "object",
         "type": "string"
        },
        {
         "name": "Valores nulos",
         "rawType": "int64",
         "type": "integer"
        },
        {
         "name": "Total registros",
         "rawType": "int64",
         "type": "integer"
        },
        {
         "name": "Porcentaje",
         "rawType": "float64",
         "type": "float"
        }
       ],
       "conversionMethod": "pd.DataFrame",
       "ref": "0e2c549c-e3dc-4093-84ed-5e1f34efba1a",
       "rows": [
        [
         "pts_ot1_home",
         "1",
         "27457",
         "0.0"
        ],
        [
         "pts_ot2_home",
         "2",
         "27457",
         "0.01"
        ],
        [
         "pts_ot3_home",
         "2",
         "27457",
         "0.01"
        ],
        [
         "pts_ot4_home",
         "2",
         "27457",
         "0.01"
        ],
        [
         "pts_ot5_home",
         "14984",
         "27457",
         "54.57"
        ],
        [
         "pts_ot6_home",
         "14984",
         "27457",
         "54.57"
        ],
        [
         "pts_ot7_home",
         "14984",
         "27457",
         "54.57"
        ],
        [
         "pts_ot8_home",
         "14984",
         "27457",
         "54.57"
        ],
        [
         "pts_ot9_home",
         "14984",
         "27457",
         "54.57"
        ],
        [
         "pts_ot10_home",
         "14984",
         "27457",
         "54.57"
        ],
        [
         "pts_ot1_away",
         "1",
         "27457",
         "0.0"
        ],
        [
         "pts_ot2_away",
         "2",
         "27457",
         "0.01"
        ],
        [
         "pts_ot3_away",
         "2",
         "27457",
         "0.01"
        ],
        [
         "pts_ot4_away",
         "2",
         "27457",
         "0.01"
        ],
        [
         "pts_ot5_away",
         "14984",
         "27457",
         "54.57"
        ],
        [
         "pts_ot6_away",
         "14984",
         "27457",
         "54.57"
        ],
        [
         "pts_ot7_away",
         "14984",
         "27457",
         "54.57"
        ],
        [
         "pts_ot8_away",
         "14984",
         "27457",
         "54.57"
        ],
        [
         "pts_ot9_away",
         "14984",
         "27457",
         "54.57"
        ],
        [
         "pts_ot10_away",
         "14984",
         "27457",
         "54.57"
        ]
       ],
       "shape": {
        "columns": 3,
        "rows": 20
       }
      },
      "text/html": [
       "<div>\n",
       "<style scoped>\n",
       "    .dataframe tbody tr th:only-of-type {\n",
       "        vertical-align: middle;\n",
       "    }\n",
       "\n",
       "    .dataframe tbody tr th {\n",
       "        vertical-align: top;\n",
       "    }\n",
       "\n",
       "    .dataframe thead th {\n",
       "        text-align: right;\n",
       "    }\n",
       "</style>\n",
       "<table border=\"1\" class=\"dataframe\">\n",
       "  <thead>\n",
       "    <tr style=\"text-align: right;\">\n",
       "      <th></th>\n",
       "      <th>Valores nulos</th>\n",
       "      <th>Total registros</th>\n",
       "      <th>Porcentaje</th>\n",
       "    </tr>\n",
       "  </thead>\n",
       "  <tbody>\n",
       "    <tr>\n",
       "      <th>pts_ot1_home</th>\n",
       "      <td>1</td>\n",
       "      <td>27457</td>\n",
       "      <td>0.00</td>\n",
       "    </tr>\n",
       "    <tr>\n",
       "      <th>pts_ot2_home</th>\n",
       "      <td>2</td>\n",
       "      <td>27457</td>\n",
       "      <td>0.01</td>\n",
       "    </tr>\n",
       "    <tr>\n",
       "      <th>pts_ot3_home</th>\n",
       "      <td>2</td>\n",
       "      <td>27457</td>\n",
       "      <td>0.01</td>\n",
       "    </tr>\n",
       "    <tr>\n",
       "      <th>pts_ot4_home</th>\n",
       "      <td>2</td>\n",
       "      <td>27457</td>\n",
       "      <td>0.01</td>\n",
       "    </tr>\n",
       "    <tr>\n",
       "      <th>pts_ot5_home</th>\n",
       "      <td>14984</td>\n",
       "      <td>27457</td>\n",
       "      <td>54.57</td>\n",
       "    </tr>\n",
       "    <tr>\n",
       "      <th>pts_ot6_home</th>\n",
       "      <td>14984</td>\n",
       "      <td>27457</td>\n",
       "      <td>54.57</td>\n",
       "    </tr>\n",
       "    <tr>\n",
       "      <th>pts_ot7_home</th>\n",
       "      <td>14984</td>\n",
       "      <td>27457</td>\n",
       "      <td>54.57</td>\n",
       "    </tr>\n",
       "    <tr>\n",
       "      <th>pts_ot8_home</th>\n",
       "      <td>14984</td>\n",
       "      <td>27457</td>\n",
       "      <td>54.57</td>\n",
       "    </tr>\n",
       "    <tr>\n",
       "      <th>pts_ot9_home</th>\n",
       "      <td>14984</td>\n",
       "      <td>27457</td>\n",
       "      <td>54.57</td>\n",
       "    </tr>\n",
       "    <tr>\n",
       "      <th>pts_ot10_home</th>\n",
       "      <td>14984</td>\n",
       "      <td>27457</td>\n",
       "      <td>54.57</td>\n",
       "    </tr>\n",
       "    <tr>\n",
       "      <th>pts_ot1_away</th>\n",
       "      <td>1</td>\n",
       "      <td>27457</td>\n",
       "      <td>0.00</td>\n",
       "    </tr>\n",
       "    <tr>\n",
       "      <th>pts_ot2_away</th>\n",
       "      <td>2</td>\n",
       "      <td>27457</td>\n",
       "      <td>0.01</td>\n",
       "    </tr>\n",
       "    <tr>\n",
       "      <th>pts_ot3_away</th>\n",
       "      <td>2</td>\n",
       "      <td>27457</td>\n",
       "      <td>0.01</td>\n",
       "    </tr>\n",
       "    <tr>\n",
       "      <th>pts_ot4_away</th>\n",
       "      <td>2</td>\n",
       "      <td>27457</td>\n",
       "      <td>0.01</td>\n",
       "    </tr>\n",
       "    <tr>\n",
       "      <th>pts_ot5_away</th>\n",
       "      <td>14984</td>\n",
       "      <td>27457</td>\n",
       "      <td>54.57</td>\n",
       "    </tr>\n",
       "    <tr>\n",
       "      <th>pts_ot6_away</th>\n",
       "      <td>14984</td>\n",
       "      <td>27457</td>\n",
       "      <td>54.57</td>\n",
       "    </tr>\n",
       "    <tr>\n",
       "      <th>pts_ot7_away</th>\n",
       "      <td>14984</td>\n",
       "      <td>27457</td>\n",
       "      <td>54.57</td>\n",
       "    </tr>\n",
       "    <tr>\n",
       "      <th>pts_ot8_away</th>\n",
       "      <td>14984</td>\n",
       "      <td>27457</td>\n",
       "      <td>54.57</td>\n",
       "    </tr>\n",
       "    <tr>\n",
       "      <th>pts_ot9_away</th>\n",
       "      <td>14984</td>\n",
       "      <td>27457</td>\n",
       "      <td>54.57</td>\n",
       "    </tr>\n",
       "    <tr>\n",
       "      <th>pts_ot10_away</th>\n",
       "      <td>14984</td>\n",
       "      <td>27457</td>\n",
       "      <td>54.57</td>\n",
       "    </tr>\n",
       "  </tbody>\n",
       "</table>\n",
       "</div>"
      ],
      "text/plain": [
       "               Valores nulos  Total registros  Porcentaje\n",
       "pts_ot1_home               1            27457        0.00\n",
       "pts_ot2_home               2            27457        0.01\n",
       "pts_ot3_home               2            27457        0.01\n",
       "pts_ot4_home               2            27457        0.01\n",
       "pts_ot5_home           14984            27457       54.57\n",
       "pts_ot6_home           14984            27457       54.57\n",
       "pts_ot7_home           14984            27457       54.57\n",
       "pts_ot8_home           14984            27457       54.57\n",
       "pts_ot9_home           14984            27457       54.57\n",
       "pts_ot10_home          14984            27457       54.57\n",
       "pts_ot1_away               1            27457        0.00\n",
       "pts_ot2_away               2            27457        0.01\n",
       "pts_ot3_away               2            27457        0.01\n",
       "pts_ot4_away               2            27457        0.01\n",
       "pts_ot5_away           14984            27457       54.57\n",
       "pts_ot6_away           14984            27457       54.57\n",
       "pts_ot7_away           14984            27457       54.57\n",
       "pts_ot8_away           14984            27457       54.57\n",
       "pts_ot9_away           14984            27457       54.57\n",
       "pts_ot10_away          14984            27457       54.57"
      ]
     },
     "execution_count": 56,
     "metadata": {},
     "output_type": "execute_result"
    }
   ],
   "source": [
    "null_line_score = line_score.isnull().sum()\n",
    "total_register = len(line_score)\n",
    "null_result = null_line_score[null_line_score > 0]\n",
    "\n",
    "df_null_line_score = pd.DataFrame(\n",
    "    {\n",
    "        \"Valores nulos\": null_result,\n",
    "        \"Total registros\": total_register,\n",
    "        \"Porcentaje\": (null_result / total_register * 100).round(2),\n",
    "    }\n",
    ")\n",
    "\n",
    "df_null_line_score"
   ]
  },
  {
   "cell_type": "markdown",
   "id": "68bb9359",
   "metadata": {},
   "source": [
    "### 2.8.3. Filtro por nulos mayores al 50%"
   ]
  },
  {
   "cell_type": "code",
   "execution_count": 57,
   "id": "5fb4c674",
   "metadata": {},
   "outputs": [
    {
     "data": {
      "application/vnd.microsoft.datawrangler.viewer.v0+json": {
       "columns": [
        {
         "name": "index",
         "rawType": "object",
         "type": "string"
        },
        {
         "name": "Valores nulos",
         "rawType": "int64",
         "type": "integer"
        },
        {
         "name": "Total registros",
         "rawType": "int64",
         "type": "integer"
        },
        {
         "name": "Porcentaje",
         "rawType": "float64",
         "type": "float"
        }
       ],
       "conversionMethod": "pd.DataFrame",
       "ref": "10609780-98b2-4a21-9eb1-f969e909e89d",
       "rows": [
        [
         "pts_ot5_home",
         "14984",
         "27457",
         "54.57"
        ],
        [
         "pts_ot6_home",
         "14984",
         "27457",
         "54.57"
        ],
        [
         "pts_ot7_home",
         "14984",
         "27457",
         "54.57"
        ],
        [
         "pts_ot8_home",
         "14984",
         "27457",
         "54.57"
        ],
        [
         "pts_ot9_home",
         "14984",
         "27457",
         "54.57"
        ],
        [
         "pts_ot10_home",
         "14984",
         "27457",
         "54.57"
        ],
        [
         "pts_ot5_away",
         "14984",
         "27457",
         "54.57"
        ],
        [
         "pts_ot6_away",
         "14984",
         "27457",
         "54.57"
        ],
        [
         "pts_ot7_away",
         "14984",
         "27457",
         "54.57"
        ],
        [
         "pts_ot8_away",
         "14984",
         "27457",
         "54.57"
        ],
        [
         "pts_ot9_away",
         "14984",
         "27457",
         "54.57"
        ],
        [
         "pts_ot10_away",
         "14984",
         "27457",
         "54.57"
        ]
       ],
       "shape": {
        "columns": 3,
        "rows": 12
       }
      },
      "text/html": [
       "<div>\n",
       "<style scoped>\n",
       "    .dataframe tbody tr th:only-of-type {\n",
       "        vertical-align: middle;\n",
       "    }\n",
       "\n",
       "    .dataframe tbody tr th {\n",
       "        vertical-align: top;\n",
       "    }\n",
       "\n",
       "    .dataframe thead th {\n",
       "        text-align: right;\n",
       "    }\n",
       "</style>\n",
       "<table border=\"1\" class=\"dataframe\">\n",
       "  <thead>\n",
       "    <tr style=\"text-align: right;\">\n",
       "      <th></th>\n",
       "      <th>Valores nulos</th>\n",
       "      <th>Total registros</th>\n",
       "      <th>Porcentaje</th>\n",
       "    </tr>\n",
       "  </thead>\n",
       "  <tbody>\n",
       "    <tr>\n",
       "      <th>pts_ot5_home</th>\n",
       "      <td>14984</td>\n",
       "      <td>27457</td>\n",
       "      <td>54.57</td>\n",
       "    </tr>\n",
       "    <tr>\n",
       "      <th>pts_ot6_home</th>\n",
       "      <td>14984</td>\n",
       "      <td>27457</td>\n",
       "      <td>54.57</td>\n",
       "    </tr>\n",
       "    <tr>\n",
       "      <th>pts_ot7_home</th>\n",
       "      <td>14984</td>\n",
       "      <td>27457</td>\n",
       "      <td>54.57</td>\n",
       "    </tr>\n",
       "    <tr>\n",
       "      <th>pts_ot8_home</th>\n",
       "      <td>14984</td>\n",
       "      <td>27457</td>\n",
       "      <td>54.57</td>\n",
       "    </tr>\n",
       "    <tr>\n",
       "      <th>pts_ot9_home</th>\n",
       "      <td>14984</td>\n",
       "      <td>27457</td>\n",
       "      <td>54.57</td>\n",
       "    </tr>\n",
       "    <tr>\n",
       "      <th>pts_ot10_home</th>\n",
       "      <td>14984</td>\n",
       "      <td>27457</td>\n",
       "      <td>54.57</td>\n",
       "    </tr>\n",
       "    <tr>\n",
       "      <th>pts_ot5_away</th>\n",
       "      <td>14984</td>\n",
       "      <td>27457</td>\n",
       "      <td>54.57</td>\n",
       "    </tr>\n",
       "    <tr>\n",
       "      <th>pts_ot6_away</th>\n",
       "      <td>14984</td>\n",
       "      <td>27457</td>\n",
       "      <td>54.57</td>\n",
       "    </tr>\n",
       "    <tr>\n",
       "      <th>pts_ot7_away</th>\n",
       "      <td>14984</td>\n",
       "      <td>27457</td>\n",
       "      <td>54.57</td>\n",
       "    </tr>\n",
       "    <tr>\n",
       "      <th>pts_ot8_away</th>\n",
       "      <td>14984</td>\n",
       "      <td>27457</td>\n",
       "      <td>54.57</td>\n",
       "    </tr>\n",
       "    <tr>\n",
       "      <th>pts_ot9_away</th>\n",
       "      <td>14984</td>\n",
       "      <td>27457</td>\n",
       "      <td>54.57</td>\n",
       "    </tr>\n",
       "    <tr>\n",
       "      <th>pts_ot10_away</th>\n",
       "      <td>14984</td>\n",
       "      <td>27457</td>\n",
       "      <td>54.57</td>\n",
       "    </tr>\n",
       "  </tbody>\n",
       "</table>\n",
       "</div>"
      ],
      "text/plain": [
       "               Valores nulos  Total registros  Porcentaje\n",
       "pts_ot5_home           14984            27457       54.57\n",
       "pts_ot6_home           14984            27457       54.57\n",
       "pts_ot7_home           14984            27457       54.57\n",
       "pts_ot8_home           14984            27457       54.57\n",
       "pts_ot9_home           14984            27457       54.57\n",
       "pts_ot10_home          14984            27457       54.57\n",
       "pts_ot5_away           14984            27457       54.57\n",
       "pts_ot6_away           14984            27457       54.57\n",
       "pts_ot7_away           14984            27457       54.57\n",
       "pts_ot8_away           14984            27457       54.57\n",
       "pts_ot9_away           14984            27457       54.57\n",
       "pts_ot10_away          14984            27457       54.57"
      ]
     },
     "execution_count": 57,
     "metadata": {},
     "output_type": "execute_result"
    }
   ],
   "source": [
    "null_50 = df_null_line_score[df_null_line_score[\"Porcentaje\"] > 50]\n",
    "null_50"
   ]
  },
  {
   "cell_type": "code",
   "execution_count": 58,
   "id": "629f8c73",
   "metadata": {},
   "outputs": [],
   "source": [
    "delete_columns = list(null_50.index)\n",
    "line_score.drop(columns=delete_columns, inplace=True)"
   ]
  },
  {
   "cell_type": "code",
   "execution_count": 59,
   "id": "636e2c44",
   "metadata": {},
   "outputs": [
    {
     "data": {
      "application/vnd.microsoft.datawrangler.viewer.v0+json": {
       "columns": [
        {
         "name": "index",
         "rawType": "object",
         "type": "string"
        },
        {
         "name": "Valores nulos",
         "rawType": "int64",
         "type": "integer"
        },
        {
         "name": "Total registros",
         "rawType": "int64",
         "type": "integer"
        },
        {
         "name": "Porcentaje",
         "rawType": "float64",
         "type": "float"
        }
       ],
       "conversionMethod": "pd.DataFrame",
       "ref": "57766649-39ee-4630-a57e-65912245ef16",
       "rows": [
        [
         "pts_ot1_home",
         "1",
         "27457",
         "0.0"
        ],
        [
         "pts_ot2_home",
         "2",
         "27457",
         "0.01"
        ],
        [
         "pts_ot3_home",
         "2",
         "27457",
         "0.01"
        ],
        [
         "pts_ot4_home",
         "2",
         "27457",
         "0.01"
        ],
        [
         "pts_ot1_away",
         "1",
         "27457",
         "0.0"
        ],
        [
         "pts_ot2_away",
         "2",
         "27457",
         "0.01"
        ],
        [
         "pts_ot3_away",
         "2",
         "27457",
         "0.01"
        ],
        [
         "pts_ot4_away",
         "2",
         "27457",
         "0.01"
        ]
       ],
       "shape": {
        "columns": 3,
        "rows": 8
       }
      },
      "text/html": [
       "<div>\n",
       "<style scoped>\n",
       "    .dataframe tbody tr th:only-of-type {\n",
       "        vertical-align: middle;\n",
       "    }\n",
       "\n",
       "    .dataframe tbody tr th {\n",
       "        vertical-align: top;\n",
       "    }\n",
       "\n",
       "    .dataframe thead th {\n",
       "        text-align: right;\n",
       "    }\n",
       "</style>\n",
       "<table border=\"1\" class=\"dataframe\">\n",
       "  <thead>\n",
       "    <tr style=\"text-align: right;\">\n",
       "      <th></th>\n",
       "      <th>Valores nulos</th>\n",
       "      <th>Total registros</th>\n",
       "      <th>Porcentaje</th>\n",
       "    </tr>\n",
       "  </thead>\n",
       "  <tbody>\n",
       "    <tr>\n",
       "      <th>pts_ot1_home</th>\n",
       "      <td>1</td>\n",
       "      <td>27457</td>\n",
       "      <td>0.00</td>\n",
       "    </tr>\n",
       "    <tr>\n",
       "      <th>pts_ot2_home</th>\n",
       "      <td>2</td>\n",
       "      <td>27457</td>\n",
       "      <td>0.01</td>\n",
       "    </tr>\n",
       "    <tr>\n",
       "      <th>pts_ot3_home</th>\n",
       "      <td>2</td>\n",
       "      <td>27457</td>\n",
       "      <td>0.01</td>\n",
       "    </tr>\n",
       "    <tr>\n",
       "      <th>pts_ot4_home</th>\n",
       "      <td>2</td>\n",
       "      <td>27457</td>\n",
       "      <td>0.01</td>\n",
       "    </tr>\n",
       "    <tr>\n",
       "      <th>pts_ot1_away</th>\n",
       "      <td>1</td>\n",
       "      <td>27457</td>\n",
       "      <td>0.00</td>\n",
       "    </tr>\n",
       "    <tr>\n",
       "      <th>pts_ot2_away</th>\n",
       "      <td>2</td>\n",
       "      <td>27457</td>\n",
       "      <td>0.01</td>\n",
       "    </tr>\n",
       "    <tr>\n",
       "      <th>pts_ot3_away</th>\n",
       "      <td>2</td>\n",
       "      <td>27457</td>\n",
       "      <td>0.01</td>\n",
       "    </tr>\n",
       "    <tr>\n",
       "      <th>pts_ot4_away</th>\n",
       "      <td>2</td>\n",
       "      <td>27457</td>\n",
       "      <td>0.01</td>\n",
       "    </tr>\n",
       "  </tbody>\n",
       "</table>\n",
       "</div>"
      ],
      "text/plain": [
       "              Valores nulos  Total registros  Porcentaje\n",
       "pts_ot1_home              1            27457        0.00\n",
       "pts_ot2_home              2            27457        0.01\n",
       "pts_ot3_home              2            27457        0.01\n",
       "pts_ot4_home              2            27457        0.01\n",
       "pts_ot1_away              1            27457        0.00\n",
       "pts_ot2_away              2            27457        0.01\n",
       "pts_ot3_away              2            27457        0.01\n",
       "pts_ot4_away              2            27457        0.01"
      ]
     },
     "execution_count": 59,
     "metadata": {},
     "output_type": "execute_result"
    }
   ],
   "source": [
    "null_line_score = line_score.isnull().sum()\n",
    "total_register = len(line_score)\n",
    "null_result = null_line_score[null_line_score > 0]\n",
    "\n",
    "df_null_line_score = pd.DataFrame(\n",
    "    {\n",
    "        \"Valores nulos\": null_result,\n",
    "        \"Total registros\": total_register,\n",
    "        \"Porcentaje\": (null_result / total_register * 100).round(2),\n",
    "    }\n",
    ")\n",
    "\n",
    "df_null_line_score"
   ]
  },
  {
   "cell_type": "markdown",
   "id": "ae278e97",
   "metadata": {},
   "source": [
    "### 2.8.4. Agregado de 0 a los nulos restantes"
   ]
  },
  {
   "cell_type": "code",
   "execution_count": 60,
   "id": "6386e4d8",
   "metadata": {},
   "outputs": [],
   "source": [
    "line_score = line_score.fillna(0)"
   ]
  },
  {
   "cell_type": "code",
   "execution_count": 61,
   "id": "00064e02",
   "metadata": {},
   "outputs": [
    {
     "data": {
      "application/vnd.microsoft.datawrangler.viewer.v0+json": {
       "columns": [
        {
         "name": "index",
         "rawType": "object",
         "type": "string"
        },
        {
         "name": "Valores nulos",
         "rawType": "int64",
         "type": "integer"
        },
        {
         "name": "Total registros",
         "rawType": "int64",
         "type": "integer"
        },
        {
         "name": "Porcentaje",
         "rawType": "float64",
         "type": "float"
        }
       ],
       "conversionMethod": "pd.DataFrame",
       "ref": "f9665ec5-7285-42af-806a-ca72c21e2985",
       "rows": [],
       "shape": {
        "columns": 3,
        "rows": 0
       }
      },
      "text/html": [
       "<div>\n",
       "<style scoped>\n",
       "    .dataframe tbody tr th:only-of-type {\n",
       "        vertical-align: middle;\n",
       "    }\n",
       "\n",
       "    .dataframe tbody tr th {\n",
       "        vertical-align: top;\n",
       "    }\n",
       "\n",
       "    .dataframe thead th {\n",
       "        text-align: right;\n",
       "    }\n",
       "</style>\n",
       "<table border=\"1\" class=\"dataframe\">\n",
       "  <thead>\n",
       "    <tr style=\"text-align: right;\">\n",
       "      <th></th>\n",
       "      <th>Valores nulos</th>\n",
       "      <th>Total registros</th>\n",
       "      <th>Porcentaje</th>\n",
       "    </tr>\n",
       "  </thead>\n",
       "  <tbody>\n",
       "  </tbody>\n",
       "</table>\n",
       "</div>"
      ],
      "text/plain": [
       "Empty DataFrame\n",
       "Columns: [Valores nulos, Total registros, Porcentaje]\n",
       "Index: []"
      ]
     },
     "execution_count": 61,
     "metadata": {},
     "output_type": "execute_result"
    }
   ],
   "source": [
    "null_line_score = line_score.isnull().sum()\n",
    "total_register = len(line_score)\n",
    "null_result = null_line_score[null_line_score > 0]\n",
    "\n",
    "df_null_line_score = pd.DataFrame(\n",
    "    {\n",
    "        \"Valores nulos\": null_result,\n",
    "        \"Total registros\": total_register,\n",
    "        \"Porcentaje\": (null_result / total_register * 100).round(2),\n",
    "    }\n",
    ")\n",
    "\n",
    "df_null_line_score"
   ]
  },
  {
   "cell_type": "markdown",
   "id": "e7671fc0",
   "metadata": {},
   "source": [
    "## 2.9. Tabla officials"
   ]
  },
  {
   "cell_type": "markdown",
   "id": "acc572c8",
   "metadata": {},
   "source": [
    "### 2.9.1. Lectura de nulos"
   ]
  },
  {
   "cell_type": "code",
   "execution_count": 62,
   "id": "649c314d",
   "metadata": {},
   "outputs": [
    {
     "data": {
      "text/plain": [
       "(game_id          0\n",
       " official_id      0\n",
       " first_name       0\n",
       " last_name        0\n",
       " jersey_num     190\n",
       " dtype: int64,\n",
       " (70971, 5))"
      ]
     },
     "execution_count": 62,
     "metadata": {},
     "output_type": "execute_result"
    }
   ],
   "source": [
    "officials.isnull().sum(), officials.shape"
   ]
  },
  {
   "cell_type": "code",
   "execution_count": 63,
   "id": "5bd4989b",
   "metadata": {},
   "outputs": [
    {
     "data": {
      "application/vnd.microsoft.datawrangler.viewer.v0+json": {
       "columns": [
        {
         "name": "index",
         "rawType": "object",
         "type": "string"
        },
        {
         "name": "Valores nulos",
         "rawType": "int64",
         "type": "integer"
        },
        {
         "name": "Total registros",
         "rawType": "int64",
         "type": "integer"
        },
        {
         "name": "Porcentaje",
         "rawType": "float64",
         "type": "float"
        }
       ],
       "conversionMethod": "pd.DataFrame",
       "ref": "5d8cbf62-05bc-4ff9-8066-5c5ac063df57",
       "rows": [
        [
         "jersey_num",
         "190",
         "70971",
         "0.27"
        ]
       ],
       "shape": {
        "columns": 3,
        "rows": 1
       }
      },
      "text/html": [
       "<div>\n",
       "<style scoped>\n",
       "    .dataframe tbody tr th:only-of-type {\n",
       "        vertical-align: middle;\n",
       "    }\n",
       "\n",
       "    .dataframe tbody tr th {\n",
       "        vertical-align: top;\n",
       "    }\n",
       "\n",
       "    .dataframe thead th {\n",
       "        text-align: right;\n",
       "    }\n",
       "</style>\n",
       "<table border=\"1\" class=\"dataframe\">\n",
       "  <thead>\n",
       "    <tr style=\"text-align: right;\">\n",
       "      <th></th>\n",
       "      <th>Valores nulos</th>\n",
       "      <th>Total registros</th>\n",
       "      <th>Porcentaje</th>\n",
       "    </tr>\n",
       "  </thead>\n",
       "  <tbody>\n",
       "    <tr>\n",
       "      <th>jersey_num</th>\n",
       "      <td>190</td>\n",
       "      <td>70971</td>\n",
       "      <td>0.27</td>\n",
       "    </tr>\n",
       "  </tbody>\n",
       "</table>\n",
       "</div>"
      ],
      "text/plain": [
       "            Valores nulos  Total registros  Porcentaje\n",
       "jersey_num            190            70971        0.27"
      ]
     },
     "execution_count": 63,
     "metadata": {},
     "output_type": "execute_result"
    }
   ],
   "source": [
    "null_officials = officials.isnull().sum()\n",
    "total_register = len(officials)\n",
    "null_result = null_officials[null_officials > 0]\n",
    "\n",
    "df_null_officials = pd.DataFrame(\n",
    "    {\n",
    "        \"Valores nulos\": null_result,\n",
    "        \"Total registros\": total_register,\n",
    "        \"Porcentaje\": (null_result / total_register * 100).round(2),\n",
    "    }\n",
    ")\n",
    "\n",
    "df_null_officials"
   ]
  },
  {
   "cell_type": "markdown",
   "id": "00145f7d",
   "metadata": {},
   "source": [
    "### 2.9.2. Eliminacion de columnnas innecesarias"
   ]
  },
  {
   "cell_type": "code",
   "execution_count": 64,
   "id": "52ecdc09",
   "metadata": {},
   "outputs": [],
   "source": [
    "officials = officials.drop(['jersey_num'], axis=1)"
   ]
  },
  {
   "cell_type": "code",
   "execution_count": 65,
   "id": "6bc93de5",
   "metadata": {},
   "outputs": [
    {
     "data": {
      "application/vnd.microsoft.datawrangler.viewer.v0+json": {
       "columns": [
        {
         "name": "index",
         "rawType": "object",
         "type": "string"
        },
        {
         "name": "Valores nulos",
         "rawType": "int64",
         "type": "integer"
        },
        {
         "name": "Total registros",
         "rawType": "int64",
         "type": "integer"
        },
        {
         "name": "Porcentaje",
         "rawType": "float64",
         "type": "float"
        }
       ],
       "conversionMethod": "pd.DataFrame",
       "ref": "439b02de-ed56-4e61-b8ea-d58266e5921a",
       "rows": [],
       "shape": {
        "columns": 3,
        "rows": 0
       }
      },
      "text/html": [
       "<div>\n",
       "<style scoped>\n",
       "    .dataframe tbody tr th:only-of-type {\n",
       "        vertical-align: middle;\n",
       "    }\n",
       "\n",
       "    .dataframe tbody tr th {\n",
       "        vertical-align: top;\n",
       "    }\n",
       "\n",
       "    .dataframe thead th {\n",
       "        text-align: right;\n",
       "    }\n",
       "</style>\n",
       "<table border=\"1\" class=\"dataframe\">\n",
       "  <thead>\n",
       "    <tr style=\"text-align: right;\">\n",
       "      <th></th>\n",
       "      <th>Valores nulos</th>\n",
       "      <th>Total registros</th>\n",
       "      <th>Porcentaje</th>\n",
       "    </tr>\n",
       "  </thead>\n",
       "  <tbody>\n",
       "  </tbody>\n",
       "</table>\n",
       "</div>"
      ],
      "text/plain": [
       "Empty DataFrame\n",
       "Columns: [Valores nulos, Total registros, Porcentaje]\n",
       "Index: []"
      ]
     },
     "execution_count": 65,
     "metadata": {},
     "output_type": "execute_result"
    }
   ],
   "source": [
    "null_officials = officials.isnull().sum()\n",
    "total_register = len(officials)\n",
    "null_result = null_officials[null_officials > 0]\n",
    "\n",
    "df_null_officials = pd.DataFrame(\n",
    "    {\n",
    "        \"Valores nulos\": null_result,\n",
    "        \"Total registros\": total_register,\n",
    "        \"Porcentaje\": (null_result / total_register * 100).round(2),\n",
    "    }\n",
    ")\n",
    "\n",
    "df_null_officials"
   ]
  },
  {
   "cell_type": "markdown",
   "id": "c15fa674",
   "metadata": {},
   "source": [
    "## 2.10. Tabla other_stats"
   ]
  },
  {
   "cell_type": "markdown",
   "id": "75bceb8c",
   "metadata": {},
   "source": [
    "### 2.10.1. Lectura de nulos"
   ]
  },
  {
   "cell_type": "code",
   "execution_count": 66,
   "id": "01a33eec",
   "metadata": {},
   "outputs": [
    {
     "data": {
      "text/plain": [
       "(game_id                      0\n",
       " league_id                    0\n",
       " team_id_home                 0\n",
       " team_abbreviation_home       0\n",
       " team_city_home               0\n",
       " pts_paint_home               0\n",
       " pts_2nd_chance_home          0\n",
       " pts_fb_home                  0\n",
       " largest_lead_home            0\n",
       " lead_changes                 0\n",
       " times_tied                   0\n",
       " team_turnovers_home          2\n",
       " total_turnovers_home       316\n",
       " team_rebounds_home        1998\n",
       " pts_off_to_home           2123\n",
       " team_id_away                 0\n",
       " team_abbreviation_away       0\n",
       " team_city_away               0\n",
       " pts_paint_away               0\n",
       " pts_2nd_chance_away          0\n",
       " pts_fb_away                  0\n",
       " largest_lead_away            0\n",
       " team_turnovers_away          2\n",
       " total_turnovers_away       316\n",
       " team_rebounds_away        1998\n",
       " pts_off_to_away           2123\n",
       " dtype: int64,\n",
       " (28271, 26))"
      ]
     },
     "execution_count": 66,
     "metadata": {},
     "output_type": "execute_result"
    }
   ],
   "source": [
    "other_stats.isnull().sum(), other_stats.shape"
   ]
  },
  {
   "cell_type": "code",
   "execution_count": 67,
   "id": "3f2752e4",
   "metadata": {},
   "outputs": [
    {
     "data": {
      "application/vnd.microsoft.datawrangler.viewer.v0+json": {
       "columns": [
        {
         "name": "index",
         "rawType": "object",
         "type": "string"
        },
        {
         "name": "Valores nulos",
         "rawType": "int64",
         "type": "integer"
        },
        {
         "name": "Total registros",
         "rawType": "int64",
         "type": "integer"
        },
        {
         "name": "Porcentaje",
         "rawType": "float64",
         "type": "float"
        }
       ],
       "conversionMethod": "pd.DataFrame",
       "ref": "ff98c660-8ef1-42a5-8cf4-e7f0b26d6e48",
       "rows": [
        [
         "team_turnovers_home",
         "2",
         "28271",
         "0.01"
        ],
        [
         "total_turnovers_home",
         "316",
         "28271",
         "1.12"
        ],
        [
         "team_rebounds_home",
         "1998",
         "28271",
         "7.07"
        ],
        [
         "pts_off_to_home",
         "2123",
         "28271",
         "7.51"
        ],
        [
         "team_turnovers_away",
         "2",
         "28271",
         "0.01"
        ],
        [
         "total_turnovers_away",
         "316",
         "28271",
         "1.12"
        ],
        [
         "team_rebounds_away",
         "1998",
         "28271",
         "7.07"
        ],
        [
         "pts_off_to_away",
         "2123",
         "28271",
         "7.51"
        ]
       ],
       "shape": {
        "columns": 3,
        "rows": 8
       }
      },
      "text/html": [
       "<div>\n",
       "<style scoped>\n",
       "    .dataframe tbody tr th:only-of-type {\n",
       "        vertical-align: middle;\n",
       "    }\n",
       "\n",
       "    .dataframe tbody tr th {\n",
       "        vertical-align: top;\n",
       "    }\n",
       "\n",
       "    .dataframe thead th {\n",
       "        text-align: right;\n",
       "    }\n",
       "</style>\n",
       "<table border=\"1\" class=\"dataframe\">\n",
       "  <thead>\n",
       "    <tr style=\"text-align: right;\">\n",
       "      <th></th>\n",
       "      <th>Valores nulos</th>\n",
       "      <th>Total registros</th>\n",
       "      <th>Porcentaje</th>\n",
       "    </tr>\n",
       "  </thead>\n",
       "  <tbody>\n",
       "    <tr>\n",
       "      <th>team_turnovers_home</th>\n",
       "      <td>2</td>\n",
       "      <td>28271</td>\n",
       "      <td>0.01</td>\n",
       "    </tr>\n",
       "    <tr>\n",
       "      <th>total_turnovers_home</th>\n",
       "      <td>316</td>\n",
       "      <td>28271</td>\n",
       "      <td>1.12</td>\n",
       "    </tr>\n",
       "    <tr>\n",
       "      <th>team_rebounds_home</th>\n",
       "      <td>1998</td>\n",
       "      <td>28271</td>\n",
       "      <td>7.07</td>\n",
       "    </tr>\n",
       "    <tr>\n",
       "      <th>pts_off_to_home</th>\n",
       "      <td>2123</td>\n",
       "      <td>28271</td>\n",
       "      <td>7.51</td>\n",
       "    </tr>\n",
       "    <tr>\n",
       "      <th>team_turnovers_away</th>\n",
       "      <td>2</td>\n",
       "      <td>28271</td>\n",
       "      <td>0.01</td>\n",
       "    </tr>\n",
       "    <tr>\n",
       "      <th>total_turnovers_away</th>\n",
       "      <td>316</td>\n",
       "      <td>28271</td>\n",
       "      <td>1.12</td>\n",
       "    </tr>\n",
       "    <tr>\n",
       "      <th>team_rebounds_away</th>\n",
       "      <td>1998</td>\n",
       "      <td>28271</td>\n",
       "      <td>7.07</td>\n",
       "    </tr>\n",
       "    <tr>\n",
       "      <th>pts_off_to_away</th>\n",
       "      <td>2123</td>\n",
       "      <td>28271</td>\n",
       "      <td>7.51</td>\n",
       "    </tr>\n",
       "  </tbody>\n",
       "</table>\n",
       "</div>"
      ],
      "text/plain": [
       "                      Valores nulos  Total registros  Porcentaje\n",
       "team_turnovers_home               2            28271        0.01\n",
       "total_turnovers_home            316            28271        1.12\n",
       "team_rebounds_home             1998            28271        7.07\n",
       "pts_off_to_home                2123            28271        7.51\n",
       "team_turnovers_away               2            28271        0.01\n",
       "total_turnovers_away            316            28271        1.12\n",
       "team_rebounds_away             1998            28271        7.07\n",
       "pts_off_to_away                2123            28271        7.51"
      ]
     },
     "execution_count": 67,
     "metadata": {},
     "output_type": "execute_result"
    }
   ],
   "source": [
    "null_other_stats = other_stats.isnull().sum()\n",
    "total_register = len(other_stats)\n",
    "null_result = null_other_stats[null_other_stats > 0]\n",
    "\n",
    "df_null_other_stats = pd.DataFrame(\n",
    "    {\n",
    "        \"Valores nulos\": null_result,\n",
    "        \"Total registros\": total_register,\n",
    "        \"Porcentaje\": (null_result / total_register * 100).round(2),\n",
    "    }\n",
    ")\n",
    "\n",
    "df_null_other_stats"
   ]
  },
  {
   "cell_type": "markdown",
   "id": "aca16867",
   "metadata": {},
   "source": [
    "### 2.10.2. Eliminacion de columnas innecesarias"
   ]
  },
  {
   "cell_type": "code",
   "execution_count": 68,
   "id": "950aca4f",
   "metadata": {},
   "outputs": [],
   "source": [
    "delete_columns = ['league_id']\n",
    "\n",
    "other_stats.drop(delete_columns, axis=1, inplace=True)"
   ]
  },
  {
   "cell_type": "code",
   "execution_count": 69,
   "id": "ced93a84",
   "metadata": {},
   "outputs": [
    {
     "data": {
      "application/vnd.microsoft.datawrangler.viewer.v0+json": {
       "columns": [
        {
         "name": "index",
         "rawType": "object",
         "type": "string"
        },
        {
         "name": "Valores nulos",
         "rawType": "int64",
         "type": "integer"
        },
        {
         "name": "Total registros",
         "rawType": "int64",
         "type": "integer"
        },
        {
         "name": "Porcentaje",
         "rawType": "float64",
         "type": "float"
        }
       ],
       "conversionMethod": "pd.DataFrame",
       "ref": "d9f2fe21-4410-4777-83b7-61f9dce8532e",
       "rows": [
        [
         "team_turnovers_home",
         "2",
         "28271",
         "0.01"
        ],
        [
         "total_turnovers_home",
         "316",
         "28271",
         "1.12"
        ],
        [
         "team_rebounds_home",
         "1998",
         "28271",
         "7.07"
        ],
        [
         "pts_off_to_home",
         "2123",
         "28271",
         "7.51"
        ],
        [
         "team_turnovers_away",
         "2",
         "28271",
         "0.01"
        ],
        [
         "total_turnovers_away",
         "316",
         "28271",
         "1.12"
        ],
        [
         "team_rebounds_away",
         "1998",
         "28271",
         "7.07"
        ],
        [
         "pts_off_to_away",
         "2123",
         "28271",
         "7.51"
        ]
       ],
       "shape": {
        "columns": 3,
        "rows": 8
       }
      },
      "text/html": [
       "<div>\n",
       "<style scoped>\n",
       "    .dataframe tbody tr th:only-of-type {\n",
       "        vertical-align: middle;\n",
       "    }\n",
       "\n",
       "    .dataframe tbody tr th {\n",
       "        vertical-align: top;\n",
       "    }\n",
       "\n",
       "    .dataframe thead th {\n",
       "        text-align: right;\n",
       "    }\n",
       "</style>\n",
       "<table border=\"1\" class=\"dataframe\">\n",
       "  <thead>\n",
       "    <tr style=\"text-align: right;\">\n",
       "      <th></th>\n",
       "      <th>Valores nulos</th>\n",
       "      <th>Total registros</th>\n",
       "      <th>Porcentaje</th>\n",
       "    </tr>\n",
       "  </thead>\n",
       "  <tbody>\n",
       "    <tr>\n",
       "      <th>team_turnovers_home</th>\n",
       "      <td>2</td>\n",
       "      <td>28271</td>\n",
       "      <td>0.01</td>\n",
       "    </tr>\n",
       "    <tr>\n",
       "      <th>total_turnovers_home</th>\n",
       "      <td>316</td>\n",
       "      <td>28271</td>\n",
       "      <td>1.12</td>\n",
       "    </tr>\n",
       "    <tr>\n",
       "      <th>team_rebounds_home</th>\n",
       "      <td>1998</td>\n",
       "      <td>28271</td>\n",
       "      <td>7.07</td>\n",
       "    </tr>\n",
       "    <tr>\n",
       "      <th>pts_off_to_home</th>\n",
       "      <td>2123</td>\n",
       "      <td>28271</td>\n",
       "      <td>7.51</td>\n",
       "    </tr>\n",
       "    <tr>\n",
       "      <th>team_turnovers_away</th>\n",
       "      <td>2</td>\n",
       "      <td>28271</td>\n",
       "      <td>0.01</td>\n",
       "    </tr>\n",
       "    <tr>\n",
       "      <th>total_turnovers_away</th>\n",
       "      <td>316</td>\n",
       "      <td>28271</td>\n",
       "      <td>1.12</td>\n",
       "    </tr>\n",
       "    <tr>\n",
       "      <th>team_rebounds_away</th>\n",
       "      <td>1998</td>\n",
       "      <td>28271</td>\n",
       "      <td>7.07</td>\n",
       "    </tr>\n",
       "    <tr>\n",
       "      <th>pts_off_to_away</th>\n",
       "      <td>2123</td>\n",
       "      <td>28271</td>\n",
       "      <td>7.51</td>\n",
       "    </tr>\n",
       "  </tbody>\n",
       "</table>\n",
       "</div>"
      ],
      "text/plain": [
       "                      Valores nulos  Total registros  Porcentaje\n",
       "team_turnovers_home               2            28271        0.01\n",
       "total_turnovers_home            316            28271        1.12\n",
       "team_rebounds_home             1998            28271        7.07\n",
       "pts_off_to_home                2123            28271        7.51\n",
       "team_turnovers_away               2            28271        0.01\n",
       "total_turnovers_away            316            28271        1.12\n",
       "team_rebounds_away             1998            28271        7.07\n",
       "pts_off_to_away                2123            28271        7.51"
      ]
     },
     "execution_count": 69,
     "metadata": {},
     "output_type": "execute_result"
    }
   ],
   "source": [
    "null_other_stats = other_stats.isnull().sum()\n",
    "total_register = len(other_stats)\n",
    "null_result = null_other_stats[null_other_stats > 0]\n",
    "\n",
    "df_null_other_stats = pd.DataFrame(\n",
    "    {\n",
    "        \"Valores nulos\": null_result,\n",
    "        \"Total registros\": total_register,\n",
    "        \"Porcentaje\": (null_result / total_register * 100).round(2),\n",
    "    }\n",
    ")\n",
    "\n",
    "df_null_other_stats"
   ]
  },
  {
   "cell_type": "markdown",
   "id": "3e41a63b",
   "metadata": {},
   "source": [
    "### 2.10.3. Eliminacion de filas nulas en diferentes columnas"
   ]
  },
  {
   "cell_type": "code",
   "execution_count": 70,
   "id": "a7b917d1",
   "metadata": {},
   "outputs": [],
   "source": [
    "other_stats = other_stats.dropna(subset=['team_turnovers_home', 'total_turnovers_home', 'team_rebounds_home', 'pts_off_to_home', 'team_turnovers_away', 'total_turnovers_away', 'team_rebounds_away', 'pts_off_to_away'])"
   ]
  },
  {
   "cell_type": "code",
   "execution_count": 71,
   "id": "68c4bee3",
   "metadata": {},
   "outputs": [
    {
     "data": {
      "application/vnd.microsoft.datawrangler.viewer.v0+json": {
       "columns": [
        {
         "name": "index",
         "rawType": "object",
         "type": "string"
        },
        {
         "name": "Valores nulos",
         "rawType": "int64",
         "type": "integer"
        },
        {
         "name": "Total registros",
         "rawType": "int64",
         "type": "integer"
        },
        {
         "name": "Porcentaje",
         "rawType": "float64",
         "type": "float"
        }
       ],
       "conversionMethod": "pd.DataFrame",
       "ref": "689765d9-44a7-412e-9edc-2c5f41eb591b",
       "rows": [],
       "shape": {
        "columns": 3,
        "rows": 0
       }
      },
      "text/html": [
       "<div>\n",
       "<style scoped>\n",
       "    .dataframe tbody tr th:only-of-type {\n",
       "        vertical-align: middle;\n",
       "    }\n",
       "\n",
       "    .dataframe tbody tr th {\n",
       "        vertical-align: top;\n",
       "    }\n",
       "\n",
       "    .dataframe thead th {\n",
       "        text-align: right;\n",
       "    }\n",
       "</style>\n",
       "<table border=\"1\" class=\"dataframe\">\n",
       "  <thead>\n",
       "    <tr style=\"text-align: right;\">\n",
       "      <th></th>\n",
       "      <th>Valores nulos</th>\n",
       "      <th>Total registros</th>\n",
       "      <th>Porcentaje</th>\n",
       "    </tr>\n",
       "  </thead>\n",
       "  <tbody>\n",
       "  </tbody>\n",
       "</table>\n",
       "</div>"
      ],
      "text/plain": [
       "Empty DataFrame\n",
       "Columns: [Valores nulos, Total registros, Porcentaje]\n",
       "Index: []"
      ]
     },
     "execution_count": 71,
     "metadata": {},
     "output_type": "execute_result"
    }
   ],
   "source": [
    "null_other_stats = other_stats.isnull().sum()\n",
    "total_register = len(other_stats)\n",
    "null_result = null_other_stats[null_other_stats > 0]\n",
    "\n",
    "df_null_other_stats = pd.DataFrame(\n",
    "    {\n",
    "        \"Valores nulos\": null_result,\n",
    "        \"Total registros\": total_register,\n",
    "        \"Porcentaje\": (null_result / total_register * 100).round(2),\n",
    "    }\n",
    ")\n",
    "\n",
    "df_null_other_stats"
   ]
  },
  {
   "cell_type": "markdown",
   "id": "632bea56",
   "metadata": {},
   "source": [
    "## 2.11. Tabla player"
   ]
  },
  {
   "cell_type": "markdown",
   "id": "8c17bb75",
   "metadata": {},
   "source": [
    "### 2.11.1. Lectura de nulos"
   ]
  },
  {
   "cell_type": "code",
   "execution_count": 72,
   "id": "7f81ac60",
   "metadata": {},
   "outputs": [
    {
     "data": {
      "text/plain": [
       "(id            0\n",
       " full_name     0\n",
       " first_name    6\n",
       " last_name     0\n",
       " is_active     0\n",
       " dtype: int64,\n",
       " (4831, 5))"
      ]
     },
     "execution_count": 72,
     "metadata": {},
     "output_type": "execute_result"
    }
   ],
   "source": [
    "player.isnull().sum(), player.shape"
   ]
  },
  {
   "cell_type": "code",
   "execution_count": 73,
   "id": "b59b596b",
   "metadata": {},
   "outputs": [
    {
     "data": {
      "application/vnd.microsoft.datawrangler.viewer.v0+json": {
       "columns": [
        {
         "name": "index",
         "rawType": "object",
         "type": "string"
        },
        {
         "name": "Valores nulos",
         "rawType": "int64",
         "type": "integer"
        },
        {
         "name": "Total registros",
         "rawType": "int64",
         "type": "integer"
        },
        {
         "name": "Porcentaje",
         "rawType": "float64",
         "type": "float"
        }
       ],
       "conversionMethod": "pd.DataFrame",
       "ref": "d4fe591f-875c-4bde-ad7f-7de122398478",
       "rows": [
        [
         "first_name",
         "6",
         "4831",
         "0.12"
        ]
       ],
       "shape": {
        "columns": 3,
        "rows": 1
       }
      },
      "text/html": [
       "<div>\n",
       "<style scoped>\n",
       "    .dataframe tbody tr th:only-of-type {\n",
       "        vertical-align: middle;\n",
       "    }\n",
       "\n",
       "    .dataframe tbody tr th {\n",
       "        vertical-align: top;\n",
       "    }\n",
       "\n",
       "    .dataframe thead th {\n",
       "        text-align: right;\n",
       "    }\n",
       "</style>\n",
       "<table border=\"1\" class=\"dataframe\">\n",
       "  <thead>\n",
       "    <tr style=\"text-align: right;\">\n",
       "      <th></th>\n",
       "      <th>Valores nulos</th>\n",
       "      <th>Total registros</th>\n",
       "      <th>Porcentaje</th>\n",
       "    </tr>\n",
       "  </thead>\n",
       "  <tbody>\n",
       "    <tr>\n",
       "      <th>first_name</th>\n",
       "      <td>6</td>\n",
       "      <td>4831</td>\n",
       "      <td>0.12</td>\n",
       "    </tr>\n",
       "  </tbody>\n",
       "</table>\n",
       "</div>"
      ],
      "text/plain": [
       "            Valores nulos  Total registros  Porcentaje\n",
       "first_name              6             4831        0.12"
      ]
     },
     "execution_count": 73,
     "metadata": {},
     "output_type": "execute_result"
    }
   ],
   "source": [
    "null_player = player.isnull().sum()\n",
    "total_register = len(player)\n",
    "null_result = null_player[null_player > 0]\n",
    "\n",
    "df_null_player = pd.DataFrame(\n",
    "    {\n",
    "        \"Valores nulos\": null_result,\n",
    "        \"Total registros\": total_register,\n",
    "        \"Porcentaje\": (null_result / total_register * 100).round(2),\n",
    "    }\n",
    ")\n",
    "\n",
    "df_null_player"
   ]
  },
  {
   "cell_type": "markdown",
   "id": "8b4554ad",
   "metadata": {},
   "source": [
    "## 2.12. Tabla team_details"
   ]
  },
  {
   "cell_type": "markdown",
   "id": "ccd7e4fd",
   "metadata": {},
   "source": [
    "### 2.12.1. Lectura de nulos"
   ]
  },
  {
   "cell_type": "code",
   "execution_count": 74,
   "id": "ef1256f1",
   "metadata": {},
   "outputs": [
    {
     "data": {
      "text/plain": [
       "(team_id               0\n",
       " abbreviation          0\n",
       " nickname              0\n",
       " yearfounded           0\n",
       " city                  0\n",
       " arena                 0\n",
       " arenacapacity         9\n",
       " owner                 0\n",
       " generalmanager        0\n",
       " headcoach             1\n",
       " dleagueaffiliation    0\n",
       " facebook              0\n",
       " instagram             0\n",
       " twitter               0\n",
       " dtype: int64,\n",
       " (25, 14))"
      ]
     },
     "execution_count": 74,
     "metadata": {},
     "output_type": "execute_result"
    }
   ],
   "source": [
    "team_details.isnull().sum(), team_details.shape"
   ]
  },
  {
   "cell_type": "code",
   "execution_count": 76,
   "id": "cf465b5d",
   "metadata": {},
   "outputs": [
    {
     "data": {
      "application/vnd.microsoft.datawrangler.viewer.v0+json": {
       "columns": [
        {
         "name": "index",
         "rawType": "object",
         "type": "string"
        },
        {
         "name": "Valores nulos",
         "rawType": "int64",
         "type": "integer"
        },
        {
         "name": "Total registros",
         "rawType": "int64",
         "type": "integer"
        },
        {
         "name": "Porcentaje",
         "rawType": "float64",
         "type": "float"
        }
       ],
       "conversionMethod": "pd.DataFrame",
       "ref": "7c1552e2-c600-4b7c-92b3-c26dc18c5110",
       "rows": [
        [
         "arenacapacity",
         "9",
         "25",
         "36.0"
        ],
        [
         "headcoach",
         "1",
         "25",
         "4.0"
        ]
       ],
       "shape": {
        "columns": 3,
        "rows": 2
       }
      },
      "text/html": [
       "<div>\n",
       "<style scoped>\n",
       "    .dataframe tbody tr th:only-of-type {\n",
       "        vertical-align: middle;\n",
       "    }\n",
       "\n",
       "    .dataframe tbody tr th {\n",
       "        vertical-align: top;\n",
       "    }\n",
       "\n",
       "    .dataframe thead th {\n",
       "        text-align: right;\n",
       "    }\n",
       "</style>\n",
       "<table border=\"1\" class=\"dataframe\">\n",
       "  <thead>\n",
       "    <tr style=\"text-align: right;\">\n",
       "      <th></th>\n",
       "      <th>Valores nulos</th>\n",
       "      <th>Total registros</th>\n",
       "      <th>Porcentaje</th>\n",
       "    </tr>\n",
       "  </thead>\n",
       "  <tbody>\n",
       "    <tr>\n",
       "      <th>arenacapacity</th>\n",
       "      <td>9</td>\n",
       "      <td>25</td>\n",
       "      <td>36.0</td>\n",
       "    </tr>\n",
       "    <tr>\n",
       "      <th>headcoach</th>\n",
       "      <td>1</td>\n",
       "      <td>25</td>\n",
       "      <td>4.0</td>\n",
       "    </tr>\n",
       "  </tbody>\n",
       "</table>\n",
       "</div>"
      ],
      "text/plain": [
       "               Valores nulos  Total registros  Porcentaje\n",
       "arenacapacity              9               25        36.0\n",
       "headcoach                  1               25         4.0"
      ]
     },
     "execution_count": 76,
     "metadata": {},
     "output_type": "execute_result"
    }
   ],
   "source": [
    "null_team_details = team_details.isnull().sum()\n",
    "total_register = len(team_details)\n",
    "null_result = null_team_details[null_team_details > 0]\n",
    "\n",
    "df_null_team_details = pd.DataFrame(\n",
    "    {\n",
    "        \"Valores nulos\": null_result,\n",
    "        \"Total registros\": total_register,\n",
    "        \"Porcentaje\": (null_result / total_register * 100).round(2),\n",
    "    }\n",
    ")\n",
    "\n",
    "df_null_team_details"
   ]
  },
  {
   "cell_type": "markdown",
   "id": "bef68875",
   "metadata": {},
   "source": [
    "### 2.12.2. Eliminacion de columnas de redes sociales"
   ]
  },
  {
   "cell_type": "code",
   "execution_count": null,
   "id": "0ece53bb",
   "metadata": {},
   "outputs": [
    {
     "data": {
      "application/vnd.microsoft.datawrangler.viewer.v0+json": {
       "columns": [
        {
         "name": "index",
         "rawType": "int64",
         "type": "integer"
        },
        {
         "name": "team_id",
         "rawType": "int64",
         "type": "integer"
        },
        {
         "name": "abbreviation",
         "rawType": "object",
         "type": "string"
        },
        {
         "name": "nickname",
         "rawType": "object",
         "type": "string"
        },
        {
         "name": "yearfounded",
         "rawType": "float64",
         "type": "float"
        },
        {
         "name": "city",
         "rawType": "object",
         "type": "string"
        },
        {
         "name": "arena",
         "rawType": "object",
         "type": "string"
        },
        {
         "name": "arenacapacity",
         "rawType": "float64",
         "type": "float"
        },
        {
         "name": "owner",
         "rawType": "object",
         "type": "string"
        },
        {
         "name": "generalmanager",
         "rawType": "object",
         "type": "string"
        },
        {
         "name": "headcoach",
         "rawType": "object",
         "type": "unknown"
        },
        {
         "name": "dleagueaffiliation",
         "rawType": "object",
         "type": "string"
        }
       ],
       "conversionMethod": "pd.DataFrame",
       "ref": "ee668fc4-8722-441c-9268-3b07e2d25c45",
       "rows": [
        [
         "0",
         "1610612737",
         "ATL",
         "Hawks",
         "1949.0",
         "Atlanta",
         "State Farm Arena",
         "18729.0",
         "Tony Ressler",
         "Travis Schlenk",
         "Quin Snyder",
         "College Park Skyhawks"
        ],
        [
         "1",
         "1610612741",
         "CHI",
         "Bulls",
         "1966.0",
         "Chicago",
         "United Center",
         "21711.0",
         "Michael Reinsdorf",
         "Arturas Karnisovas",
         "Billy Donovan",
         "Windy City Bulls"
        ],
        [
         "2",
         "1610612742",
         "DAL",
         "Mavericks",
         "1980.0",
         "Dallas",
         "American Airlines Center",
         "19200.0",
         "Mark Cuban",
         "Nico Harrison",
         "Jason Kidd",
         "Texas Legends"
        ],
        [
         "3",
         "1610612743",
         "DEN",
         "Nuggets",
         "1976.0",
         "Denver",
         "Ball Arena",
         null,
         "Stan Kroenke",
         "Calvin Booth",
         "Michael Malone",
         "Grand Rapids Gold"
        ],
        [
         "4",
         "1610612744",
         "GSW",
         "Warriors",
         "1946.0",
         "Golden State",
         "Chase Center",
         null,
         "Joe Lacob",
         "Bob Myers",
         "Steve Kerr",
         "Santa Cruz Warriors"
        ],
        [
         "5",
         "1610612745",
         "HOU",
         "Rockets",
         "1967.0",
         "Houston",
         "Toyota Center",
         "18104.0",
         "Tilman Fertitta",
         "Rafael Stone",
         "Ime Udoka",
         "Rio Grande Valley Vipers"
        ],
        [
         "6",
         "1610612746",
         "LAC",
         "Clippers",
         "1970.0",
         "Los Angeles",
         "Crypto.com Arena",
         "19060.0",
         "Steve Ballmer",
         "Michael Winger",
         "Tyronn Lue",
         "Agua Caliente Clippers of Ontario"
        ],
        [
         "7",
         "1610612747",
         "LAL",
         "Lakers",
         "1948.0",
         "Los Angeles",
         "Crypto.com Arena",
         "19060.0",
         "Jeanie Buss",
         "Rob Pelinka",
         "Darvin Ham",
         "South Bay Lakers"
        ],
        [
         "8",
         "1610612748",
         "MIA",
         "Heat",
         "1988.0",
         "Miami",
         "Kaseya Center",
         "19600.0",
         "Micky Arison",
         "Pat Riley",
         "Erik Spoelstra",
         "Sioux Falls Skyforce"
        ],
        [
         "9",
         "1610612749",
         "MIL",
         "Bucks",
         "1968.0",
         "Milwaukee",
         "Fiserv Forum",
         "17500.0",
         "Wesley Edens & Marc Lasry",
         "Jon Horst",
         "Adrian Griffin",
         "Wisconsin Herd"
        ],
        [
         "10",
         "1610612750",
         "MIN",
         "Timberwolves",
         "1989.0",
         "Minnesota",
         "Target Center",
         "19356.0",
         "Glen Taylor",
         "Tim Connelly",
         "Chris Finch",
         "Iowa Wolves"
        ],
        [
         "11",
         "1610612751",
         "BKN",
         "Nets",
         "1976.0",
         "Brooklyn",
         "Barclays Center",
         null,
         "Joe Tsai",
         "Sean Marks",
         "Jacque Vaughn",
         "Long Island Nets"
        ],
        [
         "12",
         "1610612754",
         "IND",
         "Pacers",
         "1976.0",
         "Indiana",
         "Gainbridge Fieldhouse ",
         "18345.0",
         "Herb Simon",
         "Kevin Pritchard",
         "Rick Carlisle",
         "Fort Wayne Mad Ants"
        ],
        [
         "13",
         "1610612755",
         "PHI",
         "76ers",
         "1949.0",
         "Philadelphia",
         "Wells Fargo Center",
         null,
         "Joshua Harris & David Blitzer",
         "Elton Brand",
         "Nick Nurse",
         "Delaware Blue Coats"
        ],
        [
         "14",
         "1610612756",
         "PHX",
         "Suns",
         "1968.0",
         "Phoenix",
         "Footprint Center",
         null,
         "Mat Ishbia",
         "James Jones",
         "Frank Vogel",
         "No Affiliate"
        ],
        [
         "15",
         "1610612757",
         "POR",
         "Trail Blazers",
         "1970.0",
         "Portland",
         "Moda Center",
         "19980.0",
         "Jody Allen",
         "Joe Cronin",
         "Chauncey Billups",
         "No Affiliate"
        ],
        [
         "16",
         "1610612758",
         "SAC",
         "Kings",
         "1948.0",
         "Sacramento",
         "Golden 1 Center",
         "17500.0",
         "Vivek Ranadive",
         "Monte McNair",
         "Mike Brown",
         "Stockton Kings"
        ],
        [
         "17",
         "1610612759",
         "SAS",
         "Spurs",
         "1976.0",
         "San Antonio",
         "AT&T Center",
         "18694.0",
         "Peter Holt",
         "Brian Wright",
         "Gregg Popovich",
         "Austin Spurs"
        ],
        [
         "18",
         "1610612760",
         "OKC",
         "Thunder",
         "1967.0",
         "Oklahoma City",
         "Paycom Center",
         null,
         "Clay Bennett",
         "Sam Presti",
         "Mark Daigneault",
         "Oklahoma City Blue"
        ],
        [
         "19",
         "1610612761",
         "TOR",
         "Raptors",
         "1995.0",
         "Toronto",
         "Scotiabank Arena",
         null,
         "Lawrence Tanenbaum",
         "Masai Ujiri",
         null,
         "Raptors 905"
        ],
        [
         "20",
         "1610612762",
         "UTA",
         "Jazz",
         "1974.0",
         "Utah",
         "Delta Center",
         null,
         "Ryan Smith",
         "Justin Zanik",
         "Will Hardy",
         "Salt Lake City Stars"
        ],
        [
         "21",
         "1610612763",
         "MEM",
         "Grizzlies",
         "1995.0",
         "Memphis",
         "FedExForum",
         "18119.0",
         "Robert Pera",
         "Zach Kleiman",
         "Taylor Jenkins",
         "Memphis Hustle"
        ],
        [
         "22",
         "1610612764",
         "WAS",
         "Wizards",
         "1961.0",
         "Washington",
         "Capital One Arena",
         "20647.0",
         "Ted Leonsis",
         "Tommy Sheppard",
         "Wes Unseld",
         "Capital City Go-Go"
        ],
        [
         "23",
         "1610612765",
         "DET",
         "Pistons",
         "1948.0",
         "Detroit",
         "Little Caesars Arena",
         null,
         "Tom Gores",
         "Ed Stefanski",
         "Monty Williams",
         "Motor City Cruise"
        ],
        [
         "24",
         "1610612766",
         "CHA",
         "Hornets",
         "1988.0",
         "Charlotte",
         "Spectrum Center",
         "19026.0",
         "Michael Jordan",
         "Mitch Kupchak",
         "Steve Clifford",
         "Greensboro Swarm"
        ]
       ],
       "shape": {
        "columns": 11,
        "rows": 25
       }
      },
      "text/html": [
       "<div>\n",
       "<style scoped>\n",
       "    .dataframe tbody tr th:only-of-type {\n",
       "        vertical-align: middle;\n",
       "    }\n",
       "\n",
       "    .dataframe tbody tr th {\n",
       "        vertical-align: top;\n",
       "    }\n",
       "\n",
       "    .dataframe thead th {\n",
       "        text-align: right;\n",
       "    }\n",
       "</style>\n",
       "<table border=\"1\" class=\"dataframe\">\n",
       "  <thead>\n",
       "    <tr style=\"text-align: right;\">\n",
       "      <th></th>\n",
       "      <th>team_id</th>\n",
       "      <th>abbreviation</th>\n",
       "      <th>nickname</th>\n",
       "      <th>yearfounded</th>\n",
       "      <th>city</th>\n",
       "      <th>arena</th>\n",
       "      <th>arenacapacity</th>\n",
       "      <th>owner</th>\n",
       "      <th>generalmanager</th>\n",
       "      <th>headcoach</th>\n",
       "      <th>dleagueaffiliation</th>\n",
       "    </tr>\n",
       "  </thead>\n",
       "  <tbody>\n",
       "    <tr>\n",
       "      <th>0</th>\n",
       "      <td>1610612737</td>\n",
       "      <td>ATL</td>\n",
       "      <td>Hawks</td>\n",
       "      <td>1949.0</td>\n",
       "      <td>Atlanta</td>\n",
       "      <td>State Farm Arena</td>\n",
       "      <td>18729.0</td>\n",
       "      <td>Tony Ressler</td>\n",
       "      <td>Travis Schlenk</td>\n",
       "      <td>Quin Snyder</td>\n",
       "      <td>College Park Skyhawks</td>\n",
       "    </tr>\n",
       "    <tr>\n",
       "      <th>1</th>\n",
       "      <td>1610612741</td>\n",
       "      <td>CHI</td>\n",
       "      <td>Bulls</td>\n",
       "      <td>1966.0</td>\n",
       "      <td>Chicago</td>\n",
       "      <td>United Center</td>\n",
       "      <td>21711.0</td>\n",
       "      <td>Michael Reinsdorf</td>\n",
       "      <td>Arturas Karnisovas</td>\n",
       "      <td>Billy Donovan</td>\n",
       "      <td>Windy City Bulls</td>\n",
       "    </tr>\n",
       "    <tr>\n",
       "      <th>2</th>\n",
       "      <td>1610612742</td>\n",
       "      <td>DAL</td>\n",
       "      <td>Mavericks</td>\n",
       "      <td>1980.0</td>\n",
       "      <td>Dallas</td>\n",
       "      <td>American Airlines Center</td>\n",
       "      <td>19200.0</td>\n",
       "      <td>Mark Cuban</td>\n",
       "      <td>Nico Harrison</td>\n",
       "      <td>Jason Kidd</td>\n",
       "      <td>Texas Legends</td>\n",
       "    </tr>\n",
       "    <tr>\n",
       "      <th>3</th>\n",
       "      <td>1610612743</td>\n",
       "      <td>DEN</td>\n",
       "      <td>Nuggets</td>\n",
       "      <td>1976.0</td>\n",
       "      <td>Denver</td>\n",
       "      <td>Ball Arena</td>\n",
       "      <td>NaN</td>\n",
       "      <td>Stan Kroenke</td>\n",
       "      <td>Calvin Booth</td>\n",
       "      <td>Michael Malone</td>\n",
       "      <td>Grand Rapids Gold</td>\n",
       "    </tr>\n",
       "    <tr>\n",
       "      <th>4</th>\n",
       "      <td>1610612744</td>\n",
       "      <td>GSW</td>\n",
       "      <td>Warriors</td>\n",
       "      <td>1946.0</td>\n",
       "      <td>Golden State</td>\n",
       "      <td>Chase Center</td>\n",
       "      <td>NaN</td>\n",
       "      <td>Joe Lacob</td>\n",
       "      <td>Bob Myers</td>\n",
       "      <td>Steve Kerr</td>\n",
       "      <td>Santa Cruz Warriors</td>\n",
       "    </tr>\n",
       "    <tr>\n",
       "      <th>5</th>\n",
       "      <td>1610612745</td>\n",
       "      <td>HOU</td>\n",
       "      <td>Rockets</td>\n",
       "      <td>1967.0</td>\n",
       "      <td>Houston</td>\n",
       "      <td>Toyota Center</td>\n",
       "      <td>18104.0</td>\n",
       "      <td>Tilman Fertitta</td>\n",
       "      <td>Rafael Stone</td>\n",
       "      <td>Ime Udoka</td>\n",
       "      <td>Rio Grande Valley Vipers</td>\n",
       "    </tr>\n",
       "    <tr>\n",
       "      <th>6</th>\n",
       "      <td>1610612746</td>\n",
       "      <td>LAC</td>\n",
       "      <td>Clippers</td>\n",
       "      <td>1970.0</td>\n",
       "      <td>Los Angeles</td>\n",
       "      <td>Crypto.com Arena</td>\n",
       "      <td>19060.0</td>\n",
       "      <td>Steve Ballmer</td>\n",
       "      <td>Michael Winger</td>\n",
       "      <td>Tyronn Lue</td>\n",
       "      <td>Agua Caliente Clippers of Ontario</td>\n",
       "    </tr>\n",
       "    <tr>\n",
       "      <th>7</th>\n",
       "      <td>1610612747</td>\n",
       "      <td>LAL</td>\n",
       "      <td>Lakers</td>\n",
       "      <td>1948.0</td>\n",
       "      <td>Los Angeles</td>\n",
       "      <td>Crypto.com Arena</td>\n",
       "      <td>19060.0</td>\n",
       "      <td>Jeanie Buss</td>\n",
       "      <td>Rob Pelinka</td>\n",
       "      <td>Darvin Ham</td>\n",
       "      <td>South Bay Lakers</td>\n",
       "    </tr>\n",
       "    <tr>\n",
       "      <th>8</th>\n",
       "      <td>1610612748</td>\n",
       "      <td>MIA</td>\n",
       "      <td>Heat</td>\n",
       "      <td>1988.0</td>\n",
       "      <td>Miami</td>\n",
       "      <td>Kaseya Center</td>\n",
       "      <td>19600.0</td>\n",
       "      <td>Micky Arison</td>\n",
       "      <td>Pat Riley</td>\n",
       "      <td>Erik Spoelstra</td>\n",
       "      <td>Sioux Falls Skyforce</td>\n",
       "    </tr>\n",
       "    <tr>\n",
       "      <th>9</th>\n",
       "      <td>1610612749</td>\n",
       "      <td>MIL</td>\n",
       "      <td>Bucks</td>\n",
       "      <td>1968.0</td>\n",
       "      <td>Milwaukee</td>\n",
       "      <td>Fiserv Forum</td>\n",
       "      <td>17500.0</td>\n",
       "      <td>Wesley Edens &amp; Marc Lasry</td>\n",
       "      <td>Jon Horst</td>\n",
       "      <td>Adrian Griffin</td>\n",
       "      <td>Wisconsin Herd</td>\n",
       "    </tr>\n",
       "    <tr>\n",
       "      <th>10</th>\n",
       "      <td>1610612750</td>\n",
       "      <td>MIN</td>\n",
       "      <td>Timberwolves</td>\n",
       "      <td>1989.0</td>\n",
       "      <td>Minnesota</td>\n",
       "      <td>Target Center</td>\n",
       "      <td>19356.0</td>\n",
       "      <td>Glen Taylor</td>\n",
       "      <td>Tim Connelly</td>\n",
       "      <td>Chris Finch</td>\n",
       "      <td>Iowa Wolves</td>\n",
       "    </tr>\n",
       "    <tr>\n",
       "      <th>11</th>\n",
       "      <td>1610612751</td>\n",
       "      <td>BKN</td>\n",
       "      <td>Nets</td>\n",
       "      <td>1976.0</td>\n",
       "      <td>Brooklyn</td>\n",
       "      <td>Barclays Center</td>\n",
       "      <td>NaN</td>\n",
       "      <td>Joe Tsai</td>\n",
       "      <td>Sean Marks</td>\n",
       "      <td>Jacque Vaughn</td>\n",
       "      <td>Long Island Nets</td>\n",
       "    </tr>\n",
       "    <tr>\n",
       "      <th>12</th>\n",
       "      <td>1610612754</td>\n",
       "      <td>IND</td>\n",
       "      <td>Pacers</td>\n",
       "      <td>1976.0</td>\n",
       "      <td>Indiana</td>\n",
       "      <td>Gainbridge Fieldhouse</td>\n",
       "      <td>18345.0</td>\n",
       "      <td>Herb Simon</td>\n",
       "      <td>Kevin Pritchard</td>\n",
       "      <td>Rick Carlisle</td>\n",
       "      <td>Fort Wayne Mad Ants</td>\n",
       "    </tr>\n",
       "    <tr>\n",
       "      <th>13</th>\n",
       "      <td>1610612755</td>\n",
       "      <td>PHI</td>\n",
       "      <td>76ers</td>\n",
       "      <td>1949.0</td>\n",
       "      <td>Philadelphia</td>\n",
       "      <td>Wells Fargo Center</td>\n",
       "      <td>NaN</td>\n",
       "      <td>Joshua Harris &amp; David Blitzer</td>\n",
       "      <td>Elton Brand</td>\n",
       "      <td>Nick Nurse</td>\n",
       "      <td>Delaware Blue Coats</td>\n",
       "    </tr>\n",
       "    <tr>\n",
       "      <th>14</th>\n",
       "      <td>1610612756</td>\n",
       "      <td>PHX</td>\n",
       "      <td>Suns</td>\n",
       "      <td>1968.0</td>\n",
       "      <td>Phoenix</td>\n",
       "      <td>Footprint Center</td>\n",
       "      <td>NaN</td>\n",
       "      <td>Mat Ishbia</td>\n",
       "      <td>James Jones</td>\n",
       "      <td>Frank Vogel</td>\n",
       "      <td>No Affiliate</td>\n",
       "    </tr>\n",
       "    <tr>\n",
       "      <th>15</th>\n",
       "      <td>1610612757</td>\n",
       "      <td>POR</td>\n",
       "      <td>Trail Blazers</td>\n",
       "      <td>1970.0</td>\n",
       "      <td>Portland</td>\n",
       "      <td>Moda Center</td>\n",
       "      <td>19980.0</td>\n",
       "      <td>Jody Allen</td>\n",
       "      <td>Joe Cronin</td>\n",
       "      <td>Chauncey Billups</td>\n",
       "      <td>No Affiliate</td>\n",
       "    </tr>\n",
       "    <tr>\n",
       "      <th>16</th>\n",
       "      <td>1610612758</td>\n",
       "      <td>SAC</td>\n",
       "      <td>Kings</td>\n",
       "      <td>1948.0</td>\n",
       "      <td>Sacramento</td>\n",
       "      <td>Golden 1 Center</td>\n",
       "      <td>17500.0</td>\n",
       "      <td>Vivek Ranadive</td>\n",
       "      <td>Monte McNair</td>\n",
       "      <td>Mike Brown</td>\n",
       "      <td>Stockton Kings</td>\n",
       "    </tr>\n",
       "    <tr>\n",
       "      <th>17</th>\n",
       "      <td>1610612759</td>\n",
       "      <td>SAS</td>\n",
       "      <td>Spurs</td>\n",
       "      <td>1976.0</td>\n",
       "      <td>San Antonio</td>\n",
       "      <td>AT&amp;T Center</td>\n",
       "      <td>18694.0</td>\n",
       "      <td>Peter Holt</td>\n",
       "      <td>Brian Wright</td>\n",
       "      <td>Gregg Popovich</td>\n",
       "      <td>Austin Spurs</td>\n",
       "    </tr>\n",
       "    <tr>\n",
       "      <th>18</th>\n",
       "      <td>1610612760</td>\n",
       "      <td>OKC</td>\n",
       "      <td>Thunder</td>\n",
       "      <td>1967.0</td>\n",
       "      <td>Oklahoma City</td>\n",
       "      <td>Paycom Center</td>\n",
       "      <td>NaN</td>\n",
       "      <td>Clay Bennett</td>\n",
       "      <td>Sam Presti</td>\n",
       "      <td>Mark Daigneault</td>\n",
       "      <td>Oklahoma City Blue</td>\n",
       "    </tr>\n",
       "    <tr>\n",
       "      <th>19</th>\n",
       "      <td>1610612761</td>\n",
       "      <td>TOR</td>\n",
       "      <td>Raptors</td>\n",
       "      <td>1995.0</td>\n",
       "      <td>Toronto</td>\n",
       "      <td>Scotiabank Arena</td>\n",
       "      <td>NaN</td>\n",
       "      <td>Lawrence Tanenbaum</td>\n",
       "      <td>Masai Ujiri</td>\n",
       "      <td>NaN</td>\n",
       "      <td>Raptors 905</td>\n",
       "    </tr>\n",
       "    <tr>\n",
       "      <th>20</th>\n",
       "      <td>1610612762</td>\n",
       "      <td>UTA</td>\n",
       "      <td>Jazz</td>\n",
       "      <td>1974.0</td>\n",
       "      <td>Utah</td>\n",
       "      <td>Delta Center</td>\n",
       "      <td>NaN</td>\n",
       "      <td>Ryan Smith</td>\n",
       "      <td>Justin Zanik</td>\n",
       "      <td>Will Hardy</td>\n",
       "      <td>Salt Lake City Stars</td>\n",
       "    </tr>\n",
       "    <tr>\n",
       "      <th>21</th>\n",
       "      <td>1610612763</td>\n",
       "      <td>MEM</td>\n",
       "      <td>Grizzlies</td>\n",
       "      <td>1995.0</td>\n",
       "      <td>Memphis</td>\n",
       "      <td>FedExForum</td>\n",
       "      <td>18119.0</td>\n",
       "      <td>Robert Pera</td>\n",
       "      <td>Zach Kleiman</td>\n",
       "      <td>Taylor Jenkins</td>\n",
       "      <td>Memphis Hustle</td>\n",
       "    </tr>\n",
       "    <tr>\n",
       "      <th>22</th>\n",
       "      <td>1610612764</td>\n",
       "      <td>WAS</td>\n",
       "      <td>Wizards</td>\n",
       "      <td>1961.0</td>\n",
       "      <td>Washington</td>\n",
       "      <td>Capital One Arena</td>\n",
       "      <td>20647.0</td>\n",
       "      <td>Ted Leonsis</td>\n",
       "      <td>Tommy Sheppard</td>\n",
       "      <td>Wes Unseld</td>\n",
       "      <td>Capital City Go-Go</td>\n",
       "    </tr>\n",
       "    <tr>\n",
       "      <th>23</th>\n",
       "      <td>1610612765</td>\n",
       "      <td>DET</td>\n",
       "      <td>Pistons</td>\n",
       "      <td>1948.0</td>\n",
       "      <td>Detroit</td>\n",
       "      <td>Little Caesars Arena</td>\n",
       "      <td>NaN</td>\n",
       "      <td>Tom Gores</td>\n",
       "      <td>Ed Stefanski</td>\n",
       "      <td>Monty Williams</td>\n",
       "      <td>Motor City Cruise</td>\n",
       "    </tr>\n",
       "    <tr>\n",
       "      <th>24</th>\n",
       "      <td>1610612766</td>\n",
       "      <td>CHA</td>\n",
       "      <td>Hornets</td>\n",
       "      <td>1988.0</td>\n",
       "      <td>Charlotte</td>\n",
       "      <td>Spectrum Center</td>\n",
       "      <td>19026.0</td>\n",
       "      <td>Michael Jordan</td>\n",
       "      <td>Mitch Kupchak</td>\n",
       "      <td>Steve Clifford</td>\n",
       "      <td>Greensboro Swarm</td>\n",
       "    </tr>\n",
       "  </tbody>\n",
       "</table>\n",
       "</div>"
      ],
      "text/plain": [
       "       team_id abbreviation       nickname  yearfounded           city  \\\n",
       "0   1610612737          ATL          Hawks       1949.0        Atlanta   \n",
       "1   1610612741          CHI          Bulls       1966.0        Chicago   \n",
       "2   1610612742          DAL      Mavericks       1980.0         Dallas   \n",
       "3   1610612743          DEN        Nuggets       1976.0         Denver   \n",
       "4   1610612744          GSW       Warriors       1946.0   Golden State   \n",
       "5   1610612745          HOU        Rockets       1967.0        Houston   \n",
       "6   1610612746          LAC       Clippers       1970.0    Los Angeles   \n",
       "7   1610612747          LAL         Lakers       1948.0    Los Angeles   \n",
       "8   1610612748          MIA           Heat       1988.0          Miami   \n",
       "9   1610612749          MIL          Bucks       1968.0      Milwaukee   \n",
       "10  1610612750          MIN   Timberwolves       1989.0      Minnesota   \n",
       "11  1610612751          BKN           Nets       1976.0       Brooklyn   \n",
       "12  1610612754          IND         Pacers       1976.0        Indiana   \n",
       "13  1610612755          PHI          76ers       1949.0   Philadelphia   \n",
       "14  1610612756          PHX           Suns       1968.0        Phoenix   \n",
       "15  1610612757          POR  Trail Blazers       1970.0       Portland   \n",
       "16  1610612758          SAC          Kings       1948.0     Sacramento   \n",
       "17  1610612759          SAS          Spurs       1976.0    San Antonio   \n",
       "18  1610612760          OKC        Thunder       1967.0  Oklahoma City   \n",
       "19  1610612761          TOR        Raptors       1995.0        Toronto   \n",
       "20  1610612762          UTA           Jazz       1974.0           Utah   \n",
       "21  1610612763          MEM      Grizzlies       1995.0        Memphis   \n",
       "22  1610612764          WAS        Wizards       1961.0     Washington   \n",
       "23  1610612765          DET        Pistons       1948.0        Detroit   \n",
       "24  1610612766          CHA        Hornets       1988.0      Charlotte   \n",
       "\n",
       "                       arena  arenacapacity                          owner  \\\n",
       "0           State Farm Arena        18729.0                   Tony Ressler   \n",
       "1              United Center        21711.0              Michael Reinsdorf   \n",
       "2   American Airlines Center        19200.0                     Mark Cuban   \n",
       "3                 Ball Arena            NaN                   Stan Kroenke   \n",
       "4               Chase Center            NaN                      Joe Lacob   \n",
       "5              Toyota Center        18104.0                Tilman Fertitta   \n",
       "6           Crypto.com Arena        19060.0                  Steve Ballmer   \n",
       "7           Crypto.com Arena        19060.0                    Jeanie Buss   \n",
       "8              Kaseya Center        19600.0                   Micky Arison   \n",
       "9               Fiserv Forum        17500.0      Wesley Edens & Marc Lasry   \n",
       "10             Target Center        19356.0                    Glen Taylor   \n",
       "11           Barclays Center            NaN                       Joe Tsai   \n",
       "12    Gainbridge Fieldhouse         18345.0                     Herb Simon   \n",
       "13        Wells Fargo Center            NaN  Joshua Harris & David Blitzer   \n",
       "14          Footprint Center            NaN                     Mat Ishbia   \n",
       "15               Moda Center        19980.0                     Jody Allen   \n",
       "16           Golden 1 Center        17500.0                 Vivek Ranadive   \n",
       "17               AT&T Center        18694.0                     Peter Holt   \n",
       "18             Paycom Center            NaN                   Clay Bennett   \n",
       "19          Scotiabank Arena            NaN             Lawrence Tanenbaum   \n",
       "20              Delta Center            NaN                     Ryan Smith   \n",
       "21                FedExForum        18119.0                    Robert Pera   \n",
       "22         Capital One Arena        20647.0                    Ted Leonsis   \n",
       "23      Little Caesars Arena            NaN                      Tom Gores   \n",
       "24           Spectrum Center        19026.0                 Michael Jordan   \n",
       "\n",
       "        generalmanager         headcoach                 dleagueaffiliation  \n",
       "0       Travis Schlenk       Quin Snyder              College Park Skyhawks  \n",
       "1   Arturas Karnisovas     Billy Donovan                   Windy City Bulls  \n",
       "2        Nico Harrison        Jason Kidd                      Texas Legends  \n",
       "3         Calvin Booth    Michael Malone                  Grand Rapids Gold  \n",
       "4            Bob Myers        Steve Kerr                Santa Cruz Warriors  \n",
       "5         Rafael Stone         Ime Udoka           Rio Grande Valley Vipers  \n",
       "6       Michael Winger        Tyronn Lue  Agua Caliente Clippers of Ontario  \n",
       "7          Rob Pelinka        Darvin Ham                   South Bay Lakers  \n",
       "8            Pat Riley    Erik Spoelstra               Sioux Falls Skyforce  \n",
       "9            Jon Horst    Adrian Griffin                     Wisconsin Herd  \n",
       "10        Tim Connelly       Chris Finch                        Iowa Wolves  \n",
       "11          Sean Marks     Jacque Vaughn                   Long Island Nets  \n",
       "12     Kevin Pritchard     Rick Carlisle                Fort Wayne Mad Ants  \n",
       "13         Elton Brand        Nick Nurse                Delaware Blue Coats  \n",
       "14         James Jones       Frank Vogel                       No Affiliate  \n",
       "15          Joe Cronin  Chauncey Billups                       No Affiliate  \n",
       "16        Monte McNair        Mike Brown                     Stockton Kings  \n",
       "17        Brian Wright    Gregg Popovich                       Austin Spurs  \n",
       "18          Sam Presti   Mark Daigneault                 Oklahoma City Blue  \n",
       "19         Masai Ujiri               NaN                        Raptors 905  \n",
       "20        Justin Zanik        Will Hardy               Salt Lake City Stars  \n",
       "21        Zach Kleiman    Taylor Jenkins                     Memphis Hustle  \n",
       "22      Tommy Sheppard        Wes Unseld                 Capital City Go-Go  \n",
       "23        Ed Stefanski    Monty Williams                  Motor City Cruise  \n",
       "24       Mitch Kupchak    Steve Clifford                   Greensboro Swarm  "
      ]
     },
     "execution_count": 77,
     "metadata": {},
     "output_type": "execute_result"
    }
   ],
   "source": [
    "delete_columns = ['facebook', 'instagram', 'twitter']\n",
    "team_details.drop(columns=delete_columns, inplace=True)"
   ]
  },
  {
   "cell_type": "markdown",
   "id": "6bc12fb6",
   "metadata": {},
   "source": [
    "### 2.12.3. Relleno de nulos por la mediiana"
   ]
  },
  {
   "cell_type": "code",
   "execution_count": null,
   "id": "82dd3aaa",
   "metadata": {},
   "outputs": [
    {
     "data": {
      "application/vnd.microsoft.datawrangler.viewer.v0+json": {
       "columns": [
        {
         "name": "index",
         "rawType": "int64",
         "type": "integer"
        },
        {
         "name": "team_id",
         "rawType": "int64",
         "type": "integer"
        },
        {
         "name": "abbreviation",
         "rawType": "object",
         "type": "string"
        },
        {
         "name": "nickname",
         "rawType": "object",
         "type": "string"
        },
        {
         "name": "yearfounded",
         "rawType": "float64",
         "type": "float"
        },
        {
         "name": "city",
         "rawType": "object",
         "type": "string"
        },
        {
         "name": "arena",
         "rawType": "object",
         "type": "string"
        },
        {
         "name": "arenacapacity",
         "rawType": "float64",
         "type": "float"
        },
        {
         "name": "owner",
         "rawType": "object",
         "type": "string"
        },
        {
         "name": "generalmanager",
         "rawType": "object",
         "type": "string"
        },
        {
         "name": "headcoach",
         "rawType": "object",
         "type": "unknown"
        },
        {
         "name": "dleagueaffiliation",
         "rawType": "object",
         "type": "string"
        }
       ],
       "conversionMethod": "pd.DataFrame",
       "ref": "302c2acd-be9d-4139-b1fd-e0d7f04b2ffa",
       "rows": [
        [
         "0",
         "1610612737",
         "ATL",
         "Hawks",
         "1949.0",
         "Atlanta",
         "State Farm Arena",
         "18729.0",
         "Tony Ressler",
         "Travis Schlenk",
         "Quin Snyder",
         "College Park Skyhawks"
        ],
        [
         "1",
         "1610612741",
         "CHI",
         "Bulls",
         "1966.0",
         "Chicago",
         "United Center",
         "21711.0",
         "Michael Reinsdorf",
         "Arturas Karnisovas",
         "Billy Donovan",
         "Windy City Bulls"
        ],
        [
         "2",
         "1610612742",
         "DAL",
         "Mavericks",
         "1980.0",
         "Dallas",
         "American Airlines Center",
         "19200.0",
         "Mark Cuban",
         "Nico Harrison",
         "Jason Kidd",
         "Texas Legends"
        ],
        [
         "3",
         "1610612743",
         "DEN",
         "Nuggets",
         "1976.0",
         "Denver",
         "Ball Arena",
         "19043.0",
         "Stan Kroenke",
         "Calvin Booth",
         "Michael Malone",
         "Grand Rapids Gold"
        ],
        [
         "4",
         "1610612744",
         "GSW",
         "Warriors",
         "1946.0",
         "Golden State",
         "Chase Center",
         "19043.0",
         "Joe Lacob",
         "Bob Myers",
         "Steve Kerr",
         "Santa Cruz Warriors"
        ],
        [
         "5",
         "1610612745",
         "HOU",
         "Rockets",
         "1967.0",
         "Houston",
         "Toyota Center",
         "18104.0",
         "Tilman Fertitta",
         "Rafael Stone",
         "Ime Udoka",
         "Rio Grande Valley Vipers"
        ],
        [
         "6",
         "1610612746",
         "LAC",
         "Clippers",
         "1970.0",
         "Los Angeles",
         "Crypto.com Arena",
         "19060.0",
         "Steve Ballmer",
         "Michael Winger",
         "Tyronn Lue",
         "Agua Caliente Clippers of Ontario"
        ],
        [
         "7",
         "1610612747",
         "LAL",
         "Lakers",
         "1948.0",
         "Los Angeles",
         "Crypto.com Arena",
         "19060.0",
         "Jeanie Buss",
         "Rob Pelinka",
         "Darvin Ham",
         "South Bay Lakers"
        ],
        [
         "8",
         "1610612748",
         "MIA",
         "Heat",
         "1988.0",
         "Miami",
         "Kaseya Center",
         "19600.0",
         "Micky Arison",
         "Pat Riley",
         "Erik Spoelstra",
         "Sioux Falls Skyforce"
        ],
        [
         "9",
         "1610612749",
         "MIL",
         "Bucks",
         "1968.0",
         "Milwaukee",
         "Fiserv Forum",
         "17500.0",
         "Wesley Edens & Marc Lasry",
         "Jon Horst",
         "Adrian Griffin",
         "Wisconsin Herd"
        ],
        [
         "10",
         "1610612750",
         "MIN",
         "Timberwolves",
         "1989.0",
         "Minnesota",
         "Target Center",
         "19356.0",
         "Glen Taylor",
         "Tim Connelly",
         "Chris Finch",
         "Iowa Wolves"
        ],
        [
         "11",
         "1610612751",
         "BKN",
         "Nets",
         "1976.0",
         "Brooklyn",
         "Barclays Center",
         "19043.0",
         "Joe Tsai",
         "Sean Marks",
         "Jacque Vaughn",
         "Long Island Nets"
        ],
        [
         "12",
         "1610612754",
         "IND",
         "Pacers",
         "1976.0",
         "Indiana",
         "Gainbridge Fieldhouse ",
         "18345.0",
         "Herb Simon",
         "Kevin Pritchard",
         "Rick Carlisle",
         "Fort Wayne Mad Ants"
        ],
        [
         "13",
         "1610612755",
         "PHI",
         "76ers",
         "1949.0",
         "Philadelphia",
         "Wells Fargo Center",
         "19043.0",
         "Joshua Harris & David Blitzer",
         "Elton Brand",
         "Nick Nurse",
         "Delaware Blue Coats"
        ],
        [
         "14",
         "1610612756",
         "PHX",
         "Suns",
         "1968.0",
         "Phoenix",
         "Footprint Center",
         "19043.0",
         "Mat Ishbia",
         "James Jones",
         "Frank Vogel",
         "No Affiliate"
        ],
        [
         "15",
         "1610612757",
         "POR",
         "Trail Blazers",
         "1970.0",
         "Portland",
         "Moda Center",
         "19980.0",
         "Jody Allen",
         "Joe Cronin",
         "Chauncey Billups",
         "No Affiliate"
        ],
        [
         "16",
         "1610612758",
         "SAC",
         "Kings",
         "1948.0",
         "Sacramento",
         "Golden 1 Center",
         "17500.0",
         "Vivek Ranadive",
         "Monte McNair",
         "Mike Brown",
         "Stockton Kings"
        ],
        [
         "17",
         "1610612759",
         "SAS",
         "Spurs",
         "1976.0",
         "San Antonio",
         "AT&T Center",
         "18694.0",
         "Peter Holt",
         "Brian Wright",
         "Gregg Popovich",
         "Austin Spurs"
        ],
        [
         "18",
         "1610612760",
         "OKC",
         "Thunder",
         "1967.0",
         "Oklahoma City",
         "Paycom Center",
         "19043.0",
         "Clay Bennett",
         "Sam Presti",
         "Mark Daigneault",
         "Oklahoma City Blue"
        ],
        [
         "19",
         "1610612761",
         "TOR",
         "Raptors",
         "1995.0",
         "Toronto",
         "Scotiabank Arena",
         "19043.0",
         "Lawrence Tanenbaum",
         "Masai Ujiri",
         null,
         "Raptors 905"
        ],
        [
         "20",
         "1610612762",
         "UTA",
         "Jazz",
         "1974.0",
         "Utah",
         "Delta Center",
         "19043.0",
         "Ryan Smith",
         "Justin Zanik",
         "Will Hardy",
         "Salt Lake City Stars"
        ],
        [
         "21",
         "1610612763",
         "MEM",
         "Grizzlies",
         "1995.0",
         "Memphis",
         "FedExForum",
         "18119.0",
         "Robert Pera",
         "Zach Kleiman",
         "Taylor Jenkins",
         "Memphis Hustle"
        ],
        [
         "22",
         "1610612764",
         "WAS",
         "Wizards",
         "1961.0",
         "Washington",
         "Capital One Arena",
         "20647.0",
         "Ted Leonsis",
         "Tommy Sheppard",
         "Wes Unseld",
         "Capital City Go-Go"
        ],
        [
         "23",
         "1610612765",
         "DET",
         "Pistons",
         "1948.0",
         "Detroit",
         "Little Caesars Arena",
         "19043.0",
         "Tom Gores",
         "Ed Stefanski",
         "Monty Williams",
         "Motor City Cruise"
        ],
        [
         "24",
         "1610612766",
         "CHA",
         "Hornets",
         "1988.0",
         "Charlotte",
         "Spectrum Center",
         "19026.0",
         "Michael Jordan",
         "Mitch Kupchak",
         "Steve Clifford",
         "Greensboro Swarm"
        ]
       ],
       "shape": {
        "columns": 11,
        "rows": 25
       }
      },
      "text/html": [
       "<div>\n",
       "<style scoped>\n",
       "    .dataframe tbody tr th:only-of-type {\n",
       "        vertical-align: middle;\n",
       "    }\n",
       "\n",
       "    .dataframe tbody tr th {\n",
       "        vertical-align: top;\n",
       "    }\n",
       "\n",
       "    .dataframe thead th {\n",
       "        text-align: right;\n",
       "    }\n",
       "</style>\n",
       "<table border=\"1\" class=\"dataframe\">\n",
       "  <thead>\n",
       "    <tr style=\"text-align: right;\">\n",
       "      <th></th>\n",
       "      <th>team_id</th>\n",
       "      <th>abbreviation</th>\n",
       "      <th>nickname</th>\n",
       "      <th>yearfounded</th>\n",
       "      <th>city</th>\n",
       "      <th>arena</th>\n",
       "      <th>arenacapacity</th>\n",
       "      <th>owner</th>\n",
       "      <th>generalmanager</th>\n",
       "      <th>headcoach</th>\n",
       "      <th>dleagueaffiliation</th>\n",
       "    </tr>\n",
       "  </thead>\n",
       "  <tbody>\n",
       "    <tr>\n",
       "      <th>0</th>\n",
       "      <td>1610612737</td>\n",
       "      <td>ATL</td>\n",
       "      <td>Hawks</td>\n",
       "      <td>1949.0</td>\n",
       "      <td>Atlanta</td>\n",
       "      <td>State Farm Arena</td>\n",
       "      <td>18729.0</td>\n",
       "      <td>Tony Ressler</td>\n",
       "      <td>Travis Schlenk</td>\n",
       "      <td>Quin Snyder</td>\n",
       "      <td>College Park Skyhawks</td>\n",
       "    </tr>\n",
       "    <tr>\n",
       "      <th>1</th>\n",
       "      <td>1610612741</td>\n",
       "      <td>CHI</td>\n",
       "      <td>Bulls</td>\n",
       "      <td>1966.0</td>\n",
       "      <td>Chicago</td>\n",
       "      <td>United Center</td>\n",
       "      <td>21711.0</td>\n",
       "      <td>Michael Reinsdorf</td>\n",
       "      <td>Arturas Karnisovas</td>\n",
       "      <td>Billy Donovan</td>\n",
       "      <td>Windy City Bulls</td>\n",
       "    </tr>\n",
       "    <tr>\n",
       "      <th>2</th>\n",
       "      <td>1610612742</td>\n",
       "      <td>DAL</td>\n",
       "      <td>Mavericks</td>\n",
       "      <td>1980.0</td>\n",
       "      <td>Dallas</td>\n",
       "      <td>American Airlines Center</td>\n",
       "      <td>19200.0</td>\n",
       "      <td>Mark Cuban</td>\n",
       "      <td>Nico Harrison</td>\n",
       "      <td>Jason Kidd</td>\n",
       "      <td>Texas Legends</td>\n",
       "    </tr>\n",
       "    <tr>\n",
       "      <th>3</th>\n",
       "      <td>1610612743</td>\n",
       "      <td>DEN</td>\n",
       "      <td>Nuggets</td>\n",
       "      <td>1976.0</td>\n",
       "      <td>Denver</td>\n",
       "      <td>Ball Arena</td>\n",
       "      <td>19043.0</td>\n",
       "      <td>Stan Kroenke</td>\n",
       "      <td>Calvin Booth</td>\n",
       "      <td>Michael Malone</td>\n",
       "      <td>Grand Rapids Gold</td>\n",
       "    </tr>\n",
       "    <tr>\n",
       "      <th>4</th>\n",
       "      <td>1610612744</td>\n",
       "      <td>GSW</td>\n",
       "      <td>Warriors</td>\n",
       "      <td>1946.0</td>\n",
       "      <td>Golden State</td>\n",
       "      <td>Chase Center</td>\n",
       "      <td>19043.0</td>\n",
       "      <td>Joe Lacob</td>\n",
       "      <td>Bob Myers</td>\n",
       "      <td>Steve Kerr</td>\n",
       "      <td>Santa Cruz Warriors</td>\n",
       "    </tr>\n",
       "    <tr>\n",
       "      <th>5</th>\n",
       "      <td>1610612745</td>\n",
       "      <td>HOU</td>\n",
       "      <td>Rockets</td>\n",
       "      <td>1967.0</td>\n",
       "      <td>Houston</td>\n",
       "      <td>Toyota Center</td>\n",
       "      <td>18104.0</td>\n",
       "      <td>Tilman Fertitta</td>\n",
       "      <td>Rafael Stone</td>\n",
       "      <td>Ime Udoka</td>\n",
       "      <td>Rio Grande Valley Vipers</td>\n",
       "    </tr>\n",
       "    <tr>\n",
       "      <th>6</th>\n",
       "      <td>1610612746</td>\n",
       "      <td>LAC</td>\n",
       "      <td>Clippers</td>\n",
       "      <td>1970.0</td>\n",
       "      <td>Los Angeles</td>\n",
       "      <td>Crypto.com Arena</td>\n",
       "      <td>19060.0</td>\n",
       "      <td>Steve Ballmer</td>\n",
       "      <td>Michael Winger</td>\n",
       "      <td>Tyronn Lue</td>\n",
       "      <td>Agua Caliente Clippers of Ontario</td>\n",
       "    </tr>\n",
       "    <tr>\n",
       "      <th>7</th>\n",
       "      <td>1610612747</td>\n",
       "      <td>LAL</td>\n",
       "      <td>Lakers</td>\n",
       "      <td>1948.0</td>\n",
       "      <td>Los Angeles</td>\n",
       "      <td>Crypto.com Arena</td>\n",
       "      <td>19060.0</td>\n",
       "      <td>Jeanie Buss</td>\n",
       "      <td>Rob Pelinka</td>\n",
       "      <td>Darvin Ham</td>\n",
       "      <td>South Bay Lakers</td>\n",
       "    </tr>\n",
       "    <tr>\n",
       "      <th>8</th>\n",
       "      <td>1610612748</td>\n",
       "      <td>MIA</td>\n",
       "      <td>Heat</td>\n",
       "      <td>1988.0</td>\n",
       "      <td>Miami</td>\n",
       "      <td>Kaseya Center</td>\n",
       "      <td>19600.0</td>\n",
       "      <td>Micky Arison</td>\n",
       "      <td>Pat Riley</td>\n",
       "      <td>Erik Spoelstra</td>\n",
       "      <td>Sioux Falls Skyforce</td>\n",
       "    </tr>\n",
       "    <tr>\n",
       "      <th>9</th>\n",
       "      <td>1610612749</td>\n",
       "      <td>MIL</td>\n",
       "      <td>Bucks</td>\n",
       "      <td>1968.0</td>\n",
       "      <td>Milwaukee</td>\n",
       "      <td>Fiserv Forum</td>\n",
       "      <td>17500.0</td>\n",
       "      <td>Wesley Edens &amp; Marc Lasry</td>\n",
       "      <td>Jon Horst</td>\n",
       "      <td>Adrian Griffin</td>\n",
       "      <td>Wisconsin Herd</td>\n",
       "    </tr>\n",
       "    <tr>\n",
       "      <th>10</th>\n",
       "      <td>1610612750</td>\n",
       "      <td>MIN</td>\n",
       "      <td>Timberwolves</td>\n",
       "      <td>1989.0</td>\n",
       "      <td>Minnesota</td>\n",
       "      <td>Target Center</td>\n",
       "      <td>19356.0</td>\n",
       "      <td>Glen Taylor</td>\n",
       "      <td>Tim Connelly</td>\n",
       "      <td>Chris Finch</td>\n",
       "      <td>Iowa Wolves</td>\n",
       "    </tr>\n",
       "    <tr>\n",
       "      <th>11</th>\n",
       "      <td>1610612751</td>\n",
       "      <td>BKN</td>\n",
       "      <td>Nets</td>\n",
       "      <td>1976.0</td>\n",
       "      <td>Brooklyn</td>\n",
       "      <td>Barclays Center</td>\n",
       "      <td>19043.0</td>\n",
       "      <td>Joe Tsai</td>\n",
       "      <td>Sean Marks</td>\n",
       "      <td>Jacque Vaughn</td>\n",
       "      <td>Long Island Nets</td>\n",
       "    </tr>\n",
       "    <tr>\n",
       "      <th>12</th>\n",
       "      <td>1610612754</td>\n",
       "      <td>IND</td>\n",
       "      <td>Pacers</td>\n",
       "      <td>1976.0</td>\n",
       "      <td>Indiana</td>\n",
       "      <td>Gainbridge Fieldhouse</td>\n",
       "      <td>18345.0</td>\n",
       "      <td>Herb Simon</td>\n",
       "      <td>Kevin Pritchard</td>\n",
       "      <td>Rick Carlisle</td>\n",
       "      <td>Fort Wayne Mad Ants</td>\n",
       "    </tr>\n",
       "    <tr>\n",
       "      <th>13</th>\n",
       "      <td>1610612755</td>\n",
       "      <td>PHI</td>\n",
       "      <td>76ers</td>\n",
       "      <td>1949.0</td>\n",
       "      <td>Philadelphia</td>\n",
       "      <td>Wells Fargo Center</td>\n",
       "      <td>19043.0</td>\n",
       "      <td>Joshua Harris &amp; David Blitzer</td>\n",
       "      <td>Elton Brand</td>\n",
       "      <td>Nick Nurse</td>\n",
       "      <td>Delaware Blue Coats</td>\n",
       "    </tr>\n",
       "    <tr>\n",
       "      <th>14</th>\n",
       "      <td>1610612756</td>\n",
       "      <td>PHX</td>\n",
       "      <td>Suns</td>\n",
       "      <td>1968.0</td>\n",
       "      <td>Phoenix</td>\n",
       "      <td>Footprint Center</td>\n",
       "      <td>19043.0</td>\n",
       "      <td>Mat Ishbia</td>\n",
       "      <td>James Jones</td>\n",
       "      <td>Frank Vogel</td>\n",
       "      <td>No Affiliate</td>\n",
       "    </tr>\n",
       "    <tr>\n",
       "      <th>15</th>\n",
       "      <td>1610612757</td>\n",
       "      <td>POR</td>\n",
       "      <td>Trail Blazers</td>\n",
       "      <td>1970.0</td>\n",
       "      <td>Portland</td>\n",
       "      <td>Moda Center</td>\n",
       "      <td>19980.0</td>\n",
       "      <td>Jody Allen</td>\n",
       "      <td>Joe Cronin</td>\n",
       "      <td>Chauncey Billups</td>\n",
       "      <td>No Affiliate</td>\n",
       "    </tr>\n",
       "    <tr>\n",
       "      <th>16</th>\n",
       "      <td>1610612758</td>\n",
       "      <td>SAC</td>\n",
       "      <td>Kings</td>\n",
       "      <td>1948.0</td>\n",
       "      <td>Sacramento</td>\n",
       "      <td>Golden 1 Center</td>\n",
       "      <td>17500.0</td>\n",
       "      <td>Vivek Ranadive</td>\n",
       "      <td>Monte McNair</td>\n",
       "      <td>Mike Brown</td>\n",
       "      <td>Stockton Kings</td>\n",
       "    </tr>\n",
       "    <tr>\n",
       "      <th>17</th>\n",
       "      <td>1610612759</td>\n",
       "      <td>SAS</td>\n",
       "      <td>Spurs</td>\n",
       "      <td>1976.0</td>\n",
       "      <td>San Antonio</td>\n",
       "      <td>AT&amp;T Center</td>\n",
       "      <td>18694.0</td>\n",
       "      <td>Peter Holt</td>\n",
       "      <td>Brian Wright</td>\n",
       "      <td>Gregg Popovich</td>\n",
       "      <td>Austin Spurs</td>\n",
       "    </tr>\n",
       "    <tr>\n",
       "      <th>18</th>\n",
       "      <td>1610612760</td>\n",
       "      <td>OKC</td>\n",
       "      <td>Thunder</td>\n",
       "      <td>1967.0</td>\n",
       "      <td>Oklahoma City</td>\n",
       "      <td>Paycom Center</td>\n",
       "      <td>19043.0</td>\n",
       "      <td>Clay Bennett</td>\n",
       "      <td>Sam Presti</td>\n",
       "      <td>Mark Daigneault</td>\n",
       "      <td>Oklahoma City Blue</td>\n",
       "    </tr>\n",
       "    <tr>\n",
       "      <th>19</th>\n",
       "      <td>1610612761</td>\n",
       "      <td>TOR</td>\n",
       "      <td>Raptors</td>\n",
       "      <td>1995.0</td>\n",
       "      <td>Toronto</td>\n",
       "      <td>Scotiabank Arena</td>\n",
       "      <td>19043.0</td>\n",
       "      <td>Lawrence Tanenbaum</td>\n",
       "      <td>Masai Ujiri</td>\n",
       "      <td>NaN</td>\n",
       "      <td>Raptors 905</td>\n",
       "    </tr>\n",
       "    <tr>\n",
       "      <th>20</th>\n",
       "      <td>1610612762</td>\n",
       "      <td>UTA</td>\n",
       "      <td>Jazz</td>\n",
       "      <td>1974.0</td>\n",
       "      <td>Utah</td>\n",
       "      <td>Delta Center</td>\n",
       "      <td>19043.0</td>\n",
       "      <td>Ryan Smith</td>\n",
       "      <td>Justin Zanik</td>\n",
       "      <td>Will Hardy</td>\n",
       "      <td>Salt Lake City Stars</td>\n",
       "    </tr>\n",
       "    <tr>\n",
       "      <th>21</th>\n",
       "      <td>1610612763</td>\n",
       "      <td>MEM</td>\n",
       "      <td>Grizzlies</td>\n",
       "      <td>1995.0</td>\n",
       "      <td>Memphis</td>\n",
       "      <td>FedExForum</td>\n",
       "      <td>18119.0</td>\n",
       "      <td>Robert Pera</td>\n",
       "      <td>Zach Kleiman</td>\n",
       "      <td>Taylor Jenkins</td>\n",
       "      <td>Memphis Hustle</td>\n",
       "    </tr>\n",
       "    <tr>\n",
       "      <th>22</th>\n",
       "      <td>1610612764</td>\n",
       "      <td>WAS</td>\n",
       "      <td>Wizards</td>\n",
       "      <td>1961.0</td>\n",
       "      <td>Washington</td>\n",
       "      <td>Capital One Arena</td>\n",
       "      <td>20647.0</td>\n",
       "      <td>Ted Leonsis</td>\n",
       "      <td>Tommy Sheppard</td>\n",
       "      <td>Wes Unseld</td>\n",
       "      <td>Capital City Go-Go</td>\n",
       "    </tr>\n",
       "    <tr>\n",
       "      <th>23</th>\n",
       "      <td>1610612765</td>\n",
       "      <td>DET</td>\n",
       "      <td>Pistons</td>\n",
       "      <td>1948.0</td>\n",
       "      <td>Detroit</td>\n",
       "      <td>Little Caesars Arena</td>\n",
       "      <td>19043.0</td>\n",
       "      <td>Tom Gores</td>\n",
       "      <td>Ed Stefanski</td>\n",
       "      <td>Monty Williams</td>\n",
       "      <td>Motor City Cruise</td>\n",
       "    </tr>\n",
       "    <tr>\n",
       "      <th>24</th>\n",
       "      <td>1610612766</td>\n",
       "      <td>CHA</td>\n",
       "      <td>Hornets</td>\n",
       "      <td>1988.0</td>\n",
       "      <td>Charlotte</td>\n",
       "      <td>Spectrum Center</td>\n",
       "      <td>19026.0</td>\n",
       "      <td>Michael Jordan</td>\n",
       "      <td>Mitch Kupchak</td>\n",
       "      <td>Steve Clifford</td>\n",
       "      <td>Greensboro Swarm</td>\n",
       "    </tr>\n",
       "  </tbody>\n",
       "</table>\n",
       "</div>"
      ],
      "text/plain": [
       "       team_id abbreviation       nickname  yearfounded           city  \\\n",
       "0   1610612737          ATL          Hawks       1949.0        Atlanta   \n",
       "1   1610612741          CHI          Bulls       1966.0        Chicago   \n",
       "2   1610612742          DAL      Mavericks       1980.0         Dallas   \n",
       "3   1610612743          DEN        Nuggets       1976.0         Denver   \n",
       "4   1610612744          GSW       Warriors       1946.0   Golden State   \n",
       "5   1610612745          HOU        Rockets       1967.0        Houston   \n",
       "6   1610612746          LAC       Clippers       1970.0    Los Angeles   \n",
       "7   1610612747          LAL         Lakers       1948.0    Los Angeles   \n",
       "8   1610612748          MIA           Heat       1988.0          Miami   \n",
       "9   1610612749          MIL          Bucks       1968.0      Milwaukee   \n",
       "10  1610612750          MIN   Timberwolves       1989.0      Minnesota   \n",
       "11  1610612751          BKN           Nets       1976.0       Brooklyn   \n",
       "12  1610612754          IND         Pacers       1976.0        Indiana   \n",
       "13  1610612755          PHI          76ers       1949.0   Philadelphia   \n",
       "14  1610612756          PHX           Suns       1968.0        Phoenix   \n",
       "15  1610612757          POR  Trail Blazers       1970.0       Portland   \n",
       "16  1610612758          SAC          Kings       1948.0     Sacramento   \n",
       "17  1610612759          SAS          Spurs       1976.0    San Antonio   \n",
       "18  1610612760          OKC        Thunder       1967.0  Oklahoma City   \n",
       "19  1610612761          TOR        Raptors       1995.0        Toronto   \n",
       "20  1610612762          UTA           Jazz       1974.0           Utah   \n",
       "21  1610612763          MEM      Grizzlies       1995.0        Memphis   \n",
       "22  1610612764          WAS        Wizards       1961.0     Washington   \n",
       "23  1610612765          DET        Pistons       1948.0        Detroit   \n",
       "24  1610612766          CHA        Hornets       1988.0      Charlotte   \n",
       "\n",
       "                       arena  arenacapacity                          owner  \\\n",
       "0           State Farm Arena        18729.0                   Tony Ressler   \n",
       "1              United Center        21711.0              Michael Reinsdorf   \n",
       "2   American Airlines Center        19200.0                     Mark Cuban   \n",
       "3                 Ball Arena        19043.0                   Stan Kroenke   \n",
       "4               Chase Center        19043.0                      Joe Lacob   \n",
       "5              Toyota Center        18104.0                Tilman Fertitta   \n",
       "6           Crypto.com Arena        19060.0                  Steve Ballmer   \n",
       "7           Crypto.com Arena        19060.0                    Jeanie Buss   \n",
       "8              Kaseya Center        19600.0                   Micky Arison   \n",
       "9               Fiserv Forum        17500.0      Wesley Edens & Marc Lasry   \n",
       "10             Target Center        19356.0                    Glen Taylor   \n",
       "11           Barclays Center        19043.0                       Joe Tsai   \n",
       "12    Gainbridge Fieldhouse         18345.0                     Herb Simon   \n",
       "13        Wells Fargo Center        19043.0  Joshua Harris & David Blitzer   \n",
       "14          Footprint Center        19043.0                     Mat Ishbia   \n",
       "15               Moda Center        19980.0                     Jody Allen   \n",
       "16           Golden 1 Center        17500.0                 Vivek Ranadive   \n",
       "17               AT&T Center        18694.0                     Peter Holt   \n",
       "18             Paycom Center        19043.0                   Clay Bennett   \n",
       "19          Scotiabank Arena        19043.0             Lawrence Tanenbaum   \n",
       "20              Delta Center        19043.0                     Ryan Smith   \n",
       "21                FedExForum        18119.0                    Robert Pera   \n",
       "22         Capital One Arena        20647.0                    Ted Leonsis   \n",
       "23      Little Caesars Arena        19043.0                      Tom Gores   \n",
       "24           Spectrum Center        19026.0                 Michael Jordan   \n",
       "\n",
       "        generalmanager         headcoach                 dleagueaffiliation  \n",
       "0       Travis Schlenk       Quin Snyder              College Park Skyhawks  \n",
       "1   Arturas Karnisovas     Billy Donovan                   Windy City Bulls  \n",
       "2        Nico Harrison        Jason Kidd                      Texas Legends  \n",
       "3         Calvin Booth    Michael Malone                  Grand Rapids Gold  \n",
       "4            Bob Myers        Steve Kerr                Santa Cruz Warriors  \n",
       "5         Rafael Stone         Ime Udoka           Rio Grande Valley Vipers  \n",
       "6       Michael Winger        Tyronn Lue  Agua Caliente Clippers of Ontario  \n",
       "7          Rob Pelinka        Darvin Ham                   South Bay Lakers  \n",
       "8            Pat Riley    Erik Spoelstra               Sioux Falls Skyforce  \n",
       "9            Jon Horst    Adrian Griffin                     Wisconsin Herd  \n",
       "10        Tim Connelly       Chris Finch                        Iowa Wolves  \n",
       "11          Sean Marks     Jacque Vaughn                   Long Island Nets  \n",
       "12     Kevin Pritchard     Rick Carlisle                Fort Wayne Mad Ants  \n",
       "13         Elton Brand        Nick Nurse                Delaware Blue Coats  \n",
       "14         James Jones       Frank Vogel                       No Affiliate  \n",
       "15          Joe Cronin  Chauncey Billups                       No Affiliate  \n",
       "16        Monte McNair        Mike Brown                     Stockton Kings  \n",
       "17        Brian Wright    Gregg Popovich                       Austin Spurs  \n",
       "18          Sam Presti   Mark Daigneault                 Oklahoma City Blue  \n",
       "19         Masai Ujiri               NaN                        Raptors 905  \n",
       "20        Justin Zanik        Will Hardy               Salt Lake City Stars  \n",
       "21        Zach Kleiman    Taylor Jenkins                     Memphis Hustle  \n",
       "22      Tommy Sheppard        Wes Unseld                 Capital City Go-Go  \n",
       "23        Ed Stefanski    Monty Williams                  Motor City Cruise  \n",
       "24       Mitch Kupchak    Steve Clifford                   Greensboro Swarm  "
      ]
     },
     "execution_count": 78,
     "metadata": {},
     "output_type": "execute_result"
    }
   ],
   "source": [
    "column_null = [\"arenacapacity\"]\n",
    "for column in column_null:\n",
    "    team_details[column] = team_details[column].fillna(team_details[column].median())"
   ]
  },
  {
   "cell_type": "code",
   "execution_count": 79,
   "id": "b3e1daa1",
   "metadata": {},
   "outputs": [
    {
     "data": {
      "application/vnd.microsoft.datawrangler.viewer.v0+json": {
       "columns": [
        {
         "name": "index",
         "rawType": "object",
         "type": "string"
        },
        {
         "name": "Valores nulos",
         "rawType": "int64",
         "type": "integer"
        },
        {
         "name": "Total registros",
         "rawType": "int64",
         "type": "integer"
        },
        {
         "name": "Porcentaje",
         "rawType": "float64",
         "type": "float"
        }
       ],
       "conversionMethod": "pd.DataFrame",
       "ref": "e5c83c2a-283f-4bb1-9e77-00abd7d81287",
       "rows": [
        [
         "headcoach",
         "1",
         "25",
         "4.0"
        ]
       ],
       "shape": {
        "columns": 3,
        "rows": 1
       }
      },
      "text/html": [
       "<div>\n",
       "<style scoped>\n",
       "    .dataframe tbody tr th:only-of-type {\n",
       "        vertical-align: middle;\n",
       "    }\n",
       "\n",
       "    .dataframe tbody tr th {\n",
       "        vertical-align: top;\n",
       "    }\n",
       "\n",
       "    .dataframe thead th {\n",
       "        text-align: right;\n",
       "    }\n",
       "</style>\n",
       "<table border=\"1\" class=\"dataframe\">\n",
       "  <thead>\n",
       "    <tr style=\"text-align: right;\">\n",
       "      <th></th>\n",
       "      <th>Valores nulos</th>\n",
       "      <th>Total registros</th>\n",
       "      <th>Porcentaje</th>\n",
       "    </tr>\n",
       "  </thead>\n",
       "  <tbody>\n",
       "    <tr>\n",
       "      <th>headcoach</th>\n",
       "      <td>1</td>\n",
       "      <td>25</td>\n",
       "      <td>4.0</td>\n",
       "    </tr>\n",
       "  </tbody>\n",
       "</table>\n",
       "</div>"
      ],
      "text/plain": [
       "           Valores nulos  Total registros  Porcentaje\n",
       "headcoach              1               25         4.0"
      ]
     },
     "execution_count": 79,
     "metadata": {},
     "output_type": "execute_result"
    }
   ],
   "source": [
    "null_team_details = team_details.isnull().sum()\n",
    "total_register = len(team_details)\n",
    "null_result = null_team_details[null_team_details > 0]\n",
    "\n",
    "df_null_team_details = pd.DataFrame(\n",
    "    {\n",
    "        \"Valores nulos\": null_result,\n",
    "        \"Total registros\": total_register,\n",
    "        \"Porcentaje\": (null_result / total_register * 100).round(2),\n",
    "    }\n",
    ")\n",
    "\n",
    "df_null_team_details"
   ]
  },
  {
   "cell_type": "markdown",
   "id": "8028a8d3",
   "metadata": {},
   "source": [
    "### 2.12.4. Eliminacion de filas nulas en la columna"
   ]
  },
  {
   "cell_type": "code",
   "execution_count": 80,
   "id": "dc837887",
   "metadata": {},
   "outputs": [],
   "source": [
    "team_details = team_details.dropna(subset=['headcoach'])"
   ]
  },
  {
   "cell_type": "code",
   "execution_count": 81,
   "id": "bb93a68d",
   "metadata": {},
   "outputs": [
    {
     "data": {
      "application/vnd.microsoft.datawrangler.viewer.v0+json": {
       "columns": [
        {
         "name": "index",
         "rawType": "object",
         "type": "string"
        },
        {
         "name": "Valores nulos",
         "rawType": "int64",
         "type": "integer"
        },
        {
         "name": "Total registros",
         "rawType": "int64",
         "type": "integer"
        },
        {
         "name": "Porcentaje",
         "rawType": "float64",
         "type": "float"
        }
       ],
       "conversionMethod": "pd.DataFrame",
       "ref": "fed9fa37-022f-4792-94a6-f8b62f577f50",
       "rows": [],
       "shape": {
        "columns": 3,
        "rows": 0
       }
      },
      "text/html": [
       "<div>\n",
       "<style scoped>\n",
       "    .dataframe tbody tr th:only-of-type {\n",
       "        vertical-align: middle;\n",
       "    }\n",
       "\n",
       "    .dataframe tbody tr th {\n",
       "        vertical-align: top;\n",
       "    }\n",
       "\n",
       "    .dataframe thead th {\n",
       "        text-align: right;\n",
       "    }\n",
       "</style>\n",
       "<table border=\"1\" class=\"dataframe\">\n",
       "  <thead>\n",
       "    <tr style=\"text-align: right;\">\n",
       "      <th></th>\n",
       "      <th>Valores nulos</th>\n",
       "      <th>Total registros</th>\n",
       "      <th>Porcentaje</th>\n",
       "    </tr>\n",
       "  </thead>\n",
       "  <tbody>\n",
       "  </tbody>\n",
       "</table>\n",
       "</div>"
      ],
      "text/plain": [
       "Empty DataFrame\n",
       "Columns: [Valores nulos, Total registros, Porcentaje]\n",
       "Index: []"
      ]
     },
     "execution_count": 81,
     "metadata": {},
     "output_type": "execute_result"
    }
   ],
   "source": [
    "null_team_details = team_details.isnull().sum()\n",
    "total_register = len(team_details)\n",
    "null_result = null_team_details[null_team_details > 0]\n",
    "\n",
    "df_null_team_details = pd.DataFrame(\n",
    "    {\n",
    "        \"Valores nulos\": null_result,\n",
    "        \"Total registros\": total_register,\n",
    "        \"Porcentaje\": (null_result / total_register * 100).round(2),\n",
    "    }\n",
    ")\n",
    "\n",
    "df_null_team_details"
   ]
  },
  {
   "cell_type": "markdown",
   "id": "45e1f90b",
   "metadata": {},
   "source": [
    "## 2.13. Tabla team_history"
   ]
  },
  {
   "cell_type": "markdown",
   "id": "4c641e7e",
   "metadata": {},
   "source": [
    "### 2.13.1. Lectura de nulos"
   ]
  },
  {
   "cell_type": "code",
   "execution_count": 82,
   "id": "f38f9e32",
   "metadata": {},
   "outputs": [
    {
     "data": {
      "text/plain": [
       "(team_id             0\n",
       " city                0\n",
       " nickname            0\n",
       " year_founded        0\n",
       " year_active_till    0\n",
       " dtype: int64,\n",
       " (52, 5))"
      ]
     },
     "execution_count": 82,
     "metadata": {},
     "output_type": "execute_result"
    }
   ],
   "source": [
    "team_history.isnull().sum(), team_history.shape"
   ]
  },
  {
   "cell_type": "code",
   "execution_count": 83,
   "id": "f0989666",
   "metadata": {},
   "outputs": [
    {
     "data": {
      "application/vnd.microsoft.datawrangler.viewer.v0+json": {
       "columns": [
        {
         "name": "index",
         "rawType": "object",
         "type": "string"
        },
        {
         "name": "Valores nulos",
         "rawType": "int64",
         "type": "integer"
        },
        {
         "name": "Total registros",
         "rawType": "int64",
         "type": "integer"
        },
        {
         "name": "Porcentaje",
         "rawType": "float64",
         "type": "float"
        }
       ],
       "conversionMethod": "pd.DataFrame",
       "ref": "bc328533-4ec0-47aa-a82c-0606036a489d",
       "rows": [],
       "shape": {
        "columns": 3,
        "rows": 0
       }
      },
      "text/html": [
       "<div>\n",
       "<style scoped>\n",
       "    .dataframe tbody tr th:only-of-type {\n",
       "        vertical-align: middle;\n",
       "    }\n",
       "\n",
       "    .dataframe tbody tr th {\n",
       "        vertical-align: top;\n",
       "    }\n",
       "\n",
       "    .dataframe thead th {\n",
       "        text-align: right;\n",
       "    }\n",
       "</style>\n",
       "<table border=\"1\" class=\"dataframe\">\n",
       "  <thead>\n",
       "    <tr style=\"text-align: right;\">\n",
       "      <th></th>\n",
       "      <th>Valores nulos</th>\n",
       "      <th>Total registros</th>\n",
       "      <th>Porcentaje</th>\n",
       "    </tr>\n",
       "  </thead>\n",
       "  <tbody>\n",
       "  </tbody>\n",
       "</table>\n",
       "</div>"
      ],
      "text/plain": [
       "Empty DataFrame\n",
       "Columns: [Valores nulos, Total registros, Porcentaje]\n",
       "Index: []"
      ]
     },
     "execution_count": 83,
     "metadata": {},
     "output_type": "execute_result"
    }
   ],
   "source": [
    "null_team_history = team_history.isnull().sum()\n",
    "total_register = len(team_history)\n",
    "null_result = null_team_history[null_team_history > 0]\n",
    "\n",
    "df_null_team_history = pd.DataFrame(\n",
    "    {\n",
    "        \"Valores nulos\": null_result,\n",
    "        \"Total registros\": total_register,\n",
    "        \"Porcentaje\": (null_result / total_register * 100).round(2),\n",
    "    }\n",
    ")\n",
    "\n",
    "df_null_team_history"
   ]
  },
  {
   "cell_type": "markdown",
   "id": "ac9ccf13",
   "metadata": {},
   "source": [
    "## 2.14. Tabla team_info_common"
   ]
  },
  {
   "cell_type": "markdown",
   "id": "b81cedf4",
   "metadata": {},
   "source": [
    "### 2.14.1. Lectura de nulos"
   ]
  },
  {
   "cell_type": "code",
   "execution_count": 84,
   "id": "02cc42fa",
   "metadata": {},
   "outputs": [
    {
     "data": {
      "text/plain": [
       "(team_id              0\n",
       " season_year          0\n",
       " team_city            0\n",
       " team_name            0\n",
       " team_abbreviation    0\n",
       " team_conference      0\n",
       " team_division        0\n",
       " team_code            0\n",
       " team_slug            0\n",
       " w                    0\n",
       " l                    0\n",
       " pct                  0\n",
       " conf_rank            0\n",
       " div_rank             0\n",
       " min_year             0\n",
       " max_year             0\n",
       " league_id            0\n",
       " season_id            0\n",
       " pts_rank             0\n",
       " pts_pg               0\n",
       " reb_rank             0\n",
       " reb_pg               0\n",
       " ast_rank             0\n",
       " ast_pg               0\n",
       " opp_pts_rank         0\n",
       " opp_pts_pg           0\n",
       " dtype: int64,\n",
       " (0, 26))"
      ]
     },
     "execution_count": 84,
     "metadata": {},
     "output_type": "execute_result"
    }
   ],
   "source": [
    "team_info_common.isnull().sum(), team_info_common.shape"
   ]
  },
  {
   "cell_type": "code",
   "execution_count": 85,
   "id": "2ca4cc66",
   "metadata": {},
   "outputs": [
    {
     "data": {
      "application/vnd.microsoft.datawrangler.viewer.v0+json": {
       "columns": [
        {
         "name": "index",
         "rawType": "object",
         "type": "string"
        },
        {
         "name": "Valores nulos",
         "rawType": "int64",
         "type": "integer"
        },
        {
         "name": "Total registros",
         "rawType": "int64",
         "type": "integer"
        },
        {
         "name": "Porcentaje",
         "rawType": "float64",
         "type": "float"
        }
       ],
       "conversionMethod": "pd.DataFrame",
       "ref": "45af1264-83b2-4f7b-9ad2-f4c22aa8ecf2",
       "rows": [],
       "shape": {
        "columns": 3,
        "rows": 0
       }
      },
      "text/html": [
       "<div>\n",
       "<style scoped>\n",
       "    .dataframe tbody tr th:only-of-type {\n",
       "        vertical-align: middle;\n",
       "    }\n",
       "\n",
       "    .dataframe tbody tr th {\n",
       "        vertical-align: top;\n",
       "    }\n",
       "\n",
       "    .dataframe thead th {\n",
       "        text-align: right;\n",
       "    }\n",
       "</style>\n",
       "<table border=\"1\" class=\"dataframe\">\n",
       "  <thead>\n",
       "    <tr style=\"text-align: right;\">\n",
       "      <th></th>\n",
       "      <th>Valores nulos</th>\n",
       "      <th>Total registros</th>\n",
       "      <th>Porcentaje</th>\n",
       "    </tr>\n",
       "  </thead>\n",
       "  <tbody>\n",
       "  </tbody>\n",
       "</table>\n",
       "</div>"
      ],
      "text/plain": [
       "Empty DataFrame\n",
       "Columns: [Valores nulos, Total registros, Porcentaje]\n",
       "Index: []"
      ]
     },
     "execution_count": 85,
     "metadata": {},
     "output_type": "execute_result"
    }
   ],
   "source": [
    "null_team_info_common = team_info_common.isnull().sum()\n",
    "total_register = len(team_info_common)\n",
    "null_result = null_team_info_common[null_team_info_common > 0]\n",
    "\n",
    "df_null_team_info_common = pd.DataFrame(\n",
    "    {\n",
    "        \"Valores nulos\": null_result,\n",
    "        \"Total registros\": total_register,\n",
    "        \"Porcentaje\": (null_result / total_register * 100).round(2),\n",
    "    }\n",
    ")\n",
    "\n",
    "df_null_team_info_common"
   ]
  },
  {
   "cell_type": "markdown",
   "id": "359c659f",
   "metadata": {},
   "source": [
    "## 2.15. Tabla team"
   ]
  },
  {
   "cell_type": "markdown",
   "id": "d1f3e8c4",
   "metadata": {},
   "source": [
    "### 2.15.1. Lectura de nulos"
   ]
  },
  {
   "cell_type": "code",
   "execution_count": 86,
   "id": "abb563eb",
   "metadata": {},
   "outputs": [
    {
     "data": {
      "text/plain": [
       "(id              0\n",
       " full_name       0\n",
       " abbreviation    0\n",
       " nickname        0\n",
       " city            0\n",
       " state           0\n",
       " year_founded    0\n",
       " dtype: int64,\n",
       " (30, 7))"
      ]
     },
     "execution_count": 86,
     "metadata": {},
     "output_type": "execute_result"
    }
   ],
   "source": [
    "team.isnull().sum(), team.shape"
   ]
  },
  {
   "cell_type": "code",
   "execution_count": 87,
   "id": "9decb13d",
   "metadata": {},
   "outputs": [
    {
     "data": {
      "application/vnd.microsoft.datawrangler.viewer.v0+json": {
       "columns": [
        {
         "name": "index",
         "rawType": "object",
         "type": "string"
        },
        {
         "name": "Valores nulos",
         "rawType": "int64",
         "type": "integer"
        },
        {
         "name": "Total registros",
         "rawType": "int64",
         "type": "integer"
        },
        {
         "name": "Porcentaje",
         "rawType": "float64",
         "type": "float"
        }
       ],
       "conversionMethod": "pd.DataFrame",
       "ref": "8749ec2c-e3cb-40fe-b0ca-c5635b96629d",
       "rows": [],
       "shape": {
        "columns": 3,
        "rows": 0
       }
      },
      "text/html": [
       "<div>\n",
       "<style scoped>\n",
       "    .dataframe tbody tr th:only-of-type {\n",
       "        vertical-align: middle;\n",
       "    }\n",
       "\n",
       "    .dataframe tbody tr th {\n",
       "        vertical-align: top;\n",
       "    }\n",
       "\n",
       "    .dataframe thead th {\n",
       "        text-align: right;\n",
       "    }\n",
       "</style>\n",
       "<table border=\"1\" class=\"dataframe\">\n",
       "  <thead>\n",
       "    <tr style=\"text-align: right;\">\n",
       "      <th></th>\n",
       "      <th>Valores nulos</th>\n",
       "      <th>Total registros</th>\n",
       "      <th>Porcentaje</th>\n",
       "    </tr>\n",
       "  </thead>\n",
       "  <tbody>\n",
       "  </tbody>\n",
       "</table>\n",
       "</div>"
      ],
      "text/plain": [
       "Empty DataFrame\n",
       "Columns: [Valores nulos, Total registros, Porcentaje]\n",
       "Index: []"
      ]
     },
     "execution_count": 87,
     "metadata": {},
     "output_type": "execute_result"
    }
   ],
   "source": [
    "null_team = team.isnull().sum()\n",
    "total_register = len(team)\n",
    "null_result = null_team[null_team > 0]\n",
    "\n",
    "df_null_team = pd.DataFrame(\n",
    "    {\n",
    "        \"Valores nulos\": null_result,\n",
    "        \"Total registros\": total_register,\n",
    "        \"Porcentaje\": (null_result / total_register * 100).round(2),\n",
    "    }\n",
    ")\n",
    "\n",
    "df_null_team"
   ]
  },
  {
   "cell_type": "markdown",
   "id": "40948773",
   "metadata": {},
   "source": [
    "## 2.16. Tabla play_by_play"
   ]
  },
  {
   "cell_type": "markdown",
   "id": "ef1bb35b",
   "metadata": {},
   "source": [
    "### 2.16.1. Lectura de nulos"
   ]
  },
  {
   "cell_type": "code",
   "execution_count": 88,
   "id": "22abb508",
   "metadata": {},
   "outputs": [
    {
     "data": {
      "text/plain": [
       "(game_id                             0\n",
       " eventnum                            0\n",
       " eventmsgtype                        0\n",
       " eventmsgactiontype                  0\n",
       " period                              0\n",
       " wctimestring                      950\n",
       " pctimestring                        0\n",
       " homedescription               6530241\n",
       " neutraldescription           13273327\n",
       " visitordescription            6634527\n",
       " score                        10028436\n",
       " scoremargin                  10028436\n",
       " person1type                      3298\n",
       " player1_id                          0\n",
       " player1_name                  1208875\n",
       " player1_team_id               1215858\n",
       " player1_team_city             1215858\n",
       " player1_team_nickname         1215858\n",
       " player1_team_abbreviation     1215858\n",
       " person2type                         0\n",
       " player2_id                          0\n",
       " player2_name                  9683745\n",
       " player2_team_id               9660454\n",
       " player2_team_city             9660454\n",
       " player2_team_nickname         9660454\n",
       " player2_team_abbreviation     9660454\n",
       " person3type                         0\n",
       " player3_id                          0\n",
       " player3_name                 13251785\n",
       " player3_team_id              13246931\n",
       " player3_team_city            13246931\n",
       " player3_team_nickname        13246931\n",
       " player3_team_abbreviation    13246931\n",
       " video_available_flag                0\n",
       " dtype: int64,\n",
       " (13592899, 34))"
      ]
     },
     "execution_count": 88,
     "metadata": {},
     "output_type": "execute_result"
    }
   ],
   "source": [
    "play_by_play.isnull().sum(), play_by_play.shape"
   ]
  },
  {
   "cell_type": "code",
   "execution_count": 89,
   "id": "cc0a5bca",
   "metadata": {},
   "outputs": [
    {
     "data": {
      "application/vnd.microsoft.datawrangler.viewer.v0+json": {
       "columns": [
        {
         "name": "index",
         "rawType": "object",
         "type": "string"
        },
        {
         "name": "Valores nulos",
         "rawType": "int64",
         "type": "integer"
        },
        {
         "name": "Total registros",
         "rawType": "int64",
         "type": "integer"
        },
        {
         "name": "Porcentaje",
         "rawType": "float64",
         "type": "float"
        }
       ],
       "conversionMethod": "pd.DataFrame",
       "ref": "a7d741fb-2596-4e3c-9a0c-7529aee1ab09",
       "rows": [
        [
         "wctimestring",
         "950",
         "13592899",
         "0.01"
        ],
        [
         "homedescription",
         "6530241",
         "13592899",
         "48.04"
        ],
        [
         "neutraldescription",
         "13273327",
         "13592899",
         "97.65"
        ],
        [
         "visitordescription",
         "6634527",
         "13592899",
         "48.81"
        ],
        [
         "score",
         "10028436",
         "13592899",
         "73.78"
        ],
        [
         "scoremargin",
         "10028436",
         "13592899",
         "73.78"
        ],
        [
         "person1type",
         "3298",
         "13592899",
         "0.02"
        ],
        [
         "player1_name",
         "1208875",
         "13592899",
         "8.89"
        ],
        [
         "player1_team_id",
         "1215858",
         "13592899",
         "8.94"
        ],
        [
         "player1_team_city",
         "1215858",
         "13592899",
         "8.94"
        ],
        [
         "player1_team_nickname",
         "1215858",
         "13592899",
         "8.94"
        ],
        [
         "player1_team_abbreviation",
         "1215858",
         "13592899",
         "8.94"
        ],
        [
         "player2_name",
         "9683745",
         "13592899",
         "71.24"
        ],
        [
         "player2_team_id",
         "9660454",
         "13592899",
         "71.07"
        ],
        [
         "player2_team_city",
         "9660454",
         "13592899",
         "71.07"
        ],
        [
         "player2_team_nickname",
         "9660454",
         "13592899",
         "71.07"
        ],
        [
         "player2_team_abbreviation",
         "9660454",
         "13592899",
         "71.07"
        ],
        [
         "player3_name",
         "13251785",
         "13592899",
         "97.49"
        ],
        [
         "player3_team_id",
         "13246931",
         "13592899",
         "97.45"
        ],
        [
         "player3_team_city",
         "13246931",
         "13592899",
         "97.45"
        ],
        [
         "player3_team_nickname",
         "13246931",
         "13592899",
         "97.45"
        ],
        [
         "player3_team_abbreviation",
         "13246931",
         "13592899",
         "97.45"
        ]
       ],
       "shape": {
        "columns": 3,
        "rows": 22
       }
      },
      "text/html": [
       "<div>\n",
       "<style scoped>\n",
       "    .dataframe tbody tr th:only-of-type {\n",
       "        vertical-align: middle;\n",
       "    }\n",
       "\n",
       "    .dataframe tbody tr th {\n",
       "        vertical-align: top;\n",
       "    }\n",
       "\n",
       "    .dataframe thead th {\n",
       "        text-align: right;\n",
       "    }\n",
       "</style>\n",
       "<table border=\"1\" class=\"dataframe\">\n",
       "  <thead>\n",
       "    <tr style=\"text-align: right;\">\n",
       "      <th></th>\n",
       "      <th>Valores nulos</th>\n",
       "      <th>Total registros</th>\n",
       "      <th>Porcentaje</th>\n",
       "    </tr>\n",
       "  </thead>\n",
       "  <tbody>\n",
       "    <tr>\n",
       "      <th>wctimestring</th>\n",
       "      <td>950</td>\n",
       "      <td>13592899</td>\n",
       "      <td>0.01</td>\n",
       "    </tr>\n",
       "    <tr>\n",
       "      <th>homedescription</th>\n",
       "      <td>6530241</td>\n",
       "      <td>13592899</td>\n",
       "      <td>48.04</td>\n",
       "    </tr>\n",
       "    <tr>\n",
       "      <th>neutraldescription</th>\n",
       "      <td>13273327</td>\n",
       "      <td>13592899</td>\n",
       "      <td>97.65</td>\n",
       "    </tr>\n",
       "    <tr>\n",
       "      <th>visitordescription</th>\n",
       "      <td>6634527</td>\n",
       "      <td>13592899</td>\n",
       "      <td>48.81</td>\n",
       "    </tr>\n",
       "    <tr>\n",
       "      <th>score</th>\n",
       "      <td>10028436</td>\n",
       "      <td>13592899</td>\n",
       "      <td>73.78</td>\n",
       "    </tr>\n",
       "    <tr>\n",
       "      <th>scoremargin</th>\n",
       "      <td>10028436</td>\n",
       "      <td>13592899</td>\n",
       "      <td>73.78</td>\n",
       "    </tr>\n",
       "    <tr>\n",
       "      <th>person1type</th>\n",
       "      <td>3298</td>\n",
       "      <td>13592899</td>\n",
       "      <td>0.02</td>\n",
       "    </tr>\n",
       "    <tr>\n",
       "      <th>player1_name</th>\n",
       "      <td>1208875</td>\n",
       "      <td>13592899</td>\n",
       "      <td>8.89</td>\n",
       "    </tr>\n",
       "    <tr>\n",
       "      <th>player1_team_id</th>\n",
       "      <td>1215858</td>\n",
       "      <td>13592899</td>\n",
       "      <td>8.94</td>\n",
       "    </tr>\n",
       "    <tr>\n",
       "      <th>player1_team_city</th>\n",
       "      <td>1215858</td>\n",
       "      <td>13592899</td>\n",
       "      <td>8.94</td>\n",
       "    </tr>\n",
       "    <tr>\n",
       "      <th>player1_team_nickname</th>\n",
       "      <td>1215858</td>\n",
       "      <td>13592899</td>\n",
       "      <td>8.94</td>\n",
       "    </tr>\n",
       "    <tr>\n",
       "      <th>player1_team_abbreviation</th>\n",
       "      <td>1215858</td>\n",
       "      <td>13592899</td>\n",
       "      <td>8.94</td>\n",
       "    </tr>\n",
       "    <tr>\n",
       "      <th>player2_name</th>\n",
       "      <td>9683745</td>\n",
       "      <td>13592899</td>\n",
       "      <td>71.24</td>\n",
       "    </tr>\n",
       "    <tr>\n",
       "      <th>player2_team_id</th>\n",
       "      <td>9660454</td>\n",
       "      <td>13592899</td>\n",
       "      <td>71.07</td>\n",
       "    </tr>\n",
       "    <tr>\n",
       "      <th>player2_team_city</th>\n",
       "      <td>9660454</td>\n",
       "      <td>13592899</td>\n",
       "      <td>71.07</td>\n",
       "    </tr>\n",
       "    <tr>\n",
       "      <th>player2_team_nickname</th>\n",
       "      <td>9660454</td>\n",
       "      <td>13592899</td>\n",
       "      <td>71.07</td>\n",
       "    </tr>\n",
       "    <tr>\n",
       "      <th>player2_team_abbreviation</th>\n",
       "      <td>9660454</td>\n",
       "      <td>13592899</td>\n",
       "      <td>71.07</td>\n",
       "    </tr>\n",
       "    <tr>\n",
       "      <th>player3_name</th>\n",
       "      <td>13251785</td>\n",
       "      <td>13592899</td>\n",
       "      <td>97.49</td>\n",
       "    </tr>\n",
       "    <tr>\n",
       "      <th>player3_team_id</th>\n",
       "      <td>13246931</td>\n",
       "      <td>13592899</td>\n",
       "      <td>97.45</td>\n",
       "    </tr>\n",
       "    <tr>\n",
       "      <th>player3_team_city</th>\n",
       "      <td>13246931</td>\n",
       "      <td>13592899</td>\n",
       "      <td>97.45</td>\n",
       "    </tr>\n",
       "    <tr>\n",
       "      <th>player3_team_nickname</th>\n",
       "      <td>13246931</td>\n",
       "      <td>13592899</td>\n",
       "      <td>97.45</td>\n",
       "    </tr>\n",
       "    <tr>\n",
       "      <th>player3_team_abbreviation</th>\n",
       "      <td>13246931</td>\n",
       "      <td>13592899</td>\n",
       "      <td>97.45</td>\n",
       "    </tr>\n",
       "  </tbody>\n",
       "</table>\n",
       "</div>"
      ],
      "text/plain": [
       "                           Valores nulos  Total registros  Porcentaje\n",
       "wctimestring                         950         13592899        0.01\n",
       "homedescription                  6530241         13592899       48.04\n",
       "neutraldescription              13273327         13592899       97.65\n",
       "visitordescription               6634527         13592899       48.81\n",
       "score                           10028436         13592899       73.78\n",
       "scoremargin                     10028436         13592899       73.78\n",
       "person1type                         3298         13592899        0.02\n",
       "player1_name                     1208875         13592899        8.89\n",
       "player1_team_id                  1215858         13592899        8.94\n",
       "player1_team_city                1215858         13592899        8.94\n",
       "player1_team_nickname            1215858         13592899        8.94\n",
       "player1_team_abbreviation        1215858         13592899        8.94\n",
       "player2_name                     9683745         13592899       71.24\n",
       "player2_team_id                  9660454         13592899       71.07\n",
       "player2_team_city                9660454         13592899       71.07\n",
       "player2_team_nickname            9660454         13592899       71.07\n",
       "player2_team_abbreviation        9660454         13592899       71.07\n",
       "player3_name                    13251785         13592899       97.49\n",
       "player3_team_id                 13246931         13592899       97.45\n",
       "player3_team_city               13246931         13592899       97.45\n",
       "player3_team_nickname           13246931         13592899       97.45\n",
       "player3_team_abbreviation       13246931         13592899       97.45"
      ]
     },
     "execution_count": 89,
     "metadata": {},
     "output_type": "execute_result"
    }
   ],
   "source": [
    "null_play_by_play = play_by_play.isnull().sum()\n",
    "total_register = len(play_by_play)\n",
    "null_result = null_play_by_play[null_play_by_play > 0]\n",
    "\n",
    "df_null_play_by_play = pd.DataFrame(\n",
    "    {\n",
    "        \"Valores nulos\": null_result,\n",
    "        \"Total registros\": total_register,\n",
    "        \"Porcentaje\": (null_result / total_register * 100).round(2),\n",
    "    }\n",
    ")\n",
    "\n",
    "df_null_play_by_play"
   ]
  },
  {
   "cell_type": "markdown",
   "id": "febb4ebb",
   "metadata": {},
   "source": [
    "### 2.16.2. Eliminacion de columna innecesaria"
   ]
  },
  {
   "cell_type": "code",
   "execution_count": 90,
   "id": "cdc4ed4b",
   "metadata": {},
   "outputs": [],
   "source": [
    "play_by_play = play_by_play.drop([\"video_available_flag\"], axis=1)"
   ]
  },
  {
   "cell_type": "markdown",
   "id": "119417a2",
   "metadata": {},
   "source": [
    "### 2.16.3. Filtro por el cuarto cuarto"
   ]
  },
  {
   "cell_type": "code",
   "execution_count": 91,
   "id": "3f74d40a",
   "metadata": {},
   "outputs": [],
   "source": [
    "play_by_play_qt4 = play_by_play[play_by_play[\"period\"].isin([4])]"
   ]
  },
  {
   "cell_type": "markdown",
   "id": "69576700",
   "metadata": {},
   "source": [
    "### 2.16.4. Filtro por los ultimos 5 minutos"
   ]
  },
  {
   "cell_type": "code",
   "execution_count": 92,
   "id": "9e14df9b",
   "metadata": {},
   "outputs": [],
   "source": [
    "# Convertir \"pctimestring\" a segundos para facilitar la comparación\n",
    "play_by_play_qt4 = play_by_play_qt4.copy()  # Create a copy to avoid the warning\n",
    "play_by_play_qt4[\"pctimestring\"] = play_by_play_qt4[\"pctimestring\"].astype(str).apply(\n",
    "    lambda x: int(x.split(\":\")[0]) * 60 + int(x.split(\":\")[1]) if \":\" in x else None\n",
    ")\n",
    "\n",
    "# Filtrar las jugadas en los últimos 5 minutos (300 segundos)\n",
    "play_by_play_clutch = play_by_play_qt4[play_by_play_qt4[\"pctimestring\"] <= 300].copy()\n",
    "\n",
    "# Convertir de vuelta \"pctimestring\" a formato m:ss\n",
    "play_by_play_clutch[\"pctimestring\"] = play_by_play_clutch[\"pctimestring\"].apply(\n",
    "    lambda x: f\"{x // 60}:{x % 60:02d}\" if pd.notnull(x) else None\n",
    ")"
   ]
  },
  {
   "cell_type": "code",
   "execution_count": 93,
   "id": "9e5d7bd8",
   "metadata": {},
   "outputs": [
    {
     "data": {
      "application/vnd.microsoft.datawrangler.viewer.v0+json": {
       "columns": [
        {
         "name": "index",
         "rawType": "object",
         "type": "string"
        },
        {
         "name": "Valores nulos",
         "rawType": "int64",
         "type": "integer"
        },
        {
         "name": "Total registros",
         "rawType": "int64",
         "type": "integer"
        },
        {
         "name": "Porcentaje",
         "rawType": "float64",
         "type": "float"
        }
       ],
       "conversionMethod": "pd.DataFrame",
       "ref": "8c0b13c9-a418-4b36-99ff-5c589582aa80",
       "rows": [
        [
         "wctimestring",
         "950",
         "13592899",
         "0.01"
        ],
        [
         "homedescription",
         "6530241",
         "13592899",
         "48.04"
        ],
        [
         "neutraldescription",
         "13273327",
         "13592899",
         "97.65"
        ],
        [
         "visitordescription",
         "6634527",
         "13592899",
         "48.81"
        ],
        [
         "score",
         "10028436",
         "13592899",
         "73.78"
        ],
        [
         "scoremargin",
         "10028436",
         "13592899",
         "73.78"
        ],
        [
         "person1type",
         "3298",
         "13592899",
         "0.02"
        ],
        [
         "player1_name",
         "1208875",
         "13592899",
         "8.89"
        ],
        [
         "player1_team_id",
         "1215858",
         "13592899",
         "8.94"
        ],
        [
         "player1_team_city",
         "1215858",
         "13592899",
         "8.94"
        ],
        [
         "player1_team_nickname",
         "1215858",
         "13592899",
         "8.94"
        ],
        [
         "player1_team_abbreviation",
         "1215858",
         "13592899",
         "8.94"
        ],
        [
         "player2_name",
         "9683745",
         "13592899",
         "71.24"
        ],
        [
         "player2_team_id",
         "9660454",
         "13592899",
         "71.07"
        ],
        [
         "player2_team_city",
         "9660454",
         "13592899",
         "71.07"
        ],
        [
         "player2_team_nickname",
         "9660454",
         "13592899",
         "71.07"
        ],
        [
         "player2_team_abbreviation",
         "9660454",
         "13592899",
         "71.07"
        ],
        [
         "player3_name",
         "13251785",
         "13592899",
         "97.49"
        ],
        [
         "player3_team_id",
         "13246931",
         "13592899",
         "97.45"
        ],
        [
         "player3_team_city",
         "13246931",
         "13592899",
         "97.45"
        ],
        [
         "player3_team_nickname",
         "13246931",
         "13592899",
         "97.45"
        ],
        [
         "player3_team_abbreviation",
         "13246931",
         "13592899",
         "97.45"
        ]
       ],
       "shape": {
        "columns": 3,
        "rows": 22
       }
      },
      "text/html": [
       "<div>\n",
       "<style scoped>\n",
       "    .dataframe tbody tr th:only-of-type {\n",
       "        vertical-align: middle;\n",
       "    }\n",
       "\n",
       "    .dataframe tbody tr th {\n",
       "        vertical-align: top;\n",
       "    }\n",
       "\n",
       "    .dataframe thead th {\n",
       "        text-align: right;\n",
       "    }\n",
       "</style>\n",
       "<table border=\"1\" class=\"dataframe\">\n",
       "  <thead>\n",
       "    <tr style=\"text-align: right;\">\n",
       "      <th></th>\n",
       "      <th>Valores nulos</th>\n",
       "      <th>Total registros</th>\n",
       "      <th>Porcentaje</th>\n",
       "    </tr>\n",
       "  </thead>\n",
       "  <tbody>\n",
       "    <tr>\n",
       "      <th>wctimestring</th>\n",
       "      <td>950</td>\n",
       "      <td>13592899</td>\n",
       "      <td>0.01</td>\n",
       "    </tr>\n",
       "    <tr>\n",
       "      <th>homedescription</th>\n",
       "      <td>6530241</td>\n",
       "      <td>13592899</td>\n",
       "      <td>48.04</td>\n",
       "    </tr>\n",
       "    <tr>\n",
       "      <th>neutraldescription</th>\n",
       "      <td>13273327</td>\n",
       "      <td>13592899</td>\n",
       "      <td>97.65</td>\n",
       "    </tr>\n",
       "    <tr>\n",
       "      <th>visitordescription</th>\n",
       "      <td>6634527</td>\n",
       "      <td>13592899</td>\n",
       "      <td>48.81</td>\n",
       "    </tr>\n",
       "    <tr>\n",
       "      <th>score</th>\n",
       "      <td>10028436</td>\n",
       "      <td>13592899</td>\n",
       "      <td>73.78</td>\n",
       "    </tr>\n",
       "    <tr>\n",
       "      <th>scoremargin</th>\n",
       "      <td>10028436</td>\n",
       "      <td>13592899</td>\n",
       "      <td>73.78</td>\n",
       "    </tr>\n",
       "    <tr>\n",
       "      <th>person1type</th>\n",
       "      <td>3298</td>\n",
       "      <td>13592899</td>\n",
       "      <td>0.02</td>\n",
       "    </tr>\n",
       "    <tr>\n",
       "      <th>player1_name</th>\n",
       "      <td>1208875</td>\n",
       "      <td>13592899</td>\n",
       "      <td>8.89</td>\n",
       "    </tr>\n",
       "    <tr>\n",
       "      <th>player1_team_id</th>\n",
       "      <td>1215858</td>\n",
       "      <td>13592899</td>\n",
       "      <td>8.94</td>\n",
       "    </tr>\n",
       "    <tr>\n",
       "      <th>player1_team_city</th>\n",
       "      <td>1215858</td>\n",
       "      <td>13592899</td>\n",
       "      <td>8.94</td>\n",
       "    </tr>\n",
       "    <tr>\n",
       "      <th>player1_team_nickname</th>\n",
       "      <td>1215858</td>\n",
       "      <td>13592899</td>\n",
       "      <td>8.94</td>\n",
       "    </tr>\n",
       "    <tr>\n",
       "      <th>player1_team_abbreviation</th>\n",
       "      <td>1215858</td>\n",
       "      <td>13592899</td>\n",
       "      <td>8.94</td>\n",
       "    </tr>\n",
       "    <tr>\n",
       "      <th>player2_name</th>\n",
       "      <td>9683745</td>\n",
       "      <td>13592899</td>\n",
       "      <td>71.24</td>\n",
       "    </tr>\n",
       "    <tr>\n",
       "      <th>player2_team_id</th>\n",
       "      <td>9660454</td>\n",
       "      <td>13592899</td>\n",
       "      <td>71.07</td>\n",
       "    </tr>\n",
       "    <tr>\n",
       "      <th>player2_team_city</th>\n",
       "      <td>9660454</td>\n",
       "      <td>13592899</td>\n",
       "      <td>71.07</td>\n",
       "    </tr>\n",
       "    <tr>\n",
       "      <th>player2_team_nickname</th>\n",
       "      <td>9660454</td>\n",
       "      <td>13592899</td>\n",
       "      <td>71.07</td>\n",
       "    </tr>\n",
       "    <tr>\n",
       "      <th>player2_team_abbreviation</th>\n",
       "      <td>9660454</td>\n",
       "      <td>13592899</td>\n",
       "      <td>71.07</td>\n",
       "    </tr>\n",
       "    <tr>\n",
       "      <th>player3_name</th>\n",
       "      <td>13251785</td>\n",
       "      <td>13592899</td>\n",
       "      <td>97.49</td>\n",
       "    </tr>\n",
       "    <tr>\n",
       "      <th>player3_team_id</th>\n",
       "      <td>13246931</td>\n",
       "      <td>13592899</td>\n",
       "      <td>97.45</td>\n",
       "    </tr>\n",
       "    <tr>\n",
       "      <th>player3_team_city</th>\n",
       "      <td>13246931</td>\n",
       "      <td>13592899</td>\n",
       "      <td>97.45</td>\n",
       "    </tr>\n",
       "    <tr>\n",
       "      <th>player3_team_nickname</th>\n",
       "      <td>13246931</td>\n",
       "      <td>13592899</td>\n",
       "      <td>97.45</td>\n",
       "    </tr>\n",
       "    <tr>\n",
       "      <th>player3_team_abbreviation</th>\n",
       "      <td>13246931</td>\n",
       "      <td>13592899</td>\n",
       "      <td>97.45</td>\n",
       "    </tr>\n",
       "  </tbody>\n",
       "</table>\n",
       "</div>"
      ],
      "text/plain": [
       "                           Valores nulos  Total registros  Porcentaje\n",
       "wctimestring                         950         13592899        0.01\n",
       "homedescription                  6530241         13592899       48.04\n",
       "neutraldescription              13273327         13592899       97.65\n",
       "visitordescription               6634527         13592899       48.81\n",
       "score                           10028436         13592899       73.78\n",
       "scoremargin                     10028436         13592899       73.78\n",
       "person1type                         3298         13592899        0.02\n",
       "player1_name                     1208875         13592899        8.89\n",
       "player1_team_id                  1215858         13592899        8.94\n",
       "player1_team_city                1215858         13592899        8.94\n",
       "player1_team_nickname            1215858         13592899        8.94\n",
       "player1_team_abbreviation        1215858         13592899        8.94\n",
       "player2_name                     9683745         13592899       71.24\n",
       "player2_team_id                  9660454         13592899       71.07\n",
       "player2_team_city                9660454         13592899       71.07\n",
       "player2_team_nickname            9660454         13592899       71.07\n",
       "player2_team_abbreviation        9660454         13592899       71.07\n",
       "player3_name                    13251785         13592899       97.49\n",
       "player3_team_id                 13246931         13592899       97.45\n",
       "player3_team_city               13246931         13592899       97.45\n",
       "player3_team_nickname           13246931         13592899       97.45\n",
       "player3_team_abbreviation       13246931         13592899       97.45"
      ]
     },
     "execution_count": 93,
     "metadata": {},
     "output_type": "execute_result"
    }
   ],
   "source": [
    "null_play_by_play = play_by_play.isnull().sum()\n",
    "total_register = len(play_by_play)\n",
    "null_result = null_play_by_play[null_play_by_play > 0]\n",
    "\n",
    "df_null_play_by_play = pd.DataFrame(\n",
    "    {\n",
    "        \"Valores nulos\": null_result,\n",
    "        \"Total registros\": total_register,\n",
    "        \"Porcentaje\": (null_result / total_register * 100).round(2),\n",
    "    }\n",
    ")\n",
    "\n",
    "df_null_play_by_play"
   ]
  },
  {
   "cell_type": "markdown",
   "id": "1adf4076",
   "metadata": {},
   "source": [
    "### 2.16.5. Eliminacion de columnas de datos de player y team"
   ]
  },
  {
   "cell_type": "code",
   "execution_count": 94,
   "id": "18049830",
   "metadata": {},
   "outputs": [],
   "source": [
    "delete_columns = [\"person1type\", \"player1_name\", \"player1_team_city\", \"player1_team_nickname\", \"player1_team_abbreviation\", \"person2type\", \"player2_name\", \"player2_team_city\", \"player2_team_nickname\", \"player2_team_abbreviation\", \"person3type\", \"player3_name\", \"player3_team_city\", \"player3_team_nickname\", \"player3_team_abbreviation\"]\n",
    "\n",
    "play_by_play_clutch.drop(delete_columns, axis=1, inplace=True)"
   ]
  },
  {
   "cell_type": "code",
   "execution_count": 95,
   "id": "d8efa656",
   "metadata": {},
   "outputs": [
    {
     "data": {
      "application/vnd.microsoft.datawrangler.viewer.v0+json": {
       "columns": [
        {
         "name": "index",
         "rawType": "object",
         "type": "string"
        },
        {
         "name": "Valores nulos",
         "rawType": "int64",
         "type": "integer"
        },
        {
         "name": "Total registros",
         "rawType": "int64",
         "type": "integer"
        },
        {
         "name": "Porcentaje",
         "rawType": "float64",
         "type": "float"
        }
       ],
       "conversionMethod": "pd.DataFrame",
       "ref": "a94f75e0-ad93-487f-8358-9094a8bda9f9",
       "rows": [
        [
         "wctimestring",
         "950",
         "13592899",
         "0.01"
        ],
        [
         "homedescription",
         "6530241",
         "13592899",
         "48.04"
        ],
        [
         "neutraldescription",
         "13273327",
         "13592899",
         "97.65"
        ],
        [
         "visitordescription",
         "6634527",
         "13592899",
         "48.81"
        ],
        [
         "score",
         "10028436",
         "13592899",
         "73.78"
        ],
        [
         "scoremargin",
         "10028436",
         "13592899",
         "73.78"
        ],
        [
         "person1type",
         "3298",
         "13592899",
         "0.02"
        ],
        [
         "player1_name",
         "1208875",
         "13592899",
         "8.89"
        ],
        [
         "player1_team_id",
         "1215858",
         "13592899",
         "8.94"
        ],
        [
         "player1_team_city",
         "1215858",
         "13592899",
         "8.94"
        ],
        [
         "player1_team_nickname",
         "1215858",
         "13592899",
         "8.94"
        ],
        [
         "player1_team_abbreviation",
         "1215858",
         "13592899",
         "8.94"
        ],
        [
         "player2_name",
         "9683745",
         "13592899",
         "71.24"
        ],
        [
         "player2_team_id",
         "9660454",
         "13592899",
         "71.07"
        ],
        [
         "player2_team_city",
         "9660454",
         "13592899",
         "71.07"
        ],
        [
         "player2_team_nickname",
         "9660454",
         "13592899",
         "71.07"
        ],
        [
         "player2_team_abbreviation",
         "9660454",
         "13592899",
         "71.07"
        ],
        [
         "player3_name",
         "13251785",
         "13592899",
         "97.49"
        ],
        [
         "player3_team_id",
         "13246931",
         "13592899",
         "97.45"
        ],
        [
         "player3_team_city",
         "13246931",
         "13592899",
         "97.45"
        ],
        [
         "player3_team_nickname",
         "13246931",
         "13592899",
         "97.45"
        ],
        [
         "player3_team_abbreviation",
         "13246931",
         "13592899",
         "97.45"
        ]
       ],
       "shape": {
        "columns": 3,
        "rows": 22
       }
      },
      "text/html": [
       "<div>\n",
       "<style scoped>\n",
       "    .dataframe tbody tr th:only-of-type {\n",
       "        vertical-align: middle;\n",
       "    }\n",
       "\n",
       "    .dataframe tbody tr th {\n",
       "        vertical-align: top;\n",
       "    }\n",
       "\n",
       "    .dataframe thead th {\n",
       "        text-align: right;\n",
       "    }\n",
       "</style>\n",
       "<table border=\"1\" class=\"dataframe\">\n",
       "  <thead>\n",
       "    <tr style=\"text-align: right;\">\n",
       "      <th></th>\n",
       "      <th>Valores nulos</th>\n",
       "      <th>Total registros</th>\n",
       "      <th>Porcentaje</th>\n",
       "    </tr>\n",
       "  </thead>\n",
       "  <tbody>\n",
       "    <tr>\n",
       "      <th>wctimestring</th>\n",
       "      <td>950</td>\n",
       "      <td>13592899</td>\n",
       "      <td>0.01</td>\n",
       "    </tr>\n",
       "    <tr>\n",
       "      <th>homedescription</th>\n",
       "      <td>6530241</td>\n",
       "      <td>13592899</td>\n",
       "      <td>48.04</td>\n",
       "    </tr>\n",
       "    <tr>\n",
       "      <th>neutraldescription</th>\n",
       "      <td>13273327</td>\n",
       "      <td>13592899</td>\n",
       "      <td>97.65</td>\n",
       "    </tr>\n",
       "    <tr>\n",
       "      <th>visitordescription</th>\n",
       "      <td>6634527</td>\n",
       "      <td>13592899</td>\n",
       "      <td>48.81</td>\n",
       "    </tr>\n",
       "    <tr>\n",
       "      <th>score</th>\n",
       "      <td>10028436</td>\n",
       "      <td>13592899</td>\n",
       "      <td>73.78</td>\n",
       "    </tr>\n",
       "    <tr>\n",
       "      <th>scoremargin</th>\n",
       "      <td>10028436</td>\n",
       "      <td>13592899</td>\n",
       "      <td>73.78</td>\n",
       "    </tr>\n",
       "    <tr>\n",
       "      <th>person1type</th>\n",
       "      <td>3298</td>\n",
       "      <td>13592899</td>\n",
       "      <td>0.02</td>\n",
       "    </tr>\n",
       "    <tr>\n",
       "      <th>player1_name</th>\n",
       "      <td>1208875</td>\n",
       "      <td>13592899</td>\n",
       "      <td>8.89</td>\n",
       "    </tr>\n",
       "    <tr>\n",
       "      <th>player1_team_id</th>\n",
       "      <td>1215858</td>\n",
       "      <td>13592899</td>\n",
       "      <td>8.94</td>\n",
       "    </tr>\n",
       "    <tr>\n",
       "      <th>player1_team_city</th>\n",
       "      <td>1215858</td>\n",
       "      <td>13592899</td>\n",
       "      <td>8.94</td>\n",
       "    </tr>\n",
       "    <tr>\n",
       "      <th>player1_team_nickname</th>\n",
       "      <td>1215858</td>\n",
       "      <td>13592899</td>\n",
       "      <td>8.94</td>\n",
       "    </tr>\n",
       "    <tr>\n",
       "      <th>player1_team_abbreviation</th>\n",
       "      <td>1215858</td>\n",
       "      <td>13592899</td>\n",
       "      <td>8.94</td>\n",
       "    </tr>\n",
       "    <tr>\n",
       "      <th>player2_name</th>\n",
       "      <td>9683745</td>\n",
       "      <td>13592899</td>\n",
       "      <td>71.24</td>\n",
       "    </tr>\n",
       "    <tr>\n",
       "      <th>player2_team_id</th>\n",
       "      <td>9660454</td>\n",
       "      <td>13592899</td>\n",
       "      <td>71.07</td>\n",
       "    </tr>\n",
       "    <tr>\n",
       "      <th>player2_team_city</th>\n",
       "      <td>9660454</td>\n",
       "      <td>13592899</td>\n",
       "      <td>71.07</td>\n",
       "    </tr>\n",
       "    <tr>\n",
       "      <th>player2_team_nickname</th>\n",
       "      <td>9660454</td>\n",
       "      <td>13592899</td>\n",
       "      <td>71.07</td>\n",
       "    </tr>\n",
       "    <tr>\n",
       "      <th>player2_team_abbreviation</th>\n",
       "      <td>9660454</td>\n",
       "      <td>13592899</td>\n",
       "      <td>71.07</td>\n",
       "    </tr>\n",
       "    <tr>\n",
       "      <th>player3_name</th>\n",
       "      <td>13251785</td>\n",
       "      <td>13592899</td>\n",
       "      <td>97.49</td>\n",
       "    </tr>\n",
       "    <tr>\n",
       "      <th>player3_team_id</th>\n",
       "      <td>13246931</td>\n",
       "      <td>13592899</td>\n",
       "      <td>97.45</td>\n",
       "    </tr>\n",
       "    <tr>\n",
       "      <th>player3_team_city</th>\n",
       "      <td>13246931</td>\n",
       "      <td>13592899</td>\n",
       "      <td>97.45</td>\n",
       "    </tr>\n",
       "    <tr>\n",
       "      <th>player3_team_nickname</th>\n",
       "      <td>13246931</td>\n",
       "      <td>13592899</td>\n",
       "      <td>97.45</td>\n",
       "    </tr>\n",
       "    <tr>\n",
       "      <th>player3_team_abbreviation</th>\n",
       "      <td>13246931</td>\n",
       "      <td>13592899</td>\n",
       "      <td>97.45</td>\n",
       "    </tr>\n",
       "  </tbody>\n",
       "</table>\n",
       "</div>"
      ],
      "text/plain": [
       "                           Valores nulos  Total registros  Porcentaje\n",
       "wctimestring                         950         13592899        0.01\n",
       "homedescription                  6530241         13592899       48.04\n",
       "neutraldescription              13273327         13592899       97.65\n",
       "visitordescription               6634527         13592899       48.81\n",
       "score                           10028436         13592899       73.78\n",
       "scoremargin                     10028436         13592899       73.78\n",
       "person1type                         3298         13592899        0.02\n",
       "player1_name                     1208875         13592899        8.89\n",
       "player1_team_id                  1215858         13592899        8.94\n",
       "player1_team_city                1215858         13592899        8.94\n",
       "player1_team_nickname            1215858         13592899        8.94\n",
       "player1_team_abbreviation        1215858         13592899        8.94\n",
       "player2_name                     9683745         13592899       71.24\n",
       "player2_team_id                  9660454         13592899       71.07\n",
       "player2_team_city                9660454         13592899       71.07\n",
       "player2_team_nickname            9660454         13592899       71.07\n",
       "player2_team_abbreviation        9660454         13592899       71.07\n",
       "player3_name                    13251785         13592899       97.49\n",
       "player3_team_id                 13246931         13592899       97.45\n",
       "player3_team_city               13246931         13592899       97.45\n",
       "player3_team_nickname           13246931         13592899       97.45\n",
       "player3_team_abbreviation       13246931         13592899       97.45"
      ]
     },
     "execution_count": 95,
     "metadata": {},
     "output_type": "execute_result"
    }
   ],
   "source": [
    "null_play_by_play = play_by_play.isnull().sum()\n",
    "total_register = len(play_by_play)\n",
    "null_result = null_play_by_play[null_play_by_play > 0]\n",
    "\n",
    "df_null_play_by_play = pd.DataFrame(\n",
    "    {\n",
    "        \"Valores nulos\": null_result,\n",
    "        \"Total registros\": total_register,\n",
    "        \"Porcentaje\": (null_result / total_register * 100).round(2),\n",
    "    }\n",
    ")\n",
    "\n",
    "df_null_play_by_play"
   ]
  },
  {
   "cell_type": "markdown",
   "id": "a5ad032b",
   "metadata": {},
   "source": [
    "### 2.16.6. Eliminacion de columnas de evento del partido, perido y hora"
   ]
  },
  {
   "cell_type": "code",
   "execution_count": 96,
   "id": "8a700054",
   "metadata": {},
   "outputs": [],
   "source": [
    "delete_columns = [\"eventnum\", \"period\", \"wctimestring\"]\n",
    "\n",
    "play_by_play_clutch.drop(delete_columns, axis=1, inplace=True)"
   ]
  },
  {
   "cell_type": "code",
   "execution_count": 97,
   "id": "59498a7f",
   "metadata": {},
   "outputs": [
    {
     "data": {
      "application/vnd.microsoft.datawrangler.viewer.v0+json": {
       "columns": [
        {
         "name": "index",
         "rawType": "object",
         "type": "string"
        },
        {
         "name": "Valores nulos",
         "rawType": "int64",
         "type": "integer"
        },
        {
         "name": "Total registros",
         "rawType": "int64",
         "type": "integer"
        },
        {
         "name": "Porcentaje",
         "rawType": "float64",
         "type": "float"
        }
       ],
       "conversionMethod": "pd.DataFrame",
       "ref": "6abb7da3-61ec-4a8b-8649-0a64fb521ab9",
       "rows": [
        [
         "wctimestring",
         "950",
         "13592899",
         "0.01"
        ],
        [
         "homedescription",
         "6530241",
         "13592899",
         "48.04"
        ],
        [
         "neutraldescription",
         "13273327",
         "13592899",
         "97.65"
        ],
        [
         "visitordescription",
         "6634527",
         "13592899",
         "48.81"
        ],
        [
         "score",
         "10028436",
         "13592899",
         "73.78"
        ],
        [
         "scoremargin",
         "10028436",
         "13592899",
         "73.78"
        ],
        [
         "person1type",
         "3298",
         "13592899",
         "0.02"
        ],
        [
         "player1_name",
         "1208875",
         "13592899",
         "8.89"
        ],
        [
         "player1_team_id",
         "1215858",
         "13592899",
         "8.94"
        ],
        [
         "player1_team_city",
         "1215858",
         "13592899",
         "8.94"
        ],
        [
         "player1_team_nickname",
         "1215858",
         "13592899",
         "8.94"
        ],
        [
         "player1_team_abbreviation",
         "1215858",
         "13592899",
         "8.94"
        ],
        [
         "player2_name",
         "9683745",
         "13592899",
         "71.24"
        ],
        [
         "player2_team_id",
         "9660454",
         "13592899",
         "71.07"
        ],
        [
         "player2_team_city",
         "9660454",
         "13592899",
         "71.07"
        ],
        [
         "player2_team_nickname",
         "9660454",
         "13592899",
         "71.07"
        ],
        [
         "player2_team_abbreviation",
         "9660454",
         "13592899",
         "71.07"
        ],
        [
         "player3_name",
         "13251785",
         "13592899",
         "97.49"
        ],
        [
         "player3_team_id",
         "13246931",
         "13592899",
         "97.45"
        ],
        [
         "player3_team_city",
         "13246931",
         "13592899",
         "97.45"
        ],
        [
         "player3_team_nickname",
         "13246931",
         "13592899",
         "97.45"
        ],
        [
         "player3_team_abbreviation",
         "13246931",
         "13592899",
         "97.45"
        ]
       ],
       "shape": {
        "columns": 3,
        "rows": 22
       }
      },
      "text/html": [
       "<div>\n",
       "<style scoped>\n",
       "    .dataframe tbody tr th:only-of-type {\n",
       "        vertical-align: middle;\n",
       "    }\n",
       "\n",
       "    .dataframe tbody tr th {\n",
       "        vertical-align: top;\n",
       "    }\n",
       "\n",
       "    .dataframe thead th {\n",
       "        text-align: right;\n",
       "    }\n",
       "</style>\n",
       "<table border=\"1\" class=\"dataframe\">\n",
       "  <thead>\n",
       "    <tr style=\"text-align: right;\">\n",
       "      <th></th>\n",
       "      <th>Valores nulos</th>\n",
       "      <th>Total registros</th>\n",
       "      <th>Porcentaje</th>\n",
       "    </tr>\n",
       "  </thead>\n",
       "  <tbody>\n",
       "    <tr>\n",
       "      <th>wctimestring</th>\n",
       "      <td>950</td>\n",
       "      <td>13592899</td>\n",
       "      <td>0.01</td>\n",
       "    </tr>\n",
       "    <tr>\n",
       "      <th>homedescription</th>\n",
       "      <td>6530241</td>\n",
       "      <td>13592899</td>\n",
       "      <td>48.04</td>\n",
       "    </tr>\n",
       "    <tr>\n",
       "      <th>neutraldescription</th>\n",
       "      <td>13273327</td>\n",
       "      <td>13592899</td>\n",
       "      <td>97.65</td>\n",
       "    </tr>\n",
       "    <tr>\n",
       "      <th>visitordescription</th>\n",
       "      <td>6634527</td>\n",
       "      <td>13592899</td>\n",
       "      <td>48.81</td>\n",
       "    </tr>\n",
       "    <tr>\n",
       "      <th>score</th>\n",
       "      <td>10028436</td>\n",
       "      <td>13592899</td>\n",
       "      <td>73.78</td>\n",
       "    </tr>\n",
       "    <tr>\n",
       "      <th>scoremargin</th>\n",
       "      <td>10028436</td>\n",
       "      <td>13592899</td>\n",
       "      <td>73.78</td>\n",
       "    </tr>\n",
       "    <tr>\n",
       "      <th>person1type</th>\n",
       "      <td>3298</td>\n",
       "      <td>13592899</td>\n",
       "      <td>0.02</td>\n",
       "    </tr>\n",
       "    <tr>\n",
       "      <th>player1_name</th>\n",
       "      <td>1208875</td>\n",
       "      <td>13592899</td>\n",
       "      <td>8.89</td>\n",
       "    </tr>\n",
       "    <tr>\n",
       "      <th>player1_team_id</th>\n",
       "      <td>1215858</td>\n",
       "      <td>13592899</td>\n",
       "      <td>8.94</td>\n",
       "    </tr>\n",
       "    <tr>\n",
       "      <th>player1_team_city</th>\n",
       "      <td>1215858</td>\n",
       "      <td>13592899</td>\n",
       "      <td>8.94</td>\n",
       "    </tr>\n",
       "    <tr>\n",
       "      <th>player1_team_nickname</th>\n",
       "      <td>1215858</td>\n",
       "      <td>13592899</td>\n",
       "      <td>8.94</td>\n",
       "    </tr>\n",
       "    <tr>\n",
       "      <th>player1_team_abbreviation</th>\n",
       "      <td>1215858</td>\n",
       "      <td>13592899</td>\n",
       "      <td>8.94</td>\n",
       "    </tr>\n",
       "    <tr>\n",
       "      <th>player2_name</th>\n",
       "      <td>9683745</td>\n",
       "      <td>13592899</td>\n",
       "      <td>71.24</td>\n",
       "    </tr>\n",
       "    <tr>\n",
       "      <th>player2_team_id</th>\n",
       "      <td>9660454</td>\n",
       "      <td>13592899</td>\n",
       "      <td>71.07</td>\n",
       "    </tr>\n",
       "    <tr>\n",
       "      <th>player2_team_city</th>\n",
       "      <td>9660454</td>\n",
       "      <td>13592899</td>\n",
       "      <td>71.07</td>\n",
       "    </tr>\n",
       "    <tr>\n",
       "      <th>player2_team_nickname</th>\n",
       "      <td>9660454</td>\n",
       "      <td>13592899</td>\n",
       "      <td>71.07</td>\n",
       "    </tr>\n",
       "    <tr>\n",
       "      <th>player2_team_abbreviation</th>\n",
       "      <td>9660454</td>\n",
       "      <td>13592899</td>\n",
       "      <td>71.07</td>\n",
       "    </tr>\n",
       "    <tr>\n",
       "      <th>player3_name</th>\n",
       "      <td>13251785</td>\n",
       "      <td>13592899</td>\n",
       "      <td>97.49</td>\n",
       "    </tr>\n",
       "    <tr>\n",
       "      <th>player3_team_id</th>\n",
       "      <td>13246931</td>\n",
       "      <td>13592899</td>\n",
       "      <td>97.45</td>\n",
       "    </tr>\n",
       "    <tr>\n",
       "      <th>player3_team_city</th>\n",
       "      <td>13246931</td>\n",
       "      <td>13592899</td>\n",
       "      <td>97.45</td>\n",
       "    </tr>\n",
       "    <tr>\n",
       "      <th>player3_team_nickname</th>\n",
       "      <td>13246931</td>\n",
       "      <td>13592899</td>\n",
       "      <td>97.45</td>\n",
       "    </tr>\n",
       "    <tr>\n",
       "      <th>player3_team_abbreviation</th>\n",
       "      <td>13246931</td>\n",
       "      <td>13592899</td>\n",
       "      <td>97.45</td>\n",
       "    </tr>\n",
       "  </tbody>\n",
       "</table>\n",
       "</div>"
      ],
      "text/plain": [
       "                           Valores nulos  Total registros  Porcentaje\n",
       "wctimestring                         950         13592899        0.01\n",
       "homedescription                  6530241         13592899       48.04\n",
       "neutraldescription              13273327         13592899       97.65\n",
       "visitordescription               6634527         13592899       48.81\n",
       "score                           10028436         13592899       73.78\n",
       "scoremargin                     10028436         13592899       73.78\n",
       "person1type                         3298         13592899        0.02\n",
       "player1_name                     1208875         13592899        8.89\n",
       "player1_team_id                  1215858         13592899        8.94\n",
       "player1_team_city                1215858         13592899        8.94\n",
       "player1_team_nickname            1215858         13592899        8.94\n",
       "player1_team_abbreviation        1215858         13592899        8.94\n",
       "player2_name                     9683745         13592899       71.24\n",
       "player2_team_id                  9660454         13592899       71.07\n",
       "player2_team_city                9660454         13592899       71.07\n",
       "player2_team_nickname            9660454         13592899       71.07\n",
       "player2_team_abbreviation        9660454         13592899       71.07\n",
       "player3_name                    13251785         13592899       97.49\n",
       "player3_team_id                 13246931         13592899       97.45\n",
       "player3_team_city               13246931         13592899       97.45\n",
       "player3_team_nickname           13246931         13592899       97.45\n",
       "player3_team_abbreviation       13246931         13592899       97.45"
      ]
     },
     "execution_count": 97,
     "metadata": {},
     "output_type": "execute_result"
    }
   ],
   "source": [
    "null_play_by_play = play_by_play.isnull().sum()\n",
    "total_register = len(play_by_play)\n",
    "null_result = null_play_by_play[null_play_by_play > 0]\n",
    "\n",
    "df_null_play_by_play = pd.DataFrame(\n",
    "    {\n",
    "        \"Valores nulos\": null_result,\n",
    "        \"Total registros\": total_register,\n",
    "        \"Porcentaje\": (null_result / total_register * 100).round(2),\n",
    "    }\n",
    ")\n",
    "\n",
    "df_null_play_by_play"
   ]
  },
  {
   "cell_type": "markdown",
   "id": "9e984c9e",
   "metadata": {},
   "source": [
    "# 3. Muestra del resultado de las tablas"
   ]
  },
  {
   "cell_type": "code",
   "execution_count": 98,
   "id": "66540482",
   "metadata": {},
   "outputs": [
    {
     "name": "stdout",
     "output_type": "stream",
     "text": [
      "<class 'pandas.core.frame.DataFrame'>\n",
      "Index: 1877 entries, 2 to 4169\n",
      "Data columns (total 22 columns):\n",
      " #   Column             Non-Null Count  Dtype  \n",
      "---  ------             --------------  -----  \n",
      " 0   person_id          1877 non-null   int64  \n",
      " 1   display_fi_last    1877 non-null   object \n",
      " 2   birthdate          1877 non-null   object \n",
      " 3   school             1877 non-null   object \n",
      " 4   country            1877 non-null   object \n",
      " 5   last_affiliation   1877 non-null   object \n",
      " 6   height             1877 non-null   object \n",
      " 7   weight             1877 non-null   float64\n",
      " 8   season_exp         1877 non-null   float64\n",
      " 9   position           1877 non-null   object \n",
      " 10  rosterstatus       1877 non-null   object \n",
      " 11  team_id            1877 non-null   int64  \n",
      " 12  playercode         1877 non-null   object \n",
      " 13  from_year          1877 non-null   float64\n",
      " 14  to_year            1877 non-null   float64\n",
      " 15  dleague_flag       1877 non-null   object \n",
      " 16  nba_flag           1877 non-null   object \n",
      " 17  games_played_flag  1877 non-null   object \n",
      " 18  draft_year         1877 non-null   object \n",
      " 19  draft_round        1877 non-null   object \n",
      " 20  draft_number       1877 non-null   object \n",
      " 21  greatest_75_flag   1877 non-null   object \n",
      "dtypes: float64(4), int64(2), object(16)\n",
      "memory usage: 337.3+ KB\n"
     ]
    }
   ],
   "source": [
    "common_player_info.info()"
   ]
  },
  {
   "cell_type": "code",
   "execution_count": 99,
   "id": "20020f72",
   "metadata": {},
   "outputs": [
    {
     "name": "stdout",
     "output_type": "stream",
     "text": [
      "<class 'pandas.core.frame.DataFrame'>\n",
      "Index: 704 entries, 0 to 992\n",
      "Data columns (total 16 columns):\n",
      " #   Column                  Non-Null Count  Dtype  \n",
      "---  ------                  --------------  -----  \n",
      " 0   season                  704 non-null    int64  \n",
      " 1   player_id               704 non-null    int64  \n",
      " 2   first_name              704 non-null    object \n",
      " 3   last_name               704 non-null    object \n",
      " 4   player_name             704 non-null    object \n",
      " 5   position                704 non-null    object \n",
      " 6   height_wo_shoes         704 non-null    float64\n",
      " 7   weight                  704 non-null    float64\n",
      " 8   wingspan                704 non-null    float64\n",
      " 9   standing_reach          704 non-null    float64\n",
      " 10  body_fat_pct            704 non-null    float64\n",
      " 11  standing_vertical_leap  704 non-null    float64\n",
      " 12  max_vertical_leap       704 non-null    float64\n",
      " 13  lane_agility_time       704 non-null    float64\n",
      " 14  three_quarter_sprint    704 non-null    float64\n",
      " 15  bench_press             704 non-null    float64\n",
      "dtypes: float64(10), int64(2), object(4)\n",
      "memory usage: 93.5+ KB\n"
     ]
    }
   ],
   "source": [
    "draft_combine_stats.info()"
   ]
  },
  {
   "cell_type": "code",
   "execution_count": 100,
   "id": "d24f9304",
   "metadata": {},
   "outputs": [
    {
     "name": "stdout",
     "output_type": "stream",
     "text": [
      "<class 'pandas.core.frame.DataFrame'>\n",
      "Index: 1363 entries, 6625 to 7989\n",
      "Data columns (total 14 columns):\n",
      " #   Column               Non-Null Count  Dtype \n",
      "---  ------               --------------  ----- \n",
      " 0   person_id            1363 non-null   int64 \n",
      " 1   player_name          1363 non-null   object\n",
      " 2   season               1363 non-null   int64 \n",
      " 3   round_number         1363 non-null   int64 \n",
      " 4   round_pick           1363 non-null   int64 \n",
      " 5   overall_pick         1363 non-null   int64 \n",
      " 6   draft_type           1363 non-null   object\n",
      " 7   team_id              1363 non-null   int64 \n",
      " 8   team_city            1363 non-null   object\n",
      " 9   team_name            1363 non-null   object\n",
      " 10  team_abbreviation    1363 non-null   object\n",
      " 11  organization         1363 non-null   object\n",
      " 12  organization_type    1363 non-null   object\n",
      " 13  player_profile_flag  1363 non-null   int64 \n",
      "dtypes: int64(7), object(7)\n",
      "memory usage: 159.7+ KB\n"
     ]
    }
   ],
   "source": [
    "draft_history.info()"
   ]
  },
  {
   "cell_type": "code",
   "execution_count": 115,
   "id": "adf8dc94",
   "metadata": {},
   "outputs": [
    {
     "name": "stdout",
     "output_type": "stream",
     "text": [
      "<class 'pandas.core.frame.DataFrame'>\n",
      "Index: 27457 entries, 30596 to 58052\n",
      "Data columns (total 2 columns):\n",
      " #   Column     Non-Null Count  Dtype \n",
      "---  ------     --------------  ----- \n",
      " 0   game_id    27457 non-null  int64 \n",
      " 1   game_date  27457 non-null  object\n",
      "dtypes: int64(1), object(1)\n",
      "memory usage: 643.5+ KB\n"
     ]
    }
   ],
   "source": [
    "game_info_2000_plus.info()"
   ]
  },
  {
   "cell_type": "code",
   "execution_count": 102,
   "id": "290b9f77",
   "metadata": {},
   "outputs": [
    {
     "name": "stdout",
     "output_type": "stream",
     "text": [
      "<class 'pandas.core.frame.DataFrame'>\n",
      "Index: 27514 entries, 30596 to 58109\n",
      "Data columns (total 12 columns):\n",
      " #   Column                  Non-Null Count  Dtype  \n",
      "---  ------                  --------------  -----  \n",
      " 0   game_date_est           27514 non-null  object \n",
      " 1   game_sequence           27514 non-null  float64\n",
      " 2   game_id                 27514 non-null  int64  \n",
      " 3   game_status_id          27514 non-null  int64  \n",
      " 4   game_status_text        27514 non-null  object \n",
      " 5   gamecode                27514 non-null  object \n",
      " 6   home_team_id            27514 non-null  int64  \n",
      " 7   visitor_team_id         27514 non-null  int64  \n",
      " 8   season                  27514 non-null  int64  \n",
      " 9   live_period             27514 non-null  int64  \n",
      " 10  live_period_time_bcast  27514 non-null  object \n",
      " 11  wh_status               27514 non-null  int64  \n",
      "dtypes: float64(1), int64(7), object(4)\n",
      "memory usage: 2.7+ MB\n"
     ]
    }
   ],
   "source": [
    "game_summary.info()"
   ]
  },
  {
   "cell_type": "code",
   "execution_count": 103,
   "id": "8f83f865",
   "metadata": {},
   "outputs": [
    {
     "name": "stdout",
     "output_type": "stream",
     "text": [
      "<class 'pandas.core.frame.DataFrame'>\n",
      "Index: 30426 entries, 35272 to 65697\n",
      "Data columns (total 55 columns):\n",
      " #   Column                  Non-Null Count  Dtype  \n",
      "---  ------                  --------------  -----  \n",
      " 0   season_id               30426 non-null  int64  \n",
      " 1   team_id_home            30426 non-null  int64  \n",
      " 2   team_abbreviation_home  30426 non-null  object \n",
      " 3   team_name_home          30426 non-null  object \n",
      " 4   game_id                 30426 non-null  int64  \n",
      " 5   game_date               30426 non-null  object \n",
      " 6   matchup_home            30426 non-null  object \n",
      " 7   wl_home                 30426 non-null  object \n",
      " 8   min                     30426 non-null  int64  \n",
      " 9   fgm_home                30426 non-null  float64\n",
      " 10  fga_home                30426 non-null  float64\n",
      " 11  fg_pct_home             30426 non-null  float64\n",
      " 12  fg3m_home               30426 non-null  float64\n",
      " 13  fg3a_home               30426 non-null  float64\n",
      " 14  fg3_pct_home            30426 non-null  float64\n",
      " 15  ftm_home                30426 non-null  float64\n",
      " 16  fta_home                30426 non-null  float64\n",
      " 17  ft_pct_home             30426 non-null  float64\n",
      " 18  oreb_home               30426 non-null  float64\n",
      " 19  dreb_home               30426 non-null  float64\n",
      " 20  reb_home                30426 non-null  float64\n",
      " 21  ast_home                30426 non-null  float64\n",
      " 22  stl_home                30426 non-null  float64\n",
      " 23  blk_home                30426 non-null  float64\n",
      " 24  tov_home                30426 non-null  float64\n",
      " 25  pf_home                 30426 non-null  float64\n",
      " 26  pts_home                30426 non-null  float64\n",
      " 27  plus_minus_home         30426 non-null  int64  \n",
      " 28  video_available_home    30426 non-null  int64  \n",
      " 29  team_id_away            30426 non-null  int64  \n",
      " 30  team_abbreviation_away  30426 non-null  object \n",
      " 31  team_name_away          30426 non-null  object \n",
      " 32  matchup_away            30426 non-null  object \n",
      " 33  wl_away                 30426 non-null  object \n",
      " 34  fgm_away                30426 non-null  float64\n",
      " 35  fga_away                30426 non-null  float64\n",
      " 36  fg_pct_away             30426 non-null  float64\n",
      " 37  fg3m_away               30426 non-null  float64\n",
      " 38  fg3a_away               30426 non-null  float64\n",
      " 39  fg3_pct_away            30426 non-null  float64\n",
      " 40  ftm_away                30426 non-null  float64\n",
      " 41  fta_away                30426 non-null  float64\n",
      " 42  ft_pct_away             30426 non-null  float64\n",
      " 43  oreb_away               30426 non-null  float64\n",
      " 44  dreb_away               30426 non-null  float64\n",
      " 45  reb_away                30426 non-null  float64\n",
      " 46  ast_away                30426 non-null  float64\n",
      " 47  stl_away                30426 non-null  float64\n",
      " 48  blk_away                30426 non-null  float64\n",
      " 49  tov_away                30426 non-null  float64\n",
      " 50  pf_away                 30426 non-null  float64\n",
      " 51  pts_away                30426 non-null  float64\n",
      " 52  plus_minus_away         30426 non-null  int64  \n",
      " 53  video_available_away    30426 non-null  int64  \n",
      " 54  season_type             30426 non-null  object \n",
      "dtypes: float64(36), int64(9), object(10)\n",
      "memory usage: 13.0+ MB\n"
     ]
    }
   ],
   "source": [
    "game.info()"
   ]
  },
  {
   "cell_type": "code",
   "execution_count": 104,
   "id": "b500ed2d",
   "metadata": {},
   "outputs": [
    {
     "name": "stdout",
     "output_type": "stream",
     "text": [
      "<class 'pandas.core.frame.DataFrame'>\n",
      "Index: 110040 entries, 150 to 110190\n",
      "Data columns (total 8 columns):\n",
      " #   Column             Non-Null Count   Dtype \n",
      "---  ------             --------------   ----- \n",
      " 0   game_id            110040 non-null  int64 \n",
      " 1   player_id          110040 non-null  int64 \n",
      " 2   first_name         110040 non-null  object\n",
      " 3   last_name          110040 non-null  object\n",
      " 4   team_id            110040 non-null  int64 \n",
      " 5   team_city          110040 non-null  object\n",
      " 6   team_name          110040 non-null  object\n",
      " 7   team_abbreviation  110040 non-null  object\n",
      "dtypes: int64(3), object(5)\n",
      "memory usage: 7.6+ MB\n"
     ]
    }
   ],
   "source": [
    "inactive_players.info()"
   ]
  },
  {
   "cell_type": "code",
   "execution_count": 105,
   "id": "b73adae5",
   "metadata": {},
   "outputs": [
    {
     "name": "stdout",
     "output_type": "stream",
     "text": [
      "<class 'pandas.core.frame.DataFrame'>\n",
      "Index: 27457 entries, 30596 to 58052\n",
      "Data columns (total 31 columns):\n",
      " #   Column                  Non-Null Count  Dtype  \n",
      "---  ------                  --------------  -----  \n",
      " 0   game_date_est           27457 non-null  object \n",
      " 1   game_sequence           27457 non-null  float64\n",
      " 2   game_id                 27457 non-null  int64  \n",
      " 3   team_id_home            27457 non-null  int64  \n",
      " 4   team_abbreviation_home  27457 non-null  object \n",
      " 5   team_city_name_home     27457 non-null  object \n",
      " 6   team_nickname_home      27457 non-null  object \n",
      " 7   team_wins_losses_home   27457 non-null  object \n",
      " 8   pts_qtr1_home           27457 non-null  float64\n",
      " 9   pts_qtr2_home           27457 non-null  float64\n",
      " 10  pts_qtr3_home           27457 non-null  float64\n",
      " 11  pts_qtr4_home           27457 non-null  float64\n",
      " 12  pts_ot1_home            27457 non-null  float64\n",
      " 13  pts_ot2_home            27457 non-null  float64\n",
      " 14  pts_ot3_home            27457 non-null  float64\n",
      " 15  pts_ot4_home            27457 non-null  float64\n",
      " 16  pts_home                27457 non-null  float64\n",
      " 17  team_id_away            27457 non-null  int64  \n",
      " 18  team_abbreviation_away  27457 non-null  object \n",
      " 19  team_city_name_away     27457 non-null  object \n",
      " 20  team_nickname_away      27457 non-null  object \n",
      " 21  team_wins_losses_away   27457 non-null  object \n",
      " 22  pts_qtr1_away           27457 non-null  float64\n",
      " 23  pts_qtr2_away           27457 non-null  float64\n",
      " 24  pts_qtr3_away           27457 non-null  float64\n",
      " 25  pts_qtr4_away           27457 non-null  float64\n",
      " 26  pts_ot1_away            27457 non-null  float64\n",
      " 27  pts_ot2_away            27457 non-null  float64\n",
      " 28  pts_ot3_away            27457 non-null  float64\n",
      " 29  pts_ot4_away            27457 non-null  float64\n",
      " 30  pts_away                27457 non-null  float64\n",
      "dtypes: float64(19), int64(3), object(9)\n",
      "memory usage: 6.7+ MB\n"
     ]
    }
   ],
   "source": [
    "line_score.info()"
   ]
  },
  {
   "cell_type": "code",
   "execution_count": 106,
   "id": "13e64397",
   "metadata": {},
   "outputs": [
    {
     "name": "stdout",
     "output_type": "stream",
     "text": [
      "<class 'pandas.core.frame.DataFrame'>\n",
      "RangeIndex: 70971 entries, 0 to 70970\n",
      "Data columns (total 4 columns):\n",
      " #   Column       Non-Null Count  Dtype \n",
      "---  ------       --------------  ----- \n",
      " 0   game_id      70971 non-null  int64 \n",
      " 1   official_id  70971 non-null  int64 \n",
      " 2   first_name   70971 non-null  object\n",
      " 3   last_name    70971 non-null  object\n",
      "dtypes: int64(2), object(2)\n",
      "memory usage: 2.2+ MB\n"
     ]
    }
   ],
   "source": [
    "officials.info()"
   ]
  },
  {
   "cell_type": "code",
   "execution_count": 107,
   "id": "acf55882",
   "metadata": {},
   "outputs": [
    {
     "name": "stdout",
     "output_type": "stream",
     "text": [
      "<class 'pandas.core.frame.DataFrame'>\n",
      "Index: 24251 entries, 18 to 28270\n",
      "Data columns (total 25 columns):\n",
      " #   Column                  Non-Null Count  Dtype  \n",
      "---  ------                  --------------  -----  \n",
      " 0   game_id                 24251 non-null  int64  \n",
      " 1   team_id_home            24251 non-null  int64  \n",
      " 2   team_abbreviation_home  24251 non-null  object \n",
      " 3   team_city_home          24251 non-null  object \n",
      " 4   pts_paint_home          24251 non-null  int64  \n",
      " 5   pts_2nd_chance_home     24251 non-null  int64  \n",
      " 6   pts_fb_home             24251 non-null  int64  \n",
      " 7   largest_lead_home       24251 non-null  int64  \n",
      " 8   lead_changes            24251 non-null  int64  \n",
      " 9   times_tied              24251 non-null  int64  \n",
      " 10  team_turnovers_home     24251 non-null  float64\n",
      " 11  total_turnovers_home    24251 non-null  float64\n",
      " 12  team_rebounds_home      24251 non-null  float64\n",
      " 13  pts_off_to_home         24251 non-null  float64\n",
      " 14  team_id_away            24251 non-null  int64  \n",
      " 15  team_abbreviation_away  24251 non-null  object \n",
      " 16  team_city_away          24251 non-null  object \n",
      " 17  pts_paint_away          24251 non-null  int64  \n",
      " 18  pts_2nd_chance_away     24251 non-null  int64  \n",
      " 19  pts_fb_away             24251 non-null  int64  \n",
      " 20  largest_lead_away       24251 non-null  int64  \n",
      " 21  team_turnovers_away     24251 non-null  float64\n",
      " 22  total_turnovers_away    24251 non-null  float64\n",
      " 23  team_rebounds_away      24251 non-null  float64\n",
      " 24  pts_off_to_away         24251 non-null  float64\n",
      "dtypes: float64(8), int64(13), object(4)\n",
      "memory usage: 4.8+ MB\n"
     ]
    }
   ],
   "source": [
    "other_stats.info()"
   ]
  },
  {
   "cell_type": "code",
   "execution_count": 113,
   "id": "4e0baf60",
   "metadata": {},
   "outputs": [
    {
     "name": "stdout",
     "output_type": "stream",
     "text": [
      "<class 'pandas.core.frame.DataFrame'>\n",
      "Index: 1642623 entries, 416 to 13592898\n",
      "Data columns (total 15 columns):\n",
      " #   Column              Non-Null Count    Dtype  \n",
      "---  ------              --------------    -----  \n",
      " 0   game_id             1642623 non-null  int64  \n",
      " 1   eventmsgtype        1642623 non-null  int64  \n",
      " 2   eventmsgactiontype  1642623 non-null  int64  \n",
      " 3   pctimestring        1642623 non-null  object \n",
      " 4   homedescription     840019 non-null   object \n",
      " 5   neutraldescription  39823 non-null    object \n",
      " 6   visitordescription  840246 non-null   object \n",
      " 7   score               440903 non-null   object \n",
      " 8   scoremargin         440903 non-null   object \n",
      " 9   player1_id          1642623 non-null  int64  \n",
      " 10  player1_team_id     1447637 non-null  float64\n",
      " 11  player2_id          1642623 non-null  int64  \n",
      " 12  player2_team_id     440635 non-null   float64\n",
      " 13  player3_id          1642623 non-null  int64  \n",
      " 14  player3_team_id     34023 non-null    float64\n",
      "dtypes: float64(3), int64(6), object(6)\n",
      "memory usage: 200.5+ MB\n"
     ]
    }
   ],
   "source": [
    "play_by_play_clutch.info()"
   ]
  },
  {
   "cell_type": "code",
   "execution_count": 109,
   "id": "83bd7222",
   "metadata": {},
   "outputs": [
    {
     "name": "stdout",
     "output_type": "stream",
     "text": [
      "<class 'pandas.core.frame.DataFrame'>\n",
      "RangeIndex: 4831 entries, 0 to 4830\n",
      "Data columns (total 5 columns):\n",
      " #   Column      Non-Null Count  Dtype \n",
      "---  ------      --------------  ----- \n",
      " 0   id          4831 non-null   int64 \n",
      " 1   full_name   4831 non-null   object\n",
      " 2   first_name  4825 non-null   object\n",
      " 3   last_name   4831 non-null   object\n",
      " 4   is_active   4831 non-null   int64 \n",
      "dtypes: int64(2), object(3)\n",
      "memory usage: 188.8+ KB\n"
     ]
    }
   ],
   "source": [
    "player.info()"
   ]
  },
  {
   "cell_type": "code",
   "execution_count": 110,
   "id": "1f521149",
   "metadata": {},
   "outputs": [
    {
     "name": "stdout",
     "output_type": "stream",
     "text": [
      "<class 'pandas.core.frame.DataFrame'>\n",
      "Index: 24 entries, 0 to 24\n",
      "Data columns (total 11 columns):\n",
      " #   Column              Non-Null Count  Dtype  \n",
      "---  ------              --------------  -----  \n",
      " 0   team_id             24 non-null     int64  \n",
      " 1   abbreviation        24 non-null     object \n",
      " 2   nickname            24 non-null     object \n",
      " 3   yearfounded         24 non-null     float64\n",
      " 4   city                24 non-null     object \n",
      " 5   arena               24 non-null     object \n",
      " 6   arenacapacity       24 non-null     float64\n",
      " 7   owner               24 non-null     object \n",
      " 8   generalmanager      24 non-null     object \n",
      " 9   headcoach           24 non-null     object \n",
      " 10  dleagueaffiliation  24 non-null     object \n",
      "dtypes: float64(2), int64(1), object(8)\n",
      "memory usage: 2.2+ KB\n"
     ]
    }
   ],
   "source": [
    "team_details.info()"
   ]
  },
  {
   "cell_type": "code",
   "execution_count": 111,
   "id": "49fd6bdb",
   "metadata": {},
   "outputs": [
    {
     "name": "stdout",
     "output_type": "stream",
     "text": [
      "<class 'pandas.core.frame.DataFrame'>\n",
      "RangeIndex: 52 entries, 0 to 51\n",
      "Data columns (total 5 columns):\n",
      " #   Column            Non-Null Count  Dtype \n",
      "---  ------            --------------  ----- \n",
      " 0   team_id           52 non-null     int64 \n",
      " 1   city              52 non-null     object\n",
      " 2   nickname          52 non-null     object\n",
      " 3   year_founded      52 non-null     int64 \n",
      " 4   year_active_till  52 non-null     int64 \n",
      "dtypes: int64(3), object(2)\n",
      "memory usage: 2.2+ KB\n"
     ]
    }
   ],
   "source": [
    "team_history.info()"
   ]
  },
  {
   "cell_type": "code",
   "execution_count": 112,
   "id": "a8cc3c80",
   "metadata": {},
   "outputs": [
    {
     "name": "stdout",
     "output_type": "stream",
     "text": [
      "<class 'pandas.core.frame.DataFrame'>\n",
      "RangeIndex: 30 entries, 0 to 29\n",
      "Data columns (total 7 columns):\n",
      " #   Column        Non-Null Count  Dtype  \n",
      "---  ------        --------------  -----  \n",
      " 0   id            30 non-null     int64  \n",
      " 1   full_name     30 non-null     object \n",
      " 2   abbreviation  30 non-null     object \n",
      " 3   nickname      30 non-null     object \n",
      " 4   city          30 non-null     object \n",
      " 5   state         30 non-null     object \n",
      " 6   year_founded  30 non-null     float64\n",
      "dtypes: float64(1), int64(1), object(5)\n",
      "memory usage: 1.8+ KB\n"
     ]
    }
   ],
   "source": [
    "team.info()"
   ]
  },
  {
   "cell_type": "markdown",
   "id": "5ba9c85d",
   "metadata": {},
   "source": [
    "# 4. Insercion a la base de datos"
   ]
  },
  {
   "cell_type": "markdown",
   "id": "91426e51",
   "metadata": {},
   "source": [
    "## 4.1. Carga de variables de entorno"
   ]
  },
  {
   "cell_type": "code",
   "execution_count": null,
   "id": "0eb3c58f",
   "metadata": {},
   "outputs": [],
   "source": [
    "from dotenv import load_dotenv\n",
    "import os\n",
    "\n",
    "# Carga variables desde el archivo .env\n",
    "load_dotenv()\n",
    "\n",
    "# Accede a las variables\n",
    "SERVER = os.getenv(\"SERVER\")\n",
    "DATABASE = os.getenv(\"DATABASE\")\n",
    "USER = os.getenv(\"USER\")\n",
    "PASSWORD = os.getenv(\"PASSWORD\")\n",
    "DRIVER = os.getenv(\"DRIVER\")"
   ]
  },
  {
   "cell_type": "markdown",
   "id": "050ff55e",
   "metadata": {},
   "source": [
    "## 4.2. Conexion a la base de datos"
   ]
  },
  {
   "cell_type": "code",
   "execution_count": 132,
   "id": "4abfa6a4",
   "metadata": {},
   "outputs": [
    {
     "name": "stdout",
     "output_type": "stream",
     "text": [
      "Conexión a la base de datos exitosa.\n"
     ]
    }
   ],
   "source": [
    "from sqlalchemy import create_engine\n",
    "\n",
    "# Crear la cadena de conexión\n",
    "connection_string = f\"mssql+pyodbc://{USER}:{PASSWORD}@{SERVER}/{DATABASE}?driver={DRIVER}\"\n",
    "engine = create_engine(connection_string)\n",
    "\n",
    "# Verificar la conexión\n",
    "try:\n",
    "    with engine.connect() as connection:\n",
    "        print(\"Conexión a la base de datos exitosa.\")\n",
    "except Exception as e:\n",
    "    print(f\"Error al conectar a la base de datos: {e}\")"
   ]
  },
  {
   "cell_type": "markdown",
   "id": "2c2f59b3",
   "metadata": {},
   "source": [
    "## 4.3. Inserción de los dataframe a la base de datos"
   ]
  }
 ],
 "metadata": {
  "kernelspec": {
   "display_name": "Python 3",
   "language": "python",
   "name": "python3"
  },
  "language_info": {
   "codemirror_mode": {
    "name": "ipython",
    "version": 3
   },
   "file_extension": ".py",
   "mimetype": "text/x-python",
   "name": "python",
   "nbconvert_exporter": "python",
   "pygments_lexer": "ipython3",
   "version": "3.12.4"
  }
 },
 "nbformat": 4,
 "nbformat_minor": 5
}
